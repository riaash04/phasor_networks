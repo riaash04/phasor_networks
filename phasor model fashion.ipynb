{
 "cells": [
  {
   "cell_type": "code",
   "execution_count": 1,
   "metadata": {},
   "outputs": [],
   "source": [
    "import matplotlib.pyplot as plt\n",
    "import numpy as np\n",
    "\n",
    "import tensorflow as tf\n",
    "import tensorflow_datasets as tfds\n",
    "import tensorflow.keras as keras\n",
    "import tensorflow.keras.layers as layers\n",
    "import tensorflow.keras.backend as be"
   ]
  },
  {
   "cell_type": "code",
   "execution_count": 2,
   "metadata": {},
   "outputs": [],
   "source": [
    "from utils import *\n",
    "from data import *\n",
    "from layers import *\n",
    "from models import *"
   ]
  },
  {
   "cell_type": "code",
   "execution_count": 3,
   "metadata": {},
   "outputs": [],
   "source": [
    "from models import *"
   ]
  },
  {
   "cell_type": "code",
   "execution_count": 4,
   "metadata": {},
   "outputs": [],
   "source": [
    "limit_gpus()\n",
    "set_gpu(0)"
   ]
  },
  {
   "cell_type": "code",
   "execution_count": 5,
   "metadata": {},
   "outputs": [],
   "source": [
    "dpi=100"
   ]
  },
  {
   "cell_type": "code",
   "execution_count": 6,
   "metadata": {},
   "outputs": [],
   "source": [
    "dataset = \"fashion_mnist\"\n",
    "ds_train, ds_test, ds_info = load_dataset(dataset, 128)\n",
    "\n",
    "input_shape = ds_info.features['image'].shape\n",
    "num_classes = ds_info.features['label'].num_classes"
   ]
  },
  {
   "cell_type": "code",
   "execution_count": 7,
   "metadata": {},
   "outputs": [],
   "source": [
    "x_train, y_train = get_raw_dat(ds_train)"
   ]
  },
  {
   "cell_type": "code",
   "execution_count": 8,
   "metadata": {},
   "outputs": [],
   "source": [
    "_, y_test = get_raw_dat(ds_test)"
   ]
  },
  {
   "cell_type": "code",
   "execution_count": 9,
   "metadata": {},
   "outputs": [],
   "source": [
    "xs, ys = next(iter(ds_train))"
   ]
  },
  {
   "cell_type": "code",
   "execution_count": 10,
   "metadata": {},
   "outputs": [
    {
     "data": {
      "text/plain": [
       "(28, 28, 1)"
      ]
     },
     "execution_count": 10,
     "metadata": {},
     "output_type": "execute_result"
    }
   ],
   "source": [
    "input_shape"
   ]
  },
  {
   "cell_type": "code",
   "execution_count": 11,
   "metadata": {},
   "outputs": [],
   "source": [
    "model = PhasorModel(input_shape, \n",
    "                    onehot_offset=0.0, \n",
    "                    onehot_phase=0.5,\n",
    "                    projection=\"dot\",\n",
    "                   \n",
    "                   exec_time=5.0,\n",
    "                   repeats=5,\n",
    "                   max_step=0.02)"
   ]
  },
  {
   "cell_type": "code",
   "execution_count": 12,
   "metadata": {},
   "outputs": [],
   "source": [
    "ys0 = model(xs)"
   ]
  },
  {
   "cell_type": "code",
   "execution_count": 13,
   "metadata": {},
   "outputs": [
    {
     "data": {
      "text/plain": [
       "(array([144., 132.,  92.,  91., 118., 144., 100., 106., 132., 221.]),\n",
       " array([-9.9919492e-01, -7.9939979e-01, -5.9960467e-01, -3.9980957e-01,\n",
       "        -2.0001444e-01, -2.1931529e-04,  1.9957581e-01,  3.9937094e-01,\n",
       "         5.9916604e-01,  7.9896116e-01,  9.9875629e-01], dtype=float32),\n",
       " <BarContainer object of 10 artists>)"
      ]
     },
     "execution_count": 13,
     "metadata": {},
     "output_type": "execute_result"
    },
    {
     "data": {
      "image/png": "[encoded data removed]",
      "text/plain": [
       "<Figure size 432x288 with 1 Axes>"
      ]
     },
     "metadata": {
      "needs_background": "light"
     },
     "output_type": "display_data"
    }
   ],
   "source": [
    "plt.hist(ys0.numpy().ravel())"
   ]
  },
  {
   "cell_type": "code",
   "execution_count": 14,
   "metadata": {},
   "outputs": [],
   "source": [
    "model.compile(optimizer=\"rmsprop\")"
   ]
  },
  {
   "cell_type": "code",
   "execution_count": 15,
   "metadata": {
    "scrolled": true
   },
   "outputs": [
    {
     "name": "stdout",
     "output_type": "stream",
     "text": [
      "Training loss tf.Tensor(1.1108613, shape=(), dtype=float32)\n",
      "Training loss tf.Tensor(0.04240482, shape=(), dtype=float32)\n",
      "Training loss tf.Tensor(0.034621228, shape=(), dtype=float32)\n",
      "Training loss tf.Tensor(0.034694966, shape=(), dtype=float32)\n",
      "Training loss tf.Tensor(0.035017014, shape=(), dtype=float32)\n",
      "Training loss tf.Tensor(0.026058024, shape=(), dtype=float32)\n",
      "Training loss tf.Tensor(0.027370451, shape=(), dtype=float32)\n",
      "Training loss tf.Tensor(0.025816606, shape=(), dtype=float32)\n",
      "Training loss tf.Tensor(0.028125137, shape=(), dtype=float32)\n",
      "Training loss tf.Tensor(0.0279269, shape=(), dtype=float32)\n"
     ]
    }
   ],
   "source": [
    "loss = model.train(ds_train, 2)"
   ]
  },
  {
   "cell_type": "code",
   "execution_count": 16,
   "metadata": {},
   "outputs": [
    {
     "data": {
      "text/plain": [
       "[<matplotlib.lines.Line2D at 0x7f24b0128c40>]"
      ]
     },
     "execution_count": 16,
     "metadata": {},
     "output_type": "execute_result"
    },
    {
     "data": {
      "image/png": "[encoded data removed]",
      "text/plain": [
       "<Figure size 432x288 with 1 Axes>"
      ]
     },
     "metadata": {
      "needs_background": "light"
     },
     "output_type": "display_data"
    }
   ],
   "source": [
    "plt.semilogy(loss)"
   ]
  },
  {
   "cell_type": "code",
   "execution_count": 17,
   "metadata": {},
   "outputs": [],
   "source": [
    "yh1 = model(xs)"
   ]
  },
  {
   "cell_type": "code",
   "execution_count": 18,
   "metadata": {},
   "outputs": [
    {
     "data": {
      "text/plain": [
       "<matplotlib.colorbar.Colorbar at 0x7f24a86bb730>"
      ]
     },
     "execution_count": 18,
     "metadata": {},
     "output_type": "execute_result"
    },
    {
     "data": {
      "image/png": "[encoded data removed]",
      "text/plain": [
       "<Figure size 432x288 with 2 Axes>"
      ]
     },
     "metadata": {
      "needs_background": "light"
     },
     "output_type": "display_data"
    }
   ],
   "source": [
    "plt.pcolor(yh1)\n",
    "plt.colorbar()"
   ]
  },
  {
   "cell_type": "code",
   "execution_count": 19,
   "metadata": {},
   "outputs": [
    {
     "data": {
      "text/plain": [
       "<matplotlib.colorbar.Colorbar at 0x7f24a85f79d0>"
      ]
     },
     "execution_count": 19,
     "metadata": {},
     "output_type": "execute_result"
    },
    {
     "data": {
      "image/png": "[encoded data removed]",
      "text/plain": [
       "<Figure size 432x288 with 2 Axes>"
      ]
     },
     "metadata": {
      "needs_background": "light"
     },
     "output_type": "display_data"
    }
   ],
   "source": [
    "plt.pcolor(model.to_phase(ys))\n",
    "plt.colorbar()"
   ]
  },
  {
   "cell_type": "code",
   "execution_count": 20,
   "metadata": {},
   "outputs": [],
   "source": [
    "conf = model.accuracy(ds_test)"
   ]
  },
  {
   "cell_type": "code",
   "execution_count": 21,
   "metadata": {},
   "outputs": [
    {
     "data": {
      "text/plain": [
       "<matplotlib.collections.PolyCollection at 0x7f24a8558bb0>"
      ]
     },
     "execution_count": 21,
     "metadata": {},
     "output_type": "execute_result"
    },
    {
     "data": {
      "image/png": "[encoded data removed]",
      "text/plain": [
       "<Figure size 432x288 with 1 Axes>"
      ]
     },
     "metadata": {
      "needs_background": "light"
     },
     "output_type": "display_data"
    }
   ],
   "source": [
    "plt.pcolor(conf[0])"
   ]
  },
  {
   "cell_type": "code",
   "execution_count": 22,
   "metadata": {},
   "outputs": [
    {
     "data": {
      "text/plain": [
       "<tf.Tensor: shape=(), dtype=float64, numpy=0.8363>"
      ]
     },
     "execution_count": 22,
     "metadata": {},
     "output_type": "execute_result"
    }
   ],
   "source": [
    "confusion_to_accuracy(conf)"
   ]
  },
  {
   "cell_type": "code",
   "execution_count": 23,
   "metadata": {},
   "outputs": [],
   "source": [
    "small_test = tf.data.Dataset.from_tensor_slices((xs[0:10,...], ys[0:10,...]))\n",
    "small_test = small_test.batch(10)"
   ]
  },
  {
   "cell_type": "code",
   "execution_count": 24,
   "metadata": {
    "scrolled": true
   },
   "outputs": [
    {
     "name": "stderr",
     "output_type": "stream",
     "text": [
      "100%|██████████| 10/10 [00:18<00:00,  1.84s/it]\n",
      "100%|██████████| 10/10 [00:15<00:00,  1.59s/it]\n"
     ]
    }
   ],
   "source": [
    "small_yhs = model.evaluate(small_test, method=\"dynamic\")"
   ]
  },
  {
   "cell_type": "code",
   "execution_count": 25,
   "metadata": {},
   "outputs": [],
   "source": [
    "small_a1 = model.predict(small_yhs, method=\"dynamic_mode\")"
   ]
  },
  {
   "cell_type": "code",
   "execution_count": 26,
   "metadata": {},
   "outputs": [],
   "source": [
    "small_a2 = model.predict(small_yhs, method=\"dynamic_mean\")"
   ]
  },
  {
   "cell_type": "code",
   "execution_count": 28,
   "metadata": {},
   "outputs": [
    {
     "data": {
      "text/plain": [
       "<matplotlib.colorbar.Colorbar at 0x7f24a8497670>"
      ]
     },
     "execution_count": 28,
     "metadata": {},
     "output_type": "execute_result"
    },
    {
     "data": {
      "image/png": "[encoded data removed]",
      "text/plain": [
       "<Figure size 432x288 with 2 Axes>"
      ]
     },
     "metadata": {
      "needs_background": "light"
     },
     "output_type": "display_data"
    }
   ],
   "source": [
    "plt.imshow(xs[0,...], cmap=\"gray\")\n",
    "plt.colorbar()"
   ]
  },
  {
   "cell_type": "code",
   "execution_count": 29,
   "metadata": {},
   "outputs": [],
   "source": [
    "preprocess = keras.Sequential([model.layers[0]])"
   ]
  },
  {
   "cell_type": "code",
   "execution_count": 30,
   "metadata": {},
   "outputs": [],
   "source": [
    "input_spikes = model.phase_to_train(tf.multiply(preprocess(xs[0:10,...]), model.direction))"
   ]
  },
  {
   "cell_type": "code",
   "execution_count": 31,
   "metadata": {},
   "outputs": [
    {
     "data": {
      "text/plain": [
       "Text(0.5, 1.0, 'Input Layer')"
      ]
     },
     "execution_count": 31,
     "metadata": {},
     "output_type": "execute_result"
    },
    {
     "data": {
      "image/png": "[encoded data removed]",
      "text/plain": [
       "<Figure size 500x500 with 1 Axes>"
      ]
     },
     "metadata": {
      "needs_background": "light"
     },
     "output_type": "display_data"
    }
   ],
   "source": [
    "plt.figure(dpi=dpi, figsize=(5,5))\n",
    "for i in range(10):\n",
    "    plt.plot([0,784],[0.0+i,0+i], color=\"red\")\n",
    "plt.scatter(input_spikes[0][0], input_spikes[0][1], label=\"Input Spikes (Drive)\", s=4)\n",
    "#plt.scatter(dynamic_spikes[0][0], dynamic_spikes[0][1], label=\"Output Spikes (Response)\")\n",
    "#plt.xticks(lblinds, np.around(phases.ravel()[lblinds], decimals=2));\n",
    "\n",
    "plt.xlabel(\"Neuron\")\n",
    "plt.ylabel(\"Spike Time (s)\")\n",
    "plt.ylim(0,5)\n",
    "#plt.ylim(-0.5,10)\n",
    "plt.title(\"Input Layer\")"
   ]
  },
  {
   "cell_type": "code",
   "execution_count": 32,
   "metadata": {},
   "outputs": [],
   "source": [
    "spk_layer1 = model.dense1.spike_trains"
   ]
  },
  {
   "cell_type": "code",
   "execution_count": 33,
   "metadata": {},
   "outputs": [
    {
     "data": {
      "text/plain": [
       "Text(0.5, 1.0, 'Dense 1')"
      ]
     },
     "execution_count": 33,
     "metadata": {},
     "output_type": "execute_result"
    },
    {
     "data": {
      "image/png": "[encoded data removed]",
      "text/plain": [
       "<Figure size 200x500 with 1 Axes>"
      ]
     },
     "metadata": {
      "needs_background": "light"
     },
     "output_type": "display_data"
    }
   ],
   "source": [
    "plt.figure(dpi=dpi, figsize=(2,5))\n",
    "#plt.scatter(dynamic_input[0][0], dynamic_input[0][1], label=\"Input Spikes (Drive)\")\n",
    "for i in range(5):\n",
    "    plt.plot([0,100],[0.25+i,0.25+i], color=\"red\")\n",
    "plt.scatter(spk_layer1[0][0], spk_layer1[0][1], label=\"Output Spikes (Response)\", color=\"green\", s=8)\n",
    "#plt.xticks(lblinds, np.around(phases.ravel()[lblinds], decimals=2));\n",
    "plt.xlabel(\"Neuron\")\n",
    "plt.ylabel(\"Spike Time (s)\")\n",
    "#plt.ylim(-0.5,10)\n",
    "plt.title(\"Dense 1\")"
   ]
  },
  {
   "cell_type": "code",
   "execution_count": 34,
   "metadata": {},
   "outputs": [],
   "source": [
    "spk_layer2 = model.dense2.spike_trains"
   ]
  },
  {
   "cell_type": "code",
   "execution_count": 35,
   "metadata": {},
   "outputs": [
    {
     "data": {
      "text/plain": [
       "Text(0.5, 1.0, 'Dense 2')"
      ]
     },
     "execution_count": 35,
     "metadata": {},
     "output_type": "execute_result"
    },
    {
     "data": {
      "image/png": "[encoded data removed]",
      "text/plain": [
       "<Figure size 200x500 with 1 Axes>"
      ]
     },
     "metadata": {
      "needs_background": "light"
     },
     "output_type": "display_data"
    }
   ],
   "source": [
    "plt.figure(dpi=dpi, figsize=(2,5))\n",
    "#plt.scatter(dynamic_input[0][0], dynamic_input[0][1], label=\"Input Spikes (Drive)\")\n",
    "for i in range(5):\n",
    "    plt.plot([0,10],[0.50+i,0.50+i], color=\"red\")\n",
    "plt.scatter(spk_layer2[0][0], spk_layer2[0][1], label=\"Output Spikes (Response)\", color=\"purple\", s=8)\n",
    "#plt.xticks(lblinds, np.around(phases.ravel()[lblinds], decimals=2));\n",
    "plt.xlabel(\"Neuron\")\n",
    "plt.ylabel(\"Spike Time (s)\")\n",
    "#plt.ylim(-0.5,10)\n",
    "plt.title(\"Dense 2\")"
   ]
  },
  {
   "cell_type": "code",
   "execution_count": 36,
   "metadata": {},
   "outputs": [
    {
     "data": {
      "text/plain": [
       "array([8, 3, 5, 5, 5, 6, 4, 5, 1, 7])"
      ]
     },
     "execution_count": 36,
     "metadata": {},
     "output_type": "execute_result"
    }
   ],
   "source": [
    "small_a1"
   ]
  },
  {
   "cell_type": "code",
   "execution_count": 41,
   "metadata": {},
   "outputs": [
    {
     "data": {
      "text/plain": [
       "1.0"
      ]
     },
     "execution_count": 41,
     "metadata": {},
     "output_type": "execute_result"
    }
   ],
   "source": [
    "np.mean(small_a1 == ys[0:10])"
   ]
  },
  {
   "cell_type": "code",
   "execution_count": 42,
   "metadata": {},
   "outputs": [
    {
     "data": {
      "text/plain": [
       "1.0"
      ]
     },
     "execution_count": 42,
     "metadata": {},
     "output_type": "execute_result"
    }
   ],
   "source": [
    "np.mean(small_a2.ravel() == ys[0:10])"
   ]
  },
  {
   "cell_type": "code",
   "execution_count": 43,
   "metadata": {},
   "outputs": [],
   "source": [
    "#full dynamic execution on test set - takes a few hours"
   ]
  },
  {
   "cell_type": "code",
   "execution_count": 22,
   "metadata": {
    "scrolled": true
   },
   "outputs": [
    {
     "name": "stderr",
     "output_type": "stream",
     "text": [
      "100%|██████████| 128/128 [02:24<00:00,  1.13s/it]\n",
      "100%|██████████| 128/128 [02:02<00:00,  1.05it/s]\n",
      "100%|██████████| 128/128 [02:24<00:00,  1.13s/it]\n",
      "100%|██████████| 128/128 [02:00<00:00,  1.07it/s]\n",
      "100%|██████████| 128/128 [02:30<00:00,  1.18s/it]\n",
      "100%|██████████| 128/128 [02:00<00:00,  1.06it/s]\n",
      "100%|██████████| 128/128 [02:22<00:00,  1.12s/it]\n",
      "100%|██████████| 128/128 [02:06<00:00,  1.01it/s]\n",
      "100%|██████████| 128/128 [02:29<00:00,  1.17s/it]\n",
      "100%|██████████| 128/128 [02:06<00:00,  1.01it/s]\n",
      "100%|██████████| 128/128 [02:26<00:00,  1.14s/it]\n",
      "100%|██████████| 128/128 [02:04<00:00,  1.03it/s]\n",
      "100%|██████████| 128/128 [02:24<00:00,  1.13s/it]\n",
      "100%|██████████| 128/128 [02:04<00:00,  1.03it/s]\n",
      "100%|██████████| 128/128 [02:22<00:00,  1.11s/it]\n",
      "100%|██████████| 128/128 [02:01<00:00,  1.05it/s]\n",
      "100%|██████████| 128/128 [02:26<00:00,  1.14s/it]\n",
      "100%|██████████| 128/128 [02:07<00:00,  1.01it/s]\n",
      "100%|██████████| 128/128 [02:25<00:00,  1.13s/it]\n",
      "100%|██████████| 128/128 [02:05<00:00,  1.02it/s]\n",
      "100%|██████████| 128/128 [02:27<00:00,  1.15s/it]\n",
      "100%|██████████| 128/128 [02:00<00:00,  1.06it/s]\n",
      "100%|██████████| 128/128 [02:28<00:00,  1.16s/it]\n",
      "100%|██████████| 128/128 [02:01<00:00,  1.05it/s]\n",
      "100%|██████████| 128/128 [02:24<00:00,  1.13s/it]\n",
      "100%|██████████| 128/128 [02:03<00:00,  1.04it/s]\n",
      "100%|██████████| 128/128 [02:24<00:00,  1.13s/it]\n",
      "100%|██████████| 128/128 [02:01<00:00,  1.06it/s]\n",
      "100%|██████████| 128/128 [02:31<00:00,  1.19s/it]\n",
      "100%|██████████| 128/128 [02:00<00:00,  1.06it/s]\n",
      "100%|██████████| 128/128 [02:26<00:00,  1.15s/it]\n",
      "100%|██████████| 128/128 [02:08<00:00,  1.00s/it]\n",
      "100%|██████████| 128/128 [02:28<00:00,  1.16s/it]\n",
      "100%|██████████| 128/128 [01:59<00:00,  1.07it/s]\n",
      "100%|██████████| 128/128 [02:30<00:00,  1.17s/it]\n",
      "100%|██████████| 128/128 [02:02<00:00,  1.04it/s]\n",
      "100%|██████████| 128/128 [02:24<00:00,  1.13s/it]\n",
      "100%|██████████| 128/128 [02:00<00:00,  1.07it/s]\n",
      "100%|██████████| 128/128 [02:23<00:00,  1.12s/it]\n",
      "100%|██████████| 128/128 [01:59<00:00,  1.07it/s]\n",
      "100%|██████████| 128/128 [02:27<00:00,  1.15s/it]\n",
      "100%|██████████| 128/128 [02:00<00:00,  1.06it/s]\n",
      "100%|██████████| 128/128 [02:22<00:00,  1.11s/it]\n",
      "100%|██████████| 128/128 [01:59<00:00,  1.07it/s]\n",
      "100%|██████████| 128/128 [02:24<00:00,  1.13s/it]\n",
      "100%|██████████| 128/128 [02:01<00:00,  1.05it/s]\n",
      "100%|██████████| 128/128 [02:22<00:00,  1.11s/it]\n",
      "100%|██████████| 128/128 [02:00<00:00,  1.06it/s]\n",
      "100%|██████████| 128/128 [02:23<00:00,  1.12s/it]\n",
      "100%|██████████| 128/128 [02:02<00:00,  1.04it/s]\n",
      "100%|██████████| 128/128 [02:23<00:00,  1.12s/it]\n",
      "100%|██████████| 128/128 [02:00<00:00,  1.06it/s]\n",
      "100%|██████████| 128/128 [02:27<00:00,  1.15s/it]\n",
      "100%|██████████| 128/128 [02:06<00:00,  1.01it/s]\n",
      "100%|██████████| 128/128 [02:26<00:00,  1.14s/it]\n",
      "100%|██████████| 128/128 [02:06<00:00,  1.01it/s]\n",
      "100%|██████████| 128/128 [02:31<00:00,  1.19s/it]\n",
      "100%|██████████| 128/128 [02:02<00:00,  1.04it/s]\n",
      "100%|██████████| 128/128 [02:21<00:00,  1.11s/it]\n",
      "100%|██████████| 128/128 [02:00<00:00,  1.06it/s]\n",
      "100%|██████████| 128/128 [02:25<00:00,  1.14s/it]\n",
      "100%|██████████| 128/128 [02:01<00:00,  1.06it/s]\n",
      "100%|██████████| 128/128 [02:29<00:00,  1.16s/it]\n",
      "100%|██████████| 128/128 [02:01<00:00,  1.06it/s]\n",
      "100%|██████████| 128/128 [02:22<00:00,  1.11s/it]\n",
      "100%|██████████| 128/128 [01:59<00:00,  1.07it/s]\n",
      "100%|██████████| 128/128 [02:25<00:00,  1.13s/it]\n",
      "100%|██████████| 128/128 [02:01<00:00,  1.06it/s]\n",
      "100%|██████████| 128/128 [02:25<00:00,  1.14s/it]\n",
      "100%|██████████| 128/128 [01:59<00:00,  1.07it/s]\n",
      "100%|██████████| 128/128 [02:25<00:00,  1.14s/it]\n",
      "100%|██████████| 128/128 [02:00<00:00,  1.06it/s]\n",
      "100%|██████████| 128/128 [02:25<00:00,  1.13s/it]\n",
      "100%|██████████| 128/128 [01:59<00:00,  1.07it/s]\n",
      "100%|██████████| 128/128 [02:29<00:00,  1.17s/it]\n",
      "100%|██████████| 128/128 [01:59<00:00,  1.07it/s]\n",
      "100%|██████████| 128/128 [02:22<00:00,  1.11s/it]\n",
      "100%|██████████| 128/128 [02:06<00:00,  1.01it/s]\n",
      "100%|██████████| 128/128 [02:22<00:00,  1.11s/it]\n",
      "100%|██████████| 128/128 [02:02<00:00,  1.04it/s]\n",
      "100%|██████████| 128/128 [02:26<00:00,  1.14s/it]\n",
      "100%|██████████| 128/128 [02:02<00:00,  1.05it/s]\n",
      "100%|██████████| 128/128 [02:23<00:00,  1.12s/it]\n",
      "100%|██████████| 128/128 [02:02<00:00,  1.05it/s]\n",
      "100%|██████████| 128/128 [02:21<00:00,  1.11s/it]\n",
      "100%|██████████| 128/128 [02:02<00:00,  1.04it/s]\n",
      "100%|██████████| 128/128 [02:29<00:00,  1.16s/it]\n",
      "100%|██████████| 128/128 [02:01<00:00,  1.05it/s]\n",
      "100%|██████████| 128/128 [02:28<00:00,  1.16s/it]\n",
      "100%|██████████| 128/128 [02:00<00:00,  1.06it/s]\n",
      "100%|██████████| 128/128 [02:22<00:00,  1.11s/it]\n",
      "100%|██████████| 128/128 [02:06<00:00,  1.01it/s]\n",
      "100%|██████████| 128/128 [02:22<00:00,  1.11s/it]\n",
      "100%|██████████| 128/128 [02:02<00:00,  1.05it/s]\n",
      "100%|██████████| 128/128 [02:24<00:00,  1.13s/it]\n",
      "100%|██████████| 128/128 [02:01<00:00,  1.05it/s]\n",
      "100%|██████████| 128/128 [02:26<00:00,  1.15s/it]\n",
      "100%|██████████| 128/128 [02:01<00:00,  1.05it/s]\n",
      "100%|██████████| 128/128 [02:27<00:00,  1.15s/it]\n",
      "100%|██████████| 128/128 [02:06<00:00,  1.01it/s]\n",
      "100%|██████████| 128/128 [02:23<00:00,  1.12s/it]\n",
      "100%|██████████| 128/128 [02:00<00:00,  1.06it/s]\n",
      "100%|██████████| 128/128 [02:24<00:00,  1.13s/it]\n",
      "100%|██████████| 128/128 [02:00<00:00,  1.06it/s]\n",
      "100%|██████████| 128/128 [02:22<00:00,  1.12s/it]\n",
      "100%|██████████| 128/128 [02:01<00:00,  1.05it/s]\n",
      "100%|██████████| 128/128 [02:26<00:00,  1.15s/it]\n",
      "100%|██████████| 128/128 [01:59<00:00,  1.07it/s]\n",
      "100%|██████████| 128/128 [02:28<00:00,  1.16s/it]\n",
      "100%|██████████| 128/128 [02:03<00:00,  1.04it/s]\n",
      "100%|██████████| 128/128 [02:25<00:00,  1.14s/it]\n",
      "100%|██████████| 128/128 [02:00<00:00,  1.06it/s]\n",
      "100%|██████████| 128/128 [02:23<00:00,  1.12s/it]\n",
      "100%|██████████| 128/128 [01:59<00:00,  1.07it/s]\n",
      "100%|██████████| 128/128 [02:33<00:00,  1.20s/it]\n",
      "100%|██████████| 128/128 [02:07<00:00,  1.01it/s]\n",
      "100%|██████████| 128/128 [02:24<00:00,  1.13s/it]\n",
      "100%|██████████| 128/128 [02:00<00:00,  1.06it/s]\n",
      "100%|██████████| 128/128 [02:22<00:00,  1.11s/it]\n",
      "100%|██████████| 128/128 [02:01<00:00,  1.05it/s]\n",
      "100%|██████████| 128/128 [02:26<00:00,  1.14s/it]\n",
      "100%|██████████| 128/128 [02:00<00:00,  1.06it/s]\n",
      "100%|██████████| 128/128 [02:23<00:00,  1.12s/it]\n",
      "100%|██████████| 128/128 [02:05<00:00,  1.02it/s]\n",
      "100%|██████████| 128/128 [02:26<00:00,  1.14s/it]\n",
      "100%|██████████| 128/128 [02:03<00:00,  1.04it/s]\n",
      "100%|██████████| 128/128 [02:24<00:00,  1.13s/it]\n",
      "100%|██████████| 128/128 [02:00<00:00,  1.06it/s]\n",
      "100%|██████████| 128/128 [02:26<00:00,  1.14s/it]\n",
      "100%|██████████| 128/128 [01:59<00:00,  1.07it/s]\n",
      "100%|██████████| 128/128 [02:28<00:00,  1.16s/it]\n",
      "100%|██████████| 128/128 [02:03<00:00,  1.04it/s]\n",
      "100%|██████████| 128/128 [02:26<00:00,  1.14s/it]\n",
      "100%|██████████| 128/128 [02:12<00:00,  1.03s/it]\n",
      "100%|██████████| 128/128 [02:28<00:00,  1.16s/it]\n",
      "100%|██████████| 128/128 [02:33<00:00,  1.20s/it]\n",
      "100%|██████████| 128/128 [02:53<00:00,  1.36s/it]\n",
      "100%|██████████| 128/128 [02:01<00:00,  1.05it/s]\n",
      "100%|██████████| 128/128 [02:56<00:00,  1.38s/it]\n",
      "100%|██████████| 128/128 [02:34<00:00,  1.21s/it]\n",
      "100%|██████████| 128/128 [02:23<00:00,  1.12s/it]\n",
      "100%|██████████| 128/128 [02:06<00:00,  1.01it/s]\n",
      "100%|██████████| 128/128 [02:31<00:00,  1.18s/it]\n",
      "100%|██████████| 128/128 [02:01<00:00,  1.06it/s]\n",
      "100%|██████████| 128/128 [02:23<00:00,  1.12s/it]\n",
      "100%|██████████| 128/128 [02:03<00:00,  1.04it/s]\n",
      "100%|██████████| 128/128 [02:23<00:00,  1.12s/it]\n",
      "100%|██████████| 128/128 [02:05<00:00,  1.02it/s]\n",
      "100%|██████████| 128/128 [02:30<00:00,  1.18s/it]\n",
      "100%|██████████| 128/128 [02:03<00:00,  1.04it/s]\n",
      "100%|██████████| 128/128 [02:28<00:00,  1.16s/it]\n",
      "100%|██████████| 128/128 [02:03<00:00,  1.03it/s]\n",
      "100%|██████████| 128/128 [02:44<00:00,  1.29s/it]\n",
      "100%|██████████| 128/128 [02:16<00:00,  1.07s/it]\n",
      "100%|██████████| 128/128 [02:34<00:00,  1.21s/it]\n",
      "100%|██████████| 128/128 [02:06<00:00,  1.02it/s]\n",
      "100%|██████████| 16/16 [00:18<00:00,  1.16s/it]\n",
      "100%|██████████| 16/16 [00:15<00:00,  1.01it/s]\n"
     ]
    }
   ],
   "source": [
    "all_yhs = model.evaluate(ds_test, method=\"dynamic\")"
   ]
  },
  {
   "cell_type": "code",
   "execution_count": 31,
   "metadata": {},
   "outputs": [],
   "source": [
    "np.savez_compressed(\"fashion_yhs_dynamic.npz\", yhs=all_yhs.numpy(), ys=y_test)"
   ]
  },
  {
   "cell_type": "code",
   "execution_count": 25,
   "metadata": {},
   "outputs": [],
   "source": [
    "yhmode = model.predict(all_yhs, \"mode\").ravel()"
   ]
  },
  {
   "cell_type": "code",
   "execution_count": 26,
   "metadata": {},
   "outputs": [],
   "source": [
    "yhmean = model.predict(all_yhs, \"dynamic_mean\")"
   ]
  },
  {
   "cell_type": "code",
   "execution_count": 29,
   "metadata": {},
   "outputs": [
    {
     "data": {
      "text/plain": [
       "0.8357"
      ]
     },
     "execution_count": 29,
     "metadata": {},
     "output_type": "execute_result"
    }
   ],
   "source": [
    "np.mean(yhmode == y_test)"
   ]
  },
  {
   "cell_type": "code",
   "execution_count": 30,
   "metadata": {},
   "outputs": [
    {
     "data": {
      "text/plain": [
       "0.8357"
      ]
     },
     "execution_count": 30,
     "metadata": {},
     "output_type": "execute_result"
    }
   ],
   "source": [
    "np.mean(yhmean == y_test)"
   ]
  },
  {
   "cell_type": "code",
   "execution_count": 79,
   "metadata": {},
   "outputs": [],
   "source": [
    "zs = model.dense1.solutions[0].y"
   ]
  },
  {
   "cell_type": "code",
   "execution_count": 83,
   "metadata": {},
   "outputs": [],
   "source": [
    "zs = model.dense1.solutions[1].y"
   ]
  },
  {
   "cell_type": "code",
   "execution_count": 84,
   "metadata": {
    "scrolled": true
   },
   "outputs": [
    {
     "data": {
      "text/plain": [
       "(100, 157)"
      ]
     },
     "execution_count": 84,
     "metadata": {},
     "output_type": "execute_result"
    }
   ],
   "source": [
    "zs.shape"
   ]
  },
  {
   "cell_type": "code",
   "execution_count": 32,
   "metadata": {},
   "outputs": [
    {
     "data": {
      "text/plain": [
       "<tf.Tensor: shape=(10000, 10), dtype=float32, numpy=\n",
       "array([[ 1.6586265e-02,  5.2529991e-01,  6.3262950e-03, ...,\n",
       "         4.7232946e-03, -6.0856016e-03,  1.3597242e-03],\n",
       "       [ 1.3924162e-01, -1.7226320e-02,  7.1256855e-03, ...,\n",
       "        -2.0492092e-02, -3.4299508e-02, -1.8003222e-02],\n",
       "       [-1.2260120e-02, -2.1087781e-03, -4.4639733e-02, ...,\n",
       "        -5.5969278e-03, -2.0423129e-03,  2.0672766e-02],\n",
       "       ...,\n",
       "       [ 8.9065760e-02,  1.6875458e-01, -6.9767316e-03, ...,\n",
       "        -4.4546209e-02, -8.3237775e-03,  2.5417980e-02],\n",
       "       [ 3.7940429e-03,  8.3140070e-03,  3.2022633e-02, ...,\n",
       "        -6.8708975e-03, -1.1248193e-03, -1.0997778e-02],\n",
       "       [-2.0389389e-03,  5.1500750e-01,  1.2244536e-02, ...,\n",
       "        -8.3018569e-03, -3.1137554e-04, -8.2392682e-04]], dtype=float32)>"
      ]
     },
     "execution_count": 32,
     "metadata": {},
     "output_type": "execute_result"
    }
   ],
   "source": [
    "model.evaluate(ds_test)"
   ]
  },
  {
   "cell_type": "code",
   "execution_count": 35,
   "metadata": {},
   "outputs": [],
   "source": [
    "def train_and_save(num):\n",
    "    model = PhasorModel(input_shape, \n",
    "                    onehot_offset=0.0, \n",
    "                    onehot_phase=0.5,\n",
    "                    projection=\"dot\",\n",
    "                   \n",
    "                   exec_time=5.0,\n",
    "                   repeats=5,\n",
    "                   max_step=0.02)\n",
    "    model.compile(optimizer=\"rmsprop\")\n",
    "    loss = model.train(ds_train, 2)\n",
    "    \n",
    "    yh_static = model.evaluate(ds_test, method=\"static\")\n",
    "    yh_dynamic = model.evaluate(ds_test, method=\"dynamic\")\n",
    "    \n",
    "    name = \"fashion_model_\"+str(num)+\".npz\"\n",
    "    np.savez_compressed(name, \n",
    "                        yh_static=yh_static.numpy(),\n",
    "                        yh_dynamic=yh_dynamic.numpy(),\n",
    "                        ys=y_test.numpy())"
   ]
  },
  {
   "cell_type": "code",
   "execution_count": 36,
   "metadata": {},
   "outputs": [
    {
     "name": "stdout",
     "output_type": "stream",
     "text": [
      "Training loss tf.Tensor(1.0986388, shape=(), dtype=float32)\n",
      "Training loss tf.Tensor(0.044564262, shape=(), dtype=float32)\n",
      "Training loss tf.Tensor(0.031964462, shape=(), dtype=float32)\n",
      "Training loss tf.Tensor(0.038063597, shape=(), dtype=float32)\n",
      "Training loss tf.Tensor(0.02844527, shape=(), dtype=float32)\n",
      "Training loss tf.Tensor(0.02875573, shape=(), dtype=float32)\n",
      "Training loss tf.Tensor(0.02644289, shape=(), dtype=float32)\n",
      "Training loss tf.Tensor(0.024948452, shape=(), dtype=float32)\n",
      "Training loss tf.Tensor(0.025934553, shape=(), dtype=float32)\n",
      "Training loss tf.Tensor(0.028096206, shape=(), dtype=float32)\n"
     ]
    },
    {
     "name": "stderr",
     "output_type": "stream",
     "text": [
      "100%|██████████| 128/128 [02:34<00:00,  1.21s/it]\n",
      "100%|██████████| 128/128 [02:05<00:00,  1.02it/s]\n",
      "100%|██████████| 128/128 [02:36<00:00,  1.23s/it]\n",
      "100%|██████████| 128/128 [02:11<00:00,  1.03s/it]\n",
      "100%|██████████| 128/128 [02:34<00:00,  1.21s/it]\n",
      "100%|██████████| 128/128 [02:10<00:00,  1.02s/it]\n",
      "100%|██████████| 128/128 [02:34<00:00,  1.21s/it]\n",
      "100%|██████████| 128/128 [02:10<00:00,  1.02s/it]\n",
      "100%|██████████| 128/128 [02:34<00:00,  1.21s/it]\n",
      "100%|██████████| 128/128 [02:10<00:00,  1.02s/it]\n",
      "100%|██████████| 128/128 [02:32<00:00,  1.19s/it]\n",
      "100%|██████████| 128/128 [02:11<00:00,  1.03s/it]\n",
      "100%|██████████| 128/128 [02:35<00:00,  1.22s/it]\n",
      "100%|██████████| 128/128 [02:13<00:00,  1.04s/it]\n",
      "100%|██████████| 128/128 [02:36<00:00,  1.22s/it]\n",
      "100%|██████████| 128/128 [02:13<00:00,  1.04s/it]\n",
      "100%|██████████| 128/128 [02:38<00:00,  1.24s/it]\n",
      "100%|██████████| 128/128 [02:20<00:00,  1.10s/it]\n",
      "100%|██████████| 128/128 [02:34<00:00,  1.20s/it]\n",
      "100%|██████████| 128/128 [02:10<00:00,  1.02s/it]\n",
      "100%|██████████| 128/128 [02:38<00:00,  1.24s/it]\n",
      "100%|██████████| 128/128 [02:07<00:00,  1.00it/s]\n",
      "100%|██████████| 128/128 [02:34<00:00,  1.21s/it]\n",
      "100%|██████████| 128/128 [02:13<00:00,  1.05s/it]\n",
      "100%|██████████| 128/128 [02:30<00:00,  1.18s/it]\n",
      "100%|██████████| 128/128 [02:18<00:00,  1.08s/it]\n",
      "100%|██████████| 128/128 [02:31<00:00,  1.18s/it]\n",
      "100%|██████████| 128/128 [02:07<00:00,  1.01it/s]\n",
      "100%|██████████| 128/128 [02:38<00:00,  1.24s/it]\n",
      "100%|██████████| 128/128 [02:09<00:00,  1.01s/it]\n",
      "100%|██████████| 128/128 [02:35<00:00,  1.21s/it]\n",
      "100%|██████████| 128/128 [02:10<00:00,  1.02s/it]\n",
      "100%|██████████| 128/128 [02:31<00:00,  1.18s/it]\n",
      "100%|██████████| 128/128 [02:12<00:00,  1.03s/it]\n",
      "100%|██████████| 128/128 [02:34<00:00,  1.21s/it]\n",
      "100%|██████████| 128/128 [02:14<00:00,  1.05s/it]\n",
      "100%|██████████| 128/128 [02:35<00:00,  1.22s/it]\n",
      "100%|██████████| 128/128 [02:05<00:00,  1.02it/s]\n",
      "100%|██████████| 128/128 [02:41<00:00,  1.27s/it]\n",
      "100%|██████████| 128/128 [02:12<00:00,  1.03s/it]\n",
      "100%|██████████| 128/128 [02:34<00:00,  1.21s/it]\n",
      "100%|██████████| 128/128 [02:11<00:00,  1.03s/it]\n",
      "100%|██████████| 128/128 [02:37<00:00,  1.23s/it]\n",
      "100%|██████████| 128/128 [02:10<00:00,  1.02s/it]\n",
      "100%|██████████| 128/128 [02:35<00:00,  1.22s/it]\n",
      "100%|██████████| 128/128 [02:10<00:00,  1.02s/it]\n",
      "100%|██████████| 128/128 [02:37<00:00,  1.23s/it]\n",
      "100%|██████████| 128/128 [02:14<00:00,  1.05s/it]\n",
      "100%|██████████| 128/128 [02:31<00:00,  1.19s/it]\n",
      "100%|██████████| 128/128 [02:17<00:00,  1.08s/it]\n",
      "100%|██████████| 128/128 [02:32<00:00,  1.19s/it]\n",
      "100%|██████████| 128/128 [02:08<00:00,  1.01s/it]\n",
      "100%|██████████| 128/128 [02:34<00:00,  1.20s/it]\n",
      "100%|██████████| 128/128 [02:09<00:00,  1.01s/it]\n",
      "100%|██████████| 128/128 [02:35<00:00,  1.22s/it]\n",
      "100%|██████████| 128/128 [02:09<00:00,  1.01s/it]\n",
      "100%|██████████| 128/128 [02:34<00:00,  1.21s/it]\n",
      "100%|██████████| 128/128 [02:11<00:00,  1.03s/it]\n",
      "100%|██████████| 128/128 [02:34<00:00,  1.21s/it]\n",
      "100%|██████████| 128/128 [02:08<00:00,  1.00s/it]\n",
      "100%|██████████| 128/128 [02:36<00:00,  1.23s/it]\n",
      "100%|██████████| 128/128 [02:09<00:00,  1.01s/it]\n",
      "100%|██████████| 128/128 [02:34<00:00,  1.21s/it]\n",
      "100%|██████████| 128/128 [02:10<00:00,  1.02s/it]\n",
      "100%|██████████| 128/128 [02:34<00:00,  1.20s/it]\n",
      "100%|██████████| 128/128 [02:12<00:00,  1.04s/it]\n",
      "100%|██████████| 128/128 [02:32<00:00,  1.19s/it]\n",
      "100%|██████████| 128/128 [02:12<00:00,  1.03s/it]\n",
      "100%|██████████| 128/128 [02:33<00:00,  1.20s/it]\n",
      "100%|██████████| 128/128 [02:10<00:00,  1.02s/it]\n",
      "100%|██████████| 128/128 [02:36<00:00,  1.22s/it]\n",
      "100%|██████████| 128/128 [02:11<00:00,  1.03s/it]\n",
      "100%|██████████| 128/128 [02:37<00:00,  1.23s/it]\n",
      "100%|██████████| 128/128 [02:11<00:00,  1.03s/it]\n",
      "100%|██████████| 128/128 [02:27<00:00,  1.15s/it]\n",
      "100%|██████████| 128/128 [02:06<00:00,  1.01it/s]\n",
      "100%|██████████| 128/128 [02:24<00:00,  1.13s/it]\n",
      "100%|██████████| 128/128 [02:03<00:00,  1.04it/s]\n",
      "100%|██████████| 128/128 [02:31<00:00,  1.18s/it]\n",
      "100%|██████████| 128/128 [02:03<00:00,  1.04it/s]\n",
      "100%|██████████| 128/128 [02:23<00:00,  1.12s/it]\n",
      "100%|██████████| 128/128 [02:01<00:00,  1.05it/s]\n",
      "100%|██████████| 128/128 [02:31<00:00,  1.18s/it]\n",
      "100%|██████████| 128/128 [02:03<00:00,  1.04it/s]\n",
      "100%|██████████| 128/128 [02:28<00:00,  1.16s/it]\n",
      "100%|██████████| 128/128 [02:01<00:00,  1.05it/s]\n",
      "100%|██████████| 128/128 [02:26<00:00,  1.14s/it]\n",
      "100%|██████████| 128/128 [02:03<00:00,  1.03it/s]\n",
      "100%|██████████| 128/128 [02:28<00:00,  1.16s/it]\n",
      "100%|██████████| 128/128 [02:01<00:00,  1.05it/s]\n",
      "100%|██████████| 128/128 [02:28<00:00,  1.16s/it]\n",
      "100%|██████████| 128/128 [02:01<00:00,  1.06it/s]\n",
      "100%|██████████| 128/128 [02:25<00:00,  1.14s/it]\n",
      "100%|██████████| 128/128 [02:01<00:00,  1.05it/s]\n",
      "100%|██████████| 128/128 [02:24<00:00,  1.13s/it]\n",
      "100%|██████████| 128/128 [02:01<00:00,  1.05it/s]\n",
      "100%|██████████| 128/128 [02:23<00:00,  1.12s/it]\n",
      "100%|██████████| 128/128 [01:59<00:00,  1.07it/s]\n",
      "100%|██████████| 128/128 [02:27<00:00,  1.15s/it]\n",
      "100%|██████████| 128/128 [02:00<00:00,  1.06it/s]\n",
      "100%|██████████| 128/128 [02:31<00:00,  1.18s/it]\n",
      "100%|██████████| 128/128 [02:01<00:00,  1.06it/s]\n",
      "100%|██████████| 128/128 [02:24<00:00,  1.13s/it]\n",
      "100%|██████████| 128/128 [02:03<00:00,  1.04it/s]\n",
      "100%|██████████| 128/128 [02:25<00:00,  1.14s/it]\n",
      "100%|██████████| 128/128 [02:01<00:00,  1.05it/s]\n",
      "100%|██████████| 128/128 [02:22<00:00,  1.12s/it]\n",
      "100%|██████████| 128/128 [02:02<00:00,  1.04it/s]\n",
      "100%|██████████| 128/128 [02:27<00:00,  1.15s/it]\n",
      "100%|██████████| 128/128 [02:05<00:00,  1.02it/s]\n",
      "100%|██████████| 128/128 [02:25<00:00,  1.14s/it]\n",
      "100%|██████████| 128/128 [02:09<00:00,  1.01s/it]\n",
      "100%|██████████| 128/128 [02:27<00:00,  1.15s/it]\n",
      "100%|██████████| 128/128 [01:59<00:00,  1.07it/s]\n",
      "100%|██████████| 128/128 [02:23<00:00,  1.12s/it]\n",
      "100%|██████████| 128/128 [02:01<00:00,  1.05it/s]\n",
      "100%|██████████| 128/128 [02:23<00:00,  1.12s/it]\n",
      "100%|██████████| 128/128 [02:01<00:00,  1.05it/s]\n",
      "100%|██████████| 128/128 [02:26<00:00,  1.15s/it]\n",
      "100%|██████████| 128/128 [02:00<00:00,  1.06it/s]\n",
      "100%|██████████| 128/128 [02:29<00:00,  1.17s/it]\n",
      "100%|██████████| 128/128 [02:00<00:00,  1.06it/s]\n",
      "100%|██████████| 128/128 [02:23<00:00,  1.12s/it]\n",
      "100%|██████████| 128/128 [02:03<00:00,  1.04it/s]\n",
      "100%|██████████| 128/128 [02:29<00:00,  1.17s/it]\n",
      "100%|██████████| 128/128 [01:59<00:00,  1.07it/s]\n",
      "100%|██████████| 128/128 [02:26<00:00,  1.15s/it]\n",
      "100%|██████████| 128/128 [01:59<00:00,  1.07it/s]\n",
      "100%|██████████| 128/128 [02:23<00:00,  1.12s/it]\n",
      "100%|██████████| 128/128 [02:02<00:00,  1.04it/s]\n",
      "100%|██████████| 128/128 [02:24<00:00,  1.13s/it]\n",
      "100%|██████████| 128/128 [02:05<00:00,  1.02it/s]\n",
      "100%|██████████| 128/128 [02:21<00:00,  1.10s/it]\n",
      "100%|██████████| 128/128 [01:59<00:00,  1.07it/s]\n",
      "100%|██████████| 128/128 [02:22<00:00,  1.11s/it]\n",
      "100%|██████████| 128/128 [02:02<00:00,  1.05it/s]\n",
      "100%|██████████| 128/128 [02:24<00:00,  1.13s/it]\n",
      "100%|██████████| 128/128 [02:02<00:00,  1.05it/s]\n",
      "100%|██████████| 128/128 [02:31<00:00,  1.18s/it]\n",
      "100%|██████████| 128/128 [02:02<00:00,  1.04it/s]\n",
      "100%|██████████| 128/128 [02:23<00:00,  1.12s/it]\n",
      "100%|██████████| 128/128 [02:03<00:00,  1.03it/s]\n",
      "100%|██████████| 128/128 [02:26<00:00,  1.14s/it]\n",
      "100%|██████████| 128/128 [02:01<00:00,  1.06it/s]\n",
      "100%|██████████| 128/128 [02:34<00:00,  1.21s/it]\n",
      "100%|██████████| 128/128 [02:00<00:00,  1.06it/s]\n",
      "100%|██████████| 128/128 [02:24<00:00,  1.13s/it]\n",
      "100%|██████████| 128/128 [02:01<00:00,  1.06it/s]\n",
      "100%|██████████| 128/128 [02:25<00:00,  1.13s/it]\n",
      "100%|██████████| 128/128 [02:02<00:00,  1.05it/s]\n",
      "100%|██████████| 128/128 [02:34<00:00,  1.21s/it]\n",
      "100%|██████████| 128/128 [01:59<00:00,  1.07it/s]\n",
      "100%|██████████| 128/128 [02:26<00:00,  1.15s/it]\n",
      "100%|██████████| 128/128 [02:02<00:00,  1.04it/s]\n",
      "100%|██████████| 128/128 [02:23<00:00,  1.12s/it]\n",
      "100%|██████████| 128/128 [02:14<00:00,  1.05s/it]\n",
      "100%|██████████| 16/16 [00:20<00:00,  1.26s/it]\n",
      "100%|██████████| 16/16 [00:16<00:00,  1.06s/it]\n"
     ]
    }
   ],
   "source": [
    "train_and_save(5)"
   ]
  },
  {
   "cell_type": "code",
   "execution_count": null,
   "metadata": {
    "scrolled": true
   },
   "outputs": [
    {
     "name": "stdout",
     "output_type": "stream",
     "text": [
      "Training loss tf.Tensor(1.0027497, shape=(), dtype=float32)\n",
      "Training loss tf.Tensor(0.051746763, shape=(), dtype=float32)\n",
      "Training loss tf.Tensor(0.037566252, shape=(), dtype=float32)\n",
      "Training loss tf.Tensor(0.035078987, shape=(), dtype=float32)\n",
      "Training loss tf.Tensor(0.028181175, shape=(), dtype=float32)\n",
      "Training loss tf.Tensor(0.03525988, shape=(), dtype=float32)\n",
      "Training loss tf.Tensor(0.02566436, shape=(), dtype=float32)\n",
      "Training loss tf.Tensor(0.029525861, shape=(), dtype=float32)\n",
      "Training loss tf.Tensor(0.030077353, shape=(), dtype=float32)\n",
      "Training loss tf.Tensor(0.03021628, shape=(), dtype=float32)\n"
     ]
    },
    {
     "name": "stderr",
     "output_type": "stream",
     "text": [
      "100%|██████████| 128/128 [02:22<00:00,  1.12s/it]\n",
      "100%|██████████| 128/128 [01:59<00:00,  1.07it/s]\n",
      "100%|██████████| 128/128 [02:39<00:00,  1.25s/it]\n",
      "100%|██████████| 128/128 [02:09<00:00,  1.01s/it]\n",
      "100%|██████████| 128/128 [02:21<00:00,  1.10s/it]\n",
      "100%|██████████| 128/128 [02:00<00:00,  1.06it/s]\n",
      "100%|██████████| 128/128 [02:23<00:00,  1.12s/it]\n",
      "100%|██████████| 128/128 [02:05<00:00,  1.02it/s]\n",
      "100%|██████████| 128/128 [02:22<00:00,  1.12s/it]\n",
      "100%|██████████| 128/128 [02:02<00:00,  1.05it/s]\n",
      "100%|██████████| 128/128 [02:25<00:00,  1.13s/it]\n",
      "100%|██████████| 128/128 [02:01<00:00,  1.05it/s]\n",
      "100%|██████████| 128/128 [02:23<00:00,  1.12s/it]\n",
      "100%|██████████| 128/128 [02:02<00:00,  1.05it/s]\n",
      "100%|██████████| 128/128 [02:21<00:00,  1.10s/it]\n",
      "100%|██████████| 128/128 [01:59<00:00,  1.07it/s]\n",
      "100%|██████████| 128/128 [02:22<00:00,  1.12s/it]\n",
      "100%|██████████| 128/128 [02:04<00:00,  1.03it/s]\n",
      "100%|██████████| 128/128 [02:27<00:00,  1.15s/it]\n",
      "100%|██████████| 128/128 [01:59<00:00,  1.07it/s]\n",
      "100%|██████████| 128/128 [02:24<00:00,  1.13s/it]\n",
      "100%|██████████| 128/128 [02:00<00:00,  1.07it/s]\n",
      "100%|██████████| 128/128 [02:21<00:00,  1.10s/it]\n",
      "100%|██████████| 128/128 [02:04<00:00,  1.03it/s]\n",
      "100%|██████████| 128/128 [02:25<00:00,  1.13s/it]\n",
      "100%|██████████| 128/128 [02:01<00:00,  1.06it/s]\n",
      "100%|██████████| 128/128 [02:26<00:00,  1.15s/it]\n",
      "100%|██████████| 128/128 [02:04<00:00,  1.03it/s]\n",
      "100%|██████████| 128/128 [02:26<00:00,  1.14s/it]\n",
      "100%|██████████| 128/128 [02:00<00:00,  1.06it/s]\n",
      "100%|██████████| 128/128 [02:23<00:00,  1.12s/it]\n",
      "100%|██████████| 128/128 [02:00<00:00,  1.07it/s]\n",
      "100%|██████████| 128/128 [02:23<00:00,  1.12s/it]\n",
      "100%|██████████| 128/128 [02:04<00:00,  1.03it/s]\n",
      "100%|██████████| 128/128 [02:21<00:00,  1.11s/it]\n",
      "100%|██████████| 128/128 [02:02<00:00,  1.04it/s]\n",
      "100%|██████████| 128/128 [02:27<00:00,  1.15s/it]\n",
      "100%|██████████| 128/128 [02:01<00:00,  1.05it/s]\n",
      "100%|██████████| 128/128 [02:25<00:00,  1.14s/it]\n",
      "100%|██████████| 128/128 [02:04<00:00,  1.03it/s]\n",
      "100%|██████████| 128/128 [02:23<00:00,  1.12s/it]\n",
      "100%|██████████| 128/128 [02:00<00:00,  1.06it/s]\n",
      "100%|██████████| 128/128 [02:25<00:00,  1.13s/it]\n",
      "100%|██████████| 128/128 [01:59<00:00,  1.07it/s]\n",
      "100%|██████████| 128/128 [02:24<00:00,  1.13s/it]\n",
      "100%|██████████| 128/128 [02:02<00:00,  1.05it/s]\n",
      "100%|██████████| 128/128 [02:27<00:00,  1.15s/it]\n",
      "100%|██████████| 128/128 [02:00<00:00,  1.06it/s]\n",
      "100%|██████████| 128/128 [02:26<00:00,  1.15s/it]\n",
      "100%|██████████| 128/128 [02:00<00:00,  1.06it/s]\n",
      "100%|██████████| 128/128 [02:27<00:00,  1.15s/it]\n",
      "100%|██████████| 128/128 [02:09<00:00,  1.01s/it]\n",
      "100%|██████████| 128/128 [02:22<00:00,  1.11s/it]\n",
      "100%|██████████| 128/128 [02:01<00:00,  1.05it/s]\n",
      "100%|██████████| 128/128 [02:24<00:00,  1.13s/it]\n",
      "100%|██████████| 128/128 [02:01<00:00,  1.05it/s]\n",
      "100%|██████████| 128/128 [02:23<00:00,  1.12s/it]\n",
      "100%|██████████| 128/128 [02:05<00:00,  1.02it/s]\n",
      "100%|██████████| 128/128 [02:22<00:00,  1.11s/it]\n",
      "100%|██████████| 128/128 [02:05<00:00,  1.02it/s]\n",
      "100%|██████████| 128/128 [02:34<00:00,  1.21s/it]\n",
      "100%|██████████| 128/128 [02:00<00:00,  1.06it/s]\n",
      "100%|██████████| 128/128 [02:23<00:00,  1.12s/it]\n",
      "100%|██████████| 128/128 [02:04<00:00,  1.02it/s]\n",
      "100%|██████████| 128/128 [02:22<00:00,  1.11s/it]\n",
      "100%|██████████| 128/128 [02:11<00:00,  1.03s/it]\n",
      "100%|██████████| 128/128 [02:32<00:00,  1.19s/it]\n",
      "100%|██████████| 128/128 [02:04<00:00,  1.03it/s]\n",
      "100%|██████████| 128/128 [02:33<00:00,  1.20s/it]\n",
      "100%|██████████| 128/128 [02:07<00:00,  1.00it/s]\n",
      "100%|██████████| 128/128 [02:30<00:00,  1.18s/it]\n",
      "100%|██████████| 128/128 [02:05<00:00,  1.02it/s]\n",
      "100%|██████████| 128/128 [02:28<00:00,  1.16s/it]\n",
      "100%|██████████| 128/128 [02:07<00:00,  1.00it/s]\n",
      "100%|██████████| 128/128 [02:25<00:00,  1.13s/it]\n",
      "100%|██████████| 128/128 [02:06<00:00,  1.01it/s]\n",
      "100%|██████████| 128/128 [02:28<00:00,  1.16s/it]\n",
      "100%|██████████| 128/128 [02:05<00:00,  1.02it/s]\n",
      "100%|██████████| 128/128 [02:27<00:00,  1.15s/it]\n",
      "100%|██████████| 128/128 [02:02<00:00,  1.04it/s]\n",
      "100%|██████████| 128/128 [02:25<00:00,  1.14s/it]\n",
      "100%|██████████| 128/128 [02:05<00:00,  1.02it/s]\n",
      "100%|██████████| 128/128 [02:25<00:00,  1.13s/it]\n",
      "100%|██████████| 128/128 [02:00<00:00,  1.06it/s]\n",
      "100%|██████████| 128/128 [02:31<00:00,  1.18s/it]\n",
      "100%|██████████| 128/128 [02:01<00:00,  1.05it/s]\n",
      "100%|██████████| 128/128 [02:29<00:00,  1.17s/it]\n",
      "100%|██████████| 128/128 [02:15<00:00,  1.06s/it]\n",
      "100%|██████████| 128/128 [02:30<00:00,  1.18s/it]\n",
      "100%|██████████| 128/128 [02:03<00:00,  1.03it/s]\n",
      "100%|██████████| 128/128 [02:21<00:00,  1.11s/it]\n",
      "100%|██████████| 128/128 [02:03<00:00,  1.04it/s]\n",
      "100%|██████████| 128/128 [02:29<00:00,  1.16s/it]\n",
      "100%|██████████| 128/128 [02:04<00:00,  1.03it/s]\n",
      "100%|██████████| 128/128 [02:22<00:00,  1.11s/it]\n",
      "100%|██████████| 128/128 [02:04<00:00,  1.03it/s]\n",
      "100%|██████████| 128/128 [02:23<00:00,  1.12s/it]\n",
      "100%|██████████| 128/128 [02:01<00:00,  1.06it/s]\n",
      "100%|██████████| 128/128 [02:25<00:00,  1.13s/it]\n",
      "100%|██████████| 128/128 [01:59<00:00,  1.07it/s]\n",
      "100%|██████████| 128/128 [02:25<00:00,  1.14s/it]\n",
      "100%|██████████| 128/128 [02:00<00:00,  1.06it/s]\n",
      "100%|██████████| 128/128 [02:23<00:00,  1.12s/it]\n",
      "100%|██████████| 128/128 [02:04<00:00,  1.03it/s]\n",
      "100%|██████████| 128/128 [02:23<00:00,  1.12s/it]\n",
      "100%|██████████| 128/128 [02:00<00:00,  1.06it/s]\n",
      "100%|██████████| 128/128 [02:22<00:00,  1.11s/it]\n",
      "100%|██████████| 128/128 [02:02<00:00,  1.05it/s]\n",
      "100%|██████████| 128/128 [02:21<00:00,  1.10s/it]\n",
      "100%|██████████| 128/128 [02:00<00:00,  1.06it/s]\n",
      "100%|██████████| 128/128 [02:25<00:00,  1.14s/it]\n",
      "100%|██████████| 128/128 [02:03<00:00,  1.03it/s]\n",
      "100%|██████████| 128/128 [02:27<00:00,  1.15s/it]\n",
      "100%|██████████| 128/128 [01:59<00:00,  1.07it/s]\n",
      "100%|██████████| 128/128 [02:23<00:00,  1.12s/it]\n",
      "100%|██████████| 128/128 [02:05<00:00,  1.02it/s]\n",
      "100%|██████████| 128/128 [02:22<00:00,  1.12s/it]\n",
      "100%|██████████| 128/128 [02:00<00:00,  1.06it/s]\n",
      "100%|██████████| 128/128 [02:26<00:00,  1.15s/it]\n",
      "100%|██████████| 128/128 [02:06<00:00,  1.01it/s]\n",
      "100%|██████████| 128/128 [02:24<00:00,  1.13s/it]\n",
      "100%|██████████| 128/128 [02:00<00:00,  1.06it/s]\n",
      "100%|██████████| 128/128 [02:25<00:00,  1.13s/it]\n",
      "100%|██████████| 128/128 [02:02<00:00,  1.04it/s]\n",
      "100%|██████████| 128/128 [02:23<00:00,  1.12s/it]\n",
      "100%|██████████| 128/128 [02:05<00:00,  1.02it/s]\n",
      "100%|██████████| 128/128 [02:27<00:00,  1.16s/it]\n",
      "100%|██████████| 128/128 [02:02<00:00,  1.05it/s]\n",
      "100%|██████████| 128/128 [02:24<00:00,  1.13s/it]\n",
      "100%|██████████| 128/128 [01:59<00:00,  1.07it/s]\n",
      "100%|██████████| 128/128 [02:23<00:00,  1.12s/it]\n",
      "100%|██████████| 128/128 [02:05<00:00,  1.02it/s]\n",
      "100%|██████████| 128/128 [02:28<00:00,  1.16s/it]\n",
      "100%|██████████| 128/128 [02:01<00:00,  1.05it/s]\n",
      "100%|██████████| 128/128 [02:22<00:00,  1.11s/it]\n",
      "100%|██████████| 128/128 [02:03<00:00,  1.04it/s]\n",
      "100%|██████████| 128/128 [02:24<00:00,  1.13s/it]\n",
      "100%|██████████| 128/128 [02:00<00:00,  1.07it/s]\n",
      "100%|██████████| 128/128 [02:26<00:00,  1.14s/it]\n",
      "100%|██████████| 128/128 [02:04<00:00,  1.03it/s]\n",
      "100%|██████████| 128/128 [02:28<00:00,  1.16s/it]\n",
      "100%|██████████| 128/128 [02:04<00:00,  1.03it/s]\n",
      "100%|██████████| 128/128 [02:21<00:00,  1.11s/it]\n",
      "100%|██████████| 128/128 [02:02<00:00,  1.04it/s]\n",
      "100%|██████████| 128/128 [02:29<00:00,  1.17s/it]\n",
      "100%|██████████| 128/128 [02:03<00:00,  1.03it/s]\n",
      "100%|██████████| 128/128 [02:26<00:00,  1.15s/it]\n",
      "100%|██████████| 128/128 [02:02<00:00,  1.05it/s]\n",
      "100%|██████████| 128/128 [02:25<00:00,  1.14s/it]\n",
      "100%|██████████| 128/128 [02:00<00:00,  1.06it/s]\n",
      "100%|██████████| 128/128 [02:22<00:00,  1.11s/it]\n",
      "100%|██████████| 128/128 [02:02<00:00,  1.05it/s]\n",
      "100%|██████████| 128/128 [02:24<00:00,  1.13s/it]\n",
      "100%|██████████| 128/128 [02:07<00:00,  1.00it/s]\n",
      "100%|██████████| 128/128 [02:26<00:00,  1.14s/it]\n",
      "100%|██████████| 128/128 [02:02<00:00,  1.05it/s]\n",
      "100%|██████████| 16/16 [00:17<00:00,  1.12s/it]\n",
      "100%|██████████| 16/16 [00:14<00:00,  1.07it/s]\n"
     ]
    },
    {
     "name": "stdout",
     "output_type": "stream",
     "text": [
      "Training loss tf.Tensor(1.0336604, shape=(), dtype=float32)\n",
      "Training loss tf.Tensor(0.044945233, shape=(), dtype=float32)\n",
      "Training loss tf.Tensor(0.032664888, shape=(), dtype=float32)\n",
      "Training loss tf.Tensor(0.03168826, shape=(), dtype=float32)\n",
      "Training loss tf.Tensor(0.025435891, shape=(), dtype=float32)\n",
      "Training loss tf.Tensor(0.03351069, shape=(), dtype=float32)\n",
      "Training loss tf.Tensor(0.03588455, shape=(), dtype=float32)\n",
      "Training loss tf.Tensor(0.033536542, shape=(), dtype=float32)\n",
      "Training loss tf.Tensor(0.025978046, shape=(), dtype=float32)\n",
      "Training loss tf.Tensor(0.024033714, shape=(), dtype=float32)\n"
     ]
    },
    {
     "name": "stderr",
     "output_type": "stream",
     "text": [
      "100%|██████████| 128/128 [02:27<00:00,  1.15s/it]\n",
      "100%|██████████| 128/128 [02:01<00:00,  1.05it/s]\n",
      "100%|██████████| 128/128 [02:25<00:00,  1.13s/it]\n",
      "100%|██████████| 128/128 [02:01<00:00,  1.05it/s]\n",
      "100%|██████████| 128/128 [02:27<00:00,  1.15s/it]\n",
      "100%|██████████| 128/128 [02:04<00:00,  1.03it/s]\n",
      "100%|██████████| 128/128 [02:26<00:00,  1.15s/it]\n",
      "100%|██████████| 128/128 [02:02<00:00,  1.04it/s]\n",
      "100%|██████████| 128/128 [02:22<00:00,  1.12s/it]\n",
      "100%|██████████| 128/128 [02:01<00:00,  1.05it/s]\n",
      "100%|██████████| 128/128 [02:34<00:00,  1.20s/it]\n",
      "100%|██████████| 128/128 [02:01<00:00,  1.05it/s]\n",
      "100%|██████████| 128/128 [02:24<00:00,  1.13s/it]\n",
      "100%|██████████| 128/128 [02:02<00:00,  1.05it/s]\n",
      "100%|██████████| 128/128 [02:24<00:00,  1.13s/it]\n",
      "100%|██████████| 128/128 [02:00<00:00,  1.06it/s]\n",
      "100%|██████████| 128/128 [02:23<00:00,  1.12s/it]\n",
      "100%|██████████| 128/128 [02:08<00:00,  1.01s/it]\n",
      "100%|██████████| 128/128 [02:26<00:00,  1.14s/it]\n",
      "100%|██████████| 128/128 [02:07<00:00,  1.00it/s]\n",
      "100%|██████████| 128/128 [02:22<00:00,  1.12s/it]\n",
      "100%|██████████| 128/128 [02:03<00:00,  1.04it/s]\n",
      "100%|██████████| 128/128 [02:25<00:00,  1.14s/it]\n",
      "100%|██████████| 128/128 [02:07<00:00,  1.01it/s]\n",
      "100%|██████████| 128/128 [02:23<00:00,  1.12s/it]\n",
      "100%|██████████| 128/128 [02:07<00:00,  1.01it/s]\n",
      "100%|██████████| 128/128 [02:24<00:00,  1.13s/it]\n",
      "100%|██████████| 128/128 [02:06<00:00,  1.01it/s]\n",
      "100%|██████████| 128/128 [02:33<00:00,  1.20s/it]\n",
      "100%|██████████| 128/128 [02:05<00:00,  1.02it/s]\n",
      "100%|██████████| 128/128 [02:28<00:00,  1.16s/it]\n",
      "100%|██████████| 128/128 [02:03<00:00,  1.04it/s]\n",
      "100%|██████████| 128/128 [02:27<00:00,  1.15s/it]\n",
      "100%|██████████| 128/128 [02:03<00:00,  1.04it/s]\n",
      "100%|██████████| 128/128 [02:22<00:00,  1.11s/it]\n",
      "100%|██████████| 128/128 [02:11<00:00,  1.02s/it]\n",
      "100%|██████████| 128/128 [02:33<00:00,  1.20s/it]\n",
      "100%|██████████| 128/128 [02:04<00:00,  1.03it/s]\n",
      "100%|██████████| 128/128 [02:23<00:00,  1.12s/it]\n",
      "100%|██████████| 128/128 [02:05<00:00,  1.02it/s]\n",
      "100%|██████████| 128/128 [02:28<00:00,  1.16s/it]\n",
      "100%|██████████| 128/128 [02:04<00:00,  1.03it/s]\n",
      "100%|██████████| 128/128 [02:29<00:00,  1.17s/it]\n",
      "100%|██████████| 128/128 [02:04<00:00,  1.03it/s]\n",
      "100%|██████████| 128/128 [02:23<00:00,  1.12s/it]\n",
      "100%|██████████| 128/128 [02:03<00:00,  1.04it/s]\n",
      "100%|██████████| 128/128 [02:27<00:00,  1.15s/it]\n",
      "100%|██████████| 128/128 [02:03<00:00,  1.04it/s]\n",
      "100%|██████████| 128/128 [02:22<00:00,  1.11s/it]\n",
      "100%|██████████| 128/128 [02:02<00:00,  1.05it/s]\n",
      "100%|██████████| 128/128 [02:27<00:00,  1.15s/it]\n",
      "100%|██████████| 128/128 [02:02<00:00,  1.04it/s]\n",
      "100%|██████████| 128/128 [02:27<00:00,  1.15s/it]\n",
      "100%|██████████| 128/128 [02:02<00:00,  1.05it/s]\n",
      "100%|██████████| 128/128 [02:28<00:00,  1.16s/it]\n",
      "100%|██████████| 128/128 [02:03<00:00,  1.04it/s]\n",
      "100%|██████████| 128/128 [02:25<00:00,  1.13s/it]\n",
      "100%|██████████| 128/128 [02:04<00:00,  1.03it/s]\n",
      "100%|██████████| 128/128 [02:24<00:00,  1.13s/it]\n",
      "100%|██████████| 128/128 [02:02<00:00,  1.05it/s]\n",
      "100%|██████████| 128/128 [02:22<00:00,  1.12s/it]\n",
      "100%|██████████| 128/128 [02:02<00:00,  1.04it/s]\n",
      "100%|██████████| 128/128 [02:21<00:00,  1.11s/it]\n",
      "100%|██████████| 128/128 [02:03<00:00,  1.04it/s]\n",
      "100%|██████████| 128/128 [02:23<00:00,  1.12s/it]\n",
      "100%|██████████| 128/128 [02:04<00:00,  1.03it/s]\n",
      "100%|██████████| 128/128 [02:24<00:00,  1.13s/it]\n",
      "100%|██████████| 128/128 [02:01<00:00,  1.05it/s]\n",
      "100%|██████████| 128/128 [02:21<00:00,  1.11s/it]\n",
      "100%|██████████| 128/128 [02:03<00:00,  1.03it/s]\n",
      "100%|██████████| 128/128 [02:23<00:00,  1.12s/it]\n",
      "100%|██████████| 128/128 [02:05<00:00,  1.02it/s]\n",
      "100%|██████████| 128/128 [02:29<00:00,  1.16s/it]\n",
      "100%|██████████| 128/128 [02:02<00:00,  1.05it/s]\n",
      "100%|██████████| 128/128 [02:22<00:00,  1.11s/it]\n",
      "100%|██████████| 128/128 [02:04<00:00,  1.03it/s]\n",
      "100%|██████████| 128/128 [02:21<00:00,  1.10s/it]\n",
      "100%|██████████| 128/128 [02:03<00:00,  1.04it/s]\n",
      "100%|██████████| 128/128 [02:25<00:00,  1.14s/it]\n",
      "100%|██████████| 128/128 [02:03<00:00,  1.04it/s]\n",
      "100%|██████████| 128/128 [02:24<00:00,  1.13s/it]\n",
      "100%|██████████| 128/128 [02:03<00:00,  1.04it/s]\n",
      "100%|██████████| 128/128 [02:26<00:00,  1.15s/it]\n",
      "100%|██████████| 128/128 [02:04<00:00,  1.03it/s]\n",
      "100%|██████████| 128/128 [02:23<00:00,  1.12s/it]\n",
      "100%|██████████| 128/128 [02:03<00:00,  1.04it/s]\n",
      "100%|██████████| 128/128 [02:22<00:00,  1.12s/it]\n",
      "100%|██████████| 128/128 [02:00<00:00,  1.06it/s]\n",
      "100%|██████████| 128/128 [02:26<00:00,  1.14s/it]\n",
      "100%|██████████| 128/128 [02:03<00:00,  1.03it/s]\n",
      "100%|██████████| 128/128 [02:21<00:00,  1.11s/it]\n",
      "100%|██████████| 128/128 [02:04<00:00,  1.03it/s]\n",
      "100%|██████████| 128/128 [02:24<00:00,  1.13s/it]\n",
      "100%|██████████| 128/128 [02:01<00:00,  1.05it/s]\n",
      "100%|██████████| 128/128 [02:24<00:00,  1.13s/it]\n",
      "100%|██████████| 128/128 [02:03<00:00,  1.04it/s]\n",
      "100%|██████████| 128/128 [02:24<00:00,  1.13s/it]\n",
      "100%|██████████| 128/128 [02:04<00:00,  1.03it/s]\n",
      "100%|██████████| 128/128 [02:22<00:00,  1.11s/it]\n",
      "100%|██████████| 128/128 [02:03<00:00,  1.04it/s]\n",
      "100%|██████████| 128/128 [02:22<00:00,  1.11s/it]\n",
      "100%|██████████| 128/128 [02:09<00:00,  1.01s/it]\n",
      "100%|██████████| 128/128 [02:27<00:00,  1.15s/it]\n",
      "100%|██████████| 128/128 [02:03<00:00,  1.04it/s]\n",
      "100%|██████████| 128/128 [02:23<00:00,  1.12s/it]\n",
      "100%|██████████| 128/128 [02:07<00:00,  1.00it/s]\n",
      "100%|██████████| 128/128 [02:23<00:00,  1.12s/it]\n",
      "100%|██████████| 128/128 [02:02<00:00,  1.05it/s]\n",
      "100%|██████████| 128/128 [02:33<00:00,  1.20s/it]\n",
      "100%|██████████| 128/128 [02:03<00:00,  1.04it/s]\n",
      "100%|██████████| 128/128 [02:25<00:00,  1.14s/it]\n",
      "100%|██████████| 128/128 [02:03<00:00,  1.03it/s]\n",
      "100%|██████████| 128/128 [02:22<00:00,  1.11s/it]\n",
      "100%|██████████| 128/128 [02:00<00:00,  1.06it/s]\n",
      "100%|██████████| 128/128 [02:21<00:00,  1.11s/it]\n",
      "100%|██████████| 128/128 [02:09<00:00,  1.01s/it]\n",
      "100%|██████████| 128/128 [02:21<00:00,  1.11s/it]\n",
      "100%|██████████| 128/128 [01:59<00:00,  1.08it/s]\n",
      "100%|██████████| 128/128 [02:22<00:00,  1.11s/it]\n",
      "100%|██████████| 128/128 [02:03<00:00,  1.04it/s]\n",
      "100%|██████████| 128/128 [02:23<00:00,  1.12s/it]\n",
      "100%|██████████| 128/128 [02:10<00:00,  1.02s/it]\n",
      "100%|██████████| 128/128 [02:25<00:00,  1.14s/it]\n",
      "100%|██████████| 128/128 [02:10<00:00,  1.02s/it]\n",
      "100%|██████████| 128/128 [02:22<00:00,  1.11s/it]\n",
      "100%|██████████| 128/128 [02:09<00:00,  1.01s/it]\n",
      "100%|██████████| 128/128 [02:25<00:00,  1.14s/it]\n",
      "100%|██████████| 128/128 [02:01<00:00,  1.05it/s]\n",
      "100%|██████████| 128/128 [02:23<00:00,  1.12s/it]\n",
      "100%|██████████| 128/128 [02:03<00:00,  1.04it/s]\n",
      "100%|██████████| 128/128 [02:26<00:00,  1.14s/it]\n",
      "100%|██████████| 128/128 [02:06<00:00,  1.01it/s]\n",
      "100%|██████████| 128/128 [02:26<00:00,  1.14s/it]\n",
      "100%|██████████| 128/128 [02:02<00:00,  1.05it/s]\n",
      "100%|██████████| 128/128 [02:31<00:00,  1.18s/it]\n",
      "100%|██████████| 128/128 [02:03<00:00,  1.04it/s]\n",
      "100%|██████████| 128/128 [02:23<00:00,  1.12s/it]\n",
      "100%|██████████| 128/128 [02:02<00:00,  1.05it/s]\n",
      "100%|██████████| 128/128 [02:25<00:00,  1.14s/it]\n",
      "100%|██████████| 128/128 [02:01<00:00,  1.06it/s]\n",
      "100%|██████████| 128/128 [02:28<00:00,  1.16s/it]\n",
      "100%|██████████| 128/128 [02:03<00:00,  1.04it/s]\n",
      "100%|██████████| 128/128 [02:27<00:00,  1.15s/it]\n",
      "100%|██████████| 128/128 [02:05<00:00,  1.02it/s]\n",
      "100%|██████████| 128/128 [02:23<00:00,  1.12s/it]\n",
      "100%|██████████| 128/128 [02:03<00:00,  1.04it/s]\n",
      "100%|██████████| 128/128 [02:23<00:00,  1.12s/it]\n",
      "100%|██████████| 128/128 [02:02<00:00,  1.04it/s]\n",
      "100%|██████████| 128/128 [02:26<00:00,  1.15s/it]\n",
      "100%|██████████| 128/128 [02:00<00:00,  1.06it/s]\n",
      "100%|██████████| 128/128 [02:21<00:00,  1.10s/it]\n",
      "100%|██████████| 128/128 [02:05<00:00,  1.02it/s]\n",
      "100%|██████████| 128/128 [02:28<00:00,  1.16s/it]\n",
      "100%|██████████| 128/128 [02:08<00:00,  1.01s/it]\n",
      "100%|██████████| 128/128 [02:22<00:00,  1.12s/it]\n",
      "100%|██████████| 128/128 [02:05<00:00,  1.02it/s]\n",
      "100%|██████████| 16/16 [00:17<00:00,  1.09s/it]\n",
      "100%|██████████| 16/16 [00:16<00:00,  1.03s/it]\n"
     ]
    },
    {
     "name": "stdout",
     "output_type": "stream",
     "text": [
      "Training loss tf.Tensor(0.78262395, shape=(), dtype=float32)\n",
      "Training loss tf.Tensor(0.044942103, shape=(), dtype=float32)\n",
      "Training loss tf.Tensor(0.02809744, shape=(), dtype=float32)\n",
      "Training loss tf.Tensor(0.033645917, shape=(), dtype=float32)\n",
      "Training loss tf.Tensor(0.030499382, shape=(), dtype=float32)\n",
      "Training loss tf.Tensor(0.029568221, shape=(), dtype=float32)\n",
      "Training loss tf.Tensor(0.02722311, shape=(), dtype=float32)\n",
      "Training loss tf.Tensor(0.03133602, shape=(), dtype=float32)\n",
      "Training loss tf.Tensor(0.029840875, shape=(), dtype=float32)\n",
      "Training loss tf.Tensor(0.025258638, shape=(), dtype=float32)\n"
     ]
    },
    {
     "name": "stderr",
     "output_type": "stream",
     "text": [
      "100%|██████████| 128/128 [02:28<00:00,  1.16s/it]\n",
      "100%|██████████| 128/128 [02:05<00:00,  1.02it/s]\n",
      "100%|██████████| 128/128 [02:25<00:00,  1.14s/it]\n",
      "100%|██████████| 128/128 [02:00<00:00,  1.06it/s]\n",
      "100%|██████████| 128/128 [02:33<00:00,  1.20s/it]\n",
      "100%|██████████| 128/128 [02:01<00:00,  1.05it/s]\n",
      "100%|██████████| 128/128 [02:30<00:00,  1.18s/it]\n",
      "100%|██████████| 128/128 [02:03<00:00,  1.04it/s]\n",
      "100%|██████████| 128/128 [02:25<00:00,  1.14s/it]\n",
      "100%|██████████| 128/128 [02:04<00:00,  1.03it/s]\n",
      "100%|██████████| 128/128 [02:27<00:00,  1.15s/it]\n",
      "100%|██████████| 128/128 [02:00<00:00,  1.06it/s]\n",
      "100%|██████████| 128/128 [02:34<00:00,  1.21s/it]\n",
      "100%|██████████| 128/128 [02:02<00:00,  1.05it/s]\n",
      "100%|██████████| 128/128 [02:26<00:00,  1.15s/it]\n",
      "100%|██████████| 128/128 [02:01<00:00,  1.05it/s]\n",
      "100%|██████████| 128/128 [02:25<00:00,  1.13s/it]\n",
      "100%|██████████| 128/128 [02:02<00:00,  1.04it/s]\n",
      "100%|██████████| 128/128 [02:24<00:00,  1.13s/it]\n",
      "100%|██████████| 128/128 [02:03<00:00,  1.04it/s]\n",
      "100%|██████████| 128/128 [02:25<00:00,  1.14s/it]\n",
      "100%|██████████| 128/128 [02:02<00:00,  1.05it/s]\n",
      "100%|██████████| 128/128 [02:26<00:00,  1.15s/it]\n",
      "100%|██████████| 128/128 [02:08<00:00,  1.01s/it]\n",
      "100%|██████████| 128/128 [02:25<00:00,  1.14s/it]\n",
      "100%|██████████| 128/128 [02:03<00:00,  1.04it/s]\n",
      "100%|██████████| 128/128 [02:29<00:00,  1.17s/it]\n",
      "100%|██████████| 128/128 [02:02<00:00,  1.05it/s]\n",
      "100%|██████████| 128/128 [02:29<00:00,  1.16s/it]\n",
      "100%|██████████| 128/128 [02:01<00:00,  1.05it/s]\n",
      "100%|██████████| 128/128 [02:23<00:00,  1.12s/it]\n",
      "100%|██████████| 128/128 [02:09<00:00,  1.01s/it]\n",
      "100%|██████████| 128/128 [02:24<00:00,  1.13s/it]\n",
      "100%|██████████| 128/128 [02:04<00:00,  1.03it/s]\n",
      "100%|██████████| 128/128 [02:23<00:00,  1.12s/it]\n",
      "100%|██████████| 128/128 [02:02<00:00,  1.04it/s]\n",
      "100%|██████████| 128/128 [02:24<00:00,  1.13s/it]\n",
      "100%|██████████| 128/128 [02:07<00:00,  1.01it/s]\n",
      "100%|██████████| 128/128 [02:25<00:00,  1.13s/it]\n",
      "100%|██████████| 128/128 [02:01<00:00,  1.05it/s]\n",
      "100%|██████████| 128/128 [02:27<00:00,  1.15s/it]\n",
      "100%|██████████| 128/128 [02:04<00:00,  1.03it/s]\n",
      "100%|██████████| 128/128 [02:23<00:00,  1.12s/it]\n",
      "100%|██████████| 128/128 [02:04<00:00,  1.03it/s]\n",
      "100%|██████████| 128/128 [02:27<00:00,  1.16s/it]\n",
      "100%|██████████| 128/128 [02:04<00:00,  1.03it/s]\n",
      "100%|██████████| 128/128 [02:23<00:00,  1.12s/it]\n",
      "100%|██████████| 128/128 [02:02<00:00,  1.05it/s]\n",
      "100%|██████████| 128/128 [02:23<00:00,  1.12s/it]\n",
      "100%|██████████| 128/128 [02:02<00:00,  1.05it/s]\n",
      "100%|██████████| 128/128 [02:27<00:00,  1.15s/it]\n",
      "100%|██████████| 128/128 [02:01<00:00,  1.05it/s]\n",
      "100%|██████████| 128/128 [02:25<00:00,  1.13s/it]\n",
      "100%|██████████| 128/128 [02:07<00:00,  1.00it/s]\n",
      "100%|██████████| 128/128 [02:26<00:00,  1.15s/it]\n",
      "100%|██████████| 128/128 [02:01<00:00,  1.05it/s]\n",
      "100%|██████████| 128/128 [02:29<00:00,  1.16s/it]\n",
      "100%|██████████| 128/128 [02:07<00:00,  1.01it/s]\n",
      "100%|██████████| 128/128 [02:23<00:00,  1.12s/it]\n",
      "100%|██████████| 128/128 [02:06<00:00,  1.02it/s]\n",
      "100%|██████████| 128/128 [02:30<00:00,  1.18s/it]\n",
      "100%|██████████| 128/128 [02:00<00:00,  1.06it/s]\n",
      "100%|██████████| 128/128 [02:28<00:00,  1.16s/it]\n",
      "100%|██████████| 128/128 [02:01<00:00,  1.05it/s]\n",
      "100%|██████████| 128/128 [02:27<00:00,  1.15s/it]\n",
      "100%|██████████| 128/128 [02:03<00:00,  1.04it/s]\n",
      "100%|██████████| 128/128 [02:24<00:00,  1.13s/it]\n",
      "100%|██████████| 128/128 [02:01<00:00,  1.05it/s]\n",
      "100%|██████████| 128/128 [02:27<00:00,  1.15s/it]\n",
      "100%|██████████| 128/128 [02:01<00:00,  1.05it/s]\n",
      "100%|██████████| 128/128 [02:26<00:00,  1.14s/it]\n",
      "100%|██████████| 128/128 [02:02<00:00,  1.05it/s]\n",
      "100%|██████████| 128/128 [02:27<00:00,  1.16s/it]\n",
      "100%|██████████| 128/128 [02:05<00:00,  1.02it/s]\n",
      "100%|██████████| 128/128 [02:28<00:00,  1.16s/it]\n",
      "100%|██████████| 128/128 [02:00<00:00,  1.06it/s]\n",
      "100%|██████████| 128/128 [02:26<00:00,  1.15s/it]\n",
      "100%|██████████| 128/128 [02:01<00:00,  1.05it/s]\n",
      "100%|██████████| 128/128 [02:23<00:00,  1.12s/it]\n",
      "100%|██████████| 128/128 [02:01<00:00,  1.06it/s]\n",
      "100%|██████████| 128/128 [02:31<00:00,  1.18s/it]\n",
      "100%|██████████| 128/128 [02:03<00:00,  1.04it/s]\n",
      "100%|██████████| 128/128 [02:21<00:00,  1.11s/it]\n",
      "100%|██████████| 128/128 [02:03<00:00,  1.03it/s]\n",
      "100%|██████████| 128/128 [02:23<00:00,  1.12s/it]\n",
      "100%|██████████| 128/128 [02:10<00:00,  1.02s/it]\n",
      "100%|██████████| 128/128 [02:22<00:00,  1.11s/it]\n",
      "100%|██████████| 128/128 [02:01<00:00,  1.05it/s]\n",
      "100%|██████████| 128/128 [02:26<00:00,  1.14s/it]\n",
      "100%|██████████| 128/128 [02:01<00:00,  1.05it/s]\n",
      "100%|██████████| 128/128 [02:29<00:00,  1.16s/it]\n",
      "100%|██████████| 128/128 [02:02<00:00,  1.05it/s]\n",
      "100%|██████████| 128/128 [02:24<00:00,  1.13s/it]\n",
      "100%|██████████| 128/128 [02:01<00:00,  1.05it/s]\n",
      "100%|██████████| 128/128 [02:24<00:00,  1.13s/it]\n",
      "100%|██████████| 128/128 [02:01<00:00,  1.05it/s]\n",
      "100%|██████████| 128/128 [02:23<00:00,  1.12s/it]\n",
      "100%|██████████| 128/128 [02:03<00:00,  1.04it/s]\n",
      "100%|██████████| 128/128 [02:23<00:00,  1.12s/it]\n",
      "100%|██████████| 128/128 [02:04<00:00,  1.02it/s]\n",
      "100%|██████████| 128/128 [02:24<00:00,  1.13s/it]\n",
      "100%|██████████| 128/128 [02:03<00:00,  1.04it/s]\n",
      "100%|██████████| 128/128 [02:24<00:00,  1.13s/it]\n",
      "100%|██████████| 128/128 [02:03<00:00,  1.04it/s]\n",
      "100%|██████████| 128/128 [02:27<00:00,  1.15s/it]\n",
      "100%|██████████| 128/128 [02:01<00:00,  1.05it/s]\n",
      "100%|██████████| 128/128 [02:23<00:00,  1.12s/it]\n",
      "100%|██████████| 128/128 [02:02<00:00,  1.04it/s]\n",
      "100%|██████████| 128/128 [02:22<00:00,  1.11s/it]\n",
      "100%|██████████| 128/128 [02:04<00:00,  1.03it/s]\n",
      "100%|██████████| 128/128 [02:25<00:00,  1.14s/it]\n",
      "100%|██████████| 128/128 [02:00<00:00,  1.06it/s]\n",
      "100%|██████████| 128/128 [02:24<00:00,  1.13s/it]\n",
      "100%|██████████| 128/128 [02:08<00:00,  1.00s/it]\n",
      "100%|██████████| 128/128 [02:27<00:00,  1.15s/it]\n",
      "100%|██████████| 128/128 [02:02<00:00,  1.04it/s]\n",
      "100%|██████████| 128/128 [02:22<00:00,  1.11s/it]\n",
      "100%|██████████| 128/128 [02:01<00:00,  1.06it/s]\n",
      "100%|██████████| 128/128 [02:22<00:00,  1.11s/it]\n",
      "100%|██████████| 128/128 [02:11<00:00,  1.03s/it]\n",
      "100%|██████████| 128/128 [02:29<00:00,  1.17s/it]\n",
      "100%|██████████| 128/128 [02:04<00:00,  1.03it/s]\n",
      "100%|██████████| 128/128 [02:28<00:00,  1.16s/it]\n",
      "100%|██████████| 128/128 [02:01<00:00,  1.05it/s]\n",
      "100%|██████████| 128/128 [02:27<00:00,  1.15s/it]\n",
      "100%|██████████| 128/128 [02:04<00:00,  1.03it/s]\n",
      "100%|██████████| 128/128 [02:25<00:00,  1.14s/it]\n",
      "100%|██████████| 128/128 [02:03<00:00,  1.03it/s]\n",
      "100%|██████████| 128/128 [02:26<00:00,  1.14s/it]\n",
      "100%|██████████| 128/128 [02:06<00:00,  1.01it/s]\n",
      "100%|██████████| 128/128 [02:22<00:00,  1.12s/it]\n",
      "100%|██████████| 128/128 [01:59<00:00,  1.07it/s]\n",
      "100%|██████████| 128/128 [02:24<00:00,  1.13s/it]\n",
      "100%|██████████| 128/128 [02:03<00:00,  1.04it/s]\n",
      "100%|██████████| 128/128 [02:23<00:00,  1.12s/it]\n",
      "100%|██████████| 128/128 [02:02<00:00,  1.05it/s]\n",
      "100%|██████████| 128/128 [02:24<00:00,  1.13s/it]\n",
      "100%|██████████| 128/128 [02:01<00:00,  1.06it/s]\n",
      "100%|██████████| 128/128 [02:22<00:00,  1.11s/it]\n",
      "100%|██████████| 128/128 [01:59<00:00,  1.07it/s]\n",
      "100%|██████████| 128/128 [02:32<00:00,  1.19s/it]\n",
      "100%|██████████| 128/128 [02:08<00:00,  1.00s/it]\n",
      "100%|██████████| 128/128 [02:23<00:00,  1.12s/it]\n",
      "100%|██████████| 128/128 [02:01<00:00,  1.05it/s]\n",
      "100%|██████████| 128/128 [02:24<00:00,  1.13s/it]\n",
      "100%|██████████| 128/128 [02:00<00:00,  1.06it/s]\n",
      "100%|██████████| 128/128 [02:28<00:00,  1.16s/it]\n",
      "100%|██████████| 128/128 [02:03<00:00,  1.03it/s]\n",
      "100%|██████████| 128/128 [02:23<00:00,  1.12s/it]\n",
      "100%|██████████| 128/128 [02:03<00:00,  1.04it/s]\n",
      "100%|██████████| 128/128 [02:21<00:00,  1.11s/it]\n",
      "100%|██████████| 128/128 [02:02<00:00,  1.05it/s]\n",
      "100%|██████████| 128/128 [02:24<00:00,  1.13s/it]\n",
      "100%|██████████| 128/128 [01:59<00:00,  1.07it/s]\n",
      "100%|██████████| 128/128 [02:23<00:00,  1.12s/it]\n",
      "100%|██████████| 128/128 [01:59<00:00,  1.07it/s]\n",
      "100%|██████████| 16/16 [00:18<00:00,  1.13s/it]\n",
      "100%|██████████| 16/16 [00:15<00:00,  1.05it/s]\n"
     ]
    },
    {
     "name": "stdout",
     "output_type": "stream",
     "text": [
      "Training loss tf.Tensor(1.0344, shape=(), dtype=float32)\n",
      "Training loss tf.Tensor(0.051153235, shape=(), dtype=float32)\n",
      "Training loss tf.Tensor(0.041402683, shape=(), dtype=float32)\n",
      "Training loss tf.Tensor(0.027831022, shape=(), dtype=float32)\n",
      "Training loss tf.Tensor(0.03051995, shape=(), dtype=float32)\n",
      "Training loss tf.Tensor(0.03403031, shape=(), dtype=float32)\n",
      "Training loss tf.Tensor(0.026748395, shape=(), dtype=float32)\n",
      "Training loss tf.Tensor(0.028508496, shape=(), dtype=float32)\n",
      "Training loss tf.Tensor(0.02330657, shape=(), dtype=float32)\n",
      "Training loss tf.Tensor(0.026930723, shape=(), dtype=float32)\n"
     ]
    },
    {
     "name": "stderr",
     "output_type": "stream",
     "text": [
      "100%|██████████| 128/128 [02:24<00:00,  1.13s/it]\n",
      "100%|██████████| 128/128 [02:04<00:00,  1.03it/s]\n",
      "100%|██████████| 128/128 [02:22<00:00,  1.11s/it]\n",
      "100%|██████████| 128/128 [02:03<00:00,  1.03it/s]\n",
      "100%|██████████| 128/128 [02:27<00:00,  1.15s/it]\n",
      "100%|██████████| 128/128 [02:03<00:00,  1.04it/s]\n",
      "100%|██████████| 128/128 [02:22<00:00,  1.11s/it]\n",
      "100%|██████████| 128/128 [02:00<00:00,  1.06it/s]\n",
      "100%|██████████| 128/128 [02:22<00:00,  1.12s/it]\n",
      "100%|██████████| 128/128 [02:00<00:00,  1.06it/s]\n",
      "100%|██████████| 128/128 [02:24<00:00,  1.13s/it]\n",
      "100%|██████████| 128/128 [02:00<00:00,  1.06it/s]\n",
      "100%|██████████| 128/128 [02:29<00:00,  1.17s/it]\n",
      "100%|██████████| 128/128 [02:01<00:00,  1.06it/s]\n",
      "100%|██████████| 128/128 [02:23<00:00,  1.12s/it]\n",
      "100%|██████████| 128/128 [02:01<00:00,  1.05it/s]\n",
      "100%|██████████| 128/128 [02:23<00:00,  1.12s/it]\n",
      "100%|██████████| 128/128 [02:00<00:00,  1.06it/s]\n",
      "100%|██████████| 128/128 [02:36<00:00,  1.22s/it]\n",
      "100%|██████████| 128/128 [02:01<00:00,  1.05it/s]\n",
      "100%|██████████| 128/128 [02:29<00:00,  1.17s/it]\n",
      "100%|██████████| 128/128 [02:02<00:00,  1.05it/s]\n",
      "100%|██████████| 128/128 [02:23<00:00,  1.12s/it]\n",
      "100%|██████████| 128/128 [02:02<00:00,  1.05it/s]\n",
      "100%|██████████| 128/128 [02:22<00:00,  1.11s/it]\n",
      "100%|██████████| 128/128 [02:01<00:00,  1.05it/s]\n",
      "100%|██████████| 128/128 [02:26<00:00,  1.14s/it]\n",
      "100%|██████████| 128/128 [01:59<00:00,  1.07it/s]\n",
      "100%|██████████| 128/128 [02:31<00:00,  1.19s/it]\n",
      "100%|██████████| 128/128 [02:04<00:00,  1.03it/s]\n",
      "100%|██████████| 128/128 [02:32<00:00,  1.19s/it]\n",
      "100%|██████████| 128/128 [02:06<00:00,  1.01it/s]\n",
      "100%|██████████| 128/128 [02:25<00:00,  1.14s/it]\n",
      "100%|██████████| 128/128 [02:01<00:00,  1.06it/s]\n",
      "100%|██████████| 128/128 [02:26<00:00,  1.14s/it]\n",
      "100%|██████████| 128/128 [02:02<00:00,  1.05it/s]\n",
      "100%|██████████| 128/128 [02:24<00:00,  1.13s/it]\n",
      "100%|██████████| 128/128 [01:59<00:00,  1.07it/s]\n",
      "100%|██████████| 128/128 [02:25<00:00,  1.14s/it]\n",
      "100%|██████████| 128/128 [02:00<00:00,  1.06it/s]\n",
      "100%|██████████| 128/128 [02:25<00:00,  1.14s/it]\n",
      "100%|██████████| 128/128 [02:02<00:00,  1.05it/s]\n",
      "100%|██████████| 128/128 [02:25<00:00,  1.14s/it]\n",
      "100%|██████████| 128/128 [02:01<00:00,  1.06it/s]\n",
      "100%|██████████| 128/128 [02:27<00:00,  1.15s/it]\n",
      "100%|██████████| 128/128 [01:59<00:00,  1.08it/s]\n",
      "100%|██████████| 128/128 [02:26<00:00,  1.14s/it]\n",
      "100%|██████████| 128/128 [01:59<00:00,  1.07it/s]\n",
      "100%|██████████| 128/128 [02:23<00:00,  1.12s/it]\n",
      "100%|██████████| 128/128 [02:04<00:00,  1.03it/s]\n",
      "100%|██████████| 128/128 [02:24<00:00,  1.13s/it]\n",
      "100%|██████████| 128/128 [02:00<00:00,  1.06it/s]\n",
      "100%|██████████| 128/128 [02:24<00:00,  1.13s/it]\n",
      "100%|██████████| 128/128 [02:05<00:00,  1.02it/s]\n",
      "100%|██████████| 128/128 [02:25<00:00,  1.14s/it]\n",
      "100%|██████████| 128/128 [02:00<00:00,  1.06it/s]\n",
      "100%|██████████| 128/128 [02:22<00:00,  1.12s/it]\n",
      "100%|██████████| 128/128 [02:00<00:00,  1.06it/s]\n",
      "100%|██████████| 128/128 [02:25<00:00,  1.14s/it]\n",
      "100%|██████████| 128/128 [02:02<00:00,  1.04it/s]\n",
      "100%|██████████| 128/128 [02:24<00:00,  1.13s/it]\n",
      "100%|██████████| 128/128 [02:00<00:00,  1.06it/s]\n",
      "100%|██████████| 128/128 [02:23<00:00,  1.12s/it]\n",
      "100%|██████████| 128/128 [02:15<00:00,  1.06s/it]\n",
      "100%|██████████| 128/128 [02:30<00:00,  1.17s/it]\n",
      "100%|██████████| 128/128 [02:02<00:00,  1.04it/s]\n",
      "100%|██████████| 128/128 [02:28<00:00,  1.16s/it]\n",
      "100%|██████████| 128/128 [02:00<00:00,  1.06it/s]\n",
      "100%|██████████| 128/128 [02:23<00:00,  1.12s/it]\n",
      "100%|██████████| 128/128 [02:06<00:00,  1.01it/s]\n",
      "100%|██████████| 128/128 [02:28<00:00,  1.16s/it]\n",
      "100%|██████████| 128/128 [02:00<00:00,  1.06it/s]\n",
      "100%|██████████| 128/128 [02:25<00:00,  1.14s/it]\n",
      "100%|██████████| 128/128 [02:01<00:00,  1.05it/s]\n",
      "100%|██████████| 128/128 [02:27<00:00,  1.15s/it]\n",
      "100%|██████████| 128/128 [02:03<00:00,  1.03it/s]\n",
      "100%|██████████| 128/128 [02:26<00:00,  1.15s/it]\n",
      "100%|██████████| 128/128 [02:10<00:00,  1.02s/it]\n",
      "100%|██████████| 128/128 [02:37<00:00,  1.23s/it]\n",
      "100%|██████████| 128/128 [02:00<00:00,  1.07it/s]\n",
      "100%|██████████| 128/128 [02:22<00:00,  1.11s/it]\n",
      "100%|██████████| 128/128 [02:02<00:00,  1.05it/s]\n",
      "100%|██████████| 128/128 [02:26<00:00,  1.15s/it]\n",
      "100%|██████████| 128/128 [02:01<00:00,  1.05it/s]\n",
      "100%|██████████| 128/128 [02:25<00:00,  1.13s/it]\n",
      "100%|██████████| 128/128 [02:01<00:00,  1.05it/s]\n",
      "100%|██████████| 128/128 [02:23<00:00,  1.12s/it]\n",
      "100%|██████████| 128/128 [02:03<00:00,  1.04it/s]\n",
      "100%|██████████| 128/128 [02:29<00:00,  1.17s/it]\n",
      "100%|██████████| 128/128 [02:05<00:00,  1.02it/s]\n",
      "100%|██████████| 128/128 [02:27<00:00,  1.15s/it]\n",
      "100%|██████████| 128/128 [02:00<00:00,  1.07it/s]\n",
      "100%|██████████| 128/128 [02:25<00:00,  1.14s/it]\n",
      "100%|██████████| 128/128 [02:06<00:00,  1.01it/s]\n",
      "100%|██████████| 128/128 [02:30<00:00,  1.18s/it]\n",
      "100%|██████████| 128/128 [02:04<00:00,  1.02it/s]\n",
      "100%|██████████| 128/128 [02:27<00:00,  1.15s/it]\n",
      "100%|██████████| 128/128 [02:05<00:00,  1.02it/s]\n",
      "100%|██████████| 128/128 [02:34<00:00,  1.21s/it]\n",
      "100%|██████████| 128/128 [02:01<00:00,  1.05it/s]\n",
      "100%|██████████| 128/128 [02:26<00:00,  1.15s/it]\n",
      "100%|██████████| 128/128 [02:01<00:00,  1.05it/s]\n",
      "100%|██████████| 128/128 [02:22<00:00,  1.12s/it]\n",
      "100%|██████████| 128/128 [02:00<00:00,  1.06it/s]\n",
      "100%|██████████| 128/128 [02:26<00:00,  1.14s/it]\n",
      "100%|██████████| 128/128 [02:02<00:00,  1.04it/s]\n",
      "100%|██████████| 128/128 [02:23<00:00,  1.12s/it]\n",
      "100%|██████████| 128/128 [02:02<00:00,  1.05it/s]\n",
      "100%|██████████| 128/128 [02:25<00:00,  1.14s/it]\n",
      "100%|██████████| 128/128 [02:01<00:00,  1.05it/s]\n",
      "100%|██████████| 128/128 [02:30<00:00,  1.17s/it]\n",
      "100%|██████████| 128/128 [02:03<00:00,  1.03it/s]\n",
      "100%|██████████| 128/128 [02:31<00:00,  1.18s/it]\n",
      "100%|██████████| 128/128 [02:01<00:00,  1.05it/s]\n",
      "100%|██████████| 128/128 [02:26<00:00,  1.15s/it]\n",
      "100%|██████████| 128/128 [02:02<00:00,  1.05it/s]\n",
      "100%|██████████| 128/128 [02:26<00:00,  1.15s/it]\n",
      "100%|██████████| 128/128 [02:03<00:00,  1.04it/s]\n",
      "100%|██████████| 128/128 [02:33<00:00,  1.20s/it]\n",
      "100%|██████████| 128/128 [02:04<00:00,  1.03it/s]\n",
      "100%|██████████| 128/128 [02:27<00:00,  1.15s/it]\n",
      "100%|██████████| 128/128 [02:03<00:00,  1.04it/s]\n",
      "100%|██████████| 128/128 [02:31<00:00,  1.19s/it]\n",
      "100%|██████████| 128/128 [02:04<00:00,  1.03it/s]\n",
      "100%|██████████| 128/128 [02:24<00:00,  1.13s/it]\n",
      "100%|██████████| 128/128 [02:03<00:00,  1.03it/s]\n",
      "100%|██████████| 128/128 [02:31<00:00,  1.19s/it]\n",
      "100%|██████████| 128/128 [02:04<00:00,  1.03it/s]\n",
      "100%|██████████| 128/128 [02:25<00:00,  1.14s/it]\n",
      "100%|██████████| 128/128 [02:09<00:00,  1.01s/it]\n",
      "100%|██████████| 128/128 [02:32<00:00,  1.19s/it]\n",
      "100%|██████████| 128/128 [02:05<00:00,  1.02it/s]\n",
      "100%|██████████| 128/128 [02:30<00:00,  1.17s/it]\n",
      "100%|██████████| 128/128 [02:05<00:00,  1.02it/s]\n",
      "100%|██████████| 128/128 [02:33<00:00,  1.20s/it]\n",
      "100%|██████████| 128/128 [02:06<00:00,  1.01it/s]\n",
      "100%|██████████| 128/128 [02:26<00:00,  1.14s/it]\n",
      "100%|██████████| 128/128 [02:06<00:00,  1.01it/s]\n",
      "100%|██████████| 128/128 [02:25<00:00,  1.14s/it]\n",
      "100%|██████████| 128/128 [02:03<00:00,  1.04it/s]\n",
      "100%|██████████| 128/128 [02:33<00:00,  1.20s/it]\n",
      "100%|██████████| 128/128 [02:07<00:00,  1.01it/s]\n",
      " 91%|█████████ | 116/128 [02:14<00:13,  1.13s/it]"
     ]
    }
   ],
   "source": [
    "for i in range(4):\n",
    "    train_and_save(i)"
   ]
  },
  {
   "cell_type": "code",
   "execution_count": 38,
   "metadata": {},
   "outputs": [
    {
     "name": "stdout",
     "output_type": "stream",
     "text": [
      "Training loss tf.Tensor(1.0517688, shape=(), dtype=float32)\n",
      "Training loss tf.Tensor(0.044850238, shape=(), dtype=float32)\n",
      "Training loss tf.Tensor(0.034086775, shape=(), dtype=float32)\n",
      "Training loss tf.Tensor(0.029586164, shape=(), dtype=float32)\n",
      "Training loss tf.Tensor(0.025021702, shape=(), dtype=float32)\n",
      "Training loss tf.Tensor(0.027869398, shape=(), dtype=float32)\n",
      "Training loss tf.Tensor(0.024150774, shape=(), dtype=float32)\n",
      "Training loss tf.Tensor(0.029402269, shape=(), dtype=float32)\n",
      "Training loss tf.Tensor(0.021470817, shape=(), dtype=float32)\n",
      "Training loss tf.Tensor(0.027773581, shape=(), dtype=float32)\n"
     ]
    },
    {
     "name": "stderr",
     "output_type": "stream",
     "text": [
      "100%|██████████| 128/128 [02:21<00:00,  1.11s/it]\n",
      "100%|██████████| 128/128 [02:03<00:00,  1.03it/s]\n",
      "100%|██████████| 128/128 [02:22<00:00,  1.11s/it]\n",
      "100%|██████████| 128/128 [02:00<00:00,  1.06it/s]\n",
      "100%|██████████| 128/128 [02:22<00:00,  1.11s/it]\n",
      "100%|██████████| 128/128 [02:09<00:00,  1.01s/it]\n",
      "100%|██████████| 128/128 [02:21<00:00,  1.10s/it]\n",
      "100%|██████████| 128/128 [01:59<00:00,  1.07it/s]\n",
      "100%|██████████| 128/128 [02:21<00:00,  1.11s/it]\n",
      "100%|██████████| 128/128 [02:10<00:00,  1.02s/it]\n",
      "100%|██████████| 128/128 [02:24<00:00,  1.13s/it]\n",
      "100%|██████████| 128/128 [02:07<00:00,  1.01it/s]\n",
      "100%|██████████| 128/128 [02:27<00:00,  1.15s/it]\n",
      "100%|██████████| 128/128 [02:11<00:00,  1.03s/it]\n",
      "100%|██████████| 128/128 [02:28<00:00,  1.16s/it]\n",
      "100%|██████████| 128/128 [02:09<00:00,  1.01s/it]\n",
      "100%|██████████| 128/128 [02:25<00:00,  1.14s/it]\n",
      "100%|██████████| 128/128 [02:00<00:00,  1.07it/s]\n",
      "100%|██████████| 128/128 [02:29<00:00,  1.17s/it]\n",
      "100%|██████████| 128/128 [02:03<00:00,  1.04it/s]\n",
      "100%|██████████| 128/128 [02:21<00:00,  1.11s/it]\n",
      "100%|██████████| 128/128 [02:00<00:00,  1.06it/s]\n",
      "100%|██████████| 128/128 [02:26<00:00,  1.15s/it]\n",
      "100%|██████████| 128/128 [02:00<00:00,  1.06it/s]\n",
      "100%|██████████| 128/128 [02:21<00:00,  1.10s/it]\n",
      "100%|██████████| 128/128 [02:02<00:00,  1.05it/s]\n",
      "100%|██████████| 128/128 [02:21<00:00,  1.10s/it]\n",
      "100%|██████████| 128/128 [02:00<00:00,  1.06it/s]\n",
      "100%|██████████| 128/128 [02:23<00:00,  1.12s/it]\n",
      "100%|██████████| 128/128 [02:02<00:00,  1.04it/s]\n",
      "100%|██████████| 128/128 [02:21<00:00,  1.10s/it]\n",
      "100%|██████████| 128/128 [02:01<00:00,  1.05it/s]\n",
      "100%|██████████| 128/128 [02:23<00:00,  1.12s/it]\n",
      "100%|██████████| 128/128 [02:22<00:00,  1.12s/it]\n",
      "100%|██████████| 128/128 [02:02<00:00,  1.04it/s]\n",
      "100%|██████████| 128/128 [02:23<00:00,  1.12s/it]\n",
      "100%|██████████| 128/128 [02:04<00:00,  1.03it/s]\n",
      "100%|██████████| 128/128 [02:20<00:00,  1.10s/it]\n",
      "100%|██████████| 128/128 [02:05<00:00,  1.02it/s]\n",
      "100%|██████████| 128/128 [02:21<00:00,  1.11s/it]\n",
      "100%|██████████| 128/128 [01:59<00:00,  1.07it/s]\n",
      "100%|██████████| 128/128 [02:27<00:00,  1.15s/it]\n",
      "100%|██████████| 128/128 [01:58<00:00,  1.08it/s]\n",
      "100%|██████████| 128/128 [02:24<00:00,  1.13s/it]\n",
      "100%|██████████| 128/128 [01:59<00:00,  1.07it/s]\n",
      "100%|██████████| 128/128 [02:21<00:00,  1.10s/it]\n",
      "100%|██████████| 128/128 [02:01<00:00,  1.05it/s]\n",
      "100%|██████████| 128/128 [02:24<00:00,  1.13s/it]\n",
      "100%|██████████| 128/128 [01:59<00:00,  1.07it/s]\n",
      "100%|██████████| 128/128 [02:23<00:00,  1.12s/it]\n",
      "100%|██████████| 128/128 [02:06<00:00,  1.01it/s]\n",
      "100%|██████████| 128/128 [02:30<00:00,  1.18s/it]\n",
      "100%|██████████| 128/128 [02:09<00:00,  1.02s/it]\n",
      "100%|██████████| 128/128 [02:32<00:00,  1.19s/it]\n",
      "100%|██████████| 128/128 [02:04<00:00,  1.03it/s]\n",
      "100%|██████████| 128/128 [02:23<00:00,  1.12s/it]\n",
      "100%|██████████| 128/128 [02:00<00:00,  1.06it/s]\n",
      "100%|██████████| 128/128 [02:21<00:00,  1.10s/it]\n",
      "100%|██████████| 128/128 [02:10<00:00,  1.02s/it]\n",
      "100%|██████████| 128/128 [02:21<00:00,  1.10s/it]\n",
      "100%|██████████| 128/128 [02:07<00:00,  1.00it/s]\n",
      "100%|██████████| 128/128 [02:25<00:00,  1.14s/it]\n",
      "100%|██████████| 128/128 [02:04<00:00,  1.03it/s]\n",
      "100%|██████████| 128/128 [02:28<00:00,  1.16s/it]\n",
      "100%|██████████| 128/128 [02:06<00:00,  1.02it/s]\n",
      "100%|██████████| 128/128 [02:24<00:00,  1.13s/it]\n",
      "100%|██████████| 128/128 [02:04<00:00,  1.03it/s]\n",
      "100%|██████████| 128/128 [02:21<00:00,  1.11s/it]\n",
      "100%|██████████| 128/128 [02:00<00:00,  1.06it/s]\n",
      "100%|██████████| 128/128 [02:27<00:00,  1.15s/it]\n",
      "100%|██████████| 128/128 [02:00<00:00,  1.06it/s]\n",
      "100%|██████████| 128/128 [02:25<00:00,  1.13s/it]\n",
      "100%|██████████| 128/128 [01:59<00:00,  1.07it/s]\n",
      "100%|██████████| 128/128 [02:22<00:00,  1.11s/it]\n",
      "100%|██████████| 128/128 [02:03<00:00,  1.04it/s]\n",
      "100%|██████████| 128/128 [02:20<00:00,  1.10s/it]\n",
      "100%|██████████| 128/128 [02:00<00:00,  1.06it/s]\n",
      "100%|██████████| 128/128 [02:20<00:00,  1.10s/it]\n",
      "100%|██████████| 128/128 [02:06<00:00,  1.01it/s]\n",
      "100%|██████████| 128/128 [02:25<00:00,  1.14s/it]\n",
      "100%|██████████| 128/128 [02:05<00:00,  1.02it/s]\n",
      "100%|██████████| 128/128 [02:30<00:00,  1.18s/it]\n",
      "100%|██████████| 128/128 [02:09<00:00,  1.01s/it]\n",
      "100%|██████████| 128/128 [02:20<00:00,  1.10s/it]\n",
      "100%|██████████| 128/128 [02:09<00:00,  1.01s/it]\n",
      "100%|██████████| 128/128 [02:20<00:00,  1.10s/it]\n",
      "100%|██████████| 128/128 [02:02<00:00,  1.05it/s]\n",
      "100%|██████████| 128/128 [02:23<00:00,  1.12s/it]\n",
      "100%|██████████| 128/128 [02:02<00:00,  1.04it/s]\n",
      "100%|██████████| 128/128 [02:23<00:00,  1.12s/it]\n",
      "100%|██████████| 128/128 [01:59<00:00,  1.07it/s]\n",
      "100%|██████████| 128/128 [02:22<00:00,  1.11s/it]\n",
      "100%|██████████| 128/128 [02:04<00:00,  1.02it/s]\n",
      "100%|██████████| 128/128 [02:20<00:00,  1.10s/it]\n",
      "100%|██████████| 128/128 [02:00<00:00,  1.06it/s]\n",
      "100%|██████████| 128/128 [02:24<00:00,  1.13s/it]\n",
      "100%|██████████| 128/128 [02:01<00:00,  1.05it/s]\n",
      "100%|██████████| 128/128 [02:25<00:00,  1.14s/it]\n",
      "100%|██████████| 128/128 [01:58<00:00,  1.08it/s]\n",
      "100%|██████████| 128/128 [02:23<00:00,  1.12s/it]\n",
      "100%|██████████| 128/128 [02:00<00:00,  1.06it/s]\n",
      "100%|██████████| 128/128 [02:21<00:00,  1.10s/it]\n",
      "100%|██████████| 128/128 [02:01<00:00,  1.05it/s]\n",
      "100%|██████████| 128/128 [02:22<00:00,  1.12s/it]\n",
      "100%|██████████| 128/128 [02:21<00:00,  1.11s/it]\n",
      "100%|██████████| 128/128 [02:03<00:00,  1.04it/s]\n",
      "100%|██████████| 128/128 [02:24<00:00,  1.13s/it]\n",
      "100%|██████████| 128/128 [02:01<00:00,  1.05it/s]\n",
      "100%|██████████| 128/128 [02:29<00:00,  1.17s/it]\n",
      "100%|██████████| 128/128 [02:01<00:00,  1.05it/s]\n",
      "100%|██████████| 128/128 [02:21<00:00,  1.10s/it]\n",
      "100%|██████████| 128/128 [02:03<00:00,  1.04it/s]\n",
      "100%|██████████| 128/128 [02:20<00:00,  1.10s/it]\n",
      "100%|██████████| 128/128 [01:59<00:00,  1.07it/s]\n",
      "100%|██████████| 128/128 [02:23<00:00,  1.12s/it]\n",
      "100%|██████████| 128/128 [02:01<00:00,  1.06it/s]\n",
      "100%|██████████| 128/128 [02:21<00:00,  1.11s/it]\n",
      "100%|██████████| 128/128 [02:05<00:00,  1.02it/s]\n",
      "100%|██████████| 128/128 [02:21<00:00,  1.10s/it]\n",
      "100%|██████████| 128/128 [02:13<00:00,  1.04s/it]\n",
      "100%|██████████| 128/128 [02:25<00:00,  1.13s/it]\n",
      "100%|██████████| 128/128 [02:02<00:00,  1.04it/s]\n",
      "100%|██████████| 128/128 [02:21<00:00,  1.11s/it]\n",
      "100%|██████████| 128/128 [01:58<00:00,  1.08it/s]\n",
      "100%|██████████| 128/128 [02:21<00:00,  1.10s/it]\n",
      "100%|██████████| 128/128 [02:03<00:00,  1.03it/s]\n",
      "100%|██████████| 128/128 [02:20<00:00,  1.10s/it]\n",
      " 62%|██████▏   | 79/128 [01:13<00:46,  1.06it/s]IOPub message rate exceeded.\n",
      "The notebook server will temporarily stop sending output\n",
      "to the client in order to avoid crashing it.\n",
      "To change this limit, set the config variable\n",
      "`--NotebookApp.iopub_msg_rate_limit`.\n",
      "\n",
      "Current values:\n",
      "NotebookApp.iopub_msg_rate_limit=1000.0 (msgs/sec)\n",
      "NotebookApp.rate_limit_window=3.0 (secs)\n",
      "\n",
      "100%|██████████| 16/16 [00:14<00:00,  1.07it/s]\n"
     ]
    }
   ],
   "source": [
    "train_and_save(4)"
   ]
  },
  {
   "cell_type": "code",
   "execution_count": null,
   "metadata": {
    "scrolled": true
   },
   "outputs": [
    {
     "name": "stdout",
     "output_type": "stream",
     "text": [
      "Training loss tf.Tensor(1.3147192, shape=(), dtype=float32)\n",
      "Training loss tf.Tensor(0.0407224, shape=(), dtype=float32)\n",
      "Training loss tf.Tensor(0.041829146, shape=(), dtype=float32)\n",
      "Training loss tf.Tensor(0.029720541, shape=(), dtype=float32)\n",
      "Training loss tf.Tensor(0.033869945, shape=(), dtype=float32)\n",
      "Training loss tf.Tensor(0.0381246, shape=(), dtype=float32)\n",
      "Training loss tf.Tensor(0.030133992, shape=(), dtype=float32)\n",
      "Training loss tf.Tensor(0.028000625, shape=(), dtype=float32)\n",
      "Training loss tf.Tensor(0.025886213, shape=(), dtype=float32)\n",
      "Training loss tf.Tensor(0.024266403, shape=(), dtype=float32)\n"
     ]
    },
    {
     "name": "stderr",
     "output_type": "stream",
     "text": [
      " 11%|█         | 14/128 [00:15<02:06,  1.11s/it]"
     ]
    }
   ],
   "source": [
    "for i in range(6,8):\n",
    "    train_and_save(i)"
   ]
  },
  {
   "cell_type": "code",
   "execution_count": null,
   "metadata": {},
   "outputs": [],
   "source": []
  }
 ],
 "metadata": {
  "kernelspec": {
   "display_name": "Python 3",
   "language": "python",
   "name": "python3"
  },
  "language_info": {
   "codemirror_mode": {
    "name": "ipython",
    "version": 3
   },
   "file_extension": ".py",
   "mimetype": "text/x-python",
   "name": "python",
   "nbconvert_exporter": "python",
   "pygments_lexer": "ipython3",
   "version": "3.8.5"
  }
 },
 "nbformat": 4,
 "nbformat_minor": 4
}
