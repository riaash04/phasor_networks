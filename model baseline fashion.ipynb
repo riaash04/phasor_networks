{
 "cells": [
  {
   "cell_type": "code",
   "execution_count": 1,
   "metadata": {},
   "outputs": [],
   "source": [
    "import matplotlib.pyplot as plt\n",
    "import numpy as np\n",
    "\n",
    "import tensorflow as tf\n",
    "import tensorflow_datasets as tfds\n",
    "import tensorflow.keras as keras\n",
    "import tensorflow.keras.layers as layers\n",
    "import tensorflow.keras.backend as be"
   ]
  },
  {
   "cell_type": "code",
   "execution_count": 2,
   "metadata": {},
   "outputs": [],
   "source": [
    "from utils import *\n",
    "from data import *\n",
    "from layers import *\n",
    "from baseline_models import *"
   ]
  },
  {
   "cell_type": "code",
   "execution_count": 14,
   "metadata": {},
   "outputs": [
    {
     "data": {
      "text/plain": [
       "<function tensorflow.python.ops.math_ops.cumprod(x, axis=0, exclusive=False, reverse=False, name=None)>"
      ]
     },
     "execution_count": 14,
     "metadata": {},
     "output_type": "execute_result"
    }
   ],
   "source": [
    "tf.math.cumprod"
   ]
  },
  {
   "cell_type": "code",
   "execution_count": 3,
   "metadata": {},
   "outputs": [],
   "source": [
    "limit_gpus()\n",
    "set_gpu(2)"
   ]
  },
  {
   "cell_type": "code",
   "execution_count": 4,
   "metadata": {},
   "outputs": [],
   "source": [
    "dataset = \"fashion_mnist\"\n",
    "ds_train, ds_test, ds_info = load_dataset(dataset, 128)\n",
    "\n",
    "input_shape = ds_info.features['image'].shape\n",
    "num_classes = ds_info.features['label'].num_classes"
   ]
  },
  {
   "cell_type": "code",
   "execution_count": 5,
   "metadata": {
    "scrolled": true
   },
   "outputs": [
    {
     "name": "stdout",
     "output_type": "stream",
     "text": [
      "Epoch 1/2\n",
      "469/469 [==============================] - 4s 3ms/step - loss: 0.8919 - sparse_categorical_accuracy: 0.6897\n",
      "Epoch 2/2\n",
      "469/469 [==============================] - 1s 3ms/step - loss: 0.5014 - sparse_categorical_accuracy: 0.8204\n",
      "79/79 [==============================] - 0s 4ms/step - loss: 0.4274 - sparse_categorical_accuracy: 0.8483\n",
      "Epoch 1/2\n",
      "469/469 [==============================] - 2s 3ms/step - loss: 0.8680 - sparse_categorical_accuracy: 0.6934\n",
      "Epoch 2/2\n",
      "469/469 [==============================] - 1s 3ms/step - loss: 0.5098 - sparse_categorical_accuracy: 0.8216\n",
      "79/79 [==============================] - 0s 1ms/step - loss: 0.4349 - sparse_categorical_accuracy: 0.8436\n",
      "Epoch 1/2\n",
      "469/469 [==============================] - 2s 3ms/step - loss: 0.9104 - sparse_categorical_accuracy: 0.6845\n",
      "Epoch 2/2\n",
      "469/469 [==============================] - 1s 3ms/step - loss: 0.5070 - sparse_categorical_accuracy: 0.8170\n",
      "79/79 [==============================] - 0s 2ms/step - loss: 0.4667 - sparse_categorical_accuracy: 0.8279\n",
      "Epoch 1/2\n",
      "469/469 [==============================] - 2s 3ms/step - loss: 0.8987 - sparse_categorical_accuracy: 0.6870\n",
      "Epoch 2/2\n",
      "469/469 [==============================] - 1s 3ms/step - loss: 0.5069 - sparse_categorical_accuracy: 0.8176\n",
      "79/79 [==============================] - 0s 2ms/step - loss: 0.4403 - sparse_categorical_accuracy: 0.8422\n",
      "Epoch 1/2\n",
      "469/469 [==============================] - 2s 3ms/step - loss: 0.8879 - sparse_categorical_accuracy: 0.6935\n",
      "Epoch 2/2\n",
      "469/469 [==============================] - 1s 3ms/step - loss: 0.5114 - sparse_categorical_accuracy: 0.8177\n",
      "79/79 [==============================] - 0s 2ms/step - loss: 0.4430 - sparse_categorical_accuracy: 0.8410\n",
      "Epoch 1/2\n",
      "469/469 [==============================] - 2s 3ms/step - loss: 0.8659 - sparse_categorical_accuracy: 0.6939\n",
      "Epoch 2/2\n",
      "469/469 [==============================] - 1s 3ms/step - loss: 0.5174 - sparse_categorical_accuracy: 0.8127\n",
      "79/79 [==============================] - 0s 2ms/step - loss: 0.4299 - sparse_categorical_accuracy: 0.8463\n",
      "Epoch 1/2\n",
      "469/469 [==============================] - 2s 3ms/step - loss: 0.8870 - sparse_categorical_accuracy: 0.6916\n",
      "Epoch 2/2\n",
      "469/469 [==============================] - 1s 3ms/step - loss: 0.5103 - sparse_categorical_accuracy: 0.8178\n",
      "79/79 [==============================] - 0s 2ms/step - loss: 0.4397 - sparse_categorical_accuracy: 0.8462\n",
      "Epoch 1/2\n",
      "469/469 [==============================] - 2s 3ms/step - loss: 0.8881 - sparse_categorical_accuracy: 0.6936\n",
      "Epoch 2/2\n",
      "469/469 [==============================] - 1s 3ms/step - loss: 0.5049 - sparse_categorical_accuracy: 0.8173\n",
      "79/79 [==============================] - 0s 1ms/step - loss: 0.4410 - sparse_categorical_accuracy: 0.8397\n",
      "Epoch 1/2\n",
      "469/469 [==============================] - 1s 2ms/step - loss: 0.8861 - sparse_categorical_accuracy: 0.6879\n",
      "Epoch 2/2\n",
      "469/469 [==============================] - 1s 3ms/step - loss: 0.5018 - sparse_categorical_accuracy: 0.8210\n",
      "79/79 [==============================] - 0s 2ms/step - loss: 0.4380 - sparse_categorical_accuracy: 0.8462\n",
      "Epoch 1/2\n",
      "469/469 [==============================] - 2s 2ms/step - loss: 0.8717 - sparse_categorical_accuracy: 0.6979\n",
      "Epoch 2/2\n",
      "469/469 [==============================] - 1s 3ms/step - loss: 0.5086 - sparse_categorical_accuracy: 0.8165\n",
      "79/79 [==============================] - 0s 2ms/step - loss: 0.4299 - sparse_categorical_accuracy: 0.8486\n"
     ]
    }
   ],
   "source": [
    "std_accs = test_standard(make_standard, ds_train, ds_test)"
   ]
  },
  {
   "cell_type": "code",
   "execution_count": 6,
   "metadata": {
    "scrolled": true
   },
   "outputs": [
    {
     "name": "stdout",
     "output_type": "stream",
     "text": [
      "Epoch 1/2\n",
      "469/469 [==============================] - 2s 4ms/step - loss: 0.7440 - sparse_categorical_accuracy: 0.7465\n",
      "Epoch 2/2\n",
      "469/469 [==============================] - 2s 3ms/step - loss: 0.4544 - sparse_categorical_accuracy: 0.8375\n",
      "79/79 [==============================] - 0s 2ms/step - loss: 0.3989 - sparse_categorical_accuracy: 0.8562\n",
      "Epoch 1/2\n",
      "469/469 [==============================] - 2s 3ms/step - loss: 0.7606 - sparse_categorical_accuracy: 0.7416\n",
      "Epoch 2/2\n",
      "469/469 [==============================] - 2s 3ms/step - loss: 0.4611 - sparse_categorical_accuracy: 0.8345\n",
      "79/79 [==============================] - 0s 2ms/step - loss: 0.3973 - sparse_categorical_accuracy: 0.8579\n",
      "Epoch 1/2\n",
      "469/469 [==============================] - 2s 3ms/step - loss: 0.7586 - sparse_categorical_accuracy: 0.7430\n",
      "Epoch 2/2\n",
      "469/469 [==============================] - 2s 4ms/step - loss: 0.4640 - sparse_categorical_accuracy: 0.8319\n",
      "79/79 [==============================] - 0s 2ms/step - loss: 0.4009 - sparse_categorical_accuracy: 0.8552\n",
      "Epoch 1/2\n",
      "469/469 [==============================] - 2s 3ms/step - loss: 0.7729 - sparse_categorical_accuracy: 0.7386\n",
      "Epoch 2/2\n",
      "469/469 [==============================] - 2s 3ms/step - loss: 0.4577 - sparse_categorical_accuracy: 0.8361\n",
      "79/79 [==============================] - 0s 2ms/step - loss: 0.3903 - sparse_categorical_accuracy: 0.8585\n",
      "Epoch 1/2\n",
      "469/469 [==============================] - 2s 3ms/step - loss: 0.7505 - sparse_categorical_accuracy: 0.7479\n",
      "Epoch 2/2\n",
      "469/469 [==============================] - 2s 3ms/step - loss: 0.4519 - sparse_categorical_accuracy: 0.8358\n",
      "79/79 [==============================] - 0s 2ms/step - loss: 0.3866 - sparse_categorical_accuracy: 0.8580\n",
      "Epoch 1/2\n",
      "469/469 [==============================] - 2s 3ms/step - loss: 0.7599 - sparse_categorical_accuracy: 0.7418\n",
      "Epoch 2/2\n",
      "469/469 [==============================] - 2s 4ms/step - loss: 0.4700 - sparse_categorical_accuracy: 0.8342\n",
      "79/79 [==============================] - 0s 2ms/step - loss: 0.3991 - sparse_categorical_accuracy: 0.8535\n",
      "Epoch 1/2\n",
      "469/469 [==============================] - 2s 3ms/step - loss: 0.7451 - sparse_categorical_accuracy: 0.7463\n",
      "Epoch 2/2\n",
      "469/469 [==============================] - 2s 4ms/step - loss: 0.4604 - sparse_categorical_accuracy: 0.8360\n",
      "79/79 [==============================] - 0s 2ms/step - loss: 0.4069 - sparse_categorical_accuracy: 0.8526\n",
      "Epoch 1/2\n",
      "469/469 [==============================] - 2s 4ms/step - loss: 0.7744 - sparse_categorical_accuracy: 0.7366\n",
      "Epoch 2/2\n",
      "469/469 [==============================] - 2s 3ms/step - loss: 0.4652 - sparse_categorical_accuracy: 0.8341\n",
      "79/79 [==============================] - 0s 2ms/step - loss: 0.3941 - sparse_categorical_accuracy: 0.8574\n",
      "Epoch 1/2\n",
      "469/469 [==============================] - 2s 3ms/step - loss: 0.7558 - sparse_categorical_accuracy: 0.7470\n",
      "Epoch 2/2\n",
      "469/469 [==============================] - 2s 4ms/step - loss: 0.4627 - sparse_categorical_accuracy: 0.8339\n",
      "79/79 [==============================] - 0s 2ms/step - loss: 0.3970 - sparse_categorical_accuracy: 0.8556\n",
      "Epoch 1/2\n",
      "469/469 [==============================] - 2s 3ms/step - loss: 0.7613 - sparse_categorical_accuracy: 0.7427\n",
      "Epoch 2/2\n",
      "469/469 [==============================] - 2s 4ms/step - loss: 0.4638 - sparse_categorical_accuracy: 0.8331\n",
      "79/79 [==============================] - 0s 2ms/step - loss: 0.3907 - sparse_categorical_accuracy: 0.8578\n"
     ]
    }
   ],
   "source": [
    "std_accs_rp = test_standard(make_standard_RP, ds_train, ds_test)"
   ]
  },
  {
   "cell_type": "code",
   "execution_count": 7,
   "metadata": {
    "scrolled": true
   },
   "outputs": [
    {
     "name": "stdout",
     "output_type": "stream",
     "text": [
      "Epoch 1/2\n",
      "469/469 [==============================] - 2s 3ms/step - loss: 0.9438 - sparse_categorical_accuracy: 0.6803\n",
      "Epoch 2/2\n",
      "469/469 [==============================] - 1s 3ms/step - loss: 0.5460 - sparse_categorical_accuracy: 0.8098\n",
      "79/79 [==============================] - 0s 2ms/step - loss: 0.4706 - sparse_categorical_accuracy: 0.8329\n",
      "Epoch 1/2\n",
      "469/469 [==============================] - 2s 3ms/step - loss: 0.9285 - sparse_categorical_accuracy: 0.6789\n",
      "Epoch 2/2\n",
      "469/469 [==============================] - 1s 3ms/step - loss: 0.5516 - sparse_categorical_accuracy: 0.8018\n",
      "79/79 [==============================] - 1s 2ms/step - loss: 0.4663 - sparse_categorical_accuracy: 0.8324\n",
      "Epoch 1/2\n",
      "469/469 [==============================] - 2s 3ms/step - loss: 0.9600 - sparse_categorical_accuracy: 0.6676\n",
      "Epoch 2/2\n",
      "469/469 [==============================] - 1s 3ms/step - loss: 0.5609 - sparse_categorical_accuracy: 0.8015\n",
      "79/79 [==============================] - 0s 2ms/step - loss: 0.4843 - sparse_categorical_accuracy: 0.8274\n",
      "Epoch 1/2\n",
      "469/469 [==============================] - 2s 3ms/step - loss: 0.9364 - sparse_categorical_accuracy: 0.6792\n",
      "Epoch 2/2\n",
      "469/469 [==============================] - 1s 3ms/step - loss: 0.5566 - sparse_categorical_accuracy: 0.8001\n",
      "79/79 [==============================] - 0s 2ms/step - loss: 0.4766 - sparse_categorical_accuracy: 0.8297\n",
      "Epoch 1/2\n",
      "469/469 [==============================] - 2s 3ms/step - loss: 0.9521 - sparse_categorical_accuracy: 0.6715\n",
      "Epoch 2/2\n",
      "469/469 [==============================] - 1s 3ms/step - loss: 0.5501 - sparse_categorical_accuracy: 0.8062\n",
      "79/79 [==============================] - 0s 2ms/step - loss: 0.4758 - sparse_categorical_accuracy: 0.8312\n",
      "Epoch 1/2\n",
      "469/469 [==============================] - 2s 3ms/step - loss: 0.9337 - sparse_categorical_accuracy: 0.6772\n",
      "Epoch 2/2\n",
      "469/469 [==============================] - 1s 3ms/step - loss: 0.5490 - sparse_categorical_accuracy: 0.8067\n",
      "79/79 [==============================] - 0s 1ms/step - loss: 0.4763 - sparse_categorical_accuracy: 0.8243\n",
      "Epoch 1/2\n",
      "469/469 [==============================] - 2s 3ms/step - loss: 0.9476 - sparse_categorical_accuracy: 0.6760\n",
      "Epoch 2/2\n",
      "469/469 [==============================] - 1s 3ms/step - loss: 0.5573 - sparse_categorical_accuracy: 0.8006\n",
      "79/79 [==============================] - 0s 2ms/step - loss: 0.4735 - sparse_categorical_accuracy: 0.8325\n",
      "Epoch 1/2\n",
      "469/469 [==============================] - 2s 3ms/step - loss: 0.9489 - sparse_categorical_accuracy: 0.6748\n",
      "Epoch 2/2\n",
      "469/469 [==============================] - 1s 3ms/step - loss: 0.5470 - sparse_categorical_accuracy: 0.8057\n",
      "79/79 [==============================] - 0s 2ms/step - loss: 0.4675 - sparse_categorical_accuracy: 0.8329\n",
      "Epoch 1/2\n",
      "469/469 [==============================] - 2s 3ms/step - loss: 0.9319 - sparse_categorical_accuracy: 0.6756\n",
      "Epoch 2/2\n",
      "469/469 [==============================] - 1s 3ms/step - loss: 0.5542 - sparse_categorical_accuracy: 0.8011\n",
      "79/79 [==============================] - 0s 2ms/step - loss: 0.4727 - sparse_categorical_accuracy: 0.8298\n",
      "Epoch 1/2\n",
      "469/469 [==============================] - 2s 3ms/step - loss: 0.9486 - sparse_categorical_accuracy: 0.6736\n",
      "Epoch 2/2\n",
      "469/469 [==============================] - 1s 3ms/step - loss: 0.5579 - sparse_categorical_accuracy: 0.8035\n",
      "79/79 [==============================] - 0s 2ms/step - loss: 0.4890 - sparse_categorical_accuracy: 0.8221\n"
     ]
    }
   ],
   "source": [
    "std_accs_dot = test_standard(make_standard_dot, ds_train, ds_test)"
   ]
  },
  {
   "cell_type": "code",
   "execution_count": 8,
   "metadata": {},
   "outputs": [
    {
     "data": {
      "image/png": "[encoded data removed]",
      "text/plain": [
       "<Figure size 432x288 with 1 Axes>"
      ]
     },
     "metadata": {
      "needs_background": "light"
     },
     "output_type": "display_data"
    }
   ],
   "source": [
    "plt.boxplot([std_accs, std_accs_rp, std_accs_dot]);"
   ]
  },
  {
   "cell_type": "code",
   "execution_count": 9,
   "metadata": {
    "scrolled": true
   },
   "outputs": [
    {
     "name": "stdout",
     "output_type": "stream",
     "text": [
      "Training loss tf.Tensor(0.97676945, shape=(), dtype=float32)\n",
      "Training loss tf.Tensor(0.0534639, shape=(), dtype=float32)\n",
      "Training loss tf.Tensor(0.036280595, shape=(), dtype=float32)\n",
      "Training loss tf.Tensor(0.03475283, shape=(), dtype=float32)\n",
      "Training loss tf.Tensor(0.0318613, shape=(), dtype=float32)\n",
      "Training loss tf.Tensor(0.031966716, shape=(), dtype=float32)\n",
      "Training loss tf.Tensor(0.032637283, shape=(), dtype=float32)\n",
      "Training loss tf.Tensor(0.031684056, shape=(), dtype=float32)\n",
      "Training loss tf.Tensor(0.027131842, shape=(), dtype=float32)\n",
      "Training loss tf.Tensor(0.024914868, shape=(), dtype=float32)\n",
      "Training loss tf.Tensor(0.8996498, shape=(), dtype=float32)\n",
      "Training loss tf.Tensor(0.044106927, shape=(), dtype=float32)\n",
      "Training loss tf.Tensor(0.032741036, shape=(), dtype=float32)\n",
      "Training loss tf.Tensor(0.03303101, shape=(), dtype=float32)\n",
      "Training loss tf.Tensor(0.033578187, shape=(), dtype=float32)\n",
      "Training loss tf.Tensor(0.029476786, shape=(), dtype=float32)\n",
      "Training loss tf.Tensor(0.03212956, shape=(), dtype=float32)\n",
      "Training loss tf.Tensor(0.029223934, shape=(), dtype=float32)\n",
      "Training loss tf.Tensor(0.033989064, shape=(), dtype=float32)\n",
      "Training loss tf.Tensor(0.027312886, shape=(), dtype=float32)\n",
      "Training loss tf.Tensor(1.0524006, shape=(), dtype=float32)\n",
      "Training loss tf.Tensor(0.03697333, shape=(), dtype=float32)\n",
      "Training loss tf.Tensor(0.04336733, shape=(), dtype=float32)\n",
      "Training loss tf.Tensor(0.03631587, shape=(), dtype=float32)\n",
      "Training loss tf.Tensor(0.036848, shape=(), dtype=float32)\n",
      "Training loss tf.Tensor(0.032625403, shape=(), dtype=float32)\n",
      "Training loss tf.Tensor(0.030184524, shape=(), dtype=float32)\n",
      "Training loss tf.Tensor(0.024532069, shape=(), dtype=float32)\n",
      "Training loss tf.Tensor(0.031374533, shape=(), dtype=float32)\n",
      "Training loss tf.Tensor(0.034394607, shape=(), dtype=float32)\n",
      "Training loss tf.Tensor(0.77236754, shape=(), dtype=float32)\n",
      "Training loss tf.Tensor(0.03985578, shape=(), dtype=float32)\n",
      "Training loss tf.Tensor(0.039046664, shape=(), dtype=float32)\n",
      "Training loss tf.Tensor(0.032071542, shape=(), dtype=float32)\n",
      "Training loss tf.Tensor(0.030180546, shape=(), dtype=float32)\n",
      "Training loss tf.Tensor(0.03767401, shape=(), dtype=float32)\n",
      "Training loss tf.Tensor(0.031290602, shape=(), dtype=float32)\n",
      "Training loss tf.Tensor(0.02955148, shape=(), dtype=float32)\n",
      "Training loss tf.Tensor(0.032252565, shape=(), dtype=float32)\n",
      "Training loss tf.Tensor(0.0349459, shape=(), dtype=float32)\n",
      "Training loss tf.Tensor(0.8339713, shape=(), dtype=float32)\n",
      "Training loss tf.Tensor(0.05726849, shape=(), dtype=float32)\n",
      "Training loss tf.Tensor(0.03694335, shape=(), dtype=float32)\n",
      "Training loss tf.Tensor(0.039102767, shape=(), dtype=float32)\n",
      "Training loss tf.Tensor(0.036754485, shape=(), dtype=float32)\n",
      "Training loss tf.Tensor(0.03846931, shape=(), dtype=float32)\n",
      "Training loss tf.Tensor(0.018965099, shape=(), dtype=float32)\n",
      "Training loss tf.Tensor(0.033852637, shape=(), dtype=float32)\n",
      "Training loss tf.Tensor(0.028140964, shape=(), dtype=float32)\n",
      "Training loss tf.Tensor(0.026697312, shape=(), dtype=float32)\n",
      "Training loss tf.Tensor(0.8960264, shape=(), dtype=float32)\n",
      "Training loss tf.Tensor(0.055184346, shape=(), dtype=float32)\n",
      "Training loss tf.Tensor(0.033846058, shape=(), dtype=float32)\n",
      "Training loss tf.Tensor(0.031749107, shape=(), dtype=float32)\n",
      "Training loss tf.Tensor(0.031088088, shape=(), dtype=float32)\n",
      "Training loss tf.Tensor(0.030956479, shape=(), dtype=float32)\n",
      "Training loss tf.Tensor(0.021386474, shape=(), dtype=float32)\n",
      "Training loss tf.Tensor(0.026072517, shape=(), dtype=float32)\n",
      "Training loss tf.Tensor(0.033473406, shape=(), dtype=float32)\n",
      "Training loss tf.Tensor(0.03529731, shape=(), dtype=float32)\n",
      "Training loss tf.Tensor(0.9638407, shape=(), dtype=float32)\n",
      "Training loss tf.Tensor(0.046535317, shape=(), dtype=float32)\n",
      "Training loss tf.Tensor(0.035503022, shape=(), dtype=float32)\n",
      "Training loss tf.Tensor(0.038748283, shape=(), dtype=float32)\n",
      "Training loss tf.Tensor(0.034282066, shape=(), dtype=float32)\n",
      "Training loss tf.Tensor(0.030687302, shape=(), dtype=float32)\n",
      "Training loss tf.Tensor(0.0340636, shape=(), dtype=float32)\n",
      "Training loss tf.Tensor(0.027170606, shape=(), dtype=float32)\n",
      "Training loss tf.Tensor(0.026400298, shape=(), dtype=float32)\n",
      "Training loss tf.Tensor(0.026964298, shape=(), dtype=float32)\n",
      "Training loss tf.Tensor(0.89314264, shape=(), dtype=float32)\n",
      "Training loss tf.Tensor(0.037655085, shape=(), dtype=float32)\n",
      "Training loss tf.Tensor(0.041634023, shape=(), dtype=float32)\n",
      "Training loss tf.Tensor(0.029221002, shape=(), dtype=float32)\n",
      "Training loss tf.Tensor(0.036322016, shape=(), dtype=float32)\n",
      "Training loss tf.Tensor(0.033625018, shape=(), dtype=float32)\n",
      "Training loss tf.Tensor(0.023732224, shape=(), dtype=float32)\n",
      "Training loss tf.Tensor(0.027938295, shape=(), dtype=float32)\n",
      "Training loss tf.Tensor(0.027272148, shape=(), dtype=float32)\n",
      "Training loss tf.Tensor(0.02874618, shape=(), dtype=float32)\n",
      "Training loss tf.Tensor(1.055299, shape=(), dtype=float32)\n",
      "Training loss tf.Tensor(0.05515242, shape=(), dtype=float32)\n",
      "Training loss tf.Tensor(0.04084558, shape=(), dtype=float32)\n",
      "Training loss tf.Tensor(0.04025787, shape=(), dtype=float32)\n",
      "Training loss tf.Tensor(0.03140887, shape=(), dtype=float32)\n",
      "Training loss tf.Tensor(0.032351866, shape=(), dtype=float32)\n",
      "Training loss tf.Tensor(0.030548839, shape=(), dtype=float32)\n",
      "Training loss tf.Tensor(0.031458024, shape=(), dtype=float32)\n",
      "Training loss tf.Tensor(0.028019737, shape=(), dtype=float32)\n",
      "Training loss tf.Tensor(0.0309235, shape=(), dtype=float32)\n",
      "Training loss tf.Tensor(1.2357731, shape=(), dtype=float32)\n",
      "Training loss tf.Tensor(0.041103847, shape=(), dtype=float32)\n",
      "Training loss tf.Tensor(0.038325414, shape=(), dtype=float32)\n",
      "Training loss tf.Tensor(0.033243988, shape=(), dtype=float32)\n",
      "Training loss tf.Tensor(0.028590132, shape=(), dtype=float32)\n",
      "Training loss tf.Tensor(0.040137842, shape=(), dtype=float32)\n",
      "Training loss tf.Tensor(0.022997858, shape=(), dtype=float32)\n",
      "Training loss tf.Tensor(0.02752676, shape=(), dtype=float32)\n",
      "Training loss tf.Tensor(0.030201687, shape=(), dtype=float32)\n",
      "Training loss tf.Tensor(0.027145445, shape=(), dtype=float32)\n"
     ]
    }
   ],
   "source": [
    "phasor_accs = test_phasor(make_phasor, ds_train, ds_test)"
   ]
  },
  {
   "cell_type": "code",
   "execution_count": 10,
   "metadata": {
    "scrolled": true
   },
   "outputs": [
    {
     "name": "stdout",
     "output_type": "stream",
     "text": [
      "Training loss tf.Tensor(1.0339838, shape=(), dtype=float32)\n",
      "Training loss tf.Tensor(0.041703988, shape=(), dtype=float32)\n",
      "Training loss tf.Tensor(0.027008336, shape=(), dtype=float32)\n",
      "Training loss tf.Tensor(0.033519775, shape=(), dtype=float32)\n",
      "Training loss tf.Tensor(0.030423108, shape=(), dtype=float32)\n",
      "Training loss tf.Tensor(0.028095018, shape=(), dtype=float32)\n",
      "Training loss tf.Tensor(0.0254278, shape=(), dtype=float32)\n",
      "Training loss tf.Tensor(0.032481056, shape=(), dtype=float32)\n",
      "Training loss tf.Tensor(0.027131656, shape=(), dtype=float32)\n",
      "Training loss tf.Tensor(0.024770413, shape=(), dtype=float32)\n",
      "Training loss tf.Tensor(1.1315866, shape=(), dtype=float32)\n",
      "Training loss tf.Tensor(0.045186486, shape=(), dtype=float32)\n",
      "Training loss tf.Tensor(0.03877534, shape=(), dtype=float32)\n",
      "Training loss tf.Tensor(0.03370478, shape=(), dtype=float32)\n",
      "Training loss tf.Tensor(0.025168404, shape=(), dtype=float32)\n",
      "Training loss tf.Tensor(0.030580455, shape=(), dtype=float32)\n",
      "Training loss tf.Tensor(0.029211832, shape=(), dtype=float32)\n",
      "Training loss tf.Tensor(0.025065273, shape=(), dtype=float32)\n",
      "Training loss tf.Tensor(0.028139828, shape=(), dtype=float32)\n",
      "Training loss tf.Tensor(0.029816017, shape=(), dtype=float32)\n",
      "Training loss tf.Tensor(1.1926477, shape=(), dtype=float32)\n",
      "Training loss tf.Tensor(0.0401142, shape=(), dtype=float32)\n",
      "Training loss tf.Tensor(0.03624915, shape=(), dtype=float32)\n",
      "Training loss tf.Tensor(0.03531812, shape=(), dtype=float32)\n",
      "Training loss tf.Tensor(0.026830375, shape=(), dtype=float32)\n",
      "Training loss tf.Tensor(0.029669788, shape=(), dtype=float32)\n",
      "Training loss tf.Tensor(0.031041225, shape=(), dtype=float32)\n",
      "Training loss tf.Tensor(0.03257759, shape=(), dtype=float32)\n",
      "Training loss tf.Tensor(0.023598548, shape=(), dtype=float32)\n",
      "Training loss tf.Tensor(0.025399387, shape=(), dtype=float32)\n",
      "Training loss tf.Tensor(0.9962886, shape=(), dtype=float32)\n",
      "Training loss tf.Tensor(0.04192118, shape=(), dtype=float32)\n",
      "Training loss tf.Tensor(0.031046037, shape=(), dtype=float32)\n",
      "Training loss tf.Tensor(0.03240119, shape=(), dtype=float32)\n",
      "Training loss tf.Tensor(0.03470794, shape=(), dtype=float32)\n",
      "Training loss tf.Tensor(0.02409289, shape=(), dtype=float32)\n",
      "Training loss tf.Tensor(0.02659038, shape=(), dtype=float32)\n",
      "Training loss tf.Tensor(0.025526168, shape=(), dtype=float32)\n",
      "Training loss tf.Tensor(0.031059321, shape=(), dtype=float32)\n",
      "Training loss tf.Tensor(0.021355404, shape=(), dtype=float32)\n",
      "Training loss tf.Tensor(0.9608818, shape=(), dtype=float32)\n",
      "Training loss tf.Tensor(0.043193832, shape=(), dtype=float32)\n",
      "Training loss tf.Tensor(0.0414031, shape=(), dtype=float32)\n",
      "Training loss tf.Tensor(0.029686896, shape=(), dtype=float32)\n",
      "Training loss tf.Tensor(0.033611543, shape=(), dtype=float32)\n",
      "Training loss tf.Tensor(0.034913898, shape=(), dtype=float32)\n",
      "Training loss tf.Tensor(0.03549407, shape=(), dtype=float32)\n",
      "Training loss tf.Tensor(0.031926736, shape=(), dtype=float32)\n",
      "Training loss tf.Tensor(0.02859544, shape=(), dtype=float32)\n",
      "Training loss tf.Tensor(0.02173134, shape=(), dtype=float32)\n",
      "Training loss tf.Tensor(1.0151498, shape=(), dtype=float32)\n",
      "Training loss tf.Tensor(0.03734529, shape=(), dtype=float32)\n",
      "Training loss tf.Tensor(0.03334508, shape=(), dtype=float32)\n",
      "Training loss tf.Tensor(0.04049193, shape=(), dtype=float32)\n",
      "Training loss tf.Tensor(0.038027402, shape=(), dtype=float32)\n",
      "Training loss tf.Tensor(0.028004242, shape=(), dtype=float32)\n",
      "Training loss tf.Tensor(0.033702616, shape=(), dtype=float32)\n",
      "Training loss tf.Tensor(0.022436623, shape=(), dtype=float32)\n",
      "Training loss tf.Tensor(0.032185182, shape=(), dtype=float32)\n",
      "Training loss tf.Tensor(0.022896435, shape=(), dtype=float32)\n",
      "Training loss tf.Tensor(0.94730014, shape=(), dtype=float32)\n",
      "Training loss tf.Tensor(0.041551106, shape=(), dtype=float32)\n",
      "Training loss tf.Tensor(0.03665954, shape=(), dtype=float32)\n",
      "Training loss tf.Tensor(0.03707212, shape=(), dtype=float32)\n",
      "Training loss tf.Tensor(0.033505525, shape=(), dtype=float32)\n",
      "Training loss tf.Tensor(0.035188362, shape=(), dtype=float32)\n",
      "Training loss tf.Tensor(0.029962048, shape=(), dtype=float32)\n",
      "Training loss tf.Tensor(0.034900814, shape=(), dtype=float32)\n",
      "Training loss tf.Tensor(0.03226026, shape=(), dtype=float32)\n",
      "Training loss tf.Tensor(0.032857805, shape=(), dtype=float32)\n",
      "Training loss tf.Tensor(1.0816437, shape=(), dtype=float32)\n",
      "Training loss tf.Tensor(0.04763847, shape=(), dtype=float32)\n",
      "Training loss tf.Tensor(0.039269708, shape=(), dtype=float32)\n",
      "Training loss tf.Tensor(0.036550034, shape=(), dtype=float32)\n",
      "Training loss tf.Tensor(0.03414136, shape=(), dtype=float32)\n",
      "Training loss tf.Tensor(0.02757587, shape=(), dtype=float32)\n",
      "Training loss tf.Tensor(0.031797223, shape=(), dtype=float32)\n",
      "Training loss tf.Tensor(0.030558545, shape=(), dtype=float32)\n",
      "Training loss tf.Tensor(0.030070014, shape=(), dtype=float32)\n",
      "Training loss tf.Tensor(0.02767647, shape=(), dtype=float32)\n",
      "Training loss tf.Tensor(1.1253731, shape=(), dtype=float32)\n",
      "Training loss tf.Tensor(0.040329155, shape=(), dtype=float32)\n",
      "Training loss tf.Tensor(0.035542335, shape=(), dtype=float32)\n",
      "Training loss tf.Tensor(0.035526566, shape=(), dtype=float32)\n",
      "Training loss tf.Tensor(0.029080063, shape=(), dtype=float32)\n",
      "Training loss tf.Tensor(0.028587028, shape=(), dtype=float32)\n",
      "Training loss tf.Tensor(0.026904985, shape=(), dtype=float32)\n",
      "Training loss tf.Tensor(0.035977483, shape=(), dtype=float32)\n",
      "Training loss tf.Tensor(0.028011363, shape=(), dtype=float32)\n",
      "Training loss tf.Tensor(0.019021807, shape=(), dtype=float32)\n",
      "Training loss tf.Tensor(0.9314932, shape=(), dtype=float32)\n",
      "Training loss tf.Tensor(0.047917914, shape=(), dtype=float32)\n",
      "Training loss tf.Tensor(0.036557533, shape=(), dtype=float32)\n",
      "Training loss tf.Tensor(0.03354203, shape=(), dtype=float32)\n",
      "Training loss tf.Tensor(0.03455467, shape=(), dtype=float32)\n",
      "Training loss tf.Tensor(0.02184292, shape=(), dtype=float32)\n",
      "Training loss tf.Tensor(0.017815607, shape=(), dtype=float32)\n",
      "Training loss tf.Tensor(0.028492196, shape=(), dtype=float32)\n",
      "Training loss tf.Tensor(0.02513736, shape=(), dtype=float32)\n",
      "Training loss tf.Tensor(0.031988945, shape=(), dtype=float32)\n"
     ]
    }
   ],
   "source": [
    "phasor_accs_dot = test_phasor(make_phasor_dot, ds_train, ds_test)"
   ]
  },
  {
   "cell_type": "code",
   "execution_count": 11,
   "metadata": {
    "scrolled": true
   },
   "outputs": [
    {
     "name": "stdout",
     "output_type": "stream",
     "text": [
      "Training loss tf.Tensor(1.0666353, shape=(), dtype=float32)\n",
      "Training loss tf.Tensor(0.044881932, shape=(), dtype=float32)\n",
      "Training loss tf.Tensor(0.041603424, shape=(), dtype=float32)\n",
      "Training loss tf.Tensor(0.02698733, shape=(), dtype=float32)\n",
      "Training loss tf.Tensor(0.030349165, shape=(), dtype=float32)\n",
      "Training loss tf.Tensor(0.033769757, shape=(), dtype=float32)\n",
      "Training loss tf.Tensor(0.024125105, shape=(), dtype=float32)\n",
      "Training loss tf.Tensor(0.02797795, shape=(), dtype=float32)\n",
      "Training loss tf.Tensor(0.029551107, shape=(), dtype=float32)\n",
      "Training loss tf.Tensor(0.025958735, shape=(), dtype=float32)\n",
      "Training loss tf.Tensor(0.87209684, shape=(), dtype=float32)\n",
      "Training loss tf.Tensor(0.051291306, shape=(), dtype=float32)\n",
      "Training loss tf.Tensor(0.03878412, shape=(), dtype=float32)\n",
      "Training loss tf.Tensor(0.044050906, shape=(), dtype=float32)\n",
      "Training loss tf.Tensor(0.03878257, shape=(), dtype=float32)\n",
      "Training loss tf.Tensor(0.03540825, shape=(), dtype=float32)\n",
      "Training loss tf.Tensor(0.036169898, shape=(), dtype=float32)\n",
      "Training loss tf.Tensor(0.03225544, shape=(), dtype=float32)\n",
      "Training loss tf.Tensor(0.031223793, shape=(), dtype=float32)\n",
      "Training loss tf.Tensor(0.029045958, shape=(), dtype=float32)\n",
      "Training loss tf.Tensor(0.9071061, shape=(), dtype=float32)\n",
      "Training loss tf.Tensor(0.047802374, shape=(), dtype=float32)\n",
      "Training loss tf.Tensor(0.035832755, shape=(), dtype=float32)\n",
      "Training loss tf.Tensor(0.039338388, shape=(), dtype=float32)\n",
      "Training loss tf.Tensor(0.03288579, shape=(), dtype=float32)\n",
      "Training loss tf.Tensor(0.027565774, shape=(), dtype=float32)\n",
      "Training loss tf.Tensor(0.032811604, shape=(), dtype=float32)\n",
      "Training loss tf.Tensor(0.02493936, shape=(), dtype=float32)\n",
      "Training loss tf.Tensor(0.024419565, shape=(), dtype=float32)\n",
      "Training loss tf.Tensor(0.024503166, shape=(), dtype=float32)\n",
      "Training loss tf.Tensor(1.200113, shape=(), dtype=float32)\n",
      "Training loss tf.Tensor(0.049967356, shape=(), dtype=float32)\n",
      "Training loss tf.Tensor(0.038905103, shape=(), dtype=float32)\n",
      "Training loss tf.Tensor(0.033008747, shape=(), dtype=float32)\n",
      "Training loss tf.Tensor(0.033905443, shape=(), dtype=float32)\n",
      "Training loss tf.Tensor(0.031462822, shape=(), dtype=float32)\n",
      "Training loss tf.Tensor(0.04076699, shape=(), dtype=float32)\n",
      "Training loss tf.Tensor(0.034016483, shape=(), dtype=float32)\n",
      "Training loss tf.Tensor(0.029304188, shape=(), dtype=float32)\n",
      "Training loss tf.Tensor(0.03057486, shape=(), dtype=float32)\n",
      "Training loss tf.Tensor(0.9998741, shape=(), dtype=float32)\n",
      "Training loss tf.Tensor(0.043676052, shape=(), dtype=float32)\n",
      "Training loss tf.Tensor(0.04483076, shape=(), dtype=float32)\n",
      "Training loss tf.Tensor(0.04384577, shape=(), dtype=float32)\n",
      "Training loss tf.Tensor(0.03277708, shape=(), dtype=float32)\n",
      "Training loss tf.Tensor(0.032913372, shape=(), dtype=float32)\n",
      "Training loss tf.Tensor(0.024421096, shape=(), dtype=float32)\n",
      "Training loss tf.Tensor(0.027201226, shape=(), dtype=float32)\n",
      "Training loss tf.Tensor(0.030572785, shape=(), dtype=float32)\n",
      "Training loss tf.Tensor(0.031026969, shape=(), dtype=float32)\n",
      "Training loss tf.Tensor(1.0195501, shape=(), dtype=float32)\n",
      "Training loss tf.Tensor(0.04693652, shape=(), dtype=float32)\n",
      "Training loss tf.Tensor(0.03953238, shape=(), dtype=float32)\n",
      "Training loss tf.Tensor(0.029294522, shape=(), dtype=float32)\n",
      "Training loss tf.Tensor(0.033013426, shape=(), dtype=float32)\n",
      "Training loss tf.Tensor(0.030523378, shape=(), dtype=float32)\n",
      "Training loss tf.Tensor(0.028140405, shape=(), dtype=float32)\n",
      "Training loss tf.Tensor(0.027285328, shape=(), dtype=float32)\n",
      "Training loss tf.Tensor(0.029614497, shape=(), dtype=float32)\n",
      "Training loss tf.Tensor(0.020013923, shape=(), dtype=float32)\n",
      "Training loss tf.Tensor(0.98898077, shape=(), dtype=float32)\n",
      "Training loss tf.Tensor(0.043083634, shape=(), dtype=float32)\n",
      "Training loss tf.Tensor(0.037572797, shape=(), dtype=float32)\n",
      "Training loss tf.Tensor(0.031027159, shape=(), dtype=float32)\n",
      "Training loss tf.Tensor(0.03330011, shape=(), dtype=float32)\n",
      "Training loss tf.Tensor(0.036187124, shape=(), dtype=float32)\n",
      "Training loss tf.Tensor(0.035531532, shape=(), dtype=float32)\n",
      "Training loss tf.Tensor(0.032759134, shape=(), dtype=float32)\n",
      "Training loss tf.Tensor(0.024917606, shape=(), dtype=float32)\n",
      "Training loss tf.Tensor(0.023543602, shape=(), dtype=float32)\n",
      "Training loss tf.Tensor(1.0256982, shape=(), dtype=float32)\n",
      "Training loss tf.Tensor(0.045483872, shape=(), dtype=float32)\n",
      "Training loss tf.Tensor(0.036775455, shape=(), dtype=float32)\n",
      "Training loss tf.Tensor(0.032024957, shape=(), dtype=float32)\n",
      "Training loss tf.Tensor(0.032681078, shape=(), dtype=float32)\n",
      "Training loss tf.Tensor(0.035090443, shape=(), dtype=float32)\n",
      "Training loss tf.Tensor(0.024153808, shape=(), dtype=float32)\n",
      "Training loss tf.Tensor(0.030182015, shape=(), dtype=float32)\n",
      "Training loss tf.Tensor(0.033189468, shape=(), dtype=float32)\n",
      "Training loss tf.Tensor(0.029556455, shape=(), dtype=float32)\n",
      "Training loss tf.Tensor(0.8870045, shape=(), dtype=float32)\n",
      "Training loss tf.Tensor(0.04724423, shape=(), dtype=float32)\n",
      "Training loss tf.Tensor(0.0392119, shape=(), dtype=float32)\n",
      "Training loss tf.Tensor(0.03841836, shape=(), dtype=float32)\n",
      "Training loss tf.Tensor(0.031569224, shape=(), dtype=float32)\n",
      "Training loss tf.Tensor(0.033037223, shape=(), dtype=float32)\n",
      "Training loss tf.Tensor(0.032421988, shape=(), dtype=float32)\n",
      "Training loss tf.Tensor(0.031700164, shape=(), dtype=float32)\n",
      "Training loss tf.Tensor(0.030397689, shape=(), dtype=float32)\n",
      "Training loss tf.Tensor(0.026721634, shape=(), dtype=float32)\n",
      "Training loss tf.Tensor(1.0000352, shape=(), dtype=float32)\n",
      "Training loss tf.Tensor(0.043122545, shape=(), dtype=float32)\n",
      "Training loss tf.Tensor(0.037494045, shape=(), dtype=float32)\n",
      "Training loss tf.Tensor(0.033822842, shape=(), dtype=float32)\n",
      "Training loss tf.Tensor(0.032921195, shape=(), dtype=float32)\n",
      "Training loss tf.Tensor(0.030343762, shape=(), dtype=float32)\n",
      "Training loss tf.Tensor(0.029374642, shape=(), dtype=float32)\n",
      "Training loss tf.Tensor(0.0283276, shape=(), dtype=float32)\n",
      "Training loss tf.Tensor(0.029355384, shape=(), dtype=float32)\n",
      "Training loss tf.Tensor(0.025504112, shape=(), dtype=float32)\n"
     ]
    }
   ],
   "source": [
    "phasor_accs_rp = test_phasor(make_phasor_NP, ds_train, ds_test)"
   ]
  },
  {
   "cell_type": "code",
   "execution_count": 12,
   "metadata": {},
   "outputs": [
    {
     "data": {
      "image/png": "[encoded data removed]",
      "text/plain": [
       "<Figure size 432x288 with 1 Axes>"
      ]
     },
     "metadata": {
      "needs_background": "light"
     },
     "output_type": "display_data"
    }
   ],
   "source": [
    "plt.boxplot([phasor_accs, phasor_accs_rp, phasor_accs_dot]);"
   ]
  },
  {
   "cell_type": "code",
   "execution_count": 13,
   "metadata": {},
   "outputs": [
    {
     "data": {
      "text/plain": [
       "Text(0.5, 1.0, 'Model Accuracy, MNIST')"
      ]
     },
     "execution_count": 13,
     "metadata": {},
     "output_type": "execute_result"
    },
    {
     "data": {
      "image/png": "[encoded data removed]",
      "text/plain": [
       "<Figure size 600x400 with 1 Axes>"
      ]
     },
     "metadata": {
      "needs_background": "light"
     },
     "output_type": "display_data"
    }
   ],
   "source": [
    "plt.figure(dpi=100)\n",
    "plt.boxplot([std_accs, phasor_accs, std_accs_rp, phasor_accs_rp, std_accs_dot, phasor_accs_dot]);\n",
    "plt.ylabel(\"Test Accuracy\")\n",
    "plt.xticks(np.arange(1,7), [\"Standard\\nNo Conv.\", \"Phasor\\nNo Conv.\", \"Standard\\nNRP\", \"Phasor\\nNRP\", \"Standard\\nRPP\", \"Phasor\\nRPP\"])\n",
    "plt.title(\"Model Accuracy, MNIST\")"
   ]
  },
  {
   "cell_type": "code",
   "execution_count": null,
   "metadata": {},
   "outputs": [],
   "source": []
  }
 ],
 "metadata": {
  "kernelspec": {
   "display_name": "Python 3",
   "language": "python",
   "name": "python3"
  },
  "language_info": {
   "codemirror_mode": {
    "name": "ipython",
    "version": 3
   },
   "file_extension": ".py",
   "mimetype": "text/x-python",
   "name": "python",
   "nbconvert_exporter": "python",
   "pygments_lexer": "ipython3",
   "version": "3.8.5"
  }
 },
 "nbformat": 4,
 "nbformat_minor": 4
}
