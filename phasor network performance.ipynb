{
 "cells": [
  {
   "cell_type": "markdown",
   "metadata": {},
   "source": [
    "This notebook plots comparisons of temporal/atemporal performance for the MNIST and FashionMNIST phasor networks. Used in figure 5."
   ]
  },
  {
   "cell_type": "code",
   "execution_count": 1,
   "metadata": {},
   "outputs": [],
   "source": [
    "import numpy as np\n",
    "import matplotlib.pyplot as plt"
   ]
  },
  {
   "cell_type": "code",
   "execution_count": 2,
   "metadata": {},
   "outputs": [],
   "source": [
    "import tensorflow as tf\n",
    "from utils import *\n",
    "from models import *"
   ]
  },
  {
   "cell_type": "code",
   "execution_count": 3,
   "metadata": {},
   "outputs": [],
   "source": [
    "limit_gpus()\n",
    "set_gpu(None)"
   ]
  },
  {
   "cell_type": "code",
   "execution_count": 4,
   "metadata": {},
   "outputs": [],
   "source": [
    "dpi=100"
   ]
  },
  {
   "cell_type": "code",
   "execution_count": 5,
   "metadata": {},
   "outputs": [],
   "source": [
    "n_models = 8"
   ]
  },
  {
   "cell_type": "code",
   "execution_count": 6,
   "metadata": {},
   "outputs": [],
   "source": [
    "fashion_files = [\"models/fashion_model_\"+str(i)+\".npz\" for i in range(n_models)]\n",
    "mnist_files = [\"models/mnist_model_\"+str(i)+\".npz\" for i in range(n_models)]"
   ]
  },
  {
   "cell_type": "code",
   "execution_count": 7,
   "metadata": {},
   "outputs": [],
   "source": [
    "fashion_results = [np.load(open(fashion_files[i], \"rb\")) for i in range(n_models)]\n",
    "mnist_results = [np.load(open(mnist_files[i], \"rb\")) for i in range(n_models)]"
   ]
  },
  {
   "cell_type": "code",
   "execution_count": 8,
   "metadata": {},
   "outputs": [],
   "source": [
    "#a simple class function is used to convert the outputs to predicted labels. don't need gpu execution\n",
    "eval_model = PhasorModel((28,28,1))"
   ]
  },
  {
   "cell_type": "code",
   "execution_count": 9,
   "metadata": {},
   "outputs": [],
   "source": [
    "def get_accuracy(file, model=eval_model):\n",
    "    y_truth = file['ys']\n",
    "    yh_static = model.predict(file['yh_static'], method=\"static\")\n",
    "    yh_dynamic_mode = model.predict(file['yh_dynamic'], method=\"dynamic_mode\")\n",
    "    yh_dynamic_mean = model.predict(file['yh_dynamic'], method=\"dynamic_mean\")\n",
    "    \n",
    "    acc_fn = lambda x: np.mean(y_truth == x)\n",
    "    static_acc = acc_fn(yh_static)\n",
    "    dynmean_acc = acc_fn(yh_dynamic_mean)\n",
    "    dynmode_acc = acc_fn(yh_dynamic_mode)\n",
    "    \n",
    "    return (static_acc, dynmean_acc, dynmode_acc)"
   ]
  },
  {
   "cell_type": "code",
   "execution_count": 10,
   "metadata": {},
   "outputs": [
    {
     "name": "stderr",
     "output_type": "stream",
     "text": [
      "/home/wolin/training/phasor_networks/models.py:105: RuntimeWarning: Mean of empty slice\n",
      "  yh_avg = np.nanmean(yh, axis=1)\n"
     ]
    }
   ],
   "source": [
    "fashion_accs = np.array([get_accuracy(fashion_results[i]) for i in range(n_models)])\n",
    "mnist_accs = np.array([get_accuracy(mnist_results[i]) for i in range(n_models)])"
   ]
  },
  {
   "cell_type": "code",
   "execution_count": 11,
   "metadata": {},
   "outputs": [
    {
     "data": {
      "text/plain": [
       "array([[0.8403, 0.8361, 0.8361],\n",
       "       [0.8227, 0.8106, 0.8106],\n",
       "       [0.841 , 0.8364, 0.8364],\n",
       "       [0.8326, 0.8242, 0.8242],\n",
       "       [0.838 , 0.8289, 0.8289],\n",
       "       [0.8404, 0.8355, 0.8355],\n",
       "       [0.8366, 0.8265, 0.8265],\n",
       "       [0.8433, 0.8382, 0.8382]])"
      ]
     },
     "execution_count": 11,
     "metadata": {},
     "output_type": "execute_result"
    }
   ],
   "source": [
    "fashion_accs"
   ]
  },
  {
   "cell_type": "code",
   "execution_count": 12,
   "metadata": {},
   "outputs": [
    {
     "data": {
      "text/plain": [
       "array([[0.9553, 0.9517, 0.9517],\n",
       "       [0.9448, 0.9428, 0.9428],\n",
       "       [0.9463, 0.9389, 0.9389],\n",
       "       [0.9471, 0.9466, 0.9466],\n",
       "       [0.9483, 0.9418, 0.9418],\n",
       "       [0.9523, 0.9472, 0.9472],\n",
       "       [0.9454, 0.9406, 0.9406],\n",
       "       [0.9496, 0.9452, 0.9452]])"
      ]
     },
     "execution_count": 12,
     "metadata": {},
     "output_type": "execute_result"
    }
   ],
   "source": [
    "mnist_accs"
   ]
  },
  {
   "cell_type": "code",
   "execution_count": 13,
   "metadata": {},
   "outputs": [],
   "source": [
    "fashion_mean_loss = fashion_accs[:,0] - fashion_accs[:,1]\n",
    "fashion_mode_loss = fashion_accs[:,0] - fashion_accs[:,2]"
   ]
  },
  {
   "cell_type": "code",
   "execution_count": 14,
   "metadata": {},
   "outputs": [],
   "source": [
    "mnist_mean_loss = mnist_accs[:,0] - mnist_accs[:,1]\n",
    "mnist_mode_loss = mnist_accs[:,0] - mnist_accs[:,2]"
   ]
  },
  {
   "cell_type": "code",
   "execution_count": 15,
   "metadata": {},
   "outputs": [
    {
     "data": {
      "text/plain": [
       "Text(0.5, 0, 'Fashion MNIST Model')"
      ]
     },
     "execution_count": 15,
     "metadata": {},
     "output_type": "execute_result"
    },
    {
     "data": {
      "image/png": "[encoded data removed]",
      "text/plain": [
       "<Figure size 300x400 with 1 Axes>"
      ]
     },
     "metadata": {
      "needs_background": "light"
     },
     "output_type": "display_data"
    }
   ],
   "source": [
    "plt.figure(dpi=dpi, figsize=(3,4))\n",
    "\n",
    "plt.boxplot([fashion_accs[:,0], fashion_accs[:,2]])\n",
    "#plt.boxplot([fashion_accs[:,0], fashion_accs[:,2], mnist_accs[:,0], mnist_accs[:,2]])\n",
    "\n",
    "plt.scatter(np.ones_like(fashion_accs[:,0]), fashion_accs[:,0], color=\"orange\")\n",
    "plt.scatter(2*np.ones_like(fashion_accs[:,0]), fashion_accs[:,2], color=\"orange\")\n",
    "# plt.scatter(3*np.ones_like(mnist_accs[:,0]), mnist_accs[:,0], color=\"orange\")\n",
    "# plt.scatter(4*np.ones_like(mnist_accs[:,0]), mnist_accs[:,2], color=\"orange\")\n",
    "\n",
    "#plt.xticks(np.arange(1,3,1), [\"Atemporal\\nFashion MNIST\", \"Temporal\\nMNIST\", \"Atemporal\\nStandard MNIST\", \"Temporal\\nStandard MNIST\"])\n",
    "plt.xticks(np.arange(1,3,1), [\"Atemporal\", \"Temporal\",])\n",
    "plt.ylabel(\"Test Accuracy\")\n",
    "plt.xlabel(\"Fashion MNIST Model\")\n",
    "#plt.text(2.2,0.011,\"N=\"+str(n_models))"
   ]
  },
  {
   "cell_type": "code",
   "execution_count": 16,
   "metadata": {},
   "outputs": [
    {
     "data": {
      "text/plain": [
       "Text(0.5, 0, 'Standard MNIST Model')"
      ]
     },
     "execution_count": 16,
     "metadata": {},
     "output_type": "execute_result"
    },
    {
     "data": {
      "image/png": "[encoded data removed]",
      "text/plain": [
       "<Figure size 300x400 with 1 Axes>"
      ]
     },
     "metadata": {
      "needs_background": "light"
     },
     "output_type": "display_data"
    }
   ],
   "source": [
    "plt.figure(dpi=dpi, figsize=(3,4))\n",
    "\n",
    "plt.boxplot([mnist_accs[:,0], mnist_accs[:,2]])\n",
    "#plt.boxplot([fashion_accs[:,0], fashion_accs[:,2], mnist_accs[:,0], mnist_accs[:,2]])\n",
    "\n",
    "plt.scatter(np.ones_like(mnist_accs[:,0]), mnist_accs[:,0], color=\"orange\")\n",
    "plt.scatter(2*np.ones_like(mnist_accs[:,0]), mnist_accs[:,2], color=\"orange\")\n",
    "# plt.scatter(3*np.ones_like(mnist_accs[:,0]), mnist_accs[:,0], color=\"orange\")\n",
    "# plt.scatter(4*np.ones_like(mnist_accs[:,0]), mnist_accs[:,2], color=\"orange\")\n",
    "\n",
    "#plt.xticks(np.arange(1,3,1), [\"Atemporal\\nFashion MNIST\", \"Temporal\\nMNIST\", \"Atemporal\\nStandard MNIST\", \"Temporal\\nStandard MNIST\"])\n",
    "plt.xticks(np.arange(1,3,1), [\"Atemporal\", \"Temporal\",])\n",
    "plt.ylabel(\"Test Accuracy\")\n",
    "plt.xlabel(\"Standard MNIST Model\")\n",
    "#plt.text(2.2,0.011,\"N=\"+str(n_models))"
   ]
  },
  {
   "cell_type": "code",
   "execution_count": 17,
   "metadata": {},
   "outputs": [
    {
     "data": {
      "text/plain": [
       "Text(2.1, 0.011, 'N=8')"
      ]
     },
     "execution_count": 17,
     "metadata": {},
     "output_type": "execute_result"
    },
    {
     "data": {
      "image/png": "[encoded data removed]",
      "text/plain": [
       "<Figure size 300x400 with 1 Axes>"
      ]
     },
     "metadata": {
      "needs_background": "light"
     },
     "output_type": "display_data"
    }
   ],
   "source": [
    "plt.figure(dpi=dpi, figsize=(3,4))\n",
    "plt.scatter(np.ones_like(fashion_mode_loss), fashion_mode_loss, color=\"orange\")\n",
    "plt.scatter(2*np.ones_like(mnist_mode_loss), mnist_mode_loss, color=\"orange\")\n",
    "plt.boxplot([fashion_mode_loss, mnist_mode_loss])\n",
    "plt.xticks(np.arange(1,3,1), [\"Fashion MNIST\", \"Standard MNIST\"])\n",
    "plt.ylabel(\"Loss in Accuracy,\\nAtemporal to Temporal\")\n",
    "plt.xlabel(\"Dataset\")\n",
    "plt.text(2.1,0.011,\"N=\"+str(n_models))"
   ]
  },
  {
   "cell_type": "code",
   "execution_count": 18,
   "metadata": {},
   "outputs": [],
   "source": [
    "avgloss = np.mean(np.concatenate((fashion_mode_loss, mnist_mode_loss),axis=0))"
   ]
  },
  {
   "cell_type": "code",
   "execution_count": 19,
   "metadata": {},
   "outputs": [
    {
     "data": {
      "text/plain": [
       "0.00580000000000002"
      ]
     },
     "execution_count": 19,
     "metadata": {},
     "output_type": "execute_result"
    }
   ],
   "source": [
    "avgloss"
   ]
  },
  {
   "cell_type": "code",
   "execution_count": null,
   "metadata": {},
   "outputs": [],
   "source": []
  }
 ],
 "metadata": {
  "kernelspec": {
   "display_name": "Python 3",
   "language": "python",
   "name": "python3"
  },
  "language_info": {
   "codemirror_mode": {
    "name": "ipython",
    "version": 3
   },
   "file_extension": ".py",
   "mimetype": "text/x-python",
   "name": "python",
   "nbconvert_exporter": "python",
   "pygments_lexer": "ipython3",
   "version": "3.8.5"
  }
 },
 "nbformat": 4,
 "nbformat_minor": 4
}
