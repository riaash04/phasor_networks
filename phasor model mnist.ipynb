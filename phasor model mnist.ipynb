{
 "cells": [
  {
   "cell_type": "code",
   "execution_count": 1,
   "metadata": {},
   "outputs": [],
   "source": [
    "import matplotlib.pyplot as plt\n",
    "import numpy as np\n",
    "\n",
    "import tensorflow as tf\n",
    "import tensorflow_datasets as tfds\n",
    "import tensorflow.keras as keras\n",
    "import tensorflow.keras.layers as layers\n",
    "import tensorflow.keras.backend as be"
   ]
  },
  {
   "cell_type": "code",
   "execution_count": 2,
   "metadata": {},
   "outputs": [],
   "source": [
    "from utils import *\n",
    "from data import *\n",
    "from layers import *\n",
    "from models import *"
   ]
  },
  {
   "cell_type": "code",
   "execution_count": 3,
   "metadata": {},
   "outputs": [],
   "source": [
    "from easy_model import *"
   ]
  },
  {
   "cell_type": "code",
   "execution_count": 4,
   "metadata": {},
   "outputs": [],
   "source": [
    "limit_gpus()\n",
    "set_gpu(1)"
   ]
  },
  {
   "cell_type": "code",
   "execution_count": 5,
   "metadata": {},
   "outputs": [],
   "source": [
    "dataset = \"mnist\"\n",
    "ds_train, ds_test, ds_info = load_dataset(dataset, 128)\n",
    "\n",
    "input_shape = ds_info.features['image'].shape\n",
    "num_classes = ds_info.features['label'].num_classes"
   ]
  },
  {
   "cell_type": "code",
   "execution_count": 6,
   "metadata": {},
   "outputs": [],
   "source": [
    "x_train, y_train = get_raw_dat(ds_train)"
   ]
  },
  {
   "cell_type": "code",
   "execution_count": 36,
   "metadata": {},
   "outputs": [],
   "source": [
    "_, y_test = get_raw_dat(ds_test)"
   ]
  },
  {
   "cell_type": "code",
   "execution_count": 7,
   "metadata": {},
   "outputs": [],
   "source": [
    "xs, ys = next(iter(ds_train))"
   ]
  },
  {
   "cell_type": "code",
   "execution_count": 8,
   "metadata": {},
   "outputs": [
    {
     "data": {
      "text/plain": [
       "(28, 28, 1)"
      ]
     },
     "execution_count": 8,
     "metadata": {},
     "output_type": "execute_result"
    }
   ],
   "source": [
    "input_shape"
   ]
  },
  {
   "cell_type": "code",
   "execution_count": 9,
   "metadata": {},
   "outputs": [],
   "source": [
    "model = PhasorModel(input_shape, onehot_offset=0.0, onehot_phase=0.5, max_step=0.05, projection=\"NP\")"
   ]
  },
  {
   "cell_type": "code",
   "execution_count": 10,
   "metadata": {},
   "outputs": [],
   "source": [
    "ys0 = model(xs)"
   ]
  },
  {
   "cell_type": "code",
   "execution_count": 11,
   "metadata": {},
   "outputs": [
    {
     "data": {
      "text/plain": [
       "(array([106., 113., 109., 111., 116., 131., 124., 160., 173., 137.]),\n",
       " array([-0.9991734 , -0.7996879 , -0.6002025 , -0.40071702, -0.20123157,\n",
       "        -0.00174612,  0.19773933,  0.39722478,  0.59671026,  0.7961957 ,\n",
       "         0.99568117], dtype=float32),\n",
       " <BarContainer object of 10 artists>)"
      ]
     },
     "execution_count": 11,
     "metadata": {},
     "output_type": "execute_result"
    },
    {
     "data": {
      "image/png": "[encoded data removed]",
      "text/plain": [
       "<Figure size 432x288 with 1 Axes>"
      ]
     },
     "metadata": {
      "needs_background": "light"
     },
     "output_type": "display_data"
    }
   ],
   "source": [
    "plt.hist(ys0.numpy().ravel())"
   ]
  },
  {
   "cell_type": "code",
   "execution_count": 12,
   "metadata": {},
   "outputs": [],
   "source": [
    "model.compile(optimizer=\"rmsprop\")"
   ]
  },
  {
   "cell_type": "code",
   "execution_count": 13,
   "metadata": {
    "scrolled": true
   },
   "outputs": [
    {
     "name": "stdout",
     "output_type": "stream",
     "text": [
      "Training loss tf.Tensor(0.99601483, shape=(), dtype=float32)\n",
      "Training loss tf.Tensor(0.044496346, shape=(), dtype=float32)\n",
      "Training loss tf.Tensor(0.030093934, shape=(), dtype=float32)\n",
      "Training loss tf.Tensor(0.019915387, shape=(), dtype=float32)\n",
      "Training loss tf.Tensor(0.021762103, shape=(), dtype=float32)\n",
      "Training loss tf.Tensor(0.019909628, shape=(), dtype=float32)\n",
      "Training loss tf.Tensor(0.017853657, shape=(), dtype=float32)\n",
      "Training loss tf.Tensor(0.017882109, shape=(), dtype=float32)\n",
      "Training loss tf.Tensor(0.012975909, shape=(), dtype=float32)\n",
      "Training loss tf.Tensor(0.014360265, shape=(), dtype=float32)\n"
     ]
    }
   ],
   "source": [
    "loss = model.train(ds_train, 2)"
   ]
  },
  {
   "cell_type": "code",
   "execution_count": 14,
   "metadata": {},
   "outputs": [],
   "source": [
    "yh1 = model(xs)"
   ]
  },
  {
   "cell_type": "code",
   "execution_count": 15,
   "metadata": {},
   "outputs": [
    {
     "data": {
      "text/plain": [
       "<matplotlib.colorbar.Colorbar at 0x7fd63021cbb0>"
      ]
     },
     "execution_count": 15,
     "metadata": {},
     "output_type": "execute_result"
    },
    {
     "data": {
      "image/png": "[encoded data removed]",
      "text/plain": [
       "<Figure size 432x288 with 2 Axes>"
      ]
     },
     "metadata": {
      "needs_background": "light"
     },
     "output_type": "display_data"
    }
   ],
   "source": [
    "plt.pcolor(yh1)\n",
    "plt.colorbar()"
   ]
  },
  {
   "cell_type": "code",
   "execution_count": 16,
   "metadata": {},
   "outputs": [
    {
     "data": {
      "text/plain": [
       "<matplotlib.colorbar.Colorbar at 0x7fd63007a220>"
      ]
     },
     "execution_count": 16,
     "metadata": {},
     "output_type": "execute_result"
    },
    {
     "data": {
      "image/png": "[encoded data removed]",
      "text/plain": [
       "<Figure size 432x288 with 2 Axes>"
      ]
     },
     "metadata": {
      "needs_background": "light"
     },
     "output_type": "display_data"
    }
   ],
   "source": [
    "plt.pcolor(model.to_phase(ys))\n",
    "plt.colorbar()"
   ]
  },
  {
   "cell_type": "code",
   "execution_count": 17,
   "metadata": {},
   "outputs": [
    {
     "data": {
      "text/plain": [
       "[<matplotlib.lines.Line2D at 0x7fd5fc600d90>]"
      ]
     },
     "execution_count": 17,
     "metadata": {},
     "output_type": "execute_result"
    },
    {
     "data": {
      "image/png": "[encoded data removed]",
      "text/plain": [
       "<Figure size 432x288 with 1 Axes>"
      ]
     },
     "metadata": {
      "needs_background": "light"
     },
     "output_type": "display_data"
    }
   ],
   "source": [
    "plt.semilogy(loss)"
   ]
  },
  {
   "cell_type": "code",
   "execution_count": 18,
   "metadata": {},
   "outputs": [],
   "source": [
    "conf = model.accuracy(ds_test)"
   ]
  },
  {
   "cell_type": "code",
   "execution_count": 19,
   "metadata": {},
   "outputs": [
    {
     "data": {
      "text/plain": [
       "<matplotlib.collections.PolyCollection at 0x7fd5fc41f2b0>"
      ]
     },
     "execution_count": 19,
     "metadata": {},
     "output_type": "execute_result"
    },
    {
     "data": {
      "image/png": "[encoded data removed]",
      "text/plain": [
       "<Figure size 432x288 with 1 Axes>"
      ]
     },
     "metadata": {
      "needs_background": "light"
     },
     "output_type": "display_data"
    }
   ],
   "source": [
    "plt.pcolor(conf[0])"
   ]
  },
  {
   "cell_type": "code",
   "execution_count": 20,
   "metadata": {},
   "outputs": [
    {
     "data": {
      "text/plain": [
       "<tf.Tensor: shape=(), dtype=float64, numpy=0.9494>"
      ]
     },
     "execution_count": 20,
     "metadata": {},
     "output_type": "execute_result"
    }
   ],
   "source": [
    "confusion_to_accuracy(conf)"
   ]
  },
  {
   "cell_type": "code",
   "execution_count": 51,
   "metadata": {},
   "outputs": [],
   "source": [
    "small_test = tf.data.Dataset.from_tensor_slices((xs[0:10,...], ys[0:10,...]))\n",
    "small_test = small_test.batch(10)"
   ]
  },
  {
   "cell_type": "code",
   "execution_count": 52,
   "metadata": {},
   "outputs": [
    {
     "name": "stderr",
     "output_type": "stream",
     "text": [
      "100%|██████████| 10/10 [00:11<00:00,  1.16s/it]\n",
      "100%|██████████| 10/10 [00:09<00:00,  1.04it/s]\n"
     ]
    }
   ],
   "source": [
    "small_yhs = model.evaluate(small_test, method=\"dynamic\")"
   ]
  },
  {
   "cell_type": "code",
   "execution_count": 23,
   "metadata": {},
   "outputs": [
    {
     "data": {
      "text/plain": [
       "TensorShape([128, 10, 10])"
      ]
     },
     "execution_count": 23,
     "metadata": {},
     "output_type": "execute_result"
    }
   ],
   "source": [
    "small_yhs.shape"
   ]
  },
  {
   "cell_type": "code",
   "execution_count": 56,
   "metadata": {},
   "outputs": [
    {
     "data": {
      "text/plain": [
       "<tf.Tensor: shape=(10,), dtype=bool, numpy=\n",
       "array([ True,  True,  True,  True,  True,  True,  True,  True,  True,\n",
       "        True])>"
      ]
     },
     "execution_count": 56,
     "metadata": {},
     "output_type": "execute_result"
    }
   ],
   "source": [
    "model.predict(small_yhs, method=\"dynamic_mode\").ravel() == ys[0:10,...]"
   ]
  },
  {
   "cell_type": "code",
   "execution_count": 64,
   "metadata": {},
   "outputs": [],
   "source": [
    "preprocess = keras.Sequential([model.layers[0]])"
   ]
  },
  {
   "cell_type": "code",
   "execution_count": 65,
   "metadata": {},
   "outputs": [],
   "source": [
    "input_spikes = model.phase_to_train(model.image_encoder(preprocess(xs[0:10,...])))"
   ]
  },
  {
   "cell_type": "code",
   "execution_count": 66,
   "metadata": {},
   "outputs": [
    {
     "data": {
      "text/plain": [
       "(array([  0,   1,   2, ..., 781, 782, 783]),\n",
       " array([0.5728424 , 0.19892046, 0.4047272 , ..., 9.6923275 , 9.409106  ,\n",
       "        9.575072  ], dtype=float32))"
      ]
     },
     "execution_count": 66,
     "metadata": {},
     "output_type": "execute_result"
    }
   ],
   "source": [
    "input_spikes[0]"
   ]
  },
  {
   "cell_type": "code",
   "execution_count": 68,
   "metadata": {},
   "outputs": [],
   "source": [
    "dpi=100"
   ]
  },
  {
   "cell_type": "code",
   "execution_count": 76,
   "metadata": {},
   "outputs": [
    {
     "data": {
      "text/plain": [
       "<matplotlib.colorbar.Colorbar at 0x7fd5247a6340>"
      ]
     },
     "execution_count": 76,
     "metadata": {},
     "output_type": "execute_result"
    },
    {
     "data": {
      "image/png": "[encoded data removed]",
      "text/plain": [
       "<Figure size 432x288 with 2 Axes>"
      ]
     },
     "metadata": {
      "needs_background": "light"
     },
     "output_type": "display_data"
    }
   ],
   "source": [
    "plt.imshow(xs[0,...], cmap=\"gray\")\n",
    "plt.colorbar()"
   ]
  },
  {
   "cell_type": "code",
   "execution_count": 69,
   "metadata": {},
   "outputs": [
    {
     "data": {
      "text/plain": [
       "Text(0.5, 1.0, 'Input Layer')"
      ]
     },
     "execution_count": 69,
     "metadata": {},
     "output_type": "execute_result"
    },
    {
     "data": {
      "image/png": "[encoded data removed]",
      "text/plain": [
       "<Figure size 500x500 with 1 Axes>"
      ]
     },
     "metadata": {
      "needs_background": "light"
     },
     "output_type": "display_data"
    }
   ],
   "source": [
    "plt.figure(dpi=dpi, figsize=(5,5))\n",
    "for i in range(10):\n",
    "    plt.plot([0,784],[0.0+i,0+i], color=\"red\")\n",
    "plt.scatter(input_spikes[0][0], input_spikes[0][1], label=\"Input Spikes (Drive)\", s=4)\n",
    "#plt.scatter(dynamic_spikes[0][0], dynamic_spikes[0][1], label=\"Output Spikes (Response)\")\n",
    "#plt.xticks(lblinds, np.around(phases.ravel()[lblinds], decimals=2));\n",
    "\n",
    "plt.xlabel(\"Neuron\")\n",
    "plt.ylabel(\"Spike Time (s)\")\n",
    "plt.ylim(0,5)\n",
    "#plt.ylim(-0.5,10)\n",
    "plt.title(\"Input Layer\")"
   ]
  },
  {
   "cell_type": "code",
   "execution_count": 78,
   "metadata": {},
   "outputs": [
    {
     "data": {
      "text/plain": [
       "Text(0.5, 1.0, 'Dense 1')"
      ]
     },
     "execution_count": 78,
     "metadata": {},
     "output_type": "execute_result"
    },
    {
     "data": {
      "image/png": "[encoded data removed]",
      "text/plain": [
       "<Figure size 200x500 with 1 Axes>"
      ]
     },
     "metadata": {
      "needs_background": "light"
     },
     "output_type": "display_data"
    }
   ],
   "source": [
    "spk_layer1 = model.dense1.spike_trains\n",
    "plt.figure(dpi=dpi, figsize=(2,5))\n",
    "#plt.scatter(dynamic_input[0][0], dynamic_input[0][1], label=\"Input Spikes (Drive)\")\n",
    "for i in range(10):\n",
    "    plt.plot([0,100],[0.25+i,0.25+i], color=\"red\")\n",
    "plt.scatter(spk_layer1[0][0], spk_layer1[0][1], label=\"Output Spikes (Response)\", color=\"green\", s=8)\n",
    "#plt.xticks(lblinds, np.around(phases.ravel()[lblinds], decimals=2));\n",
    "plt.xlabel(\"Neuron\")\n",
    "plt.ylabel(\"Spike Time (s)\")\n",
    "#plt.ylim(-0.5,10)\n",
    "plt.title(\"Dense 1\")"
   ]
  },
  {
   "cell_type": "code",
   "execution_count": 71,
   "metadata": {},
   "outputs": [],
   "source": [
    "spk_layer2 = model.dense2.spike_trains"
   ]
  },
  {
   "cell_type": "code",
   "execution_count": 74,
   "metadata": {},
   "outputs": [
    {
     "data": {
      "text/plain": [
       "Text(0.5, 1.0, 'Dense 2')"
      ]
     },
     "execution_count": 74,
     "metadata": {},
     "output_type": "execute_result"
    },
    {
     "data": {
      "image/png": "[encoded data removed]",
      "text/plain": [
       "<Figure size 200x500 with 1 Axes>"
      ]
     },
     "metadata": {
      "needs_background": "light"
     },
     "output_type": "display_data"
    }
   ],
   "source": [
    "plt.figure(dpi=dpi, figsize=(2,5))\n",
    "#plt.scatter(dynamic_input[0][0], dynamic_input[0][1], label=\"Input Spikes (Drive)\")\n",
    "for i in range(10):\n",
    "    plt.plot([0,10],[0.50+i,0.50+i], color=\"red\")\n",
    "plt.scatter(spk_layer2[0][0], spk_layer2[0][1], label=\"Output Spikes (Response)\", color=\"purple\", s=8)\n",
    "#plt.xticks(lblinds, np.around(phases.ravel()[lblinds], decimals=2));\n",
    "plt.xlabel(\"Neuron\")\n",
    "plt.ylabel(\"Spike Time (s)\")\n",
    "#plt.ylim(-0.5,10)\n",
    "plt.title(\"Dense 2\")"
   ]
  },
  {
   "cell_type": "code",
   "execution_count": 25,
   "metadata": {},
   "outputs": [
    {
     "data": {
      "text/plain": [
       "0.953125"
      ]
     },
     "execution_count": 25,
     "metadata": {},
     "output_type": "execute_result"
    }
   ],
   "source": [
    "np.mean(model.predict(small_yhs, method=\"dynamic_mode\").ravel() == ys)"
   ]
  },
  {
   "cell_type": "code",
   "execution_count": 26,
   "metadata": {},
   "outputs": [
    {
     "data": {
      "text/plain": [
       "0.953125"
      ]
     },
     "execution_count": 26,
     "metadata": {},
     "output_type": "execute_result"
    }
   ],
   "source": [
    "np.mean(model.predict(small_yhs, method=\"dynamic_mean\").ravel() == ys)"
   ]
  },
  {
   "cell_type": "code",
   "execution_count": 30,
   "metadata": {},
   "outputs": [
    {
     "data": {
      "text/plain": [
       "<tf.Tensor: shape=(1,), dtype=float32, numpy=array([0.05011177], dtype=float32)>"
      ]
     },
     "execution_count": 30,
     "metadata": {},
     "output_type": "execute_result"
    }
   ],
   "source": [
    "model.image_encoder.norm_symbols.moving_mean"
   ]
  },
  {
   "cell_type": "code",
   "execution_count": 33,
   "metadata": {
    "scrolled": true
   },
   "outputs": [
    {
     "name": "stderr",
     "output_type": "stream",
     "text": [
      "100%|██████████| 128/128 [02:23<00:00,  1.12s/it]\n",
      "100%|██████████| 128/128 [01:55<00:00,  1.11it/s]\n",
      "100%|██████████| 128/128 [02:22<00:00,  1.11s/it]\n",
      "100%|██████████| 128/128 [01:54<00:00,  1.12it/s]\n",
      "100%|██████████| 128/128 [02:24<00:00,  1.13s/it]\n",
      "100%|██████████| 128/128 [01:56<00:00,  1.10it/s]\n",
      "100%|██████████| 128/128 [02:22<00:00,  1.11s/it]\n",
      "100%|██████████| 128/128 [01:55<00:00,  1.11it/s]\n",
      "100%|██████████| 128/128 [02:25<00:00,  1.14s/it]\n",
      "100%|██████████| 128/128 [01:56<00:00,  1.10it/s]\n",
      "100%|██████████| 128/128 [02:23<00:00,  1.12s/it]\n",
      "100%|██████████| 128/128 [01:56<00:00,  1.10it/s]\n",
      "100%|██████████| 128/128 [02:23<00:00,  1.12s/it]\n",
      "100%|██████████| 128/128 [01:56<00:00,  1.10it/s]\n",
      "100%|██████████| 128/128 [02:24<00:00,  1.13s/it]\n",
      "100%|██████████| 128/128 [01:56<00:00,  1.10it/s]\n",
      "100%|██████████| 128/128 [02:23<00:00,  1.12s/it]\n",
      "100%|██████████| 128/128 [01:57<00:00,  1.09it/s]\n",
      "100%|██████████| 128/128 [02:21<00:00,  1.11s/it]\n",
      "100%|██████████| 128/128 [01:56<00:00,  1.10it/s]\n",
      "100%|██████████| 128/128 [02:25<00:00,  1.14s/it]\n",
      "100%|██████████| 128/128 [01:56<00:00,  1.09it/s]\n",
      "100%|██████████| 128/128 [02:25<00:00,  1.13s/it]\n",
      "100%|██████████| 128/128 [01:56<00:00,  1.10it/s]\n",
      "100%|██████████| 128/128 [02:23<00:00,  1.12s/it]\n",
      "100%|██████████| 128/128 [01:56<00:00,  1.10it/s]\n",
      "100%|██████████| 128/128 [02:24<00:00,  1.13s/it]\n",
      "100%|██████████| 128/128 [01:56<00:00,  1.10it/s]\n",
      "100%|██████████| 128/128 [02:26<00:00,  1.14s/it]\n",
      "100%|██████████| 128/128 [01:57<00:00,  1.09it/s]\n",
      "100%|██████████| 128/128 [02:23<00:00,  1.12s/it]\n",
      "100%|██████████| 128/128 [01:56<00:00,  1.10it/s]\n",
      "100%|██████████| 128/128 [02:24<00:00,  1.13s/it]\n",
      "100%|██████████| 128/128 [01:56<00:00,  1.10it/s]\n",
      "100%|██████████| 128/128 [02:24<00:00,  1.13s/it]\n",
      "100%|██████████| 128/128 [01:56<00:00,  1.10it/s]\n",
      "100%|██████████| 128/128 [02:24<00:00,  1.13s/it]\n",
      "100%|██████████| 128/128 [01:56<00:00,  1.10it/s]\n",
      "100%|██████████| 128/128 [02:22<00:00,  1.12s/it]\n",
      "100%|██████████| 128/128 [01:57<00:00,  1.09it/s]\n",
      "100%|██████████| 128/128 [02:25<00:00,  1.14s/it]\n",
      "100%|██████████| 128/128 [01:56<00:00,  1.10it/s]\n",
      "100%|██████████| 128/128 [02:22<00:00,  1.11s/it]\n",
      "100%|██████████| 128/128 [01:56<00:00,  1.10it/s]\n",
      "100%|██████████| 128/128 [02:25<00:00,  1.13s/it]\n",
      "100%|██████████| 128/128 [01:56<00:00,  1.10it/s]\n",
      "100%|██████████| 128/128 [02:23<00:00,  1.12s/it]\n",
      "100%|██████████| 128/128 [01:56<00:00,  1.10it/s]\n",
      "100%|██████████| 128/128 [02:24<00:00,  1.13s/it]\n",
      "100%|██████████| 128/128 [01:55<00:00,  1.11it/s]\n",
      "100%|██████████| 128/128 [02:24<00:00,  1.13s/it]\n",
      "100%|██████████| 128/128 [01:57<00:00,  1.09it/s]\n",
      "100%|██████████| 128/128 [02:25<00:00,  1.14s/it]\n",
      "100%|██████████| 128/128 [01:57<00:00,  1.09it/s]\n",
      "100%|██████████| 128/128 [02:23<00:00,  1.12s/it]\n",
      "100%|██████████| 128/128 [01:56<00:00,  1.10it/s]\n",
      "100%|██████████| 128/128 [02:24<00:00,  1.13s/it]\n",
      "100%|██████████| 128/128 [01:55<00:00,  1.11it/s]\n",
      "100%|██████████| 128/128 [02:25<00:00,  1.13s/it]\n",
      "100%|██████████| 128/128 [01:58<00:00,  1.08it/s]\n",
      "100%|██████████| 128/128 [02:25<00:00,  1.13s/it]\n",
      "100%|██████████| 128/128 [01:56<00:00,  1.10it/s]\n",
      "100%|██████████| 128/128 [02:26<00:00,  1.14s/it]\n",
      "100%|██████████| 128/128 [01:57<00:00,  1.09it/s]\n",
      "100%|██████████| 128/128 [02:21<00:00,  1.11s/it]\n",
      "100%|██████████| 128/128 [01:56<00:00,  1.10it/s]\n",
      "100%|██████████| 128/128 [02:24<00:00,  1.13s/it]\n",
      "100%|██████████| 128/128 [01:57<00:00,  1.09it/s]\n",
      "100%|██████████| 128/128 [02:22<00:00,  1.11s/it]\n",
      "100%|██████████| 128/128 [02:05<00:00,  1.02it/s]\n",
      "100%|██████████| 128/128 [02:25<00:00,  1.14s/it]\n",
      "100%|██████████| 128/128 [02:02<00:00,  1.05it/s]\n",
      "100%|██████████| 128/128 [02:34<00:00,  1.20s/it]\n",
      "100%|██████████| 128/128 [01:58<00:00,  1.08it/s]\n",
      "100%|██████████| 128/128 [02:25<00:00,  1.14s/it]\n",
      "100%|██████████| 128/128 [01:57<00:00,  1.09it/s]\n",
      "100%|██████████| 128/128 [02:25<00:00,  1.14s/it]\n",
      "100%|██████████| 128/128 [01:58<00:00,  1.08it/s]\n",
      "100%|██████████| 128/128 [02:23<00:00,  1.12s/it]\n",
      "100%|██████████| 128/128 [01:56<00:00,  1.10it/s]\n",
      "100%|██████████| 128/128 [02:21<00:00,  1.11s/it]\n",
      "100%|██████████| 128/128 [01:56<00:00,  1.10it/s]\n",
      "100%|██████████| 128/128 [02:24<00:00,  1.13s/it]\n",
      "100%|██████████| 128/128 [01:55<00:00,  1.11it/s]\n",
      "100%|██████████| 128/128 [02:23<00:00,  1.12s/it]\n",
      "100%|██████████| 128/128 [01:55<00:00,  1.11it/s]\n",
      "100%|██████████| 128/128 [02:23<00:00,  1.12s/it]\n",
      "100%|██████████| 128/128 [01:55<00:00,  1.10it/s]\n",
      "100%|██████████| 128/128 [02:22<00:00,  1.11s/it]\n",
      "100%|██████████| 128/128 [01:54<00:00,  1.12it/s]\n",
      "100%|██████████| 128/128 [02:25<00:00,  1.14s/it]\n",
      "100%|██████████| 128/128 [01:57<00:00,  1.09it/s]\n",
      "100%|██████████| 128/128 [02:23<00:00,  1.12s/it]\n",
      "100%|██████████| 128/128 [01:57<00:00,  1.09it/s]\n",
      "100%|██████████| 128/128 [02:24<00:00,  1.13s/it]\n",
      "100%|██████████| 128/128 [01:56<00:00,  1.10it/s]\n",
      "100%|██████████| 128/128 [02:25<00:00,  1.14s/it]\n",
      "100%|██████████| 128/128 [01:56<00:00,  1.10it/s]\n",
      "100%|██████████| 128/128 [02:22<00:00,  1.12s/it]\n",
      "100%|██████████| 128/128 [01:57<00:00,  1.09it/s]\n",
      "100%|██████████| 128/128 [02:23<00:00,  1.12s/it]\n",
      "100%|██████████| 128/128 [01:57<00:00,  1.09it/s]\n",
      "100%|██████████| 128/128 [02:22<00:00,  1.11s/it]\n",
      "100%|██████████| 128/128 [01:56<00:00,  1.10it/s]\n",
      "100%|██████████| 128/128 [02:24<00:00,  1.13s/it]\n",
      "100%|██████████| 128/128 [01:57<00:00,  1.09it/s]\n",
      "100%|██████████| 128/128 [02:25<00:00,  1.14s/it]\n",
      "100%|██████████| 128/128 [01:57<00:00,  1.09it/s]\n",
      "100%|██████████| 128/128 [02:26<00:00,  1.14s/it]\n",
      "100%|██████████| 128/128 [01:55<00:00,  1.10it/s]\n",
      "100%|██████████| 128/128 [02:24<00:00,  1.13s/it]\n",
      "100%|██████████| 128/128 [01:57<00:00,  1.09it/s]\n",
      "100%|██████████| 128/128 [02:24<00:00,  1.13s/it]\n",
      "100%|██████████| 128/128 [01:56<00:00,  1.10it/s]\n",
      "100%|██████████| 128/128 [02:24<00:00,  1.13s/it]\n",
      "100%|██████████| 128/128 [01:56<00:00,  1.10it/s]\n",
      "100%|██████████| 128/128 [02:24<00:00,  1.13s/it]\n",
      "100%|██████████| 128/128 [01:56<00:00,  1.09it/s]\n",
      "100%|██████████| 128/128 [02:22<00:00,  1.11s/it]\n",
      "100%|██████████| 128/128 [01:57<00:00,  1.09it/s]\n",
      "100%|██████████| 128/128 [02:23<00:00,  1.12s/it]\n",
      "100%|██████████| 128/128 [01:57<00:00,  1.09it/s]\n",
      "100%|██████████| 128/128 [02:22<00:00,  1.11s/it]\n",
      "100%|██████████| 128/128 [01:55<00:00,  1.11it/s]\n",
      "100%|██████████| 128/128 [02:25<00:00,  1.14s/it]\n",
      "100%|██████████| 128/128 [01:56<00:00,  1.09it/s]\n",
      "100%|██████████| 128/128 [02:23<00:00,  1.12s/it]\n",
      "100%|██████████| 128/128 [01:54<00:00,  1.12it/s]\n",
      "100%|██████████| 128/128 [02:23<00:00,  1.12s/it]\n",
      "100%|██████████| 128/128 [01:56<00:00,  1.10it/s]\n",
      "100%|██████████| 128/128 [02:22<00:00,  1.11s/it]\n",
      "100%|██████████| 128/128 [01:55<00:00,  1.11it/s]\n",
      "100%|██████████| 128/128 [02:23<00:00,  1.12s/it]\n",
      "100%|██████████| 128/128 [01:57<00:00,  1.09it/s]\n",
      "100%|██████████| 128/128 [02:25<00:00,  1.14s/it]\n",
      "100%|██████████| 128/128 [01:56<00:00,  1.09it/s]\n",
      "100%|██████████| 128/128 [02:23<00:00,  1.12s/it]\n",
      "100%|██████████| 128/128 [01:55<00:00,  1.10it/s]\n",
      "100%|██████████| 128/128 [02:23<00:00,  1.12s/it]\n",
      "100%|██████████| 128/128 [01:55<00:00,  1.11it/s]\n",
      "100%|██████████| 128/128 [02:24<00:00,  1.13s/it]\n",
      "100%|██████████| 128/128 [01:56<00:00,  1.10it/s]\n",
      "100%|██████████| 128/128 [02:21<00:00,  1.11s/it]\n",
      "100%|██████████| 128/128 [01:56<00:00,  1.10it/s]\n",
      "100%|██████████| 128/128 [02:23<00:00,  1.12s/it]\n",
      "100%|██████████| 128/128 [01:57<00:00,  1.09it/s]\n",
      "100%|██████████| 128/128 [02:23<00:00,  1.12s/it]\n",
      "100%|██████████| 128/128 [01:56<00:00,  1.10it/s]\n",
      "100%|██████████| 128/128 [02:27<00:00,  1.15s/it]\n",
      "100%|██████████| 128/128 [01:57<00:00,  1.09it/s]\n",
      "100%|██████████| 128/128 [02:25<00:00,  1.14s/it]\n",
      "100%|██████████| 128/128 [01:56<00:00,  1.10it/s]\n",
      "100%|██████████| 128/128 [02:22<00:00,  1.11s/it]\n",
      "100%|██████████| 128/128 [01:56<00:00,  1.10it/s]\n",
      "100%|██████████| 128/128 [02:25<00:00,  1.14s/it]\n",
      "100%|██████████| 128/128 [01:57<00:00,  1.09it/s]\n",
      "100%|██████████| 16/16 [00:17<00:00,  1.10s/it]\n",
      "100%|██████████| 16/16 [00:14<00:00,  1.11it/s]\n"
     ]
    }
   ],
   "source": [
    "all_yhs = model.evaluate(ds_test, method=\"dynamic\")"
   ]
  },
  {
   "cell_type": "code",
   "execution_count": 34,
   "metadata": {},
   "outputs": [
    {
     "data": {
      "text/plain": [
       "TensorShape([10000, 10, 10])"
      ]
     },
     "execution_count": 34,
     "metadata": {},
     "output_type": "execute_result"
    }
   ],
   "source": [
    "all_yhs.shape"
   ]
  },
  {
   "cell_type": "code",
   "execution_count": 37,
   "metadata": {},
   "outputs": [],
   "source": [
    "np.savez_compressed(\"mnist_yhs_dynamic.npz\", yhs=all_yhs.numpy(), ys=y_test)"
   ]
  },
  {
   "cell_type": "code",
   "execution_count": 40,
   "metadata": {},
   "outputs": [
    {
     "data": {
      "text/plain": [
       "0.9467"
      ]
     },
     "execution_count": 40,
     "metadata": {},
     "output_type": "execute_result"
    }
   ],
   "source": [
    "np.mean(model.predict(all_yhs, method=\"dynamic_mode\").ravel() == y_test)"
   ]
  },
  {
   "cell_type": "code",
   "execution_count": 41,
   "metadata": {},
   "outputs": [
    {
     "data": {
      "text/plain": [
       "0.9467"
      ]
     },
     "execution_count": 41,
     "metadata": {},
     "output_type": "execute_result"
    }
   ],
   "source": [
    "np.mean(model.predict(all_yhs, method=\"dynamic_mean\").ravel() == y_test)"
   ]
  },
  {
   "cell_type": "code",
   "execution_count": null,
   "metadata": {},
   "outputs": [],
   "source": []
  },
  {
   "cell_type": "code",
   "execution_count": 44,
   "metadata": {},
   "outputs": [],
   "source": [
    "def train_and_save(num):\n",
    "    model = PhasorModel(input_shape, \n",
    "                    onehot_offset=0.0, \n",
    "                    onehot_phase=0.5,\n",
    "                    projection=\"NP\",\n",
    "                   \n",
    "                   exec_time=5.0,\n",
    "                   repeats=5,\n",
    "                   max_step=0.02)\n",
    "    model.compile(optimizer=\"rmsprop\")\n",
    "    loss = model.train(ds_train, 2)\n",
    "    \n",
    "    yh_static = model.evaluate(ds_test, method=\"static\")\n",
    "    yh_dynamic = model.evaluate(ds_test, method=\"dynamic\")\n",
    "    \n",
    "    name = \"mnist_model_\"+str(num)+\".npz\"\n",
    "    np.savez_compressed(name, \n",
    "                        yh_static=yh_static.numpy(),\n",
    "                        yh_dynamic=yh_dynamic.numpy(),\n",
    "                        ys=y_test.numpy())"
   ]
  },
  {
   "cell_type": "code",
   "execution_count": 45,
   "metadata": {},
   "outputs": [
    {
     "name": "stdout",
     "output_type": "stream",
     "text": [
      "Training loss tf.Tensor(1.1027865, shape=(), dtype=float32)\n",
      "Training loss tf.Tensor(0.042242173, shape=(), dtype=float32)\n",
      "Training loss tf.Tensor(0.027328882, shape=(), dtype=float32)\n",
      "Training loss tf.Tensor(0.024139293, shape=(), dtype=float32)\n",
      "Training loss tf.Tensor(0.017027155, shape=(), dtype=float32)\n",
      "Training loss tf.Tensor(0.016014883, shape=(), dtype=float32)\n",
      "Training loss tf.Tensor(0.017927013, shape=(), dtype=float32)\n",
      "Training loss tf.Tensor(0.013426544, shape=(), dtype=float32)\n",
      "Training loss tf.Tensor(0.016903393, shape=(), dtype=float32)\n",
      "Training loss tf.Tensor(0.013240361, shape=(), dtype=float32)\n"
     ]
    },
    {
     "name": "stderr",
     "output_type": "stream",
     "text": [
      "100%|██████████| 128/128 [03:00<00:00,  1.41s/it]\n",
      "100%|██████████| 128/128 [02:25<00:00,  1.13s/it]\n",
      "100%|██████████| 128/128 [03:02<00:00,  1.42s/it]\n",
      "100%|██████████| 128/128 [02:22<00:00,  1.12s/it]\n",
      "100%|██████████| 128/128 [03:04<00:00,  1.44s/it]\n",
      "100%|██████████| 128/128 [02:38<00:00,  1.24s/it]\n",
      "100%|██████████| 128/128 [02:50<00:00,  1.33s/it]\n",
      "100%|██████████| 128/128 [02:36<00:00,  1.22s/it]\n",
      "100%|██████████| 128/128 [02:55<00:00,  1.37s/it]\n",
      "100%|██████████| 128/128 [02:33<00:00,  1.20s/it]\n",
      "100%|██████████| 128/128 [03:06<00:00,  1.45s/it]\n",
      "100%|██████████| 128/128 [02:24<00:00,  1.13s/it]\n",
      "100%|██████████| 128/128 [03:04<00:00,  1.45s/it]\n",
      "100%|██████████| 128/128 [02:26<00:00,  1.15s/it]\n",
      "100%|██████████| 128/128 [03:05<00:00,  1.45s/it]\n",
      "100%|██████████| 128/128 [02:36<00:00,  1.22s/it]\n",
      "100%|██████████| 128/128 [02:56<00:00,  1.38s/it]\n",
      "100%|██████████| 128/128 [02:38<00:00,  1.24s/it]\n",
      "100%|██████████| 128/128 [02:46<00:00,  1.30s/it]\n",
      "100%|██████████| 128/128 [02:38<00:00,  1.24s/it]\n",
      "100%|██████████| 128/128 [02:59<00:00,  1.41s/it]\n",
      "100%|██████████| 128/128 [02:25<00:00,  1.14s/it]\n",
      "100%|██████████| 128/128 [03:08<00:00,  1.48s/it]\n",
      "100%|██████████| 128/128 [02:22<00:00,  1.11s/it]\n",
      "100%|██████████| 128/128 [03:01<00:00,  1.42s/it]\n",
      "100%|██████████| 128/128 [02:21<00:00,  1.11s/it]\n",
      "100%|██████████| 128/128 [03:08<00:00,  1.47s/it]\n",
      "100%|██████████| 128/128 [02:23<00:00,  1.12s/it]\n",
      "100%|██████████| 128/128 [03:02<00:00,  1.43s/it]\n",
      "100%|██████████| 128/128 [02:29<00:00,  1.17s/it]\n",
      "100%|██████████| 128/128 [02:55<00:00,  1.37s/it]\n",
      "100%|██████████| 128/128 [02:35<00:00,  1.21s/it]\n",
      "100%|██████████| 128/128 [02:50<00:00,  1.33s/it]\n",
      "100%|██████████| 128/128 [02:37<00:00,  1.23s/it]\n",
      "100%|██████████| 128/128 [02:50<00:00,  1.33s/it]\n",
      "100%|██████████| 128/128 [02:33<00:00,  1.20s/it]\n",
      "100%|██████████| 128/128 [02:47<00:00,  1.30s/it]\n",
      "100%|██████████| 128/128 [02:36<00:00,  1.22s/it]\n",
      "100%|██████████| 128/128 [02:56<00:00,  1.38s/it]\n",
      "100%|██████████| 128/128 [02:26<00:00,  1.15s/it]\n",
      "100%|██████████| 128/128 [03:07<00:00,  1.46s/it]\n",
      "100%|██████████| 128/128 [02:24<00:00,  1.13s/it]\n",
      "100%|██████████| 128/128 [03:01<00:00,  1.42s/it]\n",
      "100%|██████████| 128/128 [02:20<00:00,  1.10s/it]\n",
      "100%|██████████| 128/128 [03:00<00:00,  1.41s/it]\n",
      "100%|██████████| 128/128 [02:29<00:00,  1.17s/it]\n",
      "100%|██████████| 128/128 [02:55<00:00,  1.37s/it]\n",
      "100%|██████████| 128/128 [02:34<00:00,  1.21s/it]\n",
      "100%|██████████| 128/128 [02:55<00:00,  1.37s/it]\n",
      "100%|██████████| 128/128 [02:28<00:00,  1.16s/it]\n",
      "100%|██████████| 128/128 [03:04<00:00,  1.44s/it]\n",
      "100%|██████████| 128/128 [02:27<00:00,  1.15s/it]\n",
      "100%|██████████| 128/128 [03:01<00:00,  1.42s/it]\n",
      "100%|██████████| 128/128 [02:31<00:00,  1.18s/it]\n",
      "100%|██████████| 128/128 [02:55<00:00,  1.37s/it]\n",
      "100%|██████████| 128/128 [02:33<00:00,  1.20s/it]\n",
      "100%|██████████| 128/128 [02:59<00:00,  1.40s/it]\n",
      "100%|██████████| 128/128 [02:25<00:00,  1.14s/it]\n",
      "100%|██████████| 128/128 [03:09<00:00,  1.48s/it]\n",
      "100%|██████████| 128/128 [02:23<00:00,  1.12s/it]\n",
      "100%|██████████| 128/128 [02:55<00:00,  1.37s/it]\n",
      "100%|██████████| 128/128 [02:39<00:00,  1.24s/it]\n",
      "100%|██████████| 128/128 [02:52<00:00,  1.35s/it]\n",
      "100%|██████████| 128/128 [02:33<00:00,  1.20s/it]\n",
      "100%|██████████| 128/128 [02:30<00:00,  1.17s/it]\n",
      "100%|██████████| 128/128 [01:59<00:00,  1.07it/s]\n",
      "100%|██████████| 128/128 [02:23<00:00,  1.12s/it]\n",
      "100%|██████████| 128/128 [01:59<00:00,  1.07it/s]\n",
      "100%|██████████| 128/128 [02:23<00:00,  1.12s/it]\n",
      "100%|██████████| 128/128 [01:58<00:00,  1.08it/s]\n",
      "100%|██████████| 128/128 [02:23<00:00,  1.12s/it]\n",
      "100%|██████████| 128/128 [01:58<00:00,  1.08it/s]\n",
      "100%|██████████| 128/128 [02:22<00:00,  1.12s/it]\n",
      "100%|██████████| 128/128 [01:58<00:00,  1.08it/s]\n",
      "100%|██████████| 128/128 [02:22<00:00,  1.12s/it]\n",
      "100%|██████████| 128/128 [01:59<00:00,  1.07it/s]\n",
      "100%|██████████| 128/128 [02:22<00:00,  1.11s/it]\n",
      "100%|██████████| 128/128 [01:58<00:00,  1.08it/s]\n",
      "100%|██████████| 128/128 [02:23<00:00,  1.12s/it]\n",
      "100%|██████████| 128/128 [01:59<00:00,  1.07it/s]\n",
      "100%|██████████| 128/128 [02:23<00:00,  1.12s/it]\n",
      "100%|██████████| 128/128 [01:59<00:00,  1.07it/s]\n",
      "100%|██████████| 128/128 [02:22<00:00,  1.12s/it]\n",
      "100%|██████████| 128/128 [01:58<00:00,  1.08it/s]\n",
      "100%|██████████| 128/128 [02:23<00:00,  1.12s/it]\n",
      "100%|██████████| 128/128 [01:59<00:00,  1.07it/s]\n",
      "100%|██████████| 128/128 [02:23<00:00,  1.12s/it]\n",
      "100%|██████████| 128/128 [01:59<00:00,  1.07it/s]\n",
      "100%|██████████| 128/128 [02:22<00:00,  1.12s/it]\n",
      "100%|██████████| 128/128 [01:58<00:00,  1.08it/s]\n",
      "100%|██████████| 128/128 [02:23<00:00,  1.12s/it]\n",
      "100%|██████████| 128/128 [01:57<00:00,  1.09it/s]\n",
      "100%|██████████| 128/128 [02:24<00:00,  1.13s/it]\n",
      "100%|██████████| 128/128 [01:59<00:00,  1.07it/s]\n",
      "100%|██████████| 128/128 [02:22<00:00,  1.11s/it]\n",
      "100%|██████████| 128/128 [01:59<00:00,  1.07it/s]\n",
      "100%|██████████| 128/128 [02:24<00:00,  1.13s/it]\n",
      "100%|██████████| 128/128 [01:59<00:00,  1.07it/s]\n",
      "100%|██████████| 128/128 [02:24<00:00,  1.13s/it]\n",
      "100%|██████████| 128/128 [01:58<00:00,  1.08it/s]\n",
      "100%|██████████| 128/128 [02:23<00:00,  1.12s/it]\n",
      "100%|██████████| 128/128 [01:58<00:00,  1.08it/s]\n",
      "100%|██████████| 128/128 [02:24<00:00,  1.13s/it]\n",
      "100%|██████████| 128/128 [01:59<00:00,  1.07it/s]\n",
      "100%|██████████| 128/128 [02:23<00:00,  1.12s/it]\n",
      "100%|██████████| 128/128 [01:59<00:00,  1.07it/s]\n",
      "100%|██████████| 128/128 [02:24<00:00,  1.13s/it]\n",
      "100%|██████████| 128/128 [01:58<00:00,  1.08it/s]\n",
      "100%|██████████| 128/128 [02:24<00:00,  1.13s/it]\n",
      "100%|██████████| 128/128 [01:59<00:00,  1.07it/s]\n",
      "100%|██████████| 128/128 [02:24<00:00,  1.13s/it]\n",
      "100%|██████████| 128/128 [01:59<00:00,  1.07it/s]\n",
      "100%|██████████| 128/128 [02:25<00:00,  1.14s/it]\n",
      "100%|██████████| 128/128 [01:59<00:00,  1.07it/s]\n",
      "100%|██████████| 128/128 [02:23<00:00,  1.12s/it]\n",
      "100%|██████████| 128/128 [01:59<00:00,  1.07it/s]\n",
      "100%|██████████| 128/128 [02:24<00:00,  1.13s/it]\n",
      "100%|██████████| 128/128 [01:58<00:00,  1.08it/s]\n",
      "100%|██████████| 128/128 [02:23<00:00,  1.12s/it]\n",
      "100%|██████████| 128/128 [01:59<00:00,  1.07it/s]\n",
      "100%|██████████| 128/128 [02:23<00:00,  1.12s/it]\n",
      "100%|██████████| 128/128 [01:59<00:00,  1.07it/s]\n",
      "100%|██████████| 128/128 [02:24<00:00,  1.13s/it]\n",
      "100%|██████████| 128/128 [01:58<00:00,  1.08it/s]\n",
      "100%|██████████| 128/128 [02:23<00:00,  1.12s/it]\n",
      "100%|██████████| 128/128 [01:58<00:00,  1.08it/s]\n",
      "100%|██████████| 128/128 [02:24<00:00,  1.13s/it]\n",
      "100%|██████████| 128/128 [01:59<00:00,  1.07it/s]\n",
      "100%|██████████| 128/128 [02:23<00:00,  1.12s/it]\n",
      "100%|██████████| 128/128 [01:59<00:00,  1.07it/s]\n",
      "100%|██████████| 128/128 [02:23<00:00,  1.12s/it]\n",
      "100%|██████████| 128/128 [01:59<00:00,  1.07it/s]\n",
      "100%|██████████| 128/128 [02:23<00:00,  1.12s/it]\n",
      "100%|██████████| 128/128 [01:59<00:00,  1.07it/s]\n",
      "100%|██████████| 128/128 [02:23<00:00,  1.12s/it]\n",
      "100%|██████████| 128/128 [01:58<00:00,  1.08it/s]\n",
      "100%|██████████| 128/128 [02:25<00:00,  1.13s/it]\n",
      "100%|██████████| 128/128 [01:58<00:00,  1.08it/s]\n",
      "100%|██████████| 128/128 [02:24<00:00,  1.13s/it]\n",
      "100%|██████████| 128/128 [01:59<00:00,  1.07it/s]\n",
      "100%|██████████| 128/128 [02:23<00:00,  1.12s/it]\n",
      "100%|██████████| 128/128 [02:00<00:00,  1.07it/s]\n",
      "100%|██████████| 128/128 [02:24<00:00,  1.13s/it]\n",
      "100%|██████████| 128/128 [02:00<00:00,  1.06it/s]\n",
      "100%|██████████| 128/128 [02:24<00:00,  1.13s/it]\n",
      "100%|██████████| 128/128 [01:59<00:00,  1.08it/s]\n",
      "100%|██████████| 128/128 [02:24<00:00,  1.13s/it]\n",
      "100%|██████████| 128/128 [01:59<00:00,  1.07it/s]\n",
      "100%|██████████| 128/128 [02:24<00:00,  1.13s/it]\n",
      "100%|██████████| 128/128 [01:58<00:00,  1.08it/s]\n",
      "100%|██████████| 128/128 [02:23<00:00,  1.12s/it]\n",
      "100%|██████████| 128/128 [01:59<00:00,  1.07it/s]\n",
      "100%|██████████| 128/128 [02:22<00:00,  1.11s/it]\n",
      "100%|██████████| 128/128 [01:59<00:00,  1.07it/s]\n",
      "100%|██████████| 128/128 [02:23<00:00,  1.12s/it]\n",
      "100%|██████████| 128/128 [02:00<00:00,  1.06it/s]\n",
      "100%|██████████| 16/16 [00:18<00:00,  1.13s/it]\n",
      "100%|██████████| 16/16 [00:14<00:00,  1.08it/s]\n"
     ]
    }
   ],
   "source": [
    "train_and_save(5)"
   ]
  },
  {
   "cell_type": "code",
   "execution_count": null,
   "metadata": {
    "scrolled": true
   },
   "outputs": [
    {
     "name": "stdout",
     "output_type": "stream",
     "text": [
      "Training loss tf.Tensor(0.7355691, shape=(), dtype=float32)\n",
      "Training loss tf.Tensor(0.0414138, shape=(), dtype=float32)\n",
      "Training loss tf.Tensor(0.02884664, shape=(), dtype=float32)\n",
      "Training loss tf.Tensor(0.020415848, shape=(), dtype=float32)\n",
      "Training loss tf.Tensor(0.01807487, shape=(), dtype=float32)\n",
      "Training loss tf.Tensor(0.016070195, shape=(), dtype=float32)\n",
      "Training loss tf.Tensor(0.02012305, shape=(), dtype=float32)\n",
      "Training loss tf.Tensor(0.01105589, shape=(), dtype=float32)\n",
      "Training loss tf.Tensor(0.014650123, shape=(), dtype=float32)\n",
      "Training loss tf.Tensor(0.015350396, shape=(), dtype=float32)\n"
     ]
    },
    {
     "name": "stderr",
     "output_type": "stream",
     "text": [
      "100%|██████████| 128/128 [02:23<00:00,  1.12s/it]\n",
      "100%|██████████| 128/128 [01:57<00:00,  1.08it/s]\n",
      "100%|██████████| 128/128 [02:24<00:00,  1.13s/it]\n",
      "100%|██████████| 128/128 [01:58<00:00,  1.08it/s]\n",
      "100%|██████████| 128/128 [02:24<00:00,  1.13s/it]\n",
      "100%|██████████| 128/128 [01:58<00:00,  1.08it/s]\n",
      "100%|██████████| 128/128 [02:23<00:00,  1.12s/it]\n",
      "100%|██████████| 128/128 [01:58<00:00,  1.08it/s]\n",
      "100%|██████████| 128/128 [02:24<00:00,  1.13s/it]\n",
      "100%|██████████| 128/128 [01:59<00:00,  1.08it/s]\n",
      "100%|██████████| 128/128 [02:22<00:00,  1.12s/it]\n",
      "100%|██████████| 128/128 [01:58<00:00,  1.08it/s]\n",
      "100%|██████████| 128/128 [02:24<00:00,  1.13s/it]\n",
      "100%|██████████| 128/128 [01:58<00:00,  1.08it/s]\n",
      "100%|██████████| 128/128 [02:24<00:00,  1.13s/it]\n",
      "100%|██████████| 128/128 [01:57<00:00,  1.09it/s]\n",
      "100%|██████████| 128/128 [02:23<00:00,  1.12s/it]\n",
      "100%|██████████| 128/128 [01:58<00:00,  1.08it/s]\n",
      "100%|██████████| 128/128 [02:24<00:00,  1.13s/it]\n",
      "100%|██████████| 128/128 [01:58<00:00,  1.08it/s]\n",
      "100%|██████████| 128/128 [02:23<00:00,  1.12s/it]\n",
      "100%|██████████| 128/128 [01:58<00:00,  1.08it/s]\n",
      "100%|██████████| 128/128 [02:23<00:00,  1.12s/it]\n",
      "100%|██████████| 128/128 [01:58<00:00,  1.08it/s]\n",
      "100%|██████████| 128/128 [02:25<00:00,  1.13s/it]\n",
      "100%|██████████| 128/128 [01:59<00:00,  1.07it/s]\n",
      "100%|██████████| 128/128 [02:23<00:00,  1.12s/it]\n",
      "100%|██████████| 128/128 [01:58<00:00,  1.08it/s]\n",
      "100%|██████████| 128/128 [02:25<00:00,  1.14s/it]\n",
      "100%|██████████| 128/128 [01:58<00:00,  1.08it/s]\n",
      "100%|██████████| 128/128 [02:24<00:00,  1.13s/it]\n",
      "100%|██████████| 128/128 [01:59<00:00,  1.07it/s]\n",
      "100%|██████████| 128/128 [02:23<00:00,  1.12s/it]\n",
      "100%|██████████| 128/128 [01:58<00:00,  1.08it/s]\n",
      "100%|██████████| 128/128 [02:24<00:00,  1.13s/it]\n",
      "100%|██████████| 128/128 [01:58<00:00,  1.08it/s]\n",
      "100%|██████████| 128/128 [02:24<00:00,  1.13s/it]\n",
      "100%|██████████| 128/128 [01:58<00:00,  1.08it/s]\n",
      "100%|██████████| 128/128 [02:24<00:00,  1.13s/it]\n",
      "100%|██████████| 128/128 [01:59<00:00,  1.07it/s]\n",
      "100%|██████████| 128/128 [02:23<00:00,  1.12s/it]\n",
      "100%|██████████| 128/128 [01:57<00:00,  1.09it/s]\n",
      "100%|██████████| 128/128 [02:23<00:00,  1.12s/it]\n",
      "100%|██████████| 128/128 [01:58<00:00,  1.08it/s]\n",
      "100%|██████████| 128/128 [02:24<00:00,  1.13s/it]\n",
      "100%|██████████| 128/128 [01:58<00:00,  1.08it/s]\n",
      "100%|██████████| 128/128 [02:24<00:00,  1.13s/it]\n",
      "100%|██████████| 128/128 [01:59<00:00,  1.07it/s]\n",
      "100%|██████████| 128/128 [02:25<00:00,  1.13s/it]\n",
      "100%|██████████| 128/128 [01:58<00:00,  1.08it/s]\n",
      "100%|██████████| 128/128 [02:24<00:00,  1.13s/it]\n",
      "100%|██████████| 128/128 [01:58<00:00,  1.08it/s]\n",
      "100%|██████████| 128/128 [02:23<00:00,  1.12s/it]\n",
      "100%|██████████| 128/128 [01:58<00:00,  1.08it/s]\n",
      "100%|██████████| 128/128 [02:25<00:00,  1.13s/it]\n",
      "100%|██████████| 128/128 [01:58<00:00,  1.08it/s]\n",
      "100%|██████████| 128/128 [02:23<00:00,  1.12s/it]\n",
      "100%|██████████| 128/128 [01:58<00:00,  1.08it/s]\n",
      "100%|██████████| 128/128 [02:24<00:00,  1.13s/it]\n",
      "100%|██████████| 128/128 [01:59<00:00,  1.07it/s]\n",
      "100%|██████████| 128/128 [02:29<00:00,  1.17s/it]\n",
      "100%|██████████| 128/128 [02:01<00:00,  1.06it/s]\n",
      "100%|██████████| 128/128 [02:26<00:00,  1.14s/it]\n",
      "100%|██████████| 128/128 [02:00<00:00,  1.06it/s]\n",
      "100%|██████████| 128/128 [02:25<00:00,  1.14s/it]\n",
      "100%|██████████| 128/128 [01:58<00:00,  1.08it/s]\n",
      "100%|██████████| 128/128 [02:29<00:00,  1.17s/it]\n",
      "100%|██████████| 128/128 [01:58<00:00,  1.08it/s]\n",
      "100%|██████████| 128/128 [02:27<00:00,  1.16s/it]\n",
      "100%|██████████| 128/128 [02:07<00:00,  1.01it/s]\n",
      "100%|██████████| 128/128 [02:32<00:00,  1.19s/it]\n",
      "100%|██████████| 128/128 [02:10<00:00,  1.02s/it]\n",
      "100%|██████████| 128/128 [02:29<00:00,  1.16s/it]\n",
      "100%|██████████| 128/128 [02:01<00:00,  1.05it/s]\n",
      "100%|██████████| 128/128 [02:26<00:00,  1.14s/it]\n",
      "100%|██████████| 128/128 [02:00<00:00,  1.06it/s]\n",
      "100%|██████████| 128/128 [02:28<00:00,  1.16s/it]\n",
      "100%|██████████| 128/128 [02:01<00:00,  1.06it/s]\n",
      "100%|██████████| 128/128 [02:27<00:00,  1.15s/it]\n",
      "100%|██████████| 128/128 [02:00<00:00,  1.06it/s]\n",
      "100%|██████████| 128/128 [02:26<00:00,  1.15s/it]\n",
      "100%|██████████| 128/128 [02:00<00:00,  1.06it/s]\n",
      "100%|██████████| 128/128 [02:26<00:00,  1.15s/it]\n",
      "100%|██████████| 128/128 [02:00<00:00,  1.06it/s]\n",
      "100%|██████████| 128/128 [02:27<00:00,  1.16s/it]\n",
      "100%|██████████| 128/128 [02:00<00:00,  1.06it/s]\n",
      "100%|██████████| 128/128 [02:26<00:00,  1.15s/it]\n",
      "100%|██████████| 128/128 [02:00<00:00,  1.07it/s]\n",
      "100%|██████████| 128/128 [02:26<00:00,  1.14s/it]\n",
      "100%|██████████| 128/128 [02:01<00:00,  1.06it/s]\n",
      "100%|██████████| 128/128 [02:28<00:00,  1.16s/it]\n",
      "100%|██████████| 128/128 [02:01<00:00,  1.06it/s]\n",
      "100%|██████████| 128/128 [02:27<00:00,  1.15s/it]\n",
      "100%|██████████| 128/128 [02:01<00:00,  1.06it/s]\n",
      "100%|██████████| 128/128 [02:26<00:00,  1.15s/it]\n",
      "100%|██████████| 128/128 [02:01<00:00,  1.06it/s]\n",
      "100%|██████████| 128/128 [02:27<00:00,  1.15s/it]\n",
      "100%|██████████| 128/128 [02:01<00:00,  1.05it/s]\n",
      "100%|██████████| 128/128 [02:27<00:00,  1.15s/it]\n",
      "100%|██████████| 128/128 [02:01<00:00,  1.05it/s]\n",
      "100%|██████████| 128/128 [02:27<00:00,  1.15s/it]\n",
      "100%|██████████| 128/128 [02:00<00:00,  1.06it/s]\n",
      "100%|██████████| 128/128 [02:27<00:00,  1.15s/it]\n",
      "100%|██████████| 128/128 [02:01<00:00,  1.05it/s]\n",
      "100%|██████████| 128/128 [02:27<00:00,  1.15s/it]\n",
      "100%|██████████| 128/128 [02:00<00:00,  1.06it/s]\n",
      "100%|██████████| 128/128 [02:27<00:00,  1.15s/it]\n",
      "100%|██████████| 128/128 [02:01<00:00,  1.05it/s]\n",
      "100%|██████████| 128/128 [02:27<00:00,  1.15s/it]\n",
      "100%|██████████| 128/128 [02:00<00:00,  1.06it/s]\n",
      "100%|██████████| 128/128 [02:26<00:00,  1.15s/it]\n",
      "100%|██████████| 128/128 [02:00<00:00,  1.07it/s]\n",
      "100%|██████████| 128/128 [02:28<00:00,  1.16s/it]\n",
      "100%|██████████| 128/128 [02:01<00:00,  1.05it/s]\n",
      "100%|██████████| 128/128 [02:26<00:00,  1.14s/it]\n",
      "100%|██████████| 128/128 [02:01<00:00,  1.06it/s]\n",
      "100%|██████████| 128/128 [02:27<00:00,  1.15s/it]\n",
      "100%|██████████| 128/128 [02:01<00:00,  1.05it/s]\n",
      "100%|██████████| 128/128 [02:26<00:00,  1.14s/it]\n",
      "100%|██████████| 128/128 [02:01<00:00,  1.06it/s]\n",
      "100%|██████████| 128/128 [02:28<00:00,  1.16s/it]\n",
      "100%|██████████| 128/128 [02:01<00:00,  1.05it/s]\n",
      "100%|██████████| 128/128 [02:27<00:00,  1.15s/it]\n",
      "100%|██████████| 128/128 [02:01<00:00,  1.06it/s]\n",
      "100%|██████████| 128/128 [02:28<00:00,  1.16s/it]\n",
      "100%|██████████| 128/128 [02:01<00:00,  1.06it/s]\n",
      "100%|██████████| 128/128 [02:26<00:00,  1.14s/it]\n",
      "100%|██████████| 128/128 [02:00<00:00,  1.06it/s]\n",
      "100%|██████████| 128/128 [02:27<00:00,  1.16s/it]\n",
      "100%|██████████| 128/128 [02:01<00:00,  1.05it/s]\n",
      "100%|██████████| 128/128 [02:26<00:00,  1.15s/it]\n",
      "100%|██████████| 128/128 [02:01<00:00,  1.06it/s]\n",
      "100%|██████████| 128/128 [02:26<00:00,  1.14s/it]\n",
      "100%|██████████| 128/128 [01:59<00:00,  1.07it/s]\n",
      "100%|██████████| 128/128 [02:28<00:00,  1.16s/it]\n",
      "100%|██████████| 128/128 [02:01<00:00,  1.05it/s]\n",
      "100%|██████████| 128/128 [02:28<00:00,  1.16s/it]\n",
      "100%|██████████| 128/128 [02:01<00:00,  1.05it/s]\n",
      "100%|██████████| 128/128 [02:27<00:00,  1.15s/it]\n",
      "100%|██████████| 128/128 [01:59<00:00,  1.07it/s]\n",
      "100%|██████████| 128/128 [02:27<00:00,  1.15s/it]\n",
      "100%|██████████| 128/128 [02:01<00:00,  1.05it/s]\n",
      "100%|██████████| 128/128 [02:27<00:00,  1.15s/it]\n",
      "100%|██████████| 128/128 [02:00<00:00,  1.06it/s]\n",
      "100%|██████████| 128/128 [02:28<00:00,  1.16s/it]\n",
      "100%|██████████| 128/128 [02:00<00:00,  1.06it/s]\n",
      "100%|██████████| 128/128 [02:25<00:00,  1.14s/it]\n",
      "100%|██████████| 128/128 [01:59<00:00,  1.07it/s]\n",
      "100%|██████████| 128/128 [02:26<00:00,  1.15s/it]\n",
      "100%|██████████| 128/128 [02:00<00:00,  1.06it/s]\n",
      "100%|██████████| 128/128 [02:27<00:00,  1.15s/it]\n",
      "100%|██████████| 128/128 [02:00<00:00,  1.06it/s]\n",
      "100%|██████████| 128/128 [02:25<00:00,  1.14s/it]\n",
      "100%|██████████| 128/128 [02:01<00:00,  1.06it/s]\n",
      "100%|██████████| 128/128 [02:27<00:00,  1.15s/it]\n",
      "100%|██████████| 128/128 [01:59<00:00,  1.07it/s]\n",
      "100%|██████████| 16/16 [00:18<00:00,  1.14s/it]\n",
      "100%|██████████| 16/16 [00:14<00:00,  1.08it/s]\n"
     ]
    },
    {
     "name": "stdout",
     "output_type": "stream",
     "text": [
      "Training loss tf.Tensor(0.88640463, shape=(), dtype=float32)\n",
      "Training loss tf.Tensor(0.036385942, shape=(), dtype=float32)\n",
      "Training loss tf.Tensor(0.02726989, shape=(), dtype=float32)\n",
      "Training loss tf.Tensor(0.028241556, shape=(), dtype=float32)\n",
      "Training loss tf.Tensor(0.022143053, shape=(), dtype=float32)\n",
      "Training loss tf.Tensor(0.016234966, shape=(), dtype=float32)\n",
      "Training loss tf.Tensor(0.01915556, shape=(), dtype=float32)\n",
      "Training loss tf.Tensor(0.015836399, shape=(), dtype=float32)\n",
      "Training loss tf.Tensor(0.015480615, shape=(), dtype=float32)\n",
      "Training loss tf.Tensor(0.012628876, shape=(), dtype=float32)\n"
     ]
    },
    {
     "name": "stderr",
     "output_type": "stream",
     "text": [
      "100%|██████████| 128/128 [02:25<00:00,  1.14s/it]\n",
      "100%|██████████| 128/128 [02:00<00:00,  1.07it/s]\n",
      "100%|██████████| 128/128 [02:25<00:00,  1.14s/it]\n",
      "100%|██████████| 128/128 [02:00<00:00,  1.06it/s]\n",
      "100%|██████████| 128/128 [02:25<00:00,  1.14s/it]\n",
      "100%|██████████| 128/128 [02:00<00:00,  1.06it/s]\n",
      "100%|██████████| 128/128 [02:26<00:00,  1.15s/it]\n",
      "100%|██████████| 128/128 [01:59<00:00,  1.07it/s]\n",
      "100%|██████████| 128/128 [02:25<00:00,  1.14s/it]\n",
      "100%|██████████| 128/128 [01:59<00:00,  1.07it/s]\n",
      "100%|██████████| 128/128 [02:25<00:00,  1.14s/it]\n",
      "100%|██████████| 128/128 [02:01<00:00,  1.06it/s]\n",
      "100%|██████████| 128/128 [02:26<00:00,  1.14s/it]\n",
      "100%|██████████| 128/128 [02:00<00:00,  1.06it/s]\n",
      "100%|██████████| 128/128 [02:25<00:00,  1.14s/it]\n",
      "100%|██████████| 128/128 [01:59<00:00,  1.07it/s]\n",
      "100%|██████████| 128/128 [02:26<00:00,  1.14s/it]\n",
      "100%|██████████| 128/128 [02:01<00:00,  1.06it/s]\n",
      "100%|██████████| 128/128 [02:25<00:00,  1.14s/it]\n",
      "100%|██████████| 128/128 [02:00<00:00,  1.06it/s]\n",
      "100%|██████████| 128/128 [02:25<00:00,  1.14s/it]\n",
      "100%|██████████| 128/128 [01:59<00:00,  1.07it/s]\n",
      "100%|██████████| 128/128 [02:26<00:00,  1.14s/it]\n",
      "100%|██████████| 128/128 [02:01<00:00,  1.06it/s]\n",
      "100%|██████████| 128/128 [02:28<00:00,  1.16s/it]\n",
      "100%|██████████| 128/128 [02:00<00:00,  1.06it/s]\n",
      "100%|██████████| 128/128 [02:27<00:00,  1.15s/it]\n",
      "100%|██████████| 128/128 [02:01<00:00,  1.06it/s]\n",
      "100%|██████████| 128/128 [02:25<00:00,  1.14s/it]\n",
      "100%|██████████| 128/128 [01:59<00:00,  1.08it/s]\n",
      "100%|██████████| 128/128 [02:24<00:00,  1.13s/it]\n",
      "100%|██████████| 128/128 [02:01<00:00,  1.06it/s]\n",
      "100%|██████████| 128/128 [02:24<00:00,  1.13s/it]\n",
      "100%|██████████| 128/128 [02:00<00:00,  1.06it/s]\n",
      "100%|██████████| 128/128 [02:25<00:00,  1.14s/it]\n",
      "100%|██████████| 128/128 [02:00<00:00,  1.07it/s]\n",
      "100%|██████████| 128/128 [02:26<00:00,  1.14s/it]\n",
      "100%|██████████| 128/128 [02:00<00:00,  1.06it/s]\n",
      "100%|██████████| 128/128 [02:26<00:00,  1.14s/it]\n",
      "100%|██████████| 128/128 [02:00<00:00,  1.06it/s]\n",
      "100%|██████████| 128/128 [02:24<00:00,  1.13s/it]\n",
      "100%|██████████| 128/128 [01:59<00:00,  1.07it/s]\n",
      "100%|██████████| 128/128 [02:26<00:00,  1.14s/it]\n",
      "100%|██████████| 128/128 [02:00<00:00,  1.06it/s]\n",
      "100%|██████████| 128/128 [02:25<00:00,  1.14s/it]\n",
      "100%|██████████| 128/128 [02:01<00:00,  1.05it/s]\n",
      "100%|██████████| 128/128 [02:25<00:00,  1.14s/it]\n",
      "100%|██████████| 128/128 [01:59<00:00,  1.07it/s]\n",
      "100%|██████████| 128/128 [02:25<00:00,  1.14s/it]\n",
      "100%|██████████| 128/128 [02:00<00:00,  1.06it/s]\n",
      "100%|██████████| 128/128 [02:26<00:00,  1.14s/it]\n",
      "100%|██████████| 128/128 [02:01<00:00,  1.06it/s]\n",
      "100%|██████████| 128/128 [02:26<00:00,  1.14s/it]\n",
      "100%|██████████| 128/128 [02:00<00:00,  1.06it/s]\n",
      "100%|██████████| 128/128 [02:25<00:00,  1.14s/it]\n",
      "100%|██████████| 128/128 [02:00<00:00,  1.07it/s]\n",
      "100%|██████████| 128/128 [02:25<00:00,  1.13s/it]\n",
      "100%|██████████| 128/128 [02:00<00:00,  1.06it/s]\n",
      "100%|██████████| 128/128 [02:26<00:00,  1.15s/it]\n",
      "100%|██████████| 128/128 [02:00<00:00,  1.06it/s]\n",
      "100%|██████████| 128/128 [02:25<00:00,  1.14s/it]\n",
      "100%|██████████| 128/128 [02:00<00:00,  1.06it/s]\n",
      "100%|██████████| 128/128 [02:25<00:00,  1.14s/it]\n",
      "100%|██████████| 128/128 [02:00<00:00,  1.07it/s]\n",
      "100%|██████████| 128/128 [02:25<00:00,  1.14s/it]\n",
      "100%|██████████| 128/128 [02:00<00:00,  1.06it/s]\n",
      "100%|██████████| 128/128 [02:26<00:00,  1.15s/it]\n",
      "100%|██████████| 128/128 [01:59<00:00,  1.07it/s]\n",
      "100%|██████████| 128/128 [02:25<00:00,  1.14s/it]\n",
      "100%|██████████| 128/128 [02:00<00:00,  1.06it/s]\n",
      "100%|██████████| 128/128 [02:26<00:00,  1.14s/it]\n",
      "100%|██████████| 128/128 [01:59<00:00,  1.07it/s]\n",
      "100%|██████████| 128/128 [02:25<00:00,  1.13s/it]\n",
      "100%|██████████| 128/128 [01:59<00:00,  1.07it/s]\n",
      "100%|██████████| 128/128 [02:27<00:00,  1.15s/it]\n",
      "100%|██████████| 128/128 [02:00<00:00,  1.07it/s]\n",
      "100%|██████████| 128/128 [02:25<00:00,  1.14s/it]\n",
      "100%|██████████| 128/128 [02:00<00:00,  1.06it/s]\n",
      "100%|██████████| 128/128 [02:27<00:00,  1.15s/it]\n",
      "100%|██████████| 128/128 [02:00<00:00,  1.07it/s]\n",
      "100%|██████████| 128/128 [02:25<00:00,  1.13s/it]\n",
      "100%|██████████| 128/128 [01:59<00:00,  1.07it/s]\n",
      "100%|██████████| 128/128 [02:25<00:00,  1.13s/it]\n",
      "100%|██████████| 128/128 [01:59<00:00,  1.07it/s]\n",
      "100%|██████████| 128/128 [02:26<00:00,  1.14s/it]\n",
      "100%|██████████| 128/128 [02:00<00:00,  1.06it/s]\n",
      "100%|██████████| 128/128 [02:26<00:00,  1.15s/it]\n",
      "100%|██████████| 128/128 [02:01<00:00,  1.06it/s]\n",
      "100%|██████████| 128/128 [02:25<00:00,  1.14s/it]\n",
      "100%|██████████| 128/128 [02:00<00:00,  1.06it/s]\n",
      "100%|██████████| 128/128 [02:26<00:00,  1.15s/it]\n",
      "100%|██████████| 128/128 [02:01<00:00,  1.05it/s]\n",
      "100%|██████████| 128/128 [02:26<00:00,  1.14s/it]\n",
      "100%|██████████| 128/128 [02:00<00:00,  1.06it/s]\n",
      "100%|██████████| 128/128 [02:26<00:00,  1.14s/it]\n",
      "100%|██████████| 128/128 [02:00<00:00,  1.06it/s]\n",
      "100%|██████████| 128/128 [02:26<00:00,  1.14s/it]\n",
      "100%|██████████| 128/128 [01:59<00:00,  1.07it/s]\n",
      "100%|██████████| 128/128 [02:24<00:00,  1.13s/it]\n",
      "100%|██████████| 128/128 [02:00<00:00,  1.07it/s]\n",
      "100%|██████████| 128/128 [02:24<00:00,  1.13s/it]\n",
      "100%|██████████| 128/128 [01:59<00:00,  1.07it/s]\n",
      "100%|██████████| 128/128 [02:25<00:00,  1.14s/it]\n",
      "100%|██████████| 128/128 [02:01<00:00,  1.06it/s]\n",
      "100%|██████████| 128/128 [02:25<00:00,  1.14s/it]\n",
      "100%|██████████| 128/128 [02:01<00:00,  1.06it/s]\n",
      "100%|██████████| 128/128 [02:25<00:00,  1.14s/it]\n",
      "100%|██████████| 128/128 [02:00<00:00,  1.06it/s]\n",
      "100%|██████████| 128/128 [02:25<00:00,  1.13s/it]\n",
      "100%|██████████| 128/128 [02:00<00:00,  1.07it/s]\n",
      "100%|██████████| 128/128 [02:26<00:00,  1.14s/it]\n",
      "100%|██████████| 128/128 [02:01<00:00,  1.05it/s]\n",
      "100%|██████████| 128/128 [02:25<00:00,  1.14s/it]\n",
      "100%|██████████| 128/128 [02:00<00:00,  1.06it/s]\n",
      "100%|██████████| 128/128 [02:26<00:00,  1.14s/it]\n",
      "100%|██████████| 128/128 [02:00<00:00,  1.07it/s]\n",
      "100%|██████████| 128/128 [02:26<00:00,  1.14s/it]\n",
      "100%|██████████| 128/128 [02:01<00:00,  1.05it/s]\n",
      "100%|██████████| 128/128 [02:25<00:00,  1.13s/it]\n",
      "100%|██████████| 128/128 [02:00<00:00,  1.06it/s]\n",
      "100%|██████████| 128/128 [02:26<00:00,  1.14s/it]\n",
      "100%|██████████| 128/128 [02:00<00:00,  1.06it/s]\n",
      "100%|██████████| 128/128 [02:26<00:00,  1.14s/it]\n",
      "100%|██████████| 128/128 [02:00<00:00,  1.06it/s]\n",
      "100%|██████████| 128/128 [02:26<00:00,  1.14s/it]\n",
      "100%|██████████| 128/128 [02:01<00:00,  1.06it/s]\n",
      "100%|██████████| 128/128 [02:27<00:00,  1.15s/it]\n",
      "100%|██████████| 128/128 [02:00<00:00,  1.06it/s]\n",
      "100%|██████████| 128/128 [02:25<00:00,  1.14s/it]\n",
      "100%|██████████| 128/128 [01:59<00:00,  1.07it/s]\n",
      "100%|██████████| 128/128 [02:25<00:00,  1.14s/it]\n",
      "100%|██████████| 128/128 [02:00<00:00,  1.07it/s]\n",
      "100%|██████████| 128/128 [02:26<00:00,  1.15s/it]\n",
      "100%|██████████| 128/128 [02:01<00:00,  1.05it/s]\n",
      "100%|██████████| 128/128 [02:26<00:00,  1.14s/it]\n",
      "100%|██████████| 128/128 [02:00<00:00,  1.06it/s]\n",
      "100%|██████████| 128/128 [02:25<00:00,  1.14s/it]\n",
      "100%|██████████| 128/128 [02:01<00:00,  1.05it/s]\n",
      "100%|██████████| 128/128 [02:25<00:00,  1.14s/it]\n",
      "100%|██████████| 128/128 [01:59<00:00,  1.07it/s]\n",
      "100%|██████████| 128/128 [02:26<00:00,  1.14s/it]\n",
      "100%|██████████| 128/128 [02:00<00:00,  1.06it/s]\n",
      "100%|██████████| 128/128 [02:25<00:00,  1.14s/it]\n",
      "100%|██████████| 128/128 [02:01<00:00,  1.06it/s]\n",
      "100%|██████████| 128/128 [02:25<00:00,  1.14s/it]\n",
      "100%|██████████| 128/128 [01:59<00:00,  1.07it/s]\n",
      "100%|██████████| 128/128 [02:25<00:00,  1.14s/it]\n",
      "100%|██████████| 128/128 [02:01<00:00,  1.06it/s]\n",
      "100%|██████████| 128/128 [02:26<00:00,  1.15s/it]\n",
      "100%|██████████| 128/128 [02:00<00:00,  1.06it/s]\n",
      "100%|██████████| 128/128 [02:26<00:00,  1.14s/it]\n",
      "100%|██████████| 128/128 [02:00<00:00,  1.07it/s]\n",
      "100%|██████████| 128/128 [02:25<00:00,  1.14s/it]\n",
      "100%|██████████| 128/128 [02:00<00:00,  1.06it/s]\n",
      "100%|██████████| 128/128 [02:26<00:00,  1.15s/it]\n",
      "100%|██████████| 128/128 [02:00<00:00,  1.06it/s]\n",
      "100%|██████████| 16/16 [00:18<00:00,  1.14s/it]\n",
      "100%|██████████| 16/16 [00:15<00:00,  1.06it/s]\n"
     ]
    },
    {
     "name": "stdout",
     "output_type": "stream",
     "text": [
      "Training loss tf.Tensor(0.6623397, shape=(), dtype=float32)\n",
      "Training loss tf.Tensor(0.035598926, shape=(), dtype=float32)\n",
      "Training loss tf.Tensor(0.026972722, shape=(), dtype=float32)\n",
      "Training loss tf.Tensor(0.01758653, shape=(), dtype=float32)\n",
      "Training loss tf.Tensor(0.017735658, shape=(), dtype=float32)\n",
      "Training loss tf.Tensor(0.01793126, shape=(), dtype=float32)\n",
      "Training loss tf.Tensor(0.015347942, shape=(), dtype=float32)\n",
      "Training loss tf.Tensor(0.015430205, shape=(), dtype=float32)\n",
      "Training loss tf.Tensor(0.015016308, shape=(), dtype=float32)\n",
      "Training loss tf.Tensor(0.010979011, shape=(), dtype=float32)\n"
     ]
    },
    {
     "name": "stderr",
     "output_type": "stream",
     "text": [
      "100%|██████████| 128/128 [02:25<00:00,  1.14s/it]\n",
      "100%|██████████| 128/128 [02:00<00:00,  1.06it/s]\n",
      "100%|██████████| 128/128 [02:26<00:00,  1.14s/it]\n",
      "100%|██████████| 128/128 [02:01<00:00,  1.05it/s]\n",
      "100%|██████████| 128/128 [02:26<00:00,  1.15s/it]\n",
      "100%|██████████| 128/128 [02:01<00:00,  1.05it/s]\n",
      "100%|██████████| 128/128 [02:27<00:00,  1.15s/it]\n",
      "100%|██████████| 128/128 [02:01<00:00,  1.05it/s]\n",
      "100%|██████████| 128/128 [02:27<00:00,  1.15s/it]\n",
      "100%|██████████| 128/128 [02:02<00:00,  1.05it/s]\n",
      "100%|██████████| 128/128 [02:26<00:00,  1.14s/it]\n",
      "100%|██████████| 128/128 [02:01<00:00,  1.06it/s]\n",
      "100%|██████████| 128/128 [02:26<00:00,  1.14s/it]\n",
      "100%|██████████| 128/128 [02:02<00:00,  1.05it/s]\n",
      "100%|██████████| 128/128 [02:25<00:00,  1.14s/it]\n",
      "100%|██████████| 128/128 [02:01<00:00,  1.06it/s]\n",
      "100%|██████████| 128/128 [02:26<00:00,  1.14s/it]\n",
      "100%|██████████| 128/128 [02:01<00:00,  1.05it/s]\n",
      "100%|██████████| 128/128 [02:25<00:00,  1.14s/it]\n",
      "100%|██████████| 128/128 [02:01<00:00,  1.06it/s]\n",
      "100%|██████████| 128/128 [02:26<00:00,  1.14s/it]\n",
      "100%|██████████| 128/128 [02:01<00:00,  1.05it/s]\n",
      "100%|██████████| 128/128 [02:25<00:00,  1.14s/it]\n",
      "100%|██████████| 128/128 [02:02<00:00,  1.05it/s]\n",
      "100%|██████████| 128/128 [02:27<00:00,  1.15s/it]\n",
      "100%|██████████| 128/128 [02:01<00:00,  1.05it/s]\n",
      "100%|██████████| 128/128 [02:26<00:00,  1.14s/it]\n",
      "100%|██████████| 128/128 [02:02<00:00,  1.04it/s]\n",
      "100%|██████████| 128/128 [02:26<00:00,  1.14s/it]\n",
      "100%|██████████| 128/128 [01:58<00:00,  1.08it/s]\n",
      "100%|██████████| 128/128 [02:25<00:00,  1.13s/it]\n",
      "100%|██████████| 128/128 [02:01<00:00,  1.06it/s]\n",
      "100%|██████████| 128/128 [02:25<00:00,  1.14s/it]\n",
      "100%|██████████| 128/128 [02:01<00:00,  1.05it/s]\n",
      "100%|██████████| 128/128 [02:26<00:00,  1.14s/it]\n",
      "100%|██████████| 128/128 [02:01<00:00,  1.06it/s]\n",
      "100%|██████████| 128/128 [02:26<00:00,  1.15s/it]\n",
      "100%|██████████| 128/128 [02:01<00:00,  1.05it/s]\n",
      "100%|██████████| 128/128 [02:25<00:00,  1.14s/it]\n",
      "100%|██████████| 128/128 [02:00<00:00,  1.06it/s]\n",
      "100%|██████████| 128/128 [02:25<00:00,  1.14s/it]\n",
      "100%|██████████| 128/128 [02:00<00:00,  1.06it/s]\n",
      "100%|██████████| 128/128 [02:26<00:00,  1.15s/it]\n",
      "100%|██████████| 128/128 [02:00<00:00,  1.06it/s]\n",
      "100%|██████████| 128/128 [02:27<00:00,  1.15s/it]\n",
      "100%|██████████| 128/128 [02:02<00:00,  1.05it/s]\n",
      "100%|██████████| 128/128 [02:27<00:00,  1.15s/it]\n",
      "100%|██████████| 128/128 [02:02<00:00,  1.05it/s]\n",
      "100%|██████████| 128/128 [02:26<00:00,  1.14s/it]\n",
      "100%|██████████| 128/128 [02:01<00:00,  1.06it/s]\n",
      "100%|██████████| 128/128 [02:27<00:00,  1.15s/it]\n",
      "100%|██████████| 128/128 [02:02<00:00,  1.05it/s]\n",
      "100%|██████████| 128/128 [02:25<00:00,  1.14s/it]\n",
      "100%|██████████| 128/128 [02:01<00:00,  1.05it/s]\n",
      "100%|██████████| 128/128 [02:26<00:00,  1.14s/it]\n",
      "100%|██████████| 128/128 [02:01<00:00,  1.05it/s]\n",
      "100%|██████████| 128/128 [02:26<00:00,  1.14s/it]\n",
      "100%|██████████| 128/128 [02:02<00:00,  1.05it/s]\n",
      "100%|██████████| 128/128 [02:25<00:00,  1.14s/it]\n",
      "100%|██████████| 128/128 [02:01<00:00,  1.05it/s]\n",
      "100%|██████████| 128/128 [02:25<00:00,  1.14s/it]\n",
      "100%|██████████| 128/128 [02:00<00:00,  1.06it/s]\n",
      "100%|██████████| 128/128 [02:27<00:00,  1.15s/it]\n",
      "100%|██████████| 128/128 [02:02<00:00,  1.04it/s]\n",
      "100%|██████████| 128/128 [02:26<00:00,  1.15s/it]\n",
      "100%|██████████| 128/128 [02:02<00:00,  1.04it/s]\n",
      "100%|██████████| 128/128 [02:27<00:00,  1.15s/it]\n",
      "100%|██████████| 128/128 [02:01<00:00,  1.06it/s]\n",
      "100%|██████████| 128/128 [02:26<00:00,  1.14s/it]\n",
      "100%|██████████| 128/128 [02:02<00:00,  1.05it/s]\n",
      "100%|██████████| 128/128 [02:26<00:00,  1.15s/it]\n",
      "100%|██████████| 128/128 [02:00<00:00,  1.06it/s]\n",
      "100%|██████████| 128/128 [02:26<00:00,  1.14s/it]\n",
      "100%|██████████| 128/128 [02:00<00:00,  1.06it/s]\n",
      "100%|██████████| 128/128 [02:25<00:00,  1.14s/it]\n",
      "100%|██████████| 128/128 [02:01<00:00,  1.05it/s]\n",
      "100%|██████████| 128/128 [02:26<00:00,  1.15s/it]\n",
      "100%|██████████| 128/128 [02:00<00:00,  1.06it/s]\n",
      "100%|██████████| 128/128 [02:26<00:00,  1.15s/it]\n",
      "100%|██████████| 128/128 [02:02<00:00,  1.05it/s]\n",
      "100%|██████████| 128/128 [02:25<00:00,  1.14s/it]\n",
      "100%|██████████| 128/128 [02:01<00:00,  1.05it/s]\n",
      "100%|██████████| 128/128 [02:25<00:00,  1.14s/it]\n",
      "100%|██████████| 128/128 [02:01<00:00,  1.05it/s]\n",
      "100%|██████████| 128/128 [02:27<00:00,  1.15s/it]\n",
      "100%|██████████| 128/128 [02:02<00:00,  1.04it/s]\n",
      "100%|██████████| 128/128 [02:27<00:00,  1.15s/it]\n",
      "100%|██████████| 128/128 [02:02<00:00,  1.05it/s]\n",
      "100%|██████████| 128/128 [02:26<00:00,  1.15s/it]\n",
      "100%|██████████| 128/128 [02:00<00:00,  1.06it/s]\n",
      "100%|██████████| 128/128 [02:27<00:00,  1.15s/it]\n",
      "100%|██████████| 128/128 [02:00<00:00,  1.06it/s]\n",
      "100%|██████████| 128/128 [02:26<00:00,  1.15s/it]\n",
      "100%|██████████| 128/128 [02:00<00:00,  1.06it/s]\n",
      "100%|██████████| 128/128 [02:25<00:00,  1.14s/it]\n",
      "100%|██████████| 128/128 [02:01<00:00,  1.05it/s]\n",
      "100%|██████████| 128/128 [02:27<00:00,  1.15s/it]\n",
      "100%|██████████| 128/128 [02:02<00:00,  1.05it/s]\n",
      "100%|██████████| 128/128 [02:26<00:00,  1.14s/it]\n",
      "100%|██████████| 128/128 [02:01<00:00,  1.05it/s]\n",
      "100%|██████████| 128/128 [02:27<00:00,  1.15s/it]\n",
      "100%|██████████| 128/128 [02:01<00:00,  1.05it/s]\n",
      "100%|██████████| 128/128 [02:26<00:00,  1.14s/it]\n",
      "100%|██████████| 128/128 [02:00<00:00,  1.06it/s]\n",
      "100%|██████████| 128/128 [02:26<00:00,  1.14s/it]\n",
      "100%|██████████| 128/128 [02:01<00:00,  1.05it/s]\n",
      "100%|██████████| 128/128 [02:28<00:00,  1.16s/it]\n",
      "100%|██████████| 128/128 [02:01<00:00,  1.05it/s]\n",
      "100%|██████████| 128/128 [02:26<00:00,  1.15s/it]\n",
      "100%|██████████| 128/128 [02:01<00:00,  1.05it/s]\n",
      "100%|██████████| 128/128 [02:25<00:00,  1.14s/it]\n",
      "100%|██████████| 128/128 [02:01<00:00,  1.05it/s]\n",
      "100%|██████████| 128/128 [02:26<00:00,  1.14s/it]\n",
      "100%|██████████| 128/128 [02:02<00:00,  1.05it/s]\n",
      "100%|██████████| 128/128 [02:26<00:00,  1.15s/it]\n",
      "100%|██████████| 128/128 [02:01<00:00,  1.05it/s]\n",
      "100%|██████████| 128/128 [02:26<00:00,  1.15s/it]\n",
      "100%|██████████| 128/128 [02:01<00:00,  1.06it/s]\n",
      "100%|██████████| 128/128 [02:25<00:00,  1.14s/it]\n",
      "100%|██████████| 128/128 [02:01<00:00,  1.06it/s]\n",
      "100%|██████████| 128/128 [02:26<00:00,  1.15s/it]\n",
      "100%|██████████| 128/128 [02:01<00:00,  1.06it/s]\n",
      "100%|██████████| 128/128 [02:27<00:00,  1.15s/it]\n",
      "100%|██████████| 128/128 [02:02<00:00,  1.05it/s]\n",
      "100%|██████████| 128/128 [02:26<00:00,  1.14s/it]\n",
      "100%|██████████| 128/128 [02:01<00:00,  1.05it/s]\n",
      "100%|██████████| 128/128 [02:27<00:00,  1.15s/it]\n",
      "100%|██████████| 128/128 [02:02<00:00,  1.05it/s]\n",
      "100%|██████████| 128/128 [02:25<00:00,  1.14s/it]\n",
      "100%|██████████| 128/128 [02:01<00:00,  1.05it/s]\n",
      "100%|██████████| 128/128 [02:26<00:00,  1.15s/it]\n",
      "100%|██████████| 128/128 [02:01<00:00,  1.05it/s]\n",
      "100%|██████████| 128/128 [02:26<00:00,  1.14s/it]\n",
      "100%|██████████| 128/128 [02:01<00:00,  1.05it/s]\n",
      "100%|██████████| 128/128 [02:28<00:00,  1.16s/it]\n",
      "100%|██████████| 128/128 [02:02<00:00,  1.04it/s]\n",
      "100%|██████████| 128/128 [02:26<00:00,  1.15s/it]\n",
      "100%|██████████| 128/128 [02:02<00:00,  1.05it/s]\n",
      "100%|██████████| 128/128 [02:25<00:00,  1.13s/it]\n",
      "100%|██████████| 128/128 [02:00<00:00,  1.06it/s]\n",
      "100%|██████████| 128/128 [02:27<00:00,  1.15s/it]\n",
      "100%|██████████| 128/128 [02:02<00:00,  1.05it/s]\n",
      "100%|██████████| 128/128 [02:27<00:00,  1.15s/it]\n",
      "100%|██████████| 128/128 [02:01<00:00,  1.06it/s]\n",
      "100%|██████████| 128/128 [02:26<00:00,  1.14s/it]\n",
      "100%|██████████| 128/128 [02:01<00:00,  1.05it/s]\n",
      "100%|██████████| 128/128 [02:27<00:00,  1.15s/it]\n",
      "100%|██████████| 128/128 [02:02<00:00,  1.04it/s]\n",
      "100%|██████████| 128/128 [02:26<00:00,  1.14s/it]\n",
      "100%|██████████| 128/128 [02:01<00:00,  1.06it/s]\n",
      "100%|██████████| 128/128 [02:26<00:00,  1.14s/it]\n",
      "100%|██████████| 128/128 [02:01<00:00,  1.05it/s]\n",
      "100%|██████████| 128/128 [02:25<00:00,  1.14s/it]\n",
      "100%|██████████| 128/128 [02:01<00:00,  1.05it/s]\n",
      "100%|██████████| 128/128 [02:27<00:00,  1.15s/it]\n",
      "100%|██████████| 128/128 [02:01<00:00,  1.05it/s]\n",
      "100%|██████████| 16/16 [00:17<00:00,  1.12s/it]\n",
      "100%|██████████| 16/16 [00:14<00:00,  1.07it/s]\n"
     ]
    },
    {
     "name": "stdout",
     "output_type": "stream",
     "text": [
      "Training loss tf.Tensor(1.1045098, shape=(), dtype=float32)\n",
      "Training loss tf.Tensor(0.041148685, shape=(), dtype=float32)\n",
      "Training loss tf.Tensor(0.02673839, shape=(), dtype=float32)\n",
      "Training loss tf.Tensor(0.023829194, shape=(), dtype=float32)\n",
      "Training loss tf.Tensor(0.017580597, shape=(), dtype=float32)\n",
      "Training loss tf.Tensor(0.0197622, shape=(), dtype=float32)\n",
      "Training loss tf.Tensor(0.015742697, shape=(), dtype=float32)\n",
      "Training loss tf.Tensor(0.020298526, shape=(), dtype=float32)\n",
      "Training loss tf.Tensor(0.0152607, shape=(), dtype=float32)\n",
      "Training loss tf.Tensor(0.011773767, shape=(), dtype=float32)\n"
     ]
    },
    {
     "name": "stderr",
     "output_type": "stream",
     "text": [
      "100%|██████████| 128/128 [02:26<00:00,  1.15s/it]\n",
      "100%|██████████| 128/128 [02:01<00:00,  1.05it/s]\n",
      "100%|██████████| 128/128 [02:25<00:00,  1.14s/it]\n",
      "100%|██████████| 128/128 [02:02<00:00,  1.05it/s]\n",
      "100%|██████████| 128/128 [02:27<00:00,  1.15s/it]\n",
      "100%|██████████| 128/128 [02:00<00:00,  1.06it/s]\n",
      "100%|██████████| 128/128 [02:26<00:00,  1.14s/it]\n",
      "100%|██████████| 128/128 [02:02<00:00,  1.05it/s]\n",
      "100%|██████████| 128/128 [02:27<00:00,  1.15s/it]\n",
      "100%|██████████| 128/128 [02:01<00:00,  1.05it/s]\n",
      "100%|██████████| 128/128 [02:26<00:00,  1.14s/it]\n",
      "100%|██████████| 128/128 [02:02<00:00,  1.05it/s]\n",
      "100%|██████████| 128/128 [02:26<00:00,  1.14s/it]\n",
      "100%|██████████| 128/128 [02:01<00:00,  1.05it/s]\n",
      "100%|██████████| 128/128 [02:25<00:00,  1.14s/it]\n",
      "100%|██████████| 128/128 [02:01<00:00,  1.05it/s]\n",
      "100%|██████████| 128/128 [02:27<00:00,  1.15s/it]\n",
      "100%|██████████| 128/128 [02:00<00:00,  1.06it/s]\n",
      "100%|██████████| 128/128 [02:25<00:00,  1.14s/it]\n",
      "100%|██████████| 128/128 [02:01<00:00,  1.05it/s]\n",
      "100%|██████████| 128/128 [02:26<00:00,  1.15s/it]\n",
      "100%|██████████| 128/128 [02:00<00:00,  1.06it/s]\n",
      "100%|██████████| 128/128 [02:26<00:00,  1.15s/it]\n",
      "100%|██████████| 128/128 [02:01<00:00,  1.05it/s]\n",
      "100%|██████████| 128/128 [02:26<00:00,  1.15s/it]\n",
      "100%|██████████| 128/128 [02:02<00:00,  1.05it/s]\n",
      "100%|██████████| 128/128 [02:26<00:00,  1.14s/it]\n",
      "100%|██████████| 128/128 [02:00<00:00,  1.06it/s]\n",
      "100%|██████████| 128/128 [02:26<00:00,  1.15s/it]\n",
      "100%|██████████| 128/128 [02:01<00:00,  1.06it/s]\n",
      "100%|██████████| 128/128 [02:25<00:00,  1.14s/it]\n",
      "100%|██████████| 128/128 [02:01<00:00,  1.05it/s]\n",
      "100%|██████████| 128/128 [02:24<00:00,  1.13s/it]\n",
      "100%|██████████| 128/128 [02:00<00:00,  1.06it/s]\n",
      "100%|██████████| 128/128 [02:25<00:00,  1.13s/it]\n",
      "100%|██████████| 128/128 [02:00<00:00,  1.06it/s]\n",
      "100%|██████████| 128/128 [02:25<00:00,  1.14s/it]\n",
      "100%|██████████| 128/128 [02:01<00:00,  1.05it/s]\n",
      "100%|██████████| 128/128 [02:26<00:00,  1.14s/it]\n",
      "100%|██████████| 128/128 [02:00<00:00,  1.06it/s]\n",
      "100%|██████████| 128/128 [02:26<00:00,  1.15s/it]\n",
      "100%|██████████| 128/128 [02:01<00:00,  1.05it/s]\n",
      "100%|██████████| 128/128 [02:26<00:00,  1.14s/it]\n",
      "100%|██████████| 128/128 [02:02<00:00,  1.05it/s]\n",
      "100%|██████████| 128/128 [02:26<00:00,  1.14s/it]\n",
      "100%|██████████| 128/128 [02:01<00:00,  1.06it/s]\n",
      "100%|██████████| 128/128 [02:26<00:00,  1.15s/it]\n",
      "100%|██████████| 128/128 [02:02<00:00,  1.05it/s]\n",
      "100%|██████████| 128/128 [02:26<00:00,  1.15s/it]\n",
      "100%|██████████| 128/128 [02:02<00:00,  1.05it/s]\n",
      "100%|██████████| 128/128 [02:26<00:00,  1.15s/it]\n",
      "100%|██████████| 128/128 [02:01<00:00,  1.05it/s]\n",
      "100%|██████████| 128/128 [02:27<00:00,  1.15s/it]\n",
      "100%|██████████| 128/128 [02:01<00:00,  1.06it/s]\n",
      "100%|██████████| 128/128 [02:26<00:00,  1.15s/it]\n",
      "100%|██████████| 128/128 [02:01<00:00,  1.05it/s]\n",
      "100%|██████████| 128/128 [02:25<00:00,  1.14s/it]\n",
      "100%|██████████| 128/128 [02:00<00:00,  1.06it/s]\n",
      "100%|██████████| 128/128 [02:26<00:00,  1.15s/it]\n",
      "100%|██████████| 128/128 [02:01<00:00,  1.05it/s]\n",
      "100%|██████████| 128/128 [02:25<00:00,  1.14s/it]\n",
      "100%|██████████| 128/128 [02:01<00:00,  1.05it/s]\n",
      "100%|██████████| 128/128 [02:26<00:00,  1.14s/it]\n",
      "100%|██████████| 128/128 [02:01<00:00,  1.05it/s]\n",
      "100%|██████████| 128/128 [02:27<00:00,  1.15s/it]\n",
      "100%|██████████| 128/128 [02:02<00:00,  1.05it/s]\n",
      "100%|██████████| 128/128 [02:26<00:00,  1.15s/it]\n",
      "100%|██████████| 128/128 [02:01<00:00,  1.05it/s]\n",
      "100%|██████████| 128/128 [02:23<00:00,  1.12s/it]\n",
      "100%|██████████| 128/128 [02:01<00:00,  1.05it/s]\n",
      "100%|██████████| 128/128 [02:25<00:00,  1.14s/it]\n",
      "100%|██████████| 128/128 [02:01<00:00,  1.06it/s]\n",
      "100%|██████████| 128/128 [02:26<00:00,  1.14s/it]\n",
      "100%|██████████| 128/128 [02:01<00:00,  1.05it/s]\n",
      "100%|██████████| 128/128 [02:26<00:00,  1.14s/it]\n",
      "100%|██████████| 128/128 [02:00<00:00,  1.06it/s]\n",
      "100%|██████████| 128/128 [02:27<00:00,  1.15s/it]\n",
      "100%|██████████| 128/128 [02:01<00:00,  1.05it/s]\n",
      "100%|██████████| 128/128 [02:25<00:00,  1.14s/it]\n",
      "100%|██████████| 128/128 [02:01<00:00,  1.05it/s]\n",
      "100%|██████████| 128/128 [02:25<00:00,  1.13s/it]\n",
      "100%|██████████| 128/128 [02:01<00:00,  1.05it/s]\n",
      "100%|██████████| 128/128 [02:25<00:00,  1.14s/it]\n",
      "100%|██████████| 128/128 [02:01<00:00,  1.05it/s]\n",
      "100%|██████████| 128/128 [02:25<00:00,  1.14s/it]\n",
      "100%|██████████| 128/128 [02:01<00:00,  1.06it/s]\n",
      "100%|██████████| 128/128 [02:26<00:00,  1.14s/it]\n",
      "100%|██████████| 128/128 [02:01<00:00,  1.05it/s]\n",
      "100%|██████████| 128/128 [02:26<00:00,  1.14s/it]\n",
      "100%|██████████| 128/128 [02:01<00:00,  1.05it/s]\n",
      "100%|██████████| 128/128 [02:26<00:00,  1.14s/it]\n",
      "100%|██████████| 128/128 [02:01<00:00,  1.06it/s]\n",
      "100%|██████████| 128/128 [02:26<00:00,  1.14s/it]\n",
      "100%|██████████| 128/128 [02:00<00:00,  1.07it/s]\n",
      "100%|██████████| 128/128 [02:26<00:00,  1.15s/it]\n",
      "100%|██████████| 128/128 [02:00<00:00,  1.06it/s]\n",
      "100%|██████████| 128/128 [02:25<00:00,  1.14s/it]\n",
      "100%|██████████| 128/128 [02:00<00:00,  1.06it/s]\n",
      "100%|██████████| 128/128 [02:32<00:00,  1.19s/it]\n",
      "100%|██████████| 128/128 [02:01<00:00,  1.05it/s]\n",
      "100%|██████████| 128/128 [02:25<00:00,  1.13s/it]\n",
      "100%|██████████| 128/128 [02:01<00:00,  1.06it/s]\n",
      "100%|██████████| 128/128 [02:23<00:00,  1.12s/it]\n",
      "100%|██████████| 128/128 [02:00<00:00,  1.06it/s]\n",
      "100%|██████████| 128/128 [02:22<00:00,  1.11s/it]\n",
      "100%|██████████| 128/128 [01:59<00:00,  1.07it/s]\n",
      "100%|██████████| 128/128 [02:23<00:00,  1.12s/it]\n",
      "100%|██████████| 128/128 [01:59<00:00,  1.07it/s]\n",
      "100%|██████████| 128/128 [02:21<00:00,  1.11s/it]\n",
      "100%|██████████| 128/128 [01:59<00:00,  1.07it/s]\n",
      "100%|██████████| 128/128 [02:22<00:00,  1.12s/it]\n",
      "100%|██████████| 128/128 [01:58<00:00,  1.08it/s]\n",
      "100%|██████████| 128/128 [02:23<00:00,  1.12s/it]\n",
      "100%|██████████| 128/128 [01:58<00:00,  1.08it/s]\n",
      "100%|██████████| 128/128 [02:23<00:00,  1.12s/it]\n",
      "100%|██████████| 128/128 [02:00<00:00,  1.06it/s]\n",
      "100%|██████████| 128/128 [02:32<00:00,  1.19s/it]\n",
      "100%|██████████| 128/128 [02:04<00:00,  1.03it/s]\n",
      "100%|██████████| 128/128 [02:26<00:00,  1.14s/it]\n",
      "100%|██████████| 128/128 [02:01<00:00,  1.05it/s]\n",
      "100%|██████████| 128/128 [02:24<00:00,  1.13s/it]\n",
      "100%|██████████| 128/128 [02:01<00:00,  1.05it/s]\n",
      "100%|██████████| 128/128 [02:25<00:00,  1.14s/it]\n",
      "100%|██████████| 128/128 [01:59<00:00,  1.07it/s]\n",
      "100%|██████████| 128/128 [02:26<00:00,  1.14s/it]\n",
      "100%|██████████| 128/128 [02:02<00:00,  1.05it/s]\n",
      "100%|██████████| 128/128 [02:25<00:00,  1.14s/it]\n",
      "100%|██████████| 128/128 [02:00<00:00,  1.06it/s]\n",
      "100%|██████████| 128/128 [02:24<00:00,  1.13s/it]\n",
      "100%|██████████| 128/128 [02:00<00:00,  1.06it/s]\n",
      "100%|██████████| 128/128 [02:25<00:00,  1.13s/it]\n",
      "100%|██████████| 128/128 [01:59<00:00,  1.07it/s]\n",
      "100%|██████████| 128/128 [02:25<00:00,  1.14s/it]\n",
      "100%|██████████| 128/128 [02:01<00:00,  1.05it/s]\n",
      "100%|██████████| 128/128 [02:25<00:00,  1.14s/it]\n",
      "100%|██████████| 128/128 [02:01<00:00,  1.05it/s]\n",
      "100%|██████████| 128/128 [02:25<00:00,  1.13s/it]\n",
      "100%|██████████| 128/128 [02:02<00:00,  1.05it/s]\n",
      "100%|██████████| 128/128 [02:26<00:00,  1.14s/it]\n",
      "100%|██████████| 128/128 [02:01<00:00,  1.05it/s]\n",
      "100%|██████████| 128/128 [02:26<00:00,  1.14s/it]\n",
      "100%|██████████| 128/128 [02:01<00:00,  1.05it/s]\n",
      "100%|██████████| 128/128 [02:26<00:00,  1.15s/it]\n",
      "100%|██████████| 128/128 [02:02<00:00,  1.05it/s]\n",
      "100%|██████████| 128/128 [02:25<00:00,  1.14s/it]\n",
      "100%|██████████| 128/128 [02:02<00:00,  1.05it/s]\n",
      "100%|██████████| 128/128 [02:25<00:00,  1.14s/it]\n",
      " 95%|█████████▌| 122/128 [01:57<00:05,  1.03it/s]"
     ]
    }
   ],
   "source": [
    "for i in range(4):\n",
    "    train_and_save(i)"
   ]
  },
  {
   "cell_type": "code",
   "execution_count": 47,
   "metadata": {
    "scrolled": true
   },
   "outputs": [
    {
     "name": "stdout",
     "output_type": "stream",
     "text": [
      "Training loss tf.Tensor(0.98066443, shape=(), dtype=float32)\n",
      "Training loss tf.Tensor(0.048860334, shape=(), dtype=float32)\n",
      "Training loss tf.Tensor(0.027566278, shape=(), dtype=float32)\n",
      "Training loss tf.Tensor(0.024259765, shape=(), dtype=float32)\n",
      "Training loss tf.Tensor(0.019768137, shape=(), dtype=float32)\n",
      "Training loss tf.Tensor(0.0242156, shape=(), dtype=float32)\n",
      "Training loss tf.Tensor(0.016052898, shape=(), dtype=float32)\n",
      "Training loss tf.Tensor(0.014561225, shape=(), dtype=float32)\n",
      "Training loss tf.Tensor(0.013656006, shape=(), dtype=float32)\n",
      "Training loss tf.Tensor(0.009520875, shape=(), dtype=float32)\n"
     ]
    },
    {
     "name": "stderr",
     "output_type": "stream",
     "text": [
      "100%|██████████| 128/128 [02:23<00:00,  1.12s/it]\n",
      "100%|██████████| 128/128 [02:00<00:00,  1.06it/s]\n",
      "100%|██████████| 128/128 [02:32<00:00,  1.19s/it]\n",
      "100%|██████████| 128/128 [02:07<00:00,  1.01it/s]\n",
      "100%|██████████| 128/128 [02:34<00:00,  1.21s/it]\n",
      "100%|██████████| 128/128 [02:08<00:00,  1.00s/it]\n",
      "100%|██████████| 128/128 [02:24<00:00,  1.13s/it]\n",
      "100%|██████████| 128/128 [02:00<00:00,  1.06it/s]\n",
      "100%|██████████| 128/128 [02:24<00:00,  1.13s/it]\n",
      "100%|██████████| 128/128 [02:00<00:00,  1.06it/s]\n",
      "100%|██████████| 128/128 [02:24<00:00,  1.13s/it]\n",
      "100%|██████████| 128/128 [02:00<00:00,  1.06it/s]\n",
      "100%|██████████| 128/128 [02:26<00:00,  1.15s/it]\n",
      "100%|██████████| 128/128 [01:59<00:00,  1.07it/s]\n",
      "100%|██████████| 128/128 [02:26<00:00,  1.14s/it]\n",
      "100%|██████████| 128/128 [02:01<00:00,  1.06it/s]\n",
      "100%|██████████| 128/128 [02:24<00:00,  1.13s/it]\n",
      "100%|██████████| 128/128 [02:00<00:00,  1.06it/s]\n",
      "100%|██████████| 128/128 [02:23<00:00,  1.12s/it]\n",
      "100%|██████████| 128/128 [01:59<00:00,  1.07it/s]\n",
      "100%|██████████| 128/128 [02:24<00:00,  1.13s/it]\n",
      "100%|██████████| 128/128 [01:59<00:00,  1.07it/s]\n",
      "100%|██████████| 128/128 [02:24<00:00,  1.13s/it]\n",
      "100%|██████████| 128/128 [02:00<00:00,  1.06it/s]\n",
      "100%|██████████| 128/128 [02:25<00:00,  1.13s/it]\n",
      "100%|██████████| 128/128 [02:00<00:00,  1.06it/s]\n",
      "100%|██████████| 128/128 [02:25<00:00,  1.13s/it]\n",
      "100%|██████████| 128/128 [01:59<00:00,  1.07it/s]\n",
      "100%|██████████| 128/128 [02:25<00:00,  1.14s/it]\n",
      "100%|██████████| 128/128 [02:00<00:00,  1.06it/s]\n",
      "100%|██████████| 128/128 [02:24<00:00,  1.13s/it]\n",
      "100%|██████████| 128/128 [01:59<00:00,  1.07it/s]\n",
      "100%|██████████| 128/128 [02:24<00:00,  1.13s/it]\n",
      "100%|██████████| 128/128 [02:24<00:00,  1.13s/it]\n",
      "100%|██████████| 128/128 [02:00<00:00,  1.06it/s]\n",
      "100%|██████████| 128/128 [02:24<00:00,  1.13s/it]\n",
      "100%|██████████| 128/128 [02:01<00:00,  1.06it/s]\n",
      "100%|██████████| 128/128 [02:24<00:00,  1.13s/it]\n",
      "100%|██████████| 128/128 [01:59<00:00,  1.07it/s]\n",
      "100%|██████████| 128/128 [02:24<00:00,  1.13s/it]\n",
      "100%|██████████| 128/128 [01:59<00:00,  1.07it/s]\n",
      "100%|██████████| 128/128 [02:24<00:00,  1.13s/it]\n",
      "100%|██████████| 128/128 [02:01<00:00,  1.05it/s]\n",
      "100%|██████████| 128/128 [02:25<00:00,  1.14s/it]\n",
      "100%|██████████| 128/128 [02:00<00:00,  1.06it/s]\n",
      "100%|██████████| 128/128 [02:24<00:00,  1.13s/it]\n",
      "100%|██████████| 128/128 [02:00<00:00,  1.06it/s]\n",
      "100%|██████████| 128/128 [02:23<00:00,  1.12s/it]\n",
      "100%|██████████| 128/128 [02:00<00:00,  1.06it/s]\n",
      "100%|██████████| 128/128 [02:24<00:00,  1.13s/it]\n",
      "100%|██████████| 128/128 [02:00<00:00,  1.06it/s]\n",
      "100%|██████████| 128/128 [02:25<00:00,  1.14s/it]\n",
      "100%|██████████| 128/128 [02:01<00:00,  1.05it/s]\n",
      "100%|██████████| 128/128 [02:26<00:00,  1.14s/it]\n",
      "100%|██████████| 128/128 [02:01<00:00,  1.05it/s]\n",
      "100%|██████████| 128/128 [02:25<00:00,  1.14s/it]\n",
      "100%|██████████| 128/128 [01:59<00:00,  1.07it/s]\n",
      "100%|██████████| 128/128 [02:25<00:00,  1.13s/it]\n",
      "100%|██████████| 128/128 [02:00<00:00,  1.06it/s]\n",
      "100%|██████████| 128/128 [02:24<00:00,  1.13s/it]\n",
      "100%|██████████| 128/128 [01:59<00:00,  1.07it/s]\n",
      "100%|██████████| 128/128 [02:23<00:00,  1.12s/it]\n",
      "100%|██████████| 128/128 [02:00<00:00,  1.06it/s]\n",
      "100%|██████████| 128/128 [02:25<00:00,  1.13s/it]\n",
      "100%|██████████| 128/128 [02:01<00:00,  1.06it/s]\n",
      "100%|██████████| 128/128 [02:24<00:00,  1.13s/it]\n",
      "100%|██████████| 128/128 [02:00<00:00,  1.06it/s]\n",
      "100%|██████████| 128/128 [02:24<00:00,  1.13s/it]\n",
      "100%|██████████| 128/128 [02:00<00:00,  1.06it/s]\n",
      "100%|██████████| 128/128 [02:24<00:00,  1.13s/it]\n",
      "100%|██████████| 128/128 [01:59<00:00,  1.07it/s]\n",
      "100%|██████████| 128/128 [02:24<00:00,  1.13s/it]\n",
      "100%|██████████| 128/128 [01:59<00:00,  1.07it/s]\n",
      "100%|██████████| 128/128 [02:24<00:00,  1.13s/it]\n",
      "100%|██████████| 128/128 [02:00<00:00,  1.06it/s]\n",
      "100%|██████████| 128/128 [02:24<00:00,  1.13s/it]\n",
      "100%|██████████| 128/128 [02:00<00:00,  1.06it/s]\n",
      "100%|██████████| 128/128 [02:24<00:00,  1.13s/it]\n",
      "100%|██████████| 128/128 [01:59<00:00,  1.07it/s]\n",
      "100%|██████████| 128/128 [02:00<00:00,  1.06it/s]\n",
      "100%|██████████| 128/128 [02:24<00:00,  1.13s/it]\n",
      "100%|██████████| 128/128 [01:59<00:00,  1.07it/s]\n",
      "100%|██████████| 128/128 [02:24<00:00,  1.13s/it]\n",
      "100%|██████████| 128/128 [02:00<00:00,  1.06it/s]\n",
      "100%|██████████| 128/128 [02:25<00:00,  1.13s/it]\n",
      "100%|██████████| 128/128 [02:00<00:00,  1.06it/s]\n",
      "100%|██████████| 128/128 [02:24<00:00,  1.13s/it]\n",
      "100%|██████████| 128/128 [02:00<00:00,  1.07it/s]\n",
      "100%|██████████| 128/128 [02:24<00:00,  1.13s/it]\n",
      "100%|██████████| 128/128 [02:00<00:00,  1.06it/s]\n",
      "100%|██████████| 128/128 [02:25<00:00,  1.13s/it]\n",
      "100%|██████████| 128/128 [01:59<00:00,  1.07it/s]\n",
      "100%|██████████| 128/128 [02:24<00:00,  1.13s/it]\n",
      "100%|██████████| 128/128 [01:59<00:00,  1.08it/s]\n",
      "100%|██████████| 128/128 [02:24<00:00,  1.13s/it]\n",
      "100%|██████████| 128/128 [01:59<00:00,  1.07it/s]\n",
      "100%|██████████| 128/128 [02:24<00:00,  1.13s/it]\n",
      "100%|██████████| 128/128 [02:00<00:00,  1.06it/s]\n",
      "100%|██████████| 128/128 [02:24<00:00,  1.13s/it]\n",
      "100%|██████████| 128/128 [02:00<00:00,  1.06it/s]\n",
      "100%|██████████| 128/128 [02:24<00:00,  1.13s/it]\n",
      "100%|██████████| 128/128 [02:01<00:00,  1.05it/s]\n",
      "100%|██████████| 128/128 [02:25<00:00,  1.13s/it]\n",
      "100%|██████████| 128/128 [02:00<00:00,  1.06it/s]\n",
      "100%|██████████| 128/128 [02:01<00:00,  1.06it/s]\n",
      "100%|██████████| 128/128 [02:24<00:00,  1.13s/it]\n",
      "100%|██████████| 128/128 [02:01<00:00,  1.06it/s]\n",
      "100%|██████████| 128/128 [02:23<00:00,  1.12s/it]\n",
      "100%|██████████| 128/128 [01:59<00:00,  1.07it/s]\n",
      "100%|██████████| 128/128 [02:24<00:00,  1.13s/it]\n",
      "100%|██████████| 128/128 [02:00<00:00,  1.06it/s]\n",
      "100%|██████████| 128/128 [02:25<00:00,  1.13s/it]\n",
      "100%|██████████| 128/128 [01:59<00:00,  1.07it/s]\n",
      "100%|██████████| 128/128 [02:24<00:00,  1.13s/it]\n",
      "100%|██████████| 128/128 [01:59<00:00,  1.07it/s]\n",
      "100%|██████████| 128/128 [02:23<00:00,  1.12s/it]\n",
      "100%|██████████| 128/128 [02:00<00:00,  1.06it/s]\n",
      "100%|██████████| 128/128 [02:23<00:00,  1.12s/it]\n",
      "100%|██████████| 128/128 [01:59<00:00,  1.07it/s]\n",
      "100%|██████████| 128/128 [02:25<00:00,  1.14s/it]\n",
      "100%|██████████| 128/128 [02:00<00:00,  1.06it/s]\n",
      "100%|██████████| 128/128 [02:24<00:00,  1.13s/it]\n",
      "100%|██████████| 128/128 [02:00<00:00,  1.06it/s]\n",
      "100%|██████████| 128/128 [02:23<00:00,  1.12s/it]\n",
      "100%|██████████| 128/128 [02:00<00:00,  1.06it/s]\n",
      "100%|██████████| 128/128 [02:24<00:00,  1.13s/it]\n",
      "100%|██████████| 128/128 [02:24<00:00,  1.13s/it]\n",
      "100%|██████████| 128/128 [02:00<00:00,  1.06it/s]\n",
      "100%|██████████| 128/128 [02:24<00:00,  1.13s/it]\n",
      "100%|██████████| 128/128 [02:00<00:00,  1.06it/s]\n",
      "100%|██████████| 128/128 [02:25<00:00,  1.13s/it]\n",
      "100%|██████████| 128/128 [01:59<00:00,  1.07it/s]\n",
      "100%|██████████| 128/128 [02:23<00:00,  1.12s/it]\n",
      "100%|██████████| 128/128 [02:00<00:00,  1.07it/s]\n",
      "100%|██████████| 128/128 [02:24<00:00,  1.13s/it]\n",
      "100%|██████████| 128/128 [02:00<00:00,  1.06it/s]\n",
      "100%|██████████| 128/128 [02:24<00:00,  1.13s/it]\n",
      "100%|██████████| 128/128 [01:59<00:00,  1.07it/s]\n",
      "100%|██████████| 128/128 [02:23<00:00,  1.12s/it]\n",
      "100%|██████████| 128/128 [02:00<00:00,  1.07it/s]\n",
      "100%|██████████| 128/128 [02:25<00:00,  1.13s/it]\n",
      "100%|██████████| 128/128 [02:00<00:00,  1.06it/s]\n",
      "100%|██████████| 128/128 [02:26<00:00,  1.14s/it]\n",
      "100%|██████████| 128/128 [02:00<00:00,  1.06it/s]\n",
      "100%|██████████| 128/128 [02:25<00:00,  1.14s/it]\n",
      "100%|██████████| 128/128 [01:59<00:00,  1.07it/s]\n",
      "100%|██████████| 128/128 [02:24<00:00,  1.13s/it]\n",
      "100%|██████████| 128/128 [02:00<00:00,  1.07it/s]\n",
      "100%|██████████| 128/128 [02:25<00:00,  1.13s/it]\n",
      "  4%|▍         | 5/128 [00:04<01:57,  1.05it/s]IOPub message rate exceeded.\n",
      "The notebook server will temporarily stop sending output\n",
      "to the client in order to avoid crashing it.\n",
      "To change this limit, set the config variable\n",
      "`--NotebookApp.iopub_msg_rate_limit`.\n",
      "\n",
      "Current values:\n",
      "NotebookApp.iopub_msg_rate_limit=1000.0 (msgs/sec)\n",
      "NotebookApp.rate_limit_window=3.0 (secs)\n",
      "\n"
     ]
    }
   ],
   "source": [
    "train_and_save(4)"
   ]
  },
  {
   "cell_type": "code",
   "execution_count": null,
   "metadata": {},
   "outputs": [
    {
     "name": "stdout",
     "output_type": "stream",
     "text": [
      "Training loss tf.Tensor(1.1707141, shape=(), dtype=float32)\n",
      "Training loss tf.Tensor(0.04247054, shape=(), dtype=float32)\n",
      "Training loss tf.Tensor(0.03070863, shape=(), dtype=float32)\n",
      "Training loss tf.Tensor(0.02118953, shape=(), dtype=float32)\n",
      "Training loss tf.Tensor(0.016638193, shape=(), dtype=float32)\n",
      "Training loss tf.Tensor(0.01389234, shape=(), dtype=float32)\n",
      "Training loss tf.Tensor(0.013284197, shape=(), dtype=float32)\n",
      "Training loss tf.Tensor(0.014917924, shape=(), dtype=float32)\n",
      "Training loss tf.Tensor(0.016856175, shape=(), dtype=float32)\n",
      "Training loss tf.Tensor(0.012287719, shape=(), dtype=float32)\n"
     ]
    }
   ],
   "source": [
    "for i in range(6,8):\n",
    "    train_and_save(i)"
   ]
  },
  {
   "cell_type": "code",
   "execution_count": null,
   "metadata": {},
   "outputs": [],
   "source": []
  }
 ],
 "metadata": {
  "kernelspec": {
   "display_name": "Python 3",
   "language": "python",
   "name": "python3"
  },
  "language_info": {
   "codemirror_mode": {
    "name": "ipython",
    "version": 3
   },
   "file_extension": ".py",
   "mimetype": "text/x-python",
   "name": "python",
   "nbconvert_exporter": "python",
   "pygments_lexer": "ipython3",
   "version": "3.8.5"
  }
 },
 "nbformat": 4,
 "nbformat_minor": 4
}
