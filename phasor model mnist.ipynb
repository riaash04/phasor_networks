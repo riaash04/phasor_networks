{
 "cells": [
  {
   "cell_type": "markdown",
   "metadata": {},
   "source": [
    "Notebook used to produce figure 5 and data for figure 1. Trains and examines standard MNIST networks."
   ]
  },
  {
   "cell_type": "code",
   "execution_count": 1,
   "metadata": {},
   "outputs": [],
   "source": [
    "import matplotlib.pyplot as plt\n",
    "import numpy as np\n",
    "\n",
    "import tensorflow as tf\n",
    "import tensorflow_datasets as tfds\n",
    "import tensorflow.keras as keras\n",
    "import tensorflow.keras.layers as layers\n",
    "import tensorflow.keras.backend as be"
   ]
  },
  {
   "cell_type": "code",
   "execution_count": 2,
   "metadata": {},
   "outputs": [],
   "source": [
    "from utils import *\n",
    "from data import *\n",
    "from layers import *\n",
    "from models import *"
   ]
  },
  {
   "cell_type": "code",
   "execution_count": 4,
   "metadata": {},
   "outputs": [],
   "source": [
    "from baseline_models import *"
   ]
  },
  {
   "cell_type": "code",
   "execution_count": 5,
   "metadata": {},
   "outputs": [],
   "source": [
    "limit_gpus()\n",
    "set_gpu(1)"
   ]
  },
  {
   "cell_type": "code",
   "execution_count": 24,
   "metadata": {},
   "outputs": [],
   "source": [
    "dpi=100"
   ]
  },
  {
   "cell_type": "code",
   "execution_count": 6,
   "metadata": {},
   "outputs": [],
   "source": [
    "dataset = \"mnist\"\n",
    "ds_train, ds_test, ds_info = load_dataset(dataset, 128)\n",
    "\n",
    "input_shape = ds_info.features['image'].shape\n",
    "num_classes = ds_info.features['label'].num_classes"
   ]
  },
  {
   "cell_type": "code",
   "execution_count": 7,
   "metadata": {},
   "outputs": [],
   "source": [
    "x_train, y_train = get_raw_dat(ds_train)"
   ]
  },
  {
   "cell_type": "code",
   "execution_count": 8,
   "metadata": {},
   "outputs": [],
   "source": [
    "_, y_test = get_raw_dat(ds_test)"
   ]
  },
  {
   "cell_type": "code",
   "execution_count": 9,
   "metadata": {},
   "outputs": [],
   "source": [
    "xs, ys = next(iter(ds_train))"
   ]
  },
  {
   "cell_type": "code",
   "execution_count": 10,
   "metadata": {},
   "outputs": [
    {
     "data": {
      "text/plain": [
       "(28, 28, 1)"
      ]
     },
     "execution_count": 10,
     "metadata": {},
     "output_type": "execute_result"
    }
   ],
   "source": [
    "input_shape"
   ]
  },
  {
   "cell_type": "code",
   "execution_count": 15,
   "metadata": {},
   "outputs": [],
   "source": [
    "model = PhasorModel(input_shape, onehot_offset=0.0, onehot_phase=0.5, max_step=0.05, projection=\"NP\")\n",
    "model.compile(optimizer=\"rmsprop\")"
   ]
  },
  {
   "cell_type": "code",
   "execution_count": 12,
   "metadata": {},
   "outputs": [],
   "source": [
    "ys0 = model(xs)"
   ]
  },
  {
   "cell_type": "code",
   "execution_count": 13,
   "metadata": {},
   "outputs": [
    {
     "data": {
      "text/plain": [
       "(array([125., 150., 108., 124., 166., 147., 105., 108., 128., 119.]),\n",
       " array([-9.9880403e-01, -7.9893386e-01, -5.9906375e-01, -3.9919358e-01,\n",
       "        -1.9932343e-01,  5.4672360e-04,  2.0041688e-01,  4.0028703e-01,\n",
       "         6.0015720e-01,  8.0002731e-01,  9.9989748e-01], dtype=float32),\n",
       " <BarContainer object of 10 artists>)"
      ]
     },
     "execution_count": 13,
     "metadata": {},
     "output_type": "execute_result"
    },
    {
     "data": {
      "image/png": "[encoded data removed]",
      "text/plain": [
       "<Figure size 432x288 with 1 Axes>"
      ]
     },
     "metadata": {
      "needs_background": "light"
     },
     "output_type": "display_data"
    }
   ],
   "source": [
    "plt.hist(ys0.numpy().ravel())"
   ]
  },
  {
   "cell_type": "code",
   "execution_count": 16,
   "metadata": {
    "scrolled": true
   },
   "outputs": [
    {
     "name": "stdout",
     "output_type": "stream",
     "text": [
      "Training loss tf.Tensor(1.1911367, shape=(), dtype=float32)\n",
      "Training loss tf.Tensor(0.03942185, shape=(), dtype=float32)\n",
      "Training loss tf.Tensor(0.033259436, shape=(), dtype=float32)\n",
      "Training loss tf.Tensor(0.020004757, shape=(), dtype=float32)\n",
      "Training loss tf.Tensor(0.024984565, shape=(), dtype=float32)\n",
      "Training loss tf.Tensor(0.0214021, shape=(), dtype=float32)\n",
      "Training loss tf.Tensor(0.014110388, shape=(), dtype=float32)\n",
      "Training loss tf.Tensor(0.014367492, shape=(), dtype=float32)\n",
      "Training loss tf.Tensor(0.018771078, shape=(), dtype=float32)\n",
      "Training loss tf.Tensor(0.014319609, shape=(), dtype=float32)\n"
     ]
    }
   ],
   "source": [
    "loss = model.train(ds_train, 2)"
   ]
  },
  {
   "cell_type": "code",
   "execution_count": 17,
   "metadata": {},
   "outputs": [],
   "source": [
    "yh1 = model(xs)"
   ]
  },
  {
   "cell_type": "code",
   "execution_count": 18,
   "metadata": {},
   "outputs": [
    {
     "data": {
      "text/plain": [
       "<matplotlib.colorbar.Colorbar at 0x7fe6302cb640>"
      ]
     },
     "execution_count": 18,
     "metadata": {},
     "output_type": "execute_result"
    },
    {
     "data": {
      "image/png": "[encoded data removed]",
      "text/plain": [
       "<Figure size 432x288 with 2 Axes>"
      ]
     },
     "metadata": {
      "needs_background": "light"
     },
     "output_type": "display_data"
    }
   ],
   "source": [
    "plt.pcolor(yh1)\n",
    "plt.colorbar()"
   ]
  },
  {
   "cell_type": "code",
   "execution_count": 19,
   "metadata": {},
   "outputs": [
    {
     "data": {
      "text/plain": [
       "<matplotlib.colorbar.Colorbar at 0x7fe63012a0d0>"
      ]
     },
     "execution_count": 19,
     "metadata": {},
     "output_type": "execute_result"
    },
    {
     "data": {
      "image/png": "[encoded data removed]",
      "text/plain": [
       "<Figure size 432x288 with 2 Axes>"
      ]
     },
     "metadata": {
      "needs_background": "light"
     },
     "output_type": "display_data"
    }
   ],
   "source": [
    "plt.pcolor(model.to_phase(ys))\n",
    "plt.colorbar()"
   ]
  },
  {
   "cell_type": "code",
   "execution_count": 20,
   "metadata": {},
   "outputs": [
    {
     "data": {
      "text/plain": [
       "[<matplotlib.lines.Line2D at 0x7fe5f4320d00>]"
      ]
     },
     "execution_count": 20,
     "metadata": {},
     "output_type": "execute_result"
    },
    {
     "data": {
      "image/png": "[encoded data removed]",
      "text/plain": [
       "<Figure size 432x288 with 1 Axes>"
      ]
     },
     "metadata": {
      "needs_background": "light"
     },
     "output_type": "display_data"
    }
   ],
   "source": [
    "plt.semilogy(loss)"
   ]
  },
  {
   "cell_type": "code",
   "execution_count": 21,
   "metadata": {},
   "outputs": [],
   "source": [
    "conf = model.accuracy(ds_test)"
   ]
  },
  {
   "cell_type": "code",
   "execution_count": 22,
   "metadata": {},
   "outputs": [
    {
     "data": {
      "text/plain": [
       "<matplotlib.collections.PolyCollection at 0x7fe5f4281cd0>"
      ]
     },
     "execution_count": 22,
     "metadata": {},
     "output_type": "execute_result"
    },
    {
     "data": {
      "image/png": "[encoded data removed]",
      "text/plain": [
       "<Figure size 432x288 with 1 Axes>"
      ]
     },
     "metadata": {
      "needs_background": "light"
     },
     "output_type": "display_data"
    }
   ],
   "source": [
    "plt.pcolor(conf[0])"
   ]
  },
  {
   "cell_type": "code",
   "execution_count": 23,
   "metadata": {
    "scrolled": true
   },
   "outputs": [
    {
     "data": {
      "text/plain": [
       "<tf.Tensor: shape=(), dtype=float64, numpy=0.9455>"
      ]
     },
     "execution_count": 23,
     "metadata": {},
     "output_type": "execute_result"
    }
   ],
   "source": [
    "confusion_to_accuracy(conf)"
   ]
  },
  {
   "cell_type": "markdown",
   "metadata": {},
   "source": [
    "Select a small sample of input images to dynamically execute in detail."
   ]
  },
  {
   "cell_type": "code",
   "execution_count": 25,
   "metadata": {},
   "outputs": [],
   "source": [
    "n_subsample = 10\n",
    "small_test = tf.data.Dataset.from_tensor_slices((xs[0:n_subsample,...], ys[0:n_subsample,...]))\n",
    "small_test = small_test.batch(n_subsample)"
   ]
  },
  {
   "cell_type": "code",
   "execution_count": 26,
   "metadata": {},
   "outputs": [
    {
     "name": "stderr",
     "output_type": "stream",
     "text": [
      "100%|██████████| 10/10 [00:22<00:00,  2.25s/it]\n",
      "100%|██████████| 10/10 [00:19<00:00,  1.93s/it]\n"
     ]
    }
   ],
   "source": [
    "small_yhs = model.evaluate(small_test, method=\"dynamic\")"
   ]
  },
  {
   "cell_type": "markdown",
   "metadata": {},
   "source": [
    "Calculate the matches between temporal predictions and ground truth."
   ]
  },
  {
   "cell_type": "code",
   "execution_count": 28,
   "metadata": {},
   "outputs": [
    {
     "data": {
      "text/plain": [
       "<tf.Tensor: shape=(10,), dtype=bool, numpy=\n",
       "array([ True,  True,  True,  True,  True,  True,  True,  True, False,\n",
       "        True])>"
      ]
     },
     "execution_count": 28,
     "metadata": {},
     "output_type": "execute_result"
    }
   ],
   "source": [
    "model.predict(small_yhs, method=\"dynamic_mode\").ravel() == ys[0:n_subsample,...]"
   ]
  },
  {
   "cell_type": "markdown",
   "metadata": {},
   "source": [
    "Show an input image and its corresponding spike train."
   ]
  },
  {
   "cell_type": "code",
   "execution_count": 29,
   "metadata": {},
   "outputs": [],
   "source": [
    "preprocess = keras.Sequential([model.layers[0]])"
   ]
  },
  {
   "cell_type": "code",
   "execution_count": 30,
   "metadata": {},
   "outputs": [],
   "source": [
    "input_spikes = model.phase_to_train(model.image_encoder(preprocess(xs[0:n_subsample,...])))"
   ]
  },
  {
   "cell_type": "code",
   "execution_count": 31,
   "metadata": {},
   "outputs": [
    {
     "data": {
      "text/plain": [
       "<matplotlib.colorbar.Colorbar at 0x7fe5ec7c05b0>"
      ]
     },
     "execution_count": 31,
     "metadata": {},
     "output_type": "execute_result"
    },
    {
     "data": {
      "image/png": "[encoded data removed]",
      "text/plain": [
       "<Figure size 432x288 with 2 Axes>"
      ]
     },
     "metadata": {
      "needs_background": "light"
     },
     "output_type": "display_data"
    }
   ],
   "source": [
    "plt.imshow(xs[0,...], cmap=\"gray\")\n",
    "plt.colorbar()"
   ]
  },
  {
   "cell_type": "code",
   "execution_count": 32,
   "metadata": {},
   "outputs": [
    {
     "data": {
      "text/plain": [
       "Text(0.5, 1.0, 'Input Layer')"
      ]
     },
     "execution_count": 32,
     "metadata": {},
     "output_type": "execute_result"
    },
    {
     "data": {
      "image/png": "[encoded data removed]",
      "text/plain": [
       "<Figure size 500x500 with 1 Axes>"
      ]
     },
     "metadata": {
      "needs_background": "light"
     },
     "output_type": "display_data"
    }
   ],
   "source": [
    "plt.figure(dpi=dpi, figsize=(5,5))\n",
    "for i in range(10):\n",
    "    plt.plot([0,784],[0.0+i,0+i], color=\"red\")\n",
    "plt.scatter(input_spikes[0][0], input_spikes[0][1], label=\"Input Spikes (Drive)\", s=4)\n",
    "#plt.scatter(dynamic_spikes[0][0], dynamic_spikes[0][1], label=\"Output Spikes (Response)\")\n",
    "#plt.xticks(lblinds, np.around(phases.ravel()[lblinds], decimals=2));\n",
    "\n",
    "plt.xlabel(\"Neuron\")\n",
    "plt.ylabel(\"Spike Time (s)\")\n",
    "plt.ylim(0,5)\n",
    "#plt.ylim(-0.5,10)\n",
    "plt.title(\"Input Layer\")"
   ]
  },
  {
   "cell_type": "markdown",
   "metadata": {},
   "source": [
    "Show the spikes that arise in layer 1 as a response to the input spikes."
   ]
  },
  {
   "cell_type": "code",
   "execution_count": 33,
   "metadata": {},
   "outputs": [
    {
     "data": {
      "text/plain": [
       "Text(0.5, 1.0, 'Dense 1')"
      ]
     },
     "execution_count": 33,
     "metadata": {},
     "output_type": "execute_result"
    },
    {
     "data": {
      "image/png": "[encoded data removed]",
      "text/plain": [
       "<Figure size 200x500 with 1 Axes>"
      ]
     },
     "metadata": {
      "needs_background": "light"
     },
     "output_type": "display_data"
    }
   ],
   "source": [
    "spk_layer1 = model.dense1.spike_trains\n",
    "plt.figure(dpi=dpi, figsize=(2,5))\n",
    "#plt.scatter(dynamic_input[0][0], dynamic_input[0][1], label=\"Input Spikes (Drive)\")\n",
    "for i in range(10):\n",
    "    plt.plot([0,100],[0.25+i,0.25+i], color=\"red\")\n",
    "plt.scatter(spk_layer1[0][0], spk_layer1[0][1], label=\"Output Spikes (Response)\", color=\"green\", s=8)\n",
    "#plt.xticks(lblinds, np.around(phases.ravel()[lblinds], decimals=2));\n",
    "plt.xlabel(\"Neuron\")\n",
    "plt.ylabel(\"Spike Time (s)\")\n",
    "#plt.ylim(-0.5,10)\n",
    "plt.title(\"Dense 1\")"
   ]
  },
  {
   "cell_type": "markdown",
   "metadata": {},
   "source": [
    "Show the spikes that arise in layer 2 (the output) as a response to layer 1 spikes."
   ]
  },
  {
   "cell_type": "code",
   "execution_count": 34,
   "metadata": {},
   "outputs": [],
   "source": [
    "spk_layer2 = model.dense2.spike_trains"
   ]
  },
  {
   "cell_type": "code",
   "execution_count": 35,
   "metadata": {},
   "outputs": [
    {
     "data": {
      "text/plain": [
       "Text(0.5, 1.0, 'Dense 2')"
      ]
     },
     "execution_count": 35,
     "metadata": {},
     "output_type": "execute_result"
    },
    {
     "data": {
      "image/png": "[encoded data removed]",
      "text/plain": [
       "<Figure size 200x500 with 1 Axes>"
      ]
     },
     "metadata": {
      "needs_background": "light"
     },
     "output_type": "display_data"
    }
   ],
   "source": [
    "plt.figure(dpi=dpi, figsize=(2,5))\n",
    "#plt.scatter(dynamic_input[0][0], dynamic_input[0][1], label=\"Input Spikes (Drive)\")\n",
    "for i in range(10):\n",
    "    plt.plot([0,10],[0.50+i,0.50+i], color=\"red\")\n",
    "plt.scatter(spk_layer2[0][0], spk_layer2[0][1], label=\"Output Spikes (Response)\", color=\"purple\", s=8)\n",
    "#plt.xticks(lblinds, np.around(phases.ravel()[lblinds], decimals=2));\n",
    "plt.xlabel(\"Neuron\")\n",
    "plt.ylabel(\"Spike Time (s)\")\n",
    "#plt.ylim(-0.5,10)\n",
    "plt.title(\"Dense 2\")"
   ]
  },
  {
   "cell_type": "markdown",
   "metadata": {},
   "source": [
    "Calculate accuracies using the mode of predicted phases for the small sample."
   ]
  },
  {
   "cell_type": "code",
   "execution_count": 37,
   "metadata": {},
   "outputs": [
    {
     "data": {
      "text/plain": [
       "0.9"
      ]
     },
     "execution_count": 37,
     "metadata": {},
     "output_type": "execute_result"
    }
   ],
   "source": [
    "np.mean(model.predict(small_yhs, method=\"dynamic_mode\").ravel() == ys[0:n_subsample])"
   ]
  },
  {
   "cell_type": "markdown",
   "metadata": {},
   "source": [
    "Calculate the predicted phase values with temporal execution for all test images. This takes around 2.2s / image on the dev workstation but varies by CPU/GPU. "
   ]
  },
  {
   "cell_type": "code",
   "execution_count": 33,
   "metadata": {
    "scrolled": true
   },
   "outputs": [
    {
     "name": "stderr",
     "output_type": "stream",
     "text": [
      "100%|██████████| 128/128 [02:23<00:00,  1.12s/it]\n",
      "100%|██████████| 128/128 [01:55<00:00,  1.11it/s]\n",
      "100%|██████████| 128/128 [02:22<00:00,  1.11s/it]\n",
      "100%|██████████| 128/128 [01:54<00:00,  1.12it/s]\n",
      "100%|██████████| 128/128 [02:24<00:00,  1.13s/it]\n",
      "100%|██████████| 128/128 [01:56<00:00,  1.10it/s]\n",
      "100%|██████████| 128/128 [02:22<00:00,  1.11s/it]\n",
      "100%|██████████| 128/128 [01:55<00:00,  1.11it/s]\n",
      "100%|██████████| 128/128 [02:25<00:00,  1.14s/it]\n",
      "100%|██████████| 128/128 [01:56<00:00,  1.10it/s]\n",
      "100%|██████████| 128/128 [02:23<00:00,  1.12s/it]\n",
      "100%|██████████| 128/128 [01:56<00:00,  1.10it/s]\n",
      "100%|██████████| 128/128 [02:23<00:00,  1.12s/it]\n",
      "100%|██████████| 128/128 [01:56<00:00,  1.10it/s]\n",
      "100%|██████████| 128/128 [02:24<00:00,  1.13s/it]\n",
      "100%|██████████| 128/128 [01:56<00:00,  1.10it/s]\n",
      "100%|██████████| 128/128 [02:23<00:00,  1.12s/it]\n",
      "100%|██████████| 128/128 [01:57<00:00,  1.09it/s]\n",
      "100%|██████████| 128/128 [02:21<00:00,  1.11s/it]\n",
      "100%|██████████| 128/128 [01:56<00:00,  1.10it/s]\n",
      "100%|██████████| 128/128 [02:25<00:00,  1.14s/it]\n",
      "100%|██████████| 128/128 [01:56<00:00,  1.09it/s]\n",
      "100%|██████████| 128/128 [02:25<00:00,  1.13s/it]\n",
      "100%|██████████| 128/128 [01:56<00:00,  1.10it/s]\n",
      "100%|██████████| 128/128 [02:23<00:00,  1.12s/it]\n",
      "100%|██████████| 128/128 [01:56<00:00,  1.10it/s]\n",
      "100%|██████████| 128/128 [02:24<00:00,  1.13s/it]\n",
      "100%|██████████| 128/128 [01:56<00:00,  1.10it/s]\n",
      "100%|██████████| 128/128 [02:26<00:00,  1.14s/it]\n",
      "100%|██████████| 128/128 [01:57<00:00,  1.09it/s]\n",
      "100%|██████████| 128/128 [02:23<00:00,  1.12s/it]\n",
      "100%|██████████| 128/128 [01:56<00:00,  1.10it/s]\n",
      "100%|██████████| 128/128 [02:24<00:00,  1.13s/it]\n",
      "100%|██████████| 128/128 [01:56<00:00,  1.10it/s]\n",
      "100%|██████████| 128/128 [02:24<00:00,  1.13s/it]\n",
      "100%|██████████| 128/128 [01:56<00:00,  1.10it/s]\n",
      "100%|██████████| 128/128 [02:24<00:00,  1.13s/it]\n",
      "100%|██████████| 128/128 [01:56<00:00,  1.10it/s]\n",
      "100%|██████████| 128/128 [02:22<00:00,  1.12s/it]\n",
      "100%|██████████| 128/128 [01:57<00:00,  1.09it/s]\n",
      "100%|██████████| 128/128 [02:25<00:00,  1.14s/it]\n",
      "100%|██████████| 128/128 [01:56<00:00,  1.10it/s]\n",
      "100%|██████████| 128/128 [02:22<00:00,  1.11s/it]\n",
      "100%|██████████| 128/128 [01:56<00:00,  1.10it/s]\n",
      "100%|██████████| 128/128 [02:25<00:00,  1.13s/it]\n",
      "100%|██████████| 128/128 [01:56<00:00,  1.10it/s]\n",
      "100%|██████████| 128/128 [02:23<00:00,  1.12s/it]\n",
      "100%|██████████| 128/128 [01:56<00:00,  1.10it/s]\n",
      "100%|██████████| 128/128 [02:24<00:00,  1.13s/it]\n",
      "100%|██████████| 128/128 [01:55<00:00,  1.11it/s]\n",
      "100%|██████████| 128/128 [02:24<00:00,  1.13s/it]\n",
      "100%|██████████| 128/128 [01:57<00:00,  1.09it/s]\n",
      "100%|██████████| 128/128 [02:25<00:00,  1.14s/it]\n",
      "100%|██████████| 128/128 [01:57<00:00,  1.09it/s]\n",
      "100%|██████████| 128/128 [02:23<00:00,  1.12s/it]\n",
      "100%|██████████| 128/128 [01:56<00:00,  1.10it/s]\n",
      "100%|██████████| 128/128 [02:24<00:00,  1.13s/it]\n",
      "100%|██████████| 128/128 [01:55<00:00,  1.11it/s]\n",
      "100%|██████████| 128/128 [02:25<00:00,  1.13s/it]\n",
      "100%|██████████| 128/128 [01:58<00:00,  1.08it/s]\n",
      "100%|██████████| 128/128 [02:25<00:00,  1.13s/it]\n",
      "100%|██████████| 128/128 [01:56<00:00,  1.10it/s]\n",
      "100%|██████████| 128/128 [02:26<00:00,  1.14s/it]\n",
      "100%|██████████| 128/128 [01:57<00:00,  1.09it/s]\n",
      "100%|██████████| 128/128 [02:21<00:00,  1.11s/it]\n",
      "100%|██████████| 128/128 [01:56<00:00,  1.10it/s]\n",
      "100%|██████████| 128/128 [02:24<00:00,  1.13s/it]\n",
      "100%|██████████| 128/128 [01:57<00:00,  1.09it/s]\n",
      "100%|██████████| 128/128 [02:22<00:00,  1.11s/it]\n",
      "100%|██████████| 128/128 [02:05<00:00,  1.02it/s]\n",
      "100%|██████████| 128/128 [02:25<00:00,  1.14s/it]\n",
      "100%|██████████| 128/128 [02:02<00:00,  1.05it/s]\n",
      "100%|██████████| 128/128 [02:34<00:00,  1.20s/it]\n",
      "100%|██████████| 128/128 [01:58<00:00,  1.08it/s]\n",
      "100%|██████████| 128/128 [02:25<00:00,  1.14s/it]\n",
      "100%|██████████| 128/128 [01:57<00:00,  1.09it/s]\n",
      "100%|██████████| 128/128 [02:25<00:00,  1.14s/it]\n",
      "100%|██████████| 128/128 [01:58<00:00,  1.08it/s]\n",
      "100%|██████████| 128/128 [02:23<00:00,  1.12s/it]\n",
      "100%|██████████| 128/128 [01:56<00:00,  1.10it/s]\n",
      "100%|██████████| 128/128 [02:21<00:00,  1.11s/it]\n",
      "100%|██████████| 128/128 [01:56<00:00,  1.10it/s]\n",
      "100%|██████████| 128/128 [02:24<00:00,  1.13s/it]\n",
      "100%|██████████| 128/128 [01:55<00:00,  1.11it/s]\n",
      "100%|██████████| 128/128 [02:23<00:00,  1.12s/it]\n",
      "100%|██████████| 128/128 [01:55<00:00,  1.11it/s]\n",
      "100%|██████████| 128/128 [02:23<00:00,  1.12s/it]\n",
      "100%|██████████| 128/128 [01:55<00:00,  1.10it/s]\n",
      "100%|██████████| 128/128 [02:22<00:00,  1.11s/it]\n",
      "100%|██████████| 128/128 [01:54<00:00,  1.12it/s]\n",
      "100%|██████████| 128/128 [02:25<00:00,  1.14s/it]\n",
      "100%|██████████| 128/128 [01:57<00:00,  1.09it/s]\n",
      "100%|██████████| 128/128 [02:23<00:00,  1.12s/it]\n",
      "100%|██████████| 128/128 [01:57<00:00,  1.09it/s]\n",
      "100%|██████████| 128/128 [02:24<00:00,  1.13s/it]\n",
      "100%|██████████| 128/128 [01:56<00:00,  1.10it/s]\n",
      "100%|██████████| 128/128 [02:25<00:00,  1.14s/it]\n",
      "100%|██████████| 128/128 [01:56<00:00,  1.10it/s]\n",
      "100%|██████████| 128/128 [02:22<00:00,  1.12s/it]\n",
      "100%|██████████| 128/128 [01:57<00:00,  1.09it/s]\n",
      "100%|██████████| 128/128 [02:23<00:00,  1.12s/it]\n",
      "100%|██████████| 128/128 [01:57<00:00,  1.09it/s]\n",
      "100%|██████████| 128/128 [02:22<00:00,  1.11s/it]\n",
      "100%|██████████| 128/128 [01:56<00:00,  1.10it/s]\n",
      "100%|██████████| 128/128 [02:24<00:00,  1.13s/it]\n",
      "100%|██████████| 128/128 [01:57<00:00,  1.09it/s]\n",
      "100%|██████████| 128/128 [02:25<00:00,  1.14s/it]\n",
      "100%|██████████| 128/128 [01:57<00:00,  1.09it/s]\n",
      "100%|██████████| 128/128 [02:26<00:00,  1.14s/it]\n",
      "100%|██████████| 128/128 [01:55<00:00,  1.10it/s]\n",
      "100%|██████████| 128/128 [02:24<00:00,  1.13s/it]\n",
      "100%|██████████| 128/128 [01:57<00:00,  1.09it/s]\n",
      "100%|██████████| 128/128 [02:24<00:00,  1.13s/it]\n",
      "100%|██████████| 128/128 [01:56<00:00,  1.10it/s]\n",
      "100%|██████████| 128/128 [02:24<00:00,  1.13s/it]\n",
      "100%|██████████| 128/128 [01:56<00:00,  1.10it/s]\n",
      "100%|██████████| 128/128 [02:24<00:00,  1.13s/it]\n",
      "100%|██████████| 128/128 [01:56<00:00,  1.09it/s]\n",
      "100%|██████████| 128/128 [02:22<00:00,  1.11s/it]\n",
      "100%|██████████| 128/128 [01:57<00:00,  1.09it/s]\n",
      "100%|██████████| 128/128 [02:23<00:00,  1.12s/it]\n",
      "100%|██████████| 128/128 [01:57<00:00,  1.09it/s]\n",
      "100%|██████████| 128/128 [02:22<00:00,  1.11s/it]\n",
      "100%|██████████| 128/128 [01:55<00:00,  1.11it/s]\n",
      "100%|██████████| 128/128 [02:25<00:00,  1.14s/it]\n",
      "100%|██████████| 128/128 [01:56<00:00,  1.09it/s]\n",
      "100%|██████████| 128/128 [02:23<00:00,  1.12s/it]\n",
      "100%|██████████| 128/128 [01:54<00:00,  1.12it/s]\n",
      "100%|██████████| 128/128 [02:23<00:00,  1.12s/it]\n",
      "100%|██████████| 128/128 [01:56<00:00,  1.10it/s]\n",
      "100%|██████████| 128/128 [02:22<00:00,  1.11s/it]\n",
      "100%|██████████| 128/128 [01:55<00:00,  1.11it/s]\n",
      "100%|██████████| 128/128 [02:23<00:00,  1.12s/it]\n",
      "100%|██████████| 128/128 [01:57<00:00,  1.09it/s]\n",
      "100%|██████████| 128/128 [02:25<00:00,  1.14s/it]\n",
      "100%|██████████| 128/128 [01:56<00:00,  1.09it/s]\n",
      "100%|██████████| 128/128 [02:23<00:00,  1.12s/it]\n",
      "100%|██████████| 128/128 [01:55<00:00,  1.10it/s]\n",
      "100%|██████████| 128/128 [02:23<00:00,  1.12s/it]\n",
      "100%|██████████| 128/128 [01:55<00:00,  1.11it/s]\n",
      "100%|██████████| 128/128 [02:24<00:00,  1.13s/it]\n",
      "100%|██████████| 128/128 [01:56<00:00,  1.10it/s]\n",
      "100%|██████████| 128/128 [02:21<00:00,  1.11s/it]\n",
      "100%|██████████| 128/128 [01:56<00:00,  1.10it/s]\n",
      "100%|██████████| 128/128 [02:23<00:00,  1.12s/it]\n",
      "100%|██████████| 128/128 [01:57<00:00,  1.09it/s]\n",
      "100%|██████████| 128/128 [02:23<00:00,  1.12s/it]\n",
      "100%|██████████| 128/128 [01:56<00:00,  1.10it/s]\n",
      "100%|██████████| 128/128 [02:27<00:00,  1.15s/it]\n",
      "100%|██████████| 128/128 [01:57<00:00,  1.09it/s]\n",
      "100%|██████████| 128/128 [02:25<00:00,  1.14s/it]\n",
      "100%|██████████| 128/128 [01:56<00:00,  1.10it/s]\n",
      "100%|██████████| 128/128 [02:22<00:00,  1.11s/it]\n",
      "100%|██████████| 128/128 [01:56<00:00,  1.10it/s]\n",
      "100%|██████████| 128/128 [02:25<00:00,  1.14s/it]\n",
      "100%|██████████| 128/128 [01:57<00:00,  1.09it/s]\n",
      "100%|██████████| 16/16 [00:17<00:00,  1.10s/it]\n",
      "100%|██████████| 16/16 [00:14<00:00,  1.11it/s]\n"
     ]
    }
   ],
   "source": [
    "all_yhs = model.evaluate(ds_test, method=\"dynamic\")"
   ]
  },
  {
   "cell_type": "code",
   "execution_count": 34,
   "metadata": {},
   "outputs": [
    {
     "data": {
      "text/plain": [
       "TensorShape([10000, 10, 10])"
      ]
     },
     "execution_count": 34,
     "metadata": {},
     "output_type": "execute_result"
    }
   ],
   "source": [
    "all_yhs.shape"
   ]
  },
  {
   "cell_type": "markdown",
   "metadata": {},
   "source": [
    "Save the results since they take a few hours to generate. "
   ]
  },
  {
   "cell_type": "code",
   "execution_count": 37,
   "metadata": {},
   "outputs": [],
   "source": [
    "np.savez_compressed(\"mnist_yhs_dynamic.npz\", yhs=all_yhs.numpy(), ys=y_test)"
   ]
  },
  {
   "cell_type": "code",
   "execution_count": 40,
   "metadata": {},
   "outputs": [
    {
     "data": {
      "text/plain": [
       "0.9467"
      ]
     },
     "execution_count": 40,
     "metadata": {},
     "output_type": "execute_result"
    }
   ],
   "source": [
    "np.mean(model.predict(all_yhs, method=\"dynamic_mode\").ravel() == y_test)"
   ]
  },
  {
   "cell_type": "markdown",
   "metadata": {},
   "source": [
    "Convenience function to train and save MNIST phasor models easily. Used to generate series of networks for results in figure 1. "
   ]
  },
  {
   "cell_type": "code",
   "execution_count": 44,
   "metadata": {},
   "outputs": [],
   "source": [
    "def train_and_save(num):\n",
    "    model = PhasorModel(input_shape, \n",
    "                    onehot_offset=0.0, \n",
    "                    onehot_phase=0.5,\n",
    "                    projection=\"NP\",\n",
    "                   \n",
    "                   exec_time=5.0,\n",
    "                   repeats=5,\n",
    "                   max_step=0.02)\n",
    "    model.compile(optimizer=\"rmsprop\")\n",
    "    loss = model.train(ds_train, 2)\n",
    "    \n",
    "    yh_static = model.evaluate(ds_test, method=\"static\")\n",
    "    yh_dynamic = model.evaluate(ds_test, method=\"dynamic\")\n",
    "    \n",
    "    name = \"mnist_model_\"+str(num)+\".npz\"\n",
    "    np.savez_compressed(name, \n",
    "                        yh_static=yh_static.numpy(),\n",
    "                        yh_dynamic=yh_dynamic.numpy(),\n",
    "                        ys=y_test.numpy())"
   ]
  },
  {
   "cell_type": "code",
   "execution_count": null,
   "metadata": {
    "scrolled": true
   },
   "outputs": [
    {
     "name": "stdout",
     "output_type": "stream",
     "text": [
      "Training loss tf.Tensor(0.7355691, shape=(), dtype=float32)\n",
      "Training loss tf.Tensor(0.0414138, shape=(), dtype=float32)\n",
      "Training loss tf.Tensor(0.02884664, shape=(), dtype=float32)\n",
      "Training loss tf.Tensor(0.020415848, shape=(), dtype=float32)\n",
      "Training loss tf.Tensor(0.01807487, shape=(), dtype=float32)\n",
      "Training loss tf.Tensor(0.016070195, shape=(), dtype=float32)\n",
      "Training loss tf.Tensor(0.02012305, shape=(), dtype=float32)\n",
      "Training loss tf.Tensor(0.01105589, shape=(), dtype=float32)\n",
      "Training loss tf.Tensor(0.014650123, shape=(), dtype=float32)\n",
      "Training loss tf.Tensor(0.015350396, shape=(), dtype=float32)\n"
     ]
    },
    {
     "name": "stderr",
     "output_type": "stream",
     "text": [
      "100%|██████████| 128/128 [02:23<00:00,  1.12s/it]\n",
      "100%|██████████| 128/128 [01:57<00:00,  1.08it/s]\n",
      "100%|██████████| 128/128 [02:24<00:00,  1.13s/it]\n",
      "100%|██████████| 128/128 [01:58<00:00,  1.08it/s]\n",
      "100%|██████████| 128/128 [02:24<00:00,  1.13s/it]\n",
      "100%|██████████| 128/128 [01:58<00:00,  1.08it/s]\n",
      "100%|██████████| 128/128 [02:23<00:00,  1.12s/it]\n",
      "100%|██████████| 128/128 [01:58<00:00,  1.08it/s]\n",
      "100%|██████████| 128/128 [02:24<00:00,  1.13s/it]\n",
      "100%|██████████| 128/128 [01:59<00:00,  1.08it/s]\n",
      "100%|██████████| 128/128 [02:22<00:00,  1.12s/it]\n",
      "100%|██████████| 128/128 [01:58<00:00,  1.08it/s]\n",
      "100%|██████████| 128/128 [02:24<00:00,  1.13s/it]\n",
      "100%|██████████| 128/128 [01:58<00:00,  1.08it/s]\n",
      "100%|██████████| 128/128 [02:24<00:00,  1.13s/it]\n",
      "100%|██████████| 128/128 [01:57<00:00,  1.09it/s]\n",
      "100%|██████████| 128/128 [02:23<00:00,  1.12s/it]\n",
      "100%|██████████| 128/128 [01:58<00:00,  1.08it/s]\n",
      "100%|██████████| 128/128 [02:24<00:00,  1.13s/it]\n",
      "100%|██████████| 128/128 [01:58<00:00,  1.08it/s]\n",
      "100%|██████████| 128/128 [02:23<00:00,  1.12s/it]\n",
      "100%|██████████| 128/128 [01:58<00:00,  1.08it/s]\n",
      "100%|██████████| 128/128 [02:23<00:00,  1.12s/it]\n",
      "100%|██████████| 128/128 [01:58<00:00,  1.08it/s]\n",
      "100%|██████████| 128/128 [02:25<00:00,  1.13s/it]\n",
      "100%|██████████| 128/128 [01:59<00:00,  1.07it/s]\n",
      "100%|██████████| 128/128 [02:23<00:00,  1.12s/it]\n",
      "100%|██████████| 128/128 [01:58<00:00,  1.08it/s]\n",
      "100%|██████████| 128/128 [02:25<00:00,  1.14s/it]\n",
      "100%|██████████| 128/128 [01:58<00:00,  1.08it/s]\n",
      "100%|██████████| 128/128 [02:24<00:00,  1.13s/it]\n",
      "100%|██████████| 128/128 [01:59<00:00,  1.07it/s]\n",
      "100%|██████████| 128/128 [02:23<00:00,  1.12s/it]\n",
      "100%|██████████| 128/128 [01:58<00:00,  1.08it/s]\n",
      "100%|██████████| 128/128 [02:24<00:00,  1.13s/it]\n",
      "100%|██████████| 128/128 [01:58<00:00,  1.08it/s]\n",
      "100%|██████████| 128/128 [02:24<00:00,  1.13s/it]\n",
      "100%|██████████| 128/128 [01:58<00:00,  1.08it/s]\n",
      "100%|██████████| 128/128 [02:24<00:00,  1.13s/it]\n",
      "100%|██████████| 128/128 [01:59<00:00,  1.07it/s]\n",
      "100%|██████████| 128/128 [02:23<00:00,  1.12s/it]\n",
      "100%|██████████| 128/128 [01:57<00:00,  1.09it/s]\n",
      "100%|██████████| 128/128 [02:23<00:00,  1.12s/it]\n",
      "100%|██████████| 128/128 [01:58<00:00,  1.08it/s]\n",
      "100%|██████████| 128/128 [02:24<00:00,  1.13s/it]\n",
      "100%|██████████| 128/128 [01:58<00:00,  1.08it/s]\n",
      "100%|██████████| 128/128 [02:24<00:00,  1.13s/it]\n",
      "100%|██████████| 128/128 [01:59<00:00,  1.07it/s]\n",
      "100%|██████████| 128/128 [02:25<00:00,  1.13s/it]\n",
      "100%|██████████| 128/128 [01:58<00:00,  1.08it/s]\n",
      "100%|██████████| 128/128 [02:24<00:00,  1.13s/it]\n",
      "100%|██████████| 128/128 [01:58<00:00,  1.08it/s]\n",
      "100%|██████████| 128/128 [02:23<00:00,  1.12s/it]\n",
      "100%|██████████| 128/128 [01:58<00:00,  1.08it/s]\n",
      "100%|██████████| 128/128 [02:25<00:00,  1.13s/it]\n",
      "100%|██████████| 128/128 [01:58<00:00,  1.08it/s]\n",
      "100%|██████████| 128/128 [02:23<00:00,  1.12s/it]\n",
      "100%|██████████| 128/128 [01:58<00:00,  1.08it/s]\n",
      "100%|██████████| 128/128 [02:24<00:00,  1.13s/it]\n",
      "100%|██████████| 128/128 [01:59<00:00,  1.07it/s]\n",
      "100%|██████████| 128/128 [02:29<00:00,  1.17s/it]\n",
      "100%|██████████| 128/128 [02:01<00:00,  1.06it/s]\n",
      "100%|██████████| 128/128 [02:26<00:00,  1.14s/it]\n",
      "100%|██████████| 128/128 [02:00<00:00,  1.06it/s]\n",
      "100%|██████████| 128/128 [02:25<00:00,  1.14s/it]\n",
      "100%|██████████| 128/128 [01:58<00:00,  1.08it/s]\n",
      "100%|██████████| 128/128 [02:29<00:00,  1.17s/it]\n",
      "100%|██████████| 128/128 [01:58<00:00,  1.08it/s]\n",
      "100%|██████████| 128/128 [02:27<00:00,  1.16s/it]\n",
      "100%|██████████| 128/128 [02:07<00:00,  1.01it/s]\n",
      "100%|██████████| 128/128 [02:32<00:00,  1.19s/it]\n",
      "100%|██████████| 128/128 [02:10<00:00,  1.02s/it]\n",
      "100%|██████████| 128/128 [02:29<00:00,  1.16s/it]\n",
      "100%|██████████| 128/128 [02:01<00:00,  1.05it/s]\n",
      "100%|██████████| 128/128 [02:26<00:00,  1.14s/it]\n",
      "100%|██████████| 128/128 [02:00<00:00,  1.06it/s]\n",
      "100%|██████████| 128/128 [02:28<00:00,  1.16s/it]\n",
      "100%|██████████| 128/128 [02:01<00:00,  1.06it/s]\n",
      "100%|██████████| 128/128 [02:27<00:00,  1.15s/it]\n",
      "100%|██████████| 128/128 [02:00<00:00,  1.06it/s]\n",
      "100%|██████████| 128/128 [02:26<00:00,  1.15s/it]\n",
      "100%|██████████| 128/128 [02:00<00:00,  1.06it/s]\n",
      "100%|██████████| 128/128 [02:26<00:00,  1.15s/it]\n",
      "100%|██████████| 128/128 [02:00<00:00,  1.06it/s]\n",
      "100%|██████████| 128/128 [02:27<00:00,  1.16s/it]\n",
      "100%|██████████| 128/128 [02:00<00:00,  1.06it/s]\n",
      "100%|██████████| 128/128 [02:26<00:00,  1.15s/it]\n",
      "100%|██████████| 128/128 [02:00<00:00,  1.07it/s]\n",
      "100%|██████████| 128/128 [02:26<00:00,  1.14s/it]\n",
      "100%|██████████| 128/128 [02:01<00:00,  1.06it/s]\n",
      "100%|██████████| 128/128 [02:28<00:00,  1.16s/it]\n",
      "100%|██████████| 128/128 [02:01<00:00,  1.06it/s]\n",
      "100%|██████████| 128/128 [02:27<00:00,  1.15s/it]\n",
      "100%|██████████| 128/128 [02:01<00:00,  1.06it/s]\n",
      "100%|██████████| 128/128 [02:26<00:00,  1.15s/it]\n",
      "100%|██████████| 128/128 [02:01<00:00,  1.06it/s]\n",
      "100%|██████████| 128/128 [02:27<00:00,  1.15s/it]\n",
      "100%|██████████| 128/128 [02:01<00:00,  1.05it/s]\n",
      "100%|██████████| 128/128 [02:27<00:00,  1.15s/it]\n",
      "100%|██████████| 128/128 [02:01<00:00,  1.05it/s]\n",
      "100%|██████████| 128/128 [02:27<00:00,  1.15s/it]\n",
      "100%|██████████| 128/128 [02:00<00:00,  1.06it/s]\n",
      "100%|██████████| 128/128 [02:27<00:00,  1.15s/it]\n",
      "100%|██████████| 128/128 [02:01<00:00,  1.05it/s]\n",
      "100%|██████████| 128/128 [02:27<00:00,  1.15s/it]\n",
      "100%|██████████| 128/128 [02:00<00:00,  1.06it/s]\n",
      "100%|██████████| 128/128 [02:27<00:00,  1.15s/it]\n",
      "100%|██████████| 128/128 [02:01<00:00,  1.05it/s]\n",
      "100%|██████████| 128/128 [02:27<00:00,  1.15s/it]\n",
      "100%|██████████| 128/128 [02:00<00:00,  1.06it/s]\n",
      "100%|██████████| 128/128 [02:26<00:00,  1.15s/it]\n",
      "100%|██████████| 128/128 [02:00<00:00,  1.07it/s]\n",
      "100%|██████████| 128/128 [02:28<00:00,  1.16s/it]\n",
      "100%|██████████| 128/128 [02:01<00:00,  1.05it/s]\n",
      "100%|██████████| 128/128 [02:26<00:00,  1.14s/it]\n",
      "100%|██████████| 128/128 [02:01<00:00,  1.06it/s]\n",
      "100%|██████████| 128/128 [02:27<00:00,  1.15s/it]\n",
      "100%|██████████| 128/128 [02:01<00:00,  1.05it/s]\n",
      "100%|██████████| 128/128 [02:26<00:00,  1.14s/it]\n",
      "100%|██████████| 128/128 [02:01<00:00,  1.06it/s]\n",
      "100%|██████████| 128/128 [02:28<00:00,  1.16s/it]\n",
      "100%|██████████| 128/128 [02:01<00:00,  1.05it/s]\n",
      "100%|██████████| 128/128 [02:27<00:00,  1.15s/it]\n",
      "100%|██████████| 128/128 [02:01<00:00,  1.06it/s]\n",
      "100%|██████████| 128/128 [02:28<00:00,  1.16s/it]\n",
      "100%|██████████| 128/128 [02:01<00:00,  1.06it/s]\n",
      "100%|██████████| 128/128 [02:26<00:00,  1.14s/it]\n",
      "100%|██████████| 128/128 [02:00<00:00,  1.06it/s]\n",
      "100%|██████████| 128/128 [02:27<00:00,  1.16s/it]\n",
      "100%|██████████| 128/128 [02:01<00:00,  1.05it/s]\n",
      "100%|██████████| 128/128 [02:26<00:00,  1.15s/it]\n",
      "100%|██████████| 128/128 [02:01<00:00,  1.06it/s]\n",
      "100%|██████████| 128/128 [02:26<00:00,  1.14s/it]\n",
      "100%|██████████| 128/128 [01:59<00:00,  1.07it/s]\n",
      "100%|██████████| 128/128 [02:28<00:00,  1.16s/it]\n",
      "100%|██████████| 128/128 [02:01<00:00,  1.05it/s]\n",
      "100%|██████████| 128/128 [02:28<00:00,  1.16s/it]\n",
      "100%|██████████| 128/128 [02:01<00:00,  1.05it/s]\n",
      "100%|██████████| 128/128 [02:27<00:00,  1.15s/it]\n",
      "100%|██████████| 128/128 [01:59<00:00,  1.07it/s]\n",
      "100%|██████████| 128/128 [02:27<00:00,  1.15s/it]\n",
      "100%|██████████| 128/128 [02:01<00:00,  1.05it/s]\n",
      "100%|██████████| 128/128 [02:27<00:00,  1.15s/it]\n",
      "100%|██████████| 128/128 [02:00<00:00,  1.06it/s]\n",
      "100%|██████████| 128/128 [02:28<00:00,  1.16s/it]\n",
      "100%|██████████| 128/128 [02:00<00:00,  1.06it/s]\n",
      "100%|██████████| 128/128 [02:25<00:00,  1.14s/it]\n",
      "100%|██████████| 128/128 [01:59<00:00,  1.07it/s]\n",
      "100%|██████████| 128/128 [02:26<00:00,  1.15s/it]\n",
      "100%|██████████| 128/128 [02:00<00:00,  1.06it/s]\n",
      "100%|██████████| 128/128 [02:27<00:00,  1.15s/it]\n",
      "100%|██████████| 128/128 [02:00<00:00,  1.06it/s]\n",
      "100%|██████████| 128/128 [02:25<00:00,  1.14s/it]\n",
      "100%|██████████| 128/128 [02:01<00:00,  1.06it/s]\n",
      "100%|██████████| 128/128 [02:27<00:00,  1.15s/it]\n",
      "100%|██████████| 128/128 [01:59<00:00,  1.07it/s]\n",
      "100%|██████████| 16/16 [00:18<00:00,  1.14s/it]\n",
      "100%|██████████| 16/16 [00:14<00:00,  1.08it/s]\n"
     ]
    },
    {
     "name": "stdout",
     "output_type": "stream",
     "text": [
      "Training loss tf.Tensor(0.88640463, shape=(), dtype=float32)\n",
      "Training loss tf.Tensor(0.036385942, shape=(), dtype=float32)\n",
      "Training loss tf.Tensor(0.02726989, shape=(), dtype=float32)\n",
      "Training loss tf.Tensor(0.028241556, shape=(), dtype=float32)\n",
      "Training loss tf.Tensor(0.022143053, shape=(), dtype=float32)\n",
      "Training loss tf.Tensor(0.016234966, shape=(), dtype=float32)\n",
      "Training loss tf.Tensor(0.01915556, shape=(), dtype=float32)\n",
      "Training loss tf.Tensor(0.015836399, shape=(), dtype=float32)\n",
      "Training loss tf.Tensor(0.015480615, shape=(), dtype=float32)\n",
      "Training loss tf.Tensor(0.012628876, shape=(), dtype=float32)\n"
     ]
    },
    {
     "name": "stderr",
     "output_type": "stream",
     "text": [
      "100%|██████████| 128/128 [02:25<00:00,  1.14s/it]\n",
      "100%|██████████| 128/128 [02:00<00:00,  1.07it/s]\n",
      "100%|██████████| 128/128 [02:25<00:00,  1.14s/it]\n",
      "100%|██████████| 128/128 [02:00<00:00,  1.06it/s]\n",
      "100%|██████████| 128/128 [02:25<00:00,  1.14s/it]\n",
      "100%|██████████| 128/128 [02:00<00:00,  1.06it/s]\n",
      "100%|██████████| 128/128 [02:26<00:00,  1.15s/it]\n",
      "100%|██████████| 128/128 [01:59<00:00,  1.07it/s]\n",
      "100%|██████████| 128/128 [02:25<00:00,  1.14s/it]\n",
      "100%|██████████| 128/128 [01:59<00:00,  1.07it/s]\n",
      "100%|██████████| 128/128 [02:25<00:00,  1.14s/it]\n",
      "100%|██████████| 128/128 [02:01<00:00,  1.06it/s]\n",
      "100%|██████████| 128/128 [02:26<00:00,  1.14s/it]\n",
      "100%|██████████| 128/128 [02:00<00:00,  1.06it/s]\n",
      "100%|██████████| 128/128 [02:25<00:00,  1.14s/it]\n",
      "100%|██████████| 128/128 [01:59<00:00,  1.07it/s]\n",
      "100%|██████████| 128/128 [02:26<00:00,  1.14s/it]\n",
      "100%|██████████| 128/128 [02:01<00:00,  1.06it/s]\n",
      "100%|██████████| 128/128 [02:25<00:00,  1.14s/it]\n",
      "100%|██████████| 128/128 [02:00<00:00,  1.06it/s]\n",
      "100%|██████████| 128/128 [02:25<00:00,  1.14s/it]\n",
      "100%|██████████| 128/128 [01:59<00:00,  1.07it/s]\n",
      "100%|██████████| 128/128 [02:26<00:00,  1.14s/it]\n",
      "100%|██████████| 128/128 [02:01<00:00,  1.06it/s]\n",
      "100%|██████████| 128/128 [02:28<00:00,  1.16s/it]\n",
      "100%|██████████| 128/128 [02:00<00:00,  1.06it/s]\n",
      "100%|██████████| 128/128 [02:27<00:00,  1.15s/it]\n",
      "100%|██████████| 128/128 [02:01<00:00,  1.06it/s]\n",
      "100%|██████████| 128/128 [02:25<00:00,  1.14s/it]\n",
      "100%|██████████| 128/128 [01:59<00:00,  1.08it/s]\n",
      "100%|██████████| 128/128 [02:24<00:00,  1.13s/it]\n",
      "100%|██████████| 128/128 [02:01<00:00,  1.06it/s]\n",
      "100%|██████████| 128/128 [02:24<00:00,  1.13s/it]\n",
      "100%|██████████| 128/128 [02:00<00:00,  1.06it/s]\n",
      "100%|██████████| 128/128 [02:25<00:00,  1.14s/it]\n",
      "100%|██████████| 128/128 [02:00<00:00,  1.07it/s]\n",
      "100%|██████████| 128/128 [02:26<00:00,  1.14s/it]\n",
      "100%|██████████| 128/128 [02:00<00:00,  1.06it/s]\n",
      "100%|██████████| 128/128 [02:26<00:00,  1.14s/it]\n",
      "100%|██████████| 128/128 [02:00<00:00,  1.06it/s]\n",
      "100%|██████████| 128/128 [02:24<00:00,  1.13s/it]\n",
      "100%|██████████| 128/128 [01:59<00:00,  1.07it/s]\n",
      "100%|██████████| 128/128 [02:26<00:00,  1.14s/it]\n",
      "100%|██████████| 128/128 [02:00<00:00,  1.06it/s]\n",
      "100%|██████████| 128/128 [02:25<00:00,  1.14s/it]\n",
      "100%|██████████| 128/128 [02:01<00:00,  1.05it/s]\n",
      "100%|██████████| 128/128 [02:25<00:00,  1.14s/it]\n",
      "100%|██████████| 128/128 [01:59<00:00,  1.07it/s]\n",
      "100%|██████████| 128/128 [02:25<00:00,  1.14s/it]\n",
      "100%|██████████| 128/128 [02:00<00:00,  1.06it/s]\n",
      "100%|██████████| 128/128 [02:26<00:00,  1.14s/it]\n",
      "100%|██████████| 128/128 [02:01<00:00,  1.06it/s]\n",
      "100%|██████████| 128/128 [02:26<00:00,  1.14s/it]\n",
      "100%|██████████| 128/128 [02:00<00:00,  1.06it/s]\n",
      "100%|██████████| 128/128 [02:25<00:00,  1.14s/it]\n",
      "100%|██████████| 128/128 [02:00<00:00,  1.07it/s]\n",
      "100%|██████████| 128/128 [02:25<00:00,  1.13s/it]\n",
      "100%|██████████| 128/128 [02:00<00:00,  1.06it/s]\n",
      "100%|██████████| 128/128 [02:26<00:00,  1.15s/it]\n",
      "100%|██████████| 128/128 [02:00<00:00,  1.06it/s]\n",
      "100%|██████████| 128/128 [02:25<00:00,  1.14s/it]\n",
      "100%|██████████| 128/128 [02:00<00:00,  1.06it/s]\n",
      "100%|██████████| 128/128 [02:25<00:00,  1.14s/it]\n",
      "100%|██████████| 128/128 [02:00<00:00,  1.07it/s]\n",
      "100%|██████████| 128/128 [02:25<00:00,  1.14s/it]\n",
      "100%|██████████| 128/128 [02:00<00:00,  1.06it/s]\n",
      "100%|██████████| 128/128 [02:26<00:00,  1.15s/it]\n",
      "100%|██████████| 128/128 [01:59<00:00,  1.07it/s]\n",
      "100%|██████████| 128/128 [02:25<00:00,  1.14s/it]\n",
      "100%|██████████| 128/128 [02:00<00:00,  1.06it/s]\n",
      "100%|██████████| 128/128 [02:26<00:00,  1.14s/it]\n",
      "100%|██████████| 128/128 [01:59<00:00,  1.07it/s]\n",
      "100%|██████████| 128/128 [02:25<00:00,  1.13s/it]\n",
      "100%|██████████| 128/128 [01:59<00:00,  1.07it/s]\n",
      "100%|██████████| 128/128 [02:27<00:00,  1.15s/it]\n",
      "100%|██████████| 128/128 [02:00<00:00,  1.07it/s]\n",
      "100%|██████████| 128/128 [02:25<00:00,  1.14s/it]\n",
      "100%|██████████| 128/128 [02:00<00:00,  1.06it/s]\n",
      "100%|██████████| 128/128 [02:27<00:00,  1.15s/it]\n",
      "100%|██████████| 128/128 [02:00<00:00,  1.07it/s]\n",
      "100%|██████████| 128/128 [02:25<00:00,  1.13s/it]\n",
      "100%|██████████| 128/128 [01:59<00:00,  1.07it/s]\n",
      "100%|██████████| 128/128 [02:25<00:00,  1.13s/it]\n",
      "100%|██████████| 128/128 [01:59<00:00,  1.07it/s]\n",
      "100%|██████████| 128/128 [02:26<00:00,  1.14s/it]\n",
      "100%|██████████| 128/128 [02:00<00:00,  1.06it/s]\n",
      "100%|██████████| 128/128 [02:26<00:00,  1.15s/it]\n",
      "100%|██████████| 128/128 [02:01<00:00,  1.06it/s]\n",
      "100%|██████████| 128/128 [02:25<00:00,  1.14s/it]\n",
      "100%|██████████| 128/128 [02:00<00:00,  1.06it/s]\n",
      "100%|██████████| 128/128 [02:26<00:00,  1.15s/it]\n",
      "100%|██████████| 128/128 [02:01<00:00,  1.05it/s]\n",
      "100%|██████████| 128/128 [02:26<00:00,  1.14s/it]\n",
      "100%|██████████| 128/128 [02:00<00:00,  1.06it/s]\n",
      "100%|██████████| 128/128 [02:26<00:00,  1.14s/it]\n",
      "100%|██████████| 128/128 [02:00<00:00,  1.06it/s]\n",
      "100%|██████████| 128/128 [02:26<00:00,  1.14s/it]\n",
      "100%|██████████| 128/128 [01:59<00:00,  1.07it/s]\n",
      "100%|██████████| 128/128 [02:24<00:00,  1.13s/it]\n",
      "100%|██████████| 128/128 [02:00<00:00,  1.07it/s]\n",
      "100%|██████████| 128/128 [02:24<00:00,  1.13s/it]\n",
      "100%|██████████| 128/128 [01:59<00:00,  1.07it/s]\n",
      "100%|██████████| 128/128 [02:25<00:00,  1.14s/it]\n",
      "100%|██████████| 128/128 [02:01<00:00,  1.06it/s]\n",
      "100%|██████████| 128/128 [02:25<00:00,  1.14s/it]\n",
      "100%|██████████| 128/128 [02:01<00:00,  1.06it/s]\n",
      "100%|██████████| 128/128 [02:25<00:00,  1.14s/it]\n",
      "100%|██████████| 128/128 [02:00<00:00,  1.06it/s]\n",
      "100%|██████████| 128/128 [02:25<00:00,  1.13s/it]\n",
      "100%|██████████| 128/128 [02:00<00:00,  1.07it/s]\n",
      "100%|██████████| 128/128 [02:26<00:00,  1.14s/it]\n",
      "100%|██████████| 128/128 [02:01<00:00,  1.05it/s]\n",
      "100%|██████████| 128/128 [02:25<00:00,  1.14s/it]\n",
      "100%|██████████| 128/128 [02:00<00:00,  1.06it/s]\n",
      "100%|██████████| 128/128 [02:26<00:00,  1.14s/it]\n",
      "100%|██████████| 128/128 [02:00<00:00,  1.07it/s]\n",
      "100%|██████████| 128/128 [02:26<00:00,  1.14s/it]\n",
      "100%|██████████| 128/128 [02:01<00:00,  1.05it/s]\n",
      "100%|██████████| 128/128 [02:25<00:00,  1.13s/it]\n",
      "100%|██████████| 128/128 [02:00<00:00,  1.06it/s]\n",
      "100%|██████████| 128/128 [02:26<00:00,  1.14s/it]\n",
      "100%|██████████| 128/128 [02:00<00:00,  1.06it/s]\n",
      "100%|██████████| 128/128 [02:26<00:00,  1.14s/it]\n",
      "100%|██████████| 128/128 [02:00<00:00,  1.06it/s]\n",
      "100%|██████████| 128/128 [02:26<00:00,  1.14s/it]\n",
      "100%|██████████| 128/128 [02:01<00:00,  1.06it/s]\n",
      "100%|██████████| 128/128 [02:27<00:00,  1.15s/it]\n",
      "100%|██████████| 128/128 [02:00<00:00,  1.06it/s]\n",
      "100%|██████████| 128/128 [02:25<00:00,  1.14s/it]\n",
      "100%|██████████| 128/128 [01:59<00:00,  1.07it/s]\n",
      "100%|██████████| 128/128 [02:25<00:00,  1.14s/it]\n",
      "100%|██████████| 128/128 [02:00<00:00,  1.07it/s]\n",
      "100%|██████████| 128/128 [02:26<00:00,  1.15s/it]\n",
      "100%|██████████| 128/128 [02:01<00:00,  1.05it/s]\n",
      "100%|██████████| 128/128 [02:26<00:00,  1.14s/it]\n",
      "100%|██████████| 128/128 [02:00<00:00,  1.06it/s]\n",
      "100%|██████████| 128/128 [02:25<00:00,  1.14s/it]\n",
      "100%|██████████| 128/128 [02:01<00:00,  1.05it/s]\n",
      "100%|██████████| 128/128 [02:25<00:00,  1.14s/it]\n",
      "100%|██████████| 128/128 [01:59<00:00,  1.07it/s]\n",
      "100%|██████████| 128/128 [02:26<00:00,  1.14s/it]\n",
      "100%|██████████| 128/128 [02:00<00:00,  1.06it/s]\n",
      "100%|██████████| 128/128 [02:25<00:00,  1.14s/it]\n",
      "100%|██████████| 128/128 [02:01<00:00,  1.06it/s]\n",
      "100%|██████████| 128/128 [02:25<00:00,  1.14s/it]\n",
      "100%|██████████| 128/128 [01:59<00:00,  1.07it/s]\n",
      "100%|██████████| 128/128 [02:25<00:00,  1.14s/it]\n",
      "100%|██████████| 128/128 [02:01<00:00,  1.06it/s]\n",
      "100%|██████████| 128/128 [02:26<00:00,  1.15s/it]\n",
      "100%|██████████| 128/128 [02:00<00:00,  1.06it/s]\n",
      "100%|██████████| 128/128 [02:26<00:00,  1.14s/it]\n",
      "100%|██████████| 128/128 [02:00<00:00,  1.07it/s]\n",
      "100%|██████████| 128/128 [02:25<00:00,  1.14s/it]\n",
      "100%|██████████| 128/128 [02:00<00:00,  1.06it/s]\n",
      "100%|██████████| 128/128 [02:26<00:00,  1.15s/it]\n",
      "100%|██████████| 128/128 [02:00<00:00,  1.06it/s]\n",
      "100%|██████████| 16/16 [00:18<00:00,  1.14s/it]\n",
      "100%|██████████| 16/16 [00:15<00:00,  1.06it/s]\n"
     ]
    },
    {
     "name": "stdout",
     "output_type": "stream",
     "text": [
      "Training loss tf.Tensor(0.6623397, shape=(), dtype=float32)\n",
      "Training loss tf.Tensor(0.035598926, shape=(), dtype=float32)\n",
      "Training loss tf.Tensor(0.026972722, shape=(), dtype=float32)\n",
      "Training loss tf.Tensor(0.01758653, shape=(), dtype=float32)\n",
      "Training loss tf.Tensor(0.017735658, shape=(), dtype=float32)\n",
      "Training loss tf.Tensor(0.01793126, shape=(), dtype=float32)\n",
      "Training loss tf.Tensor(0.015347942, shape=(), dtype=float32)\n",
      "Training loss tf.Tensor(0.015430205, shape=(), dtype=float32)\n",
      "Training loss tf.Tensor(0.015016308, shape=(), dtype=float32)\n",
      "Training loss tf.Tensor(0.010979011, shape=(), dtype=float32)\n"
     ]
    },
    {
     "name": "stderr",
     "output_type": "stream",
     "text": [
      "100%|██████████| 128/128 [02:25<00:00,  1.14s/it]\n",
      "100%|██████████| 128/128 [02:00<00:00,  1.06it/s]\n",
      "100%|██████████| 128/128 [02:26<00:00,  1.14s/it]\n",
      "100%|██████████| 128/128 [02:01<00:00,  1.05it/s]\n",
      "100%|██████████| 128/128 [02:26<00:00,  1.15s/it]\n",
      "100%|██████████| 128/128 [02:01<00:00,  1.05it/s]\n",
      "100%|██████████| 128/128 [02:27<00:00,  1.15s/it]\n",
      "100%|██████████| 128/128 [02:01<00:00,  1.05it/s]\n",
      "100%|██████████| 128/128 [02:27<00:00,  1.15s/it]\n",
      "100%|██████████| 128/128 [02:02<00:00,  1.05it/s]\n",
      "100%|██████████| 128/128 [02:26<00:00,  1.14s/it]\n",
      "100%|██████████| 128/128 [02:01<00:00,  1.06it/s]\n",
      "100%|██████████| 128/128 [02:26<00:00,  1.14s/it]\n",
      "100%|██████████| 128/128 [02:02<00:00,  1.05it/s]\n",
      "100%|██████████| 128/128 [02:25<00:00,  1.14s/it]\n",
      "100%|██████████| 128/128 [02:01<00:00,  1.06it/s]\n",
      "100%|██████████| 128/128 [02:26<00:00,  1.14s/it]\n",
      "100%|██████████| 128/128 [02:01<00:00,  1.05it/s]\n",
      "100%|██████████| 128/128 [02:25<00:00,  1.14s/it]\n",
      "100%|██████████| 128/128 [02:01<00:00,  1.06it/s]\n",
      "100%|██████████| 128/128 [02:26<00:00,  1.14s/it]\n",
      "100%|██████████| 128/128 [02:01<00:00,  1.05it/s]\n",
      "100%|██████████| 128/128 [02:25<00:00,  1.14s/it]\n",
      "100%|██████████| 128/128 [02:02<00:00,  1.05it/s]\n",
      "100%|██████████| 128/128 [02:27<00:00,  1.15s/it]\n",
      "100%|██████████| 128/128 [02:01<00:00,  1.05it/s]\n",
      "100%|██████████| 128/128 [02:26<00:00,  1.14s/it]\n",
      "100%|██████████| 128/128 [02:02<00:00,  1.04it/s]\n",
      "100%|██████████| 128/128 [02:26<00:00,  1.14s/it]\n",
      "100%|██████████| 128/128 [01:58<00:00,  1.08it/s]\n",
      "100%|██████████| 128/128 [02:25<00:00,  1.13s/it]\n",
      "100%|██████████| 128/128 [02:01<00:00,  1.06it/s]\n",
      "100%|██████████| 128/128 [02:25<00:00,  1.14s/it]\n",
      "100%|██████████| 128/128 [02:01<00:00,  1.05it/s]\n",
      "100%|██████████| 128/128 [02:26<00:00,  1.14s/it]\n",
      "100%|██████████| 128/128 [02:01<00:00,  1.06it/s]\n",
      "100%|██████████| 128/128 [02:26<00:00,  1.15s/it]\n",
      "100%|██████████| 128/128 [02:01<00:00,  1.05it/s]\n",
      "100%|██████████| 128/128 [02:25<00:00,  1.14s/it]\n",
      "100%|██████████| 128/128 [02:00<00:00,  1.06it/s]\n",
      "100%|██████████| 128/128 [02:25<00:00,  1.14s/it]\n",
      "100%|██████████| 128/128 [02:00<00:00,  1.06it/s]\n",
      "100%|██████████| 128/128 [02:26<00:00,  1.15s/it]\n",
      "100%|██████████| 128/128 [02:00<00:00,  1.06it/s]\n",
      "100%|██████████| 128/128 [02:27<00:00,  1.15s/it]\n",
      "100%|██████████| 128/128 [02:02<00:00,  1.05it/s]\n",
      "100%|██████████| 128/128 [02:27<00:00,  1.15s/it]\n",
      "100%|██████████| 128/128 [02:02<00:00,  1.05it/s]\n",
      "100%|██████████| 128/128 [02:26<00:00,  1.14s/it]\n",
      "100%|██████████| 128/128 [02:01<00:00,  1.06it/s]\n",
      "100%|██████████| 128/128 [02:27<00:00,  1.15s/it]\n",
      "100%|██████████| 128/128 [02:02<00:00,  1.05it/s]\n",
      "100%|██████████| 128/128 [02:25<00:00,  1.14s/it]\n",
      "100%|██████████| 128/128 [02:01<00:00,  1.05it/s]\n",
      "100%|██████████| 128/128 [02:26<00:00,  1.14s/it]\n",
      "100%|██████████| 128/128 [02:01<00:00,  1.05it/s]\n",
      "100%|██████████| 128/128 [02:26<00:00,  1.14s/it]\n",
      "100%|██████████| 128/128 [02:02<00:00,  1.05it/s]\n",
      "100%|██████████| 128/128 [02:25<00:00,  1.14s/it]\n",
      "100%|██████████| 128/128 [02:01<00:00,  1.05it/s]\n",
      "100%|██████████| 128/128 [02:25<00:00,  1.14s/it]\n",
      "100%|██████████| 128/128 [02:00<00:00,  1.06it/s]\n",
      "100%|██████████| 128/128 [02:27<00:00,  1.15s/it]\n",
      "100%|██████████| 128/128 [02:02<00:00,  1.04it/s]\n",
      "100%|██████████| 128/128 [02:26<00:00,  1.15s/it]\n",
      "100%|██████████| 128/128 [02:02<00:00,  1.04it/s]\n",
      "100%|██████████| 128/128 [02:27<00:00,  1.15s/it]\n",
      "100%|██████████| 128/128 [02:01<00:00,  1.06it/s]\n",
      "100%|██████████| 128/128 [02:26<00:00,  1.14s/it]\n",
      "100%|██████████| 128/128 [02:02<00:00,  1.05it/s]\n",
      "100%|██████████| 128/128 [02:26<00:00,  1.15s/it]\n",
      "100%|██████████| 128/128 [02:00<00:00,  1.06it/s]\n",
      "100%|██████████| 128/128 [02:26<00:00,  1.14s/it]\n",
      "100%|██████████| 128/128 [02:00<00:00,  1.06it/s]\n",
      "100%|██████████| 128/128 [02:25<00:00,  1.14s/it]\n",
      "100%|██████████| 128/128 [02:01<00:00,  1.05it/s]\n",
      "100%|██████████| 128/128 [02:26<00:00,  1.15s/it]\n",
      "100%|██████████| 128/128 [02:00<00:00,  1.06it/s]\n",
      "100%|██████████| 128/128 [02:26<00:00,  1.15s/it]\n",
      "100%|██████████| 128/128 [02:02<00:00,  1.05it/s]\n",
      "100%|██████████| 128/128 [02:25<00:00,  1.14s/it]\n",
      "100%|██████████| 128/128 [02:01<00:00,  1.05it/s]\n",
      "100%|██████████| 128/128 [02:25<00:00,  1.14s/it]\n",
      "100%|██████████| 128/128 [02:01<00:00,  1.05it/s]\n",
      "100%|██████████| 128/128 [02:27<00:00,  1.15s/it]\n",
      "100%|██████████| 128/128 [02:02<00:00,  1.04it/s]\n",
      "100%|██████████| 128/128 [02:27<00:00,  1.15s/it]\n",
      "100%|██████████| 128/128 [02:02<00:00,  1.05it/s]\n",
      "100%|██████████| 128/128 [02:26<00:00,  1.15s/it]\n",
      "100%|██████████| 128/128 [02:00<00:00,  1.06it/s]\n",
      "100%|██████████| 128/128 [02:27<00:00,  1.15s/it]\n",
      "100%|██████████| 128/128 [02:00<00:00,  1.06it/s]\n",
      "100%|██████████| 128/128 [02:26<00:00,  1.15s/it]\n",
      "100%|██████████| 128/128 [02:00<00:00,  1.06it/s]\n",
      "100%|██████████| 128/128 [02:25<00:00,  1.14s/it]\n",
      "100%|██████████| 128/128 [02:01<00:00,  1.05it/s]\n",
      "100%|██████████| 128/128 [02:27<00:00,  1.15s/it]\n",
      "100%|██████████| 128/128 [02:02<00:00,  1.05it/s]\n",
      "100%|██████████| 128/128 [02:26<00:00,  1.14s/it]\n",
      "100%|██████████| 128/128 [02:01<00:00,  1.05it/s]\n",
      "100%|██████████| 128/128 [02:27<00:00,  1.15s/it]\n",
      "100%|██████████| 128/128 [02:01<00:00,  1.05it/s]\n",
      "100%|██████████| 128/128 [02:26<00:00,  1.14s/it]\n",
      "100%|██████████| 128/128 [02:00<00:00,  1.06it/s]\n",
      "100%|██████████| 128/128 [02:26<00:00,  1.14s/it]\n",
      "100%|██████████| 128/128 [02:01<00:00,  1.05it/s]\n",
      "100%|██████████| 128/128 [02:28<00:00,  1.16s/it]\n",
      "100%|██████████| 128/128 [02:01<00:00,  1.05it/s]\n",
      "100%|██████████| 128/128 [02:26<00:00,  1.15s/it]\n",
      "100%|██████████| 128/128 [02:01<00:00,  1.05it/s]\n",
      "100%|██████████| 128/128 [02:25<00:00,  1.14s/it]\n",
      "100%|██████████| 128/128 [02:01<00:00,  1.05it/s]\n",
      "100%|██████████| 128/128 [02:26<00:00,  1.14s/it]\n",
      "100%|██████████| 128/128 [02:02<00:00,  1.05it/s]\n",
      "100%|██████████| 128/128 [02:26<00:00,  1.15s/it]\n",
      "100%|██████████| 128/128 [02:01<00:00,  1.05it/s]\n",
      "100%|██████████| 128/128 [02:26<00:00,  1.15s/it]\n",
      "100%|██████████| 128/128 [02:01<00:00,  1.06it/s]\n",
      "100%|██████████| 128/128 [02:25<00:00,  1.14s/it]\n",
      "100%|██████████| 128/128 [02:01<00:00,  1.06it/s]\n",
      "100%|██████████| 128/128 [02:26<00:00,  1.15s/it]\n",
      "100%|██████████| 128/128 [02:01<00:00,  1.06it/s]\n",
      "100%|██████████| 128/128 [02:27<00:00,  1.15s/it]\n",
      "100%|██████████| 128/128 [02:02<00:00,  1.05it/s]\n",
      "100%|██████████| 128/128 [02:26<00:00,  1.14s/it]\n",
      "100%|██████████| 128/128 [02:01<00:00,  1.05it/s]\n",
      "100%|██████████| 128/128 [02:27<00:00,  1.15s/it]\n",
      "100%|██████████| 128/128 [02:02<00:00,  1.05it/s]\n",
      "100%|██████████| 128/128 [02:25<00:00,  1.14s/it]\n",
      "100%|██████████| 128/128 [02:01<00:00,  1.05it/s]\n",
      "100%|██████████| 128/128 [02:26<00:00,  1.15s/it]\n",
      "100%|██████████| 128/128 [02:01<00:00,  1.05it/s]\n",
      "100%|██████████| 128/128 [02:26<00:00,  1.14s/it]\n",
      "100%|██████████| 128/128 [02:01<00:00,  1.05it/s]\n",
      "100%|██████████| 128/128 [02:28<00:00,  1.16s/it]\n",
      "100%|██████████| 128/128 [02:02<00:00,  1.04it/s]\n",
      "100%|██████████| 128/128 [02:26<00:00,  1.15s/it]\n",
      "100%|██████████| 128/128 [02:02<00:00,  1.05it/s]\n",
      "100%|██████████| 128/128 [02:25<00:00,  1.13s/it]\n",
      "100%|██████████| 128/128 [02:00<00:00,  1.06it/s]\n",
      "100%|██████████| 128/128 [02:27<00:00,  1.15s/it]\n",
      "100%|██████████| 128/128 [02:02<00:00,  1.05it/s]\n",
      "100%|██████████| 128/128 [02:27<00:00,  1.15s/it]\n",
      "100%|██████████| 128/128 [02:01<00:00,  1.06it/s]\n",
      "100%|██████████| 128/128 [02:26<00:00,  1.14s/it]\n",
      "100%|██████████| 128/128 [02:01<00:00,  1.05it/s]\n",
      "100%|██████████| 128/128 [02:27<00:00,  1.15s/it]\n",
      "100%|██████████| 128/128 [02:02<00:00,  1.04it/s]\n",
      "100%|██████████| 128/128 [02:26<00:00,  1.14s/it]\n",
      "100%|██████████| 128/128 [02:01<00:00,  1.06it/s]\n",
      "100%|██████████| 128/128 [02:26<00:00,  1.14s/it]\n",
      "100%|██████████| 128/128 [02:01<00:00,  1.05it/s]\n",
      "100%|██████████| 128/128 [02:25<00:00,  1.14s/it]\n",
      "100%|██████████| 128/128 [02:01<00:00,  1.05it/s]\n",
      "100%|██████████| 128/128 [02:27<00:00,  1.15s/it]\n",
      "100%|██████████| 128/128 [02:01<00:00,  1.05it/s]\n",
      "100%|██████████| 16/16 [00:17<00:00,  1.12s/it]\n",
      "100%|██████████| 16/16 [00:14<00:00,  1.07it/s]\n"
     ]
    },
    {
     "name": "stdout",
     "output_type": "stream",
     "text": [
      "Training loss tf.Tensor(1.1045098, shape=(), dtype=float32)\n",
      "Training loss tf.Tensor(0.041148685, shape=(), dtype=float32)\n",
      "Training loss tf.Tensor(0.02673839, shape=(), dtype=float32)\n",
      "Training loss tf.Tensor(0.023829194, shape=(), dtype=float32)\n",
      "Training loss tf.Tensor(0.017580597, shape=(), dtype=float32)\n",
      "Training loss tf.Tensor(0.0197622, shape=(), dtype=float32)\n",
      "Training loss tf.Tensor(0.015742697, shape=(), dtype=float32)\n",
      "Training loss tf.Tensor(0.020298526, shape=(), dtype=float32)\n",
      "Training loss tf.Tensor(0.0152607, shape=(), dtype=float32)\n",
      "Training loss tf.Tensor(0.011773767, shape=(), dtype=float32)\n"
     ]
    },
    {
     "name": "stderr",
     "output_type": "stream",
     "text": [
      "100%|██████████| 128/128 [02:26<00:00,  1.15s/it]\n",
      "100%|██████████| 128/128 [02:01<00:00,  1.05it/s]\n",
      "100%|██████████| 128/128 [02:25<00:00,  1.14s/it]\n",
      "100%|██████████| 128/128 [02:02<00:00,  1.05it/s]\n",
      "100%|██████████| 128/128 [02:27<00:00,  1.15s/it]\n",
      "100%|██████████| 128/128 [02:00<00:00,  1.06it/s]\n",
      "100%|██████████| 128/128 [02:26<00:00,  1.14s/it]\n",
      "100%|██████████| 128/128 [02:02<00:00,  1.05it/s]\n",
      "100%|██████████| 128/128 [02:27<00:00,  1.15s/it]\n",
      "100%|██████████| 128/128 [02:01<00:00,  1.05it/s]\n",
      "100%|██████████| 128/128 [02:26<00:00,  1.14s/it]\n",
      "100%|██████████| 128/128 [02:02<00:00,  1.05it/s]\n",
      "100%|██████████| 128/128 [02:26<00:00,  1.14s/it]\n",
      "100%|██████████| 128/128 [02:01<00:00,  1.05it/s]\n",
      "100%|██████████| 128/128 [02:25<00:00,  1.14s/it]\n",
      "100%|██████████| 128/128 [02:01<00:00,  1.05it/s]\n",
      "100%|██████████| 128/128 [02:27<00:00,  1.15s/it]\n",
      "100%|██████████| 128/128 [02:00<00:00,  1.06it/s]\n",
      "100%|██████████| 128/128 [02:25<00:00,  1.14s/it]\n",
      "100%|██████████| 128/128 [02:01<00:00,  1.05it/s]\n",
      "100%|██████████| 128/128 [02:26<00:00,  1.15s/it]\n",
      "100%|██████████| 128/128 [02:00<00:00,  1.06it/s]\n",
      "100%|██████████| 128/128 [02:26<00:00,  1.15s/it]\n",
      "100%|██████████| 128/128 [02:01<00:00,  1.05it/s]\n",
      "100%|██████████| 128/128 [02:26<00:00,  1.15s/it]\n",
      "100%|██████████| 128/128 [02:02<00:00,  1.05it/s]\n",
      "100%|██████████| 128/128 [02:26<00:00,  1.14s/it]\n",
      "100%|██████████| 128/128 [02:00<00:00,  1.06it/s]\n",
      "100%|██████████| 128/128 [02:26<00:00,  1.15s/it]\n",
      "100%|██████████| 128/128 [02:01<00:00,  1.06it/s]\n",
      "100%|██████████| 128/128 [02:25<00:00,  1.14s/it]\n",
      "100%|██████████| 128/128 [02:01<00:00,  1.05it/s]\n",
      "100%|██████████| 128/128 [02:24<00:00,  1.13s/it]\n",
      "100%|██████████| 128/128 [02:00<00:00,  1.06it/s]\n",
      "100%|██████████| 128/128 [02:25<00:00,  1.13s/it]\n",
      "100%|██████████| 128/128 [02:00<00:00,  1.06it/s]\n",
      "100%|██████████| 128/128 [02:25<00:00,  1.14s/it]\n",
      "100%|██████████| 128/128 [02:01<00:00,  1.05it/s]\n",
      "100%|██████████| 128/128 [02:26<00:00,  1.14s/it]\n",
      "100%|██████████| 128/128 [02:00<00:00,  1.06it/s]\n",
      "100%|██████████| 128/128 [02:26<00:00,  1.15s/it]\n",
      "100%|██████████| 128/128 [02:01<00:00,  1.05it/s]\n",
      "100%|██████████| 128/128 [02:26<00:00,  1.14s/it]\n",
      "100%|██████████| 128/128 [02:02<00:00,  1.05it/s]\n",
      "100%|██████████| 128/128 [02:26<00:00,  1.14s/it]\n",
      "100%|██████████| 128/128 [02:01<00:00,  1.06it/s]\n",
      "100%|██████████| 128/128 [02:26<00:00,  1.15s/it]\n",
      "100%|██████████| 128/128 [02:02<00:00,  1.05it/s]\n",
      "100%|██████████| 128/128 [02:26<00:00,  1.15s/it]\n",
      "100%|██████████| 128/128 [02:02<00:00,  1.05it/s]\n",
      "100%|██████████| 128/128 [02:26<00:00,  1.15s/it]\n",
      "100%|██████████| 128/128 [02:01<00:00,  1.05it/s]\n",
      "100%|██████████| 128/128 [02:27<00:00,  1.15s/it]\n",
      "100%|██████████| 128/128 [02:01<00:00,  1.06it/s]\n",
      "100%|██████████| 128/128 [02:26<00:00,  1.15s/it]\n",
      "100%|██████████| 128/128 [02:01<00:00,  1.05it/s]\n",
      "100%|██████████| 128/128 [02:25<00:00,  1.14s/it]\n",
      "100%|██████████| 128/128 [02:00<00:00,  1.06it/s]\n",
      "100%|██████████| 128/128 [02:26<00:00,  1.15s/it]\n",
      "100%|██████████| 128/128 [02:01<00:00,  1.05it/s]\n",
      "100%|██████████| 128/128 [02:25<00:00,  1.14s/it]\n",
      "100%|██████████| 128/128 [02:01<00:00,  1.05it/s]\n",
      "100%|██████████| 128/128 [02:26<00:00,  1.14s/it]\n",
      "100%|██████████| 128/128 [02:01<00:00,  1.05it/s]\n",
      "100%|██████████| 128/128 [02:27<00:00,  1.15s/it]\n",
      "100%|██████████| 128/128 [02:02<00:00,  1.05it/s]\n",
      "100%|██████████| 128/128 [02:26<00:00,  1.15s/it]\n",
      "100%|██████████| 128/128 [02:01<00:00,  1.05it/s]\n",
      "100%|██████████| 128/128 [02:23<00:00,  1.12s/it]\n",
      "100%|██████████| 128/128 [02:01<00:00,  1.05it/s]\n",
      "100%|██████████| 128/128 [02:25<00:00,  1.14s/it]\n",
      "100%|██████████| 128/128 [02:01<00:00,  1.06it/s]\n",
      "100%|██████████| 128/128 [02:26<00:00,  1.14s/it]\n",
      "100%|██████████| 128/128 [02:01<00:00,  1.05it/s]\n",
      "100%|██████████| 128/128 [02:26<00:00,  1.14s/it]\n",
      "100%|██████████| 128/128 [02:00<00:00,  1.06it/s]\n",
      "100%|██████████| 128/128 [02:27<00:00,  1.15s/it]\n",
      "100%|██████████| 128/128 [02:01<00:00,  1.05it/s]\n",
      "100%|██████████| 128/128 [02:25<00:00,  1.14s/it]\n",
      "100%|██████████| 128/128 [02:01<00:00,  1.05it/s]\n",
      "100%|██████████| 128/128 [02:25<00:00,  1.13s/it]\n",
      "100%|██████████| 128/128 [02:01<00:00,  1.05it/s]\n",
      "100%|██████████| 128/128 [02:25<00:00,  1.14s/it]\n",
      "100%|██████████| 128/128 [02:01<00:00,  1.05it/s]\n",
      "100%|██████████| 128/128 [02:25<00:00,  1.14s/it]\n",
      "100%|██████████| 128/128 [02:01<00:00,  1.06it/s]\n",
      "100%|██████████| 128/128 [02:26<00:00,  1.14s/it]\n",
      "100%|██████████| 128/128 [02:01<00:00,  1.05it/s]\n",
      "100%|██████████| 128/128 [02:26<00:00,  1.14s/it]\n",
      "100%|██████████| 128/128 [02:01<00:00,  1.05it/s]\n",
      "100%|██████████| 128/128 [02:26<00:00,  1.14s/it]\n",
      "100%|██████████| 128/128 [02:01<00:00,  1.06it/s]\n",
      "100%|██████████| 128/128 [02:26<00:00,  1.14s/it]\n",
      "100%|██████████| 128/128 [02:00<00:00,  1.07it/s]\n",
      "100%|██████████| 128/128 [02:26<00:00,  1.15s/it]\n",
      "100%|██████████| 128/128 [02:00<00:00,  1.06it/s]\n",
      "100%|██████████| 128/128 [02:25<00:00,  1.14s/it]\n",
      "100%|██████████| 128/128 [02:00<00:00,  1.06it/s]\n",
      "100%|██████████| 128/128 [02:32<00:00,  1.19s/it]\n",
      "100%|██████████| 128/128 [02:01<00:00,  1.05it/s]\n",
      "100%|██████████| 128/128 [02:25<00:00,  1.13s/it]\n",
      "100%|██████████| 128/128 [02:01<00:00,  1.06it/s]\n",
      "100%|██████████| 128/128 [02:23<00:00,  1.12s/it]\n",
      "100%|██████████| 128/128 [02:00<00:00,  1.06it/s]\n",
      "100%|██████████| 128/128 [02:22<00:00,  1.11s/it]\n",
      "100%|██████████| 128/128 [01:59<00:00,  1.07it/s]\n",
      "100%|██████████| 128/128 [02:23<00:00,  1.12s/it]\n",
      "100%|██████████| 128/128 [01:59<00:00,  1.07it/s]\n",
      "100%|██████████| 128/128 [02:21<00:00,  1.11s/it]\n",
      "100%|██████████| 128/128 [01:59<00:00,  1.07it/s]\n",
      "100%|██████████| 128/128 [02:22<00:00,  1.12s/it]\n",
      "100%|██████████| 128/128 [01:58<00:00,  1.08it/s]\n",
      "100%|██████████| 128/128 [02:23<00:00,  1.12s/it]\n",
      "100%|██████████| 128/128 [01:58<00:00,  1.08it/s]\n",
      "100%|██████████| 128/128 [02:23<00:00,  1.12s/it]\n",
      "100%|██████████| 128/128 [02:00<00:00,  1.06it/s]\n",
      "100%|██████████| 128/128 [02:32<00:00,  1.19s/it]\n",
      "100%|██████████| 128/128 [02:04<00:00,  1.03it/s]\n",
      "100%|██████████| 128/128 [02:26<00:00,  1.14s/it]\n",
      "100%|██████████| 128/128 [02:01<00:00,  1.05it/s]\n",
      "100%|██████████| 128/128 [02:24<00:00,  1.13s/it]\n",
      "100%|██████████| 128/128 [02:01<00:00,  1.05it/s]\n",
      "100%|██████████| 128/128 [02:25<00:00,  1.14s/it]\n",
      "100%|██████████| 128/128 [01:59<00:00,  1.07it/s]\n",
      "100%|██████████| 128/128 [02:26<00:00,  1.14s/it]\n",
      "100%|██████████| 128/128 [02:02<00:00,  1.05it/s]\n",
      "100%|██████████| 128/128 [02:25<00:00,  1.14s/it]\n",
      "100%|██████████| 128/128 [02:00<00:00,  1.06it/s]\n",
      "100%|██████████| 128/128 [02:24<00:00,  1.13s/it]\n",
      "100%|██████████| 128/128 [02:00<00:00,  1.06it/s]\n",
      "100%|██████████| 128/128 [02:25<00:00,  1.13s/it]\n",
      "100%|██████████| 128/128 [01:59<00:00,  1.07it/s]\n",
      "100%|██████████| 128/128 [02:25<00:00,  1.14s/it]\n",
      "100%|██████████| 128/128 [02:01<00:00,  1.05it/s]\n",
      "100%|██████████| 128/128 [02:25<00:00,  1.14s/it]\n",
      "100%|██████████| 128/128 [02:01<00:00,  1.05it/s]\n",
      "100%|██████████| 128/128 [02:25<00:00,  1.13s/it]\n",
      "100%|██████████| 128/128 [02:02<00:00,  1.05it/s]\n",
      "100%|██████████| 128/128 [02:26<00:00,  1.14s/it]\n",
      "100%|██████████| 128/128 [02:01<00:00,  1.05it/s]\n",
      "100%|██████████| 128/128 [02:26<00:00,  1.14s/it]\n",
      "100%|██████████| 128/128 [02:01<00:00,  1.05it/s]\n",
      "100%|██████████| 128/128 [02:26<00:00,  1.15s/it]\n",
      "100%|██████████| 128/128 [02:02<00:00,  1.05it/s]\n",
      "100%|██████████| 128/128 [02:25<00:00,  1.14s/it]\n",
      "100%|██████████| 128/128 [02:02<00:00,  1.05it/s]\n",
      "100%|██████████| 128/128 [02:25<00:00,  1.14s/it]\n",
      " 95%|█████████▌| 122/128 [01:57<00:05,  1.03it/s]"
     ]
    }
   ],
   "source": [
    "for i in range(4):\n",
    "    train_and_save(i)"
   ]
  },
  {
   "cell_type": "code",
   "execution_count": null,
   "metadata": {},
   "outputs": [],
   "source": []
  }
 ],
 "metadata": {
  "kernelspec": {
   "display_name": "Python 3",
   "language": "python",
   "name": "python3"
  },
  "language_info": {
   "codemirror_mode": {
    "name": "ipython",
    "version": 3
   },
   "file_extension": ".py",
   "mimetype": "text/x-python",
   "name": "python",
   "nbconvert_exporter": "python",
   "pygments_lexer": "ipython3",
   "version": "3.8.5"
  }
 },
 "nbformat": 4,
 "nbformat_minor": 4
}
