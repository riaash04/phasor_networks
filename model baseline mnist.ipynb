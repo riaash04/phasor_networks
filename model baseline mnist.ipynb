{
 "cells": [
  {
   "cell_type": "code",
   "execution_count": 1,
   "metadata": {},
   "outputs": [],
   "source": [
    "import matplotlib.pyplot as plt\n",
    "import numpy as np\n",
    "\n",
    "import tensorflow as tf\n",
    "import tensorflow_datasets as tfds\n",
    "import tensorflow.keras as keras\n",
    "import tensorflow.keras.layers as layers\n",
    "import tensorflow.keras.backend as be"
   ]
  },
  {
   "cell_type": "code",
   "execution_count": 2,
   "metadata": {},
   "outputs": [],
   "source": [
    "from utils import *\n",
    "from data import *\n",
    "from layers import *\n",
    "from baseline_models import *"
   ]
  },
  {
   "cell_type": "code",
   "execution_count": 3,
   "metadata": {},
   "outputs": [],
   "source": [
    "limit_gpus()\n",
    "set_gpu(2)"
   ]
  },
  {
   "cell_type": "code",
   "execution_count": 4,
   "metadata": {},
   "outputs": [],
   "source": [
    "dataset = \"mnist\"\n",
    "ds_train, ds_test, ds_info = load_dataset(dataset, 128)\n",
    "\n",
    "input_shape = ds_info.features['image'].shape\n",
    "num_classes = ds_info.features['label'].num_classes"
   ]
  },
  {
   "cell_type": "code",
   "execution_count": 5,
   "metadata": {
    "scrolled": true
   },
   "outputs": [
    {
     "name": "stdout",
     "output_type": "stream",
     "text": [
      "Epoch 1/2\n",
      "469/469 [==============================] - 4s 3ms/step - loss: 0.7376 - sparse_categorical_accuracy: 0.7814\n",
      "Epoch 2/2\n",
      "469/469 [==============================] - 1s 3ms/step - loss: 0.2871 - sparse_categorical_accuracy: 0.9137\n",
      "79/79 [==============================] - 0s 3ms/step - loss: 0.1631 - sparse_categorical_accuracy: 0.9525\n",
      "Epoch 1/2\n",
      "469/469 [==============================] - 2s 3ms/step - loss: 0.7539 - sparse_categorical_accuracy: 0.7740\n",
      "Epoch 2/2\n",
      "469/469 [==============================] - 1s 3ms/step - loss: 0.2893 - sparse_categorical_accuracy: 0.9152\n",
      "79/79 [==============================] - 0s 2ms/step - loss: 0.1613 - sparse_categorical_accuracy: 0.9541\n",
      "Epoch 1/2\n",
      "469/469 [==============================] - 2s 3ms/step - loss: 0.7392 - sparse_categorical_accuracy: 0.7788\n",
      "Epoch 2/2\n",
      "469/469 [==============================] - 1s 3ms/step - loss: 0.2932 - sparse_categorical_accuracy: 0.9132\n",
      "79/79 [==============================] - 0s 2ms/step - loss: 0.1688 - sparse_categorical_accuracy: 0.9490\n",
      "Epoch 1/2\n",
      "469/469 [==============================] - 2s 3ms/step - loss: 0.7590 - sparse_categorical_accuracy: 0.7724\n",
      "Epoch 2/2\n",
      "469/469 [==============================] - 1s 3ms/step - loss: 0.2897 - sparse_categorical_accuracy: 0.9138\n",
      "79/79 [==============================] - 0s 2ms/step - loss: 0.1584 - sparse_categorical_accuracy: 0.9535\n",
      "Epoch 1/2\n",
      "469/469 [==============================] - 2s 2ms/step - loss: 0.7334 - sparse_categorical_accuracy: 0.7819\n",
      "Epoch 2/2\n",
      "469/469 [==============================] - 1s 3ms/step - loss: 0.2832 - sparse_categorical_accuracy: 0.9158\n",
      "79/79 [==============================] - 0s 2ms/step - loss: 0.1617 - sparse_categorical_accuracy: 0.9524\n",
      "Epoch 1/2\n",
      "469/469 [==============================] - 1s 2ms/step - loss: 0.7560 - sparse_categorical_accuracy: 0.7728\n",
      "Epoch 2/2\n",
      "469/469 [==============================] - 1s 3ms/step - loss: 0.2822 - sparse_categorical_accuracy: 0.9167\n",
      "79/79 [==============================] - 0s 2ms/step - loss: 0.1695 - sparse_categorical_accuracy: 0.9488\n",
      "Epoch 1/2\n",
      "469/469 [==============================] - 2s 2ms/step - loss: 0.7466 - sparse_categorical_accuracy: 0.7742\n",
      "Epoch 2/2\n",
      "469/469 [==============================] - 1s 3ms/step - loss: 0.2891 - sparse_categorical_accuracy: 0.9139\n",
      "79/79 [==============================] - 0s 2ms/step - loss: 0.1647 - sparse_categorical_accuracy: 0.9524\n",
      "Epoch 1/2\n",
      "469/469 [==============================] - 2s 2ms/step - loss: 0.7439 - sparse_categorical_accuracy: 0.7770\n",
      "Epoch 2/2\n",
      "469/469 [==============================] - 1s 3ms/step - loss: 0.2840 - sparse_categorical_accuracy: 0.9156\n",
      "79/79 [==============================] - 0s 2ms/step - loss: 0.1591 - sparse_categorical_accuracy: 0.9535\n",
      "Epoch 1/2\n",
      "469/469 [==============================] - 2s 2ms/step - loss: 0.7252 - sparse_categorical_accuracy: 0.7844\n",
      "Epoch 2/2\n",
      "469/469 [==============================] - 1s 3ms/step - loss: 0.2839 - sparse_categorical_accuracy: 0.9155\n",
      "79/79 [==============================] - 0s 2ms/step - loss: 0.1599 - sparse_categorical_accuracy: 0.9554\n",
      "Epoch 1/2\n",
      "469/469 [==============================] - 1s 2ms/step - loss: 0.7511 - sparse_categorical_accuracy: 0.7718\n",
      "Epoch 2/2\n",
      "469/469 [==============================] - 1s 3ms/step - loss: 0.2934 - sparse_categorical_accuracy: 0.9122\n",
      "79/79 [==============================] - 0s 2ms/step - loss: 0.1599 - sparse_categorical_accuracy: 0.9534\n"
     ]
    }
   ],
   "source": [
    "std_accs = test_standard(make_standard, ds_train, ds_test)"
   ]
  },
  {
   "cell_type": "code",
   "execution_count": 7,
   "metadata": {
    "scrolled": true
   },
   "outputs": [
    {
     "name": "stdout",
     "output_type": "stream",
     "text": [
      "Epoch 1/2\n",
      "469/469 [==============================] - 2s 3ms/step - loss: 0.5810 - sparse_categorical_accuracy: 0.8230\n",
      "Epoch 2/2\n",
      "469/469 [==============================] - 2s 4ms/step - loss: 0.2326 - sparse_categorical_accuracy: 0.9286\n",
      "79/79 [==============================] - 0s 2ms/step - loss: 0.1216 - sparse_categorical_accuracy: 0.9641\n",
      "Epoch 1/2\n",
      "469/469 [==============================] - 2s 4ms/step - loss: 0.5988 - sparse_categorical_accuracy: 0.8159\n",
      "Epoch 2/2\n",
      "469/469 [==============================] - 2s 3ms/step - loss: 0.2356 - sparse_categorical_accuracy: 0.9285\n",
      "79/79 [==============================] - 0s 2ms/step - loss: 0.1195 - sparse_categorical_accuracy: 0.9639\n",
      "Epoch 1/2\n",
      "469/469 [==============================] - 2s 3ms/step - loss: 0.5783 - sparse_categorical_accuracy: 0.8219\n",
      "Epoch 2/2\n",
      "469/469 [==============================] - 2s 3ms/step - loss: 0.2369 - sparse_categorical_accuracy: 0.9283\n",
      "79/79 [==============================] - 0s 2ms/step - loss: 0.1168 - sparse_categorical_accuracy: 0.9663\n",
      "Epoch 1/2\n",
      "469/469 [==============================] - 2s 3ms/step - loss: 0.5944 - sparse_categorical_accuracy: 0.8181\n",
      "Epoch 2/2\n",
      "469/469 [==============================] - 2s 4ms/step - loss: 0.2296 - sparse_categorical_accuracy: 0.9303\n",
      "79/79 [==============================] - 0s 2ms/step - loss: 0.1195 - sparse_categorical_accuracy: 0.9645\n",
      "Epoch 1/2\n",
      "469/469 [==============================] - 2s 3ms/step - loss: 0.5822 - sparse_categorical_accuracy: 0.8221\n",
      "Epoch 2/2\n",
      "469/469 [==============================] - 2s 3ms/step - loss: 0.2332 - sparse_categorical_accuracy: 0.9301\n",
      "79/79 [==============================] - 0s 2ms/step - loss: 0.1155 - sparse_categorical_accuracy: 0.9649\n",
      "Epoch 1/2\n",
      "469/469 [==============================] - 2s 3ms/step - loss: 0.5847 - sparse_categorical_accuracy: 0.8174\n",
      "Epoch 2/2\n",
      "469/469 [==============================] - 2s 4ms/step - loss: 0.2296 - sparse_categorical_accuracy: 0.9302\n",
      "79/79 [==============================] - 0s 2ms/step - loss: 0.1163 - sparse_categorical_accuracy: 0.9641\n",
      "Epoch 1/2\n",
      "469/469 [==============================] - 2s 3ms/step - loss: 0.5760 - sparse_categorical_accuracy: 0.8226\n",
      "Epoch 2/2\n",
      "469/469 [==============================] - 2s 3ms/step - loss: 0.2260 - sparse_categorical_accuracy: 0.9324\n",
      "79/79 [==============================] - 0s 2ms/step - loss: 0.1107 - sparse_categorical_accuracy: 0.9646\n",
      "Epoch 1/2\n",
      "469/469 [==============================] - 2s 3ms/step - loss: 0.5661 - sparse_categorical_accuracy: 0.8248\n",
      "Epoch 2/2\n",
      "469/469 [==============================] - 2s 3ms/step - loss: 0.2315 - sparse_categorical_accuracy: 0.9309\n",
      "79/79 [==============================] - 0s 2ms/step - loss: 0.1190 - sparse_categorical_accuracy: 0.9646\n",
      "Epoch 1/2\n",
      "469/469 [==============================] - 2s 3ms/step - loss: 0.5914 - sparse_categorical_accuracy: 0.8180\n",
      "Epoch 2/2\n",
      "469/469 [==============================] - 2s 3ms/step - loss: 0.2315 - sparse_categorical_accuracy: 0.9304\n",
      "79/79 [==============================] - 0s 2ms/step - loss: 0.1137 - sparse_categorical_accuracy: 0.9659\n",
      "Epoch 1/2\n",
      "469/469 [==============================] - 2s 3ms/step - loss: 0.5819 - sparse_categorical_accuracy: 0.8196\n",
      "Epoch 2/2\n",
      "469/469 [==============================] - 2s 3ms/step - loss: 0.2337 - sparse_categorical_accuracy: 0.9277\n",
      "79/79 [==============================] - 0s 2ms/step - loss: 0.1133 - sparse_categorical_accuracy: 0.9646\n"
     ]
    }
   ],
   "source": [
    "std_accs_rp = test_standard(make_standard_RP, ds_train, ds_test)"
   ]
  },
  {
   "cell_type": "code",
   "execution_count": 9,
   "metadata": {
    "scrolled": true
   },
   "outputs": [
    {
     "name": "stdout",
     "output_type": "stream",
     "text": [
      "Epoch 1/2\n",
      "469/469 [==============================] - 2s 3ms/step - loss: 0.9060 - sparse_categorical_accuracy: 0.7409\n",
      "Epoch 2/2\n",
      "469/469 [==============================] - 1s 3ms/step - loss: 0.3744 - sparse_categorical_accuracy: 0.8915\n",
      "79/79 [==============================] - 0s 2ms/step - loss: 0.2164 - sparse_categorical_accuracy: 0.9394\n",
      "Epoch 1/2\n",
      "469/469 [==============================] - 2s 3ms/step - loss: 0.8845 - sparse_categorical_accuracy: 0.7432\n",
      "Epoch 2/2\n",
      "469/469 [==============================] - 1s 3ms/step - loss: 0.3689 - sparse_categorical_accuracy: 0.8905\n",
      "79/79 [==============================] - 0s 2ms/step - loss: 0.2163 - sparse_categorical_accuracy: 0.9365\n",
      "Epoch 1/2\n",
      "469/469 [==============================] - 2s 3ms/step - loss: 0.8823 - sparse_categorical_accuracy: 0.7530\n",
      "Epoch 2/2\n",
      "469/469 [==============================] - 1s 3ms/step - loss: 0.3694 - sparse_categorical_accuracy: 0.8907\n",
      "79/79 [==============================] - 0s 2ms/step - loss: 0.2228 - sparse_categorical_accuracy: 0.9372\n",
      "Epoch 1/2\n",
      "469/469 [==============================] - 2s 3ms/step - loss: 0.8846 - sparse_categorical_accuracy: 0.7496\n",
      "Epoch 2/2\n",
      "469/469 [==============================] - 1s 3ms/step - loss: 0.3610 - sparse_categorical_accuracy: 0.8922\n",
      "79/79 [==============================] - 0s 2ms/step - loss: 0.2135 - sparse_categorical_accuracy: 0.9382\n",
      "Epoch 1/2\n",
      "469/469 [==============================] - 2s 3ms/step - loss: 0.8736 - sparse_categorical_accuracy: 0.7489\n",
      "Epoch 2/2\n",
      "469/469 [==============================] - 1s 3ms/step - loss: 0.3554 - sparse_categorical_accuracy: 0.8942\n",
      "79/79 [==============================] - 0s 2ms/step - loss: 0.2141 - sparse_categorical_accuracy: 0.9370\n",
      "Epoch 1/2\n",
      "469/469 [==============================] - 2s 3ms/step - loss: 0.9016 - sparse_categorical_accuracy: 0.7426\n",
      "Epoch 2/2\n",
      "469/469 [==============================] - 1s 3ms/step - loss: 0.3876 - sparse_categorical_accuracy: 0.8832\n",
      "79/79 [==============================] - 0s 2ms/step - loss: 0.2332 - sparse_categorical_accuracy: 0.9315\n",
      "Epoch 1/2\n",
      "469/469 [==============================] - 1s 2ms/step - loss: 0.8737 - sparse_categorical_accuracy: 0.7568\n",
      "Epoch 2/2\n",
      "469/469 [==============================] - 1s 3ms/step - loss: 0.3548 - sparse_categorical_accuracy: 0.8939\n",
      "79/79 [==============================] - 0s 2ms/step - loss: 0.2173 - sparse_categorical_accuracy: 0.9377\n",
      "Epoch 1/2\n",
      "469/469 [==============================] - 2s 3ms/step - loss: 0.8992 - sparse_categorical_accuracy: 0.7488\n",
      "Epoch 2/2\n",
      "469/469 [==============================] - 1s 3ms/step - loss: 0.3687 - sparse_categorical_accuracy: 0.8898\n",
      "79/79 [==============================] - 0s 2ms/step - loss: 0.2177 - sparse_categorical_accuracy: 0.9385\n",
      "Epoch 1/2\n",
      "469/469 [==============================] - 2s 3ms/step - loss: 0.9059 - sparse_categorical_accuracy: 0.7400\n",
      "Epoch 2/2\n",
      "469/469 [==============================] - 1s 3ms/step - loss: 0.3785 - sparse_categorical_accuracy: 0.8857\n",
      "79/79 [==============================] - 0s 2ms/step - loss: 0.2224 - sparse_categorical_accuracy: 0.9345\n",
      "Epoch 1/2\n",
      "469/469 [==============================] - 2s 3ms/step - loss: 0.9126 - sparse_categorical_accuracy: 0.7395\n",
      "Epoch 2/2\n",
      "469/469 [==============================] - 1s 3ms/step - loss: 0.3698 - sparse_categorical_accuracy: 0.8887\n",
      "79/79 [==============================] - 0s 2ms/step - loss: 0.2205 - sparse_categorical_accuracy: 0.9370\n"
     ]
    }
   ],
   "source": [
    "std_accs_dot = test_standard(make_standard_dot, ds_train, ds_test)"
   ]
  },
  {
   "cell_type": "code",
   "execution_count": 10,
   "metadata": {},
   "outputs": [
    {
     "data": {
      "image/png": "[encoded data removed]",
      "text/plain": [
       "<Figure size 432x288 with 1 Axes>"
      ]
     },
     "metadata": {
      "needs_background": "light"
     },
     "output_type": "display_data"
    }
   ],
   "source": [
    "plt.boxplot([std_accs, std_accs_rp, std_accs_dot]);"
   ]
  },
  {
   "cell_type": "code",
   "execution_count": 11,
   "metadata": {
    "scrolled": true
   },
   "outputs": [
    {
     "name": "stdout",
     "output_type": "stream",
     "text": [
      "Training loss tf.Tensor(0.74326766, shape=(), dtype=float32)\n",
      "Training loss tf.Tensor(0.041383408, shape=(), dtype=float32)\n",
      "Training loss tf.Tensor(0.036620855, shape=(), dtype=float32)\n",
      "Training loss tf.Tensor(0.039590236, shape=(), dtype=float32)\n",
      "Training loss tf.Tensor(0.029160446, shape=(), dtype=float32)\n",
      "Training loss tf.Tensor(0.023208262, shape=(), dtype=float32)\n",
      "Training loss tf.Tensor(0.026885184, shape=(), dtype=float32)\n",
      "Training loss tf.Tensor(0.028116262, shape=(), dtype=float32)\n",
      "Training loss tf.Tensor(0.032283664, shape=(), dtype=float32)\n",
      "Training loss tf.Tensor(0.020493207, shape=(), dtype=float32)\n",
      "Training loss tf.Tensor(1.0719337, shape=(), dtype=float32)\n",
      "Training loss tf.Tensor(0.04786861, shape=(), dtype=float32)\n",
      "Training loss tf.Tensor(0.04035964, shape=(), dtype=float32)\n",
      "Training loss tf.Tensor(0.030680154, shape=(), dtype=float32)\n",
      "Training loss tf.Tensor(0.02727495, shape=(), dtype=float32)\n",
      "Training loss tf.Tensor(0.025755404, shape=(), dtype=float32)\n",
      "Training loss tf.Tensor(0.022481322, shape=(), dtype=float32)\n",
      "Training loss tf.Tensor(0.020373762, shape=(), dtype=float32)\n",
      "Training loss tf.Tensor(0.019259691, shape=(), dtype=float32)\n",
      "Training loss tf.Tensor(0.019028485, shape=(), dtype=float32)\n",
      "Training loss tf.Tensor(0.99397224, shape=(), dtype=float32)\n",
      "Training loss tf.Tensor(0.051580332, shape=(), dtype=float32)\n",
      "Training loss tf.Tensor(0.032603104, shape=(), dtype=float32)\n",
      "Training loss tf.Tensor(0.03651119, shape=(), dtype=float32)\n",
      "Training loss tf.Tensor(0.034582794, shape=(), dtype=float32)\n",
      "Training loss tf.Tensor(0.030102834, shape=(), dtype=float32)\n",
      "Training loss tf.Tensor(0.026222717, shape=(), dtype=float32)\n",
      "Training loss tf.Tensor(0.029759416, shape=(), dtype=float32)\n",
      "Training loss tf.Tensor(0.018538866, shape=(), dtype=float32)\n",
      "Training loss tf.Tensor(0.025821831, shape=(), dtype=float32)\n",
      "Training loss tf.Tensor(0.6970839, shape=(), dtype=float32)\n",
      "Training loss tf.Tensor(0.044265807, shape=(), dtype=float32)\n",
      "Training loss tf.Tensor(0.03862147, shape=(), dtype=float32)\n",
      "Training loss tf.Tensor(0.026782636, shape=(), dtype=float32)\n",
      "Training loss tf.Tensor(0.029370718, shape=(), dtype=float32)\n",
      "Training loss tf.Tensor(0.030539693, shape=(), dtype=float32)\n",
      "Training loss tf.Tensor(0.029307636, shape=(), dtype=float32)\n",
      "Training loss tf.Tensor(0.02888725, shape=(), dtype=float32)\n",
      "Training loss tf.Tensor(0.025089541, shape=(), dtype=float32)\n",
      "Training loss tf.Tensor(0.022107676, shape=(), dtype=float32)\n",
      "Training loss tf.Tensor(0.93177557, shape=(), dtype=float32)\n",
      "Training loss tf.Tensor(0.045430575, shape=(), dtype=float32)\n",
      "Training loss tf.Tensor(0.034047976, shape=(), dtype=float32)\n",
      "Training loss tf.Tensor(0.0316028, shape=(), dtype=float32)\n",
      "Training loss tf.Tensor(0.029053796, shape=(), dtype=float32)\n",
      "Training loss tf.Tensor(0.024583112, shape=(), dtype=float32)\n",
      "Training loss tf.Tensor(0.026434183, shape=(), dtype=float32)\n",
      "Training loss tf.Tensor(0.025350098, shape=(), dtype=float32)\n",
      "Training loss tf.Tensor(0.02216757, shape=(), dtype=float32)\n",
      "Training loss tf.Tensor(0.021534655, shape=(), dtype=float32)\n",
      "Training loss tf.Tensor(0.98214805, shape=(), dtype=float32)\n",
      "Training loss tf.Tensor(0.049251042, shape=(), dtype=float32)\n",
      "Training loss tf.Tensor(0.038302667, shape=(), dtype=float32)\n",
      "Training loss tf.Tensor(0.028894428, shape=(), dtype=float32)\n",
      "Training loss tf.Tensor(0.025888866, shape=(), dtype=float32)\n",
      "Training loss tf.Tensor(0.034984514, shape=(), dtype=float32)\n",
      "Training loss tf.Tensor(0.023698404, shape=(), dtype=float32)\n",
      "Training loss tf.Tensor(0.025261126, shape=(), dtype=float32)\n",
      "Training loss tf.Tensor(0.029896189, shape=(), dtype=float32)\n",
      "Training loss tf.Tensor(0.02337515, shape=(), dtype=float32)\n",
      "Training loss tf.Tensor(0.98766714, shape=(), dtype=float32)\n",
      "Training loss tf.Tensor(0.044510253, shape=(), dtype=float32)\n",
      "Training loss tf.Tensor(0.03652513, shape=(), dtype=float32)\n",
      "Training loss tf.Tensor(0.029825406, shape=(), dtype=float32)\n",
      "Training loss tf.Tensor(0.039079882, shape=(), dtype=float32)\n",
      "Training loss tf.Tensor(0.029526092, shape=(), dtype=float32)\n",
      "Training loss tf.Tensor(0.01996641, shape=(), dtype=float32)\n",
      "Training loss tf.Tensor(0.027172726, shape=(), dtype=float32)\n",
      "Training loss tf.Tensor(0.026068509, shape=(), dtype=float32)\n",
      "Training loss tf.Tensor(0.02234295, shape=(), dtype=float32)\n",
      "Training loss tf.Tensor(1.0452797, shape=(), dtype=float32)\n",
      "Training loss tf.Tensor(0.05006629, shape=(), dtype=float32)\n",
      "Training loss tf.Tensor(0.041271474, shape=(), dtype=float32)\n",
      "Training loss tf.Tensor(0.029566277, shape=(), dtype=float32)\n",
      "Training loss tf.Tensor(0.026024727, shape=(), dtype=float32)\n",
      "Training loss tf.Tensor(0.0367423, shape=(), dtype=float32)\n",
      "Training loss tf.Tensor(0.027015215, shape=(), dtype=float32)\n",
      "Training loss tf.Tensor(0.021963388, shape=(), dtype=float32)\n",
      "Training loss tf.Tensor(0.020776935, shape=(), dtype=float32)\n",
      "Training loss tf.Tensor(0.028303273, shape=(), dtype=float32)\n",
      "Training loss tf.Tensor(0.8930272, shape=(), dtype=float32)\n",
      "Training loss tf.Tensor(0.046461225, shape=(), dtype=float32)\n",
      "Training loss tf.Tensor(0.032475047, shape=(), dtype=float32)\n",
      "Training loss tf.Tensor(0.031286117, shape=(), dtype=float32)\n",
      "Training loss tf.Tensor(0.028277958, shape=(), dtype=float32)\n",
      "Training loss tf.Tensor(0.022452407, shape=(), dtype=float32)\n",
      "Training loss tf.Tensor(0.023407396, shape=(), dtype=float32)\n",
      "Training loss tf.Tensor(0.02937509, shape=(), dtype=float32)\n",
      "Training loss tf.Tensor(0.021365676, shape=(), dtype=float32)\n",
      "Training loss tf.Tensor(0.020008426, shape=(), dtype=float32)\n",
      "Training loss tf.Tensor(1.1226581, shape=(), dtype=float32)\n",
      "Training loss tf.Tensor(0.054171287, shape=(), dtype=float32)\n",
      "Training loss tf.Tensor(0.04206688, shape=(), dtype=float32)\n",
      "Training loss tf.Tensor(0.03825479, shape=(), dtype=float32)\n",
      "Training loss tf.Tensor(0.029315494, shape=(), dtype=float32)\n",
      "Training loss tf.Tensor(0.02920291, shape=(), dtype=float32)\n",
      "Training loss tf.Tensor(0.024279138, shape=(), dtype=float32)\n",
      "Training loss tf.Tensor(0.02724952, shape=(), dtype=float32)\n",
      "Training loss tf.Tensor(0.023244528, shape=(), dtype=float32)\n",
      "Training loss tf.Tensor(0.021872768, shape=(), dtype=float32)\n"
     ]
    }
   ],
   "source": [
    "phasor_accs = test_phasor(make_phasor, ds_train, ds_test)"
   ]
  },
  {
   "cell_type": "code",
   "execution_count": 12,
   "metadata": {
    "scrolled": true
   },
   "outputs": [
    {
     "name": "stdout",
     "output_type": "stream",
     "text": [
      "Training loss tf.Tensor(1.087567, shape=(), dtype=float32)\n",
      "Training loss tf.Tensor(0.05281157, shape=(), dtype=float32)\n",
      "Training loss tf.Tensor(0.039745115, shape=(), dtype=float32)\n",
      "Training loss tf.Tensor(0.03355205, shape=(), dtype=float32)\n",
      "Training loss tf.Tensor(0.025542188, shape=(), dtype=float32)\n",
      "Training loss tf.Tensor(0.025325751, shape=(), dtype=float32)\n",
      "Training loss tf.Tensor(0.023096673, shape=(), dtype=float32)\n",
      "Training loss tf.Tensor(0.021768179, shape=(), dtype=float32)\n",
      "Training loss tf.Tensor(0.0212399, shape=(), dtype=float32)\n",
      "Training loss tf.Tensor(0.023436002, shape=(), dtype=float32)\n",
      "Training loss tf.Tensor(1.1002668, shape=(), dtype=float32)\n",
      "Training loss tf.Tensor(0.057556704, shape=(), dtype=float32)\n",
      "Training loss tf.Tensor(0.040280744, shape=(), dtype=float32)\n",
      "Training loss tf.Tensor(0.03248468, shape=(), dtype=float32)\n",
      "Training loss tf.Tensor(0.031254508, shape=(), dtype=float32)\n",
      "Training loss tf.Tensor(0.021385683, shape=(), dtype=float32)\n",
      "Training loss tf.Tensor(0.015333479, shape=(), dtype=float32)\n",
      "Training loss tf.Tensor(0.019740459, shape=(), dtype=float32)\n",
      "Training loss tf.Tensor(0.021775827, shape=(), dtype=float32)\n",
      "Training loss tf.Tensor(0.018336855, shape=(), dtype=float32)\n",
      "Training loss tf.Tensor(1.3575273, shape=(), dtype=float32)\n",
      "Training loss tf.Tensor(0.05400183, shape=(), dtype=float32)\n",
      "Training loss tf.Tensor(0.03488943, shape=(), dtype=float32)\n",
      "Training loss tf.Tensor(0.02616164, shape=(), dtype=float32)\n",
      "Training loss tf.Tensor(0.027453074, shape=(), dtype=float32)\n",
      "Training loss tf.Tensor(0.024567522, shape=(), dtype=float32)\n",
      "Training loss tf.Tensor(0.023714736, shape=(), dtype=float32)\n",
      "Training loss tf.Tensor(0.01518266, shape=(), dtype=float32)\n",
      "Training loss tf.Tensor(0.025597442, shape=(), dtype=float32)\n",
      "Training loss tf.Tensor(0.01732837, shape=(), dtype=float32)\n",
      "Training loss tf.Tensor(1.1412652, shape=(), dtype=float32)\n",
      "Training loss tf.Tensor(0.052507542, shape=(), dtype=float32)\n",
      "Training loss tf.Tensor(0.032236334, shape=(), dtype=float32)\n",
      "Training loss tf.Tensor(0.034649167, shape=(), dtype=float32)\n",
      "Training loss tf.Tensor(0.019930784, shape=(), dtype=float32)\n",
      "Training loss tf.Tensor(0.027125083, shape=(), dtype=float32)\n",
      "Training loss tf.Tensor(0.02835905, shape=(), dtype=float32)\n",
      "Training loss tf.Tensor(0.026949372, shape=(), dtype=float32)\n",
      "Training loss tf.Tensor(0.019643214, shape=(), dtype=float32)\n",
      "Training loss tf.Tensor(0.01947745, shape=(), dtype=float32)\n",
      "Training loss tf.Tensor(0.8963492, shape=(), dtype=float32)\n",
      "Training loss tf.Tensor(0.049382634, shape=(), dtype=float32)\n",
      "Training loss tf.Tensor(0.03333418, shape=(), dtype=float32)\n",
      "Training loss tf.Tensor(0.031848967, shape=(), dtype=float32)\n",
      "Training loss tf.Tensor(0.030689195, shape=(), dtype=float32)\n",
      "Training loss tf.Tensor(0.029407246, shape=(), dtype=float32)\n",
      "Training loss tf.Tensor(0.019976187, shape=(), dtype=float32)\n",
      "Training loss tf.Tensor(0.023472967, shape=(), dtype=float32)\n",
      "Training loss tf.Tensor(0.022701288, shape=(), dtype=float32)\n",
      "Training loss tf.Tensor(0.020587042, shape=(), dtype=float32)\n",
      "Training loss tf.Tensor(1.2413985, shape=(), dtype=float32)\n",
      "Training loss tf.Tensor(0.05644823, shape=(), dtype=float32)\n",
      "Training loss tf.Tensor(0.03447956, shape=(), dtype=float32)\n",
      "Training loss tf.Tensor(0.030265689, shape=(), dtype=float32)\n",
      "Training loss tf.Tensor(0.029434428, shape=(), dtype=float32)\n",
      "Training loss tf.Tensor(0.030549292, shape=(), dtype=float32)\n",
      "Training loss tf.Tensor(0.018145662, shape=(), dtype=float32)\n",
      "Training loss tf.Tensor(0.019918539, shape=(), dtype=float32)\n",
      "Training loss tf.Tensor(0.024056602, shape=(), dtype=float32)\n",
      "Training loss tf.Tensor(0.017913908, shape=(), dtype=float32)\n",
      "Training loss tf.Tensor(1.0093398, shape=(), dtype=float32)\n",
      "Training loss tf.Tensor(0.055646062, shape=(), dtype=float32)\n",
      "Training loss tf.Tensor(0.036986, shape=(), dtype=float32)\n",
      "Training loss tf.Tensor(0.031095276, shape=(), dtype=float32)\n",
      "Training loss tf.Tensor(0.028142512, shape=(), dtype=float32)\n",
      "Training loss tf.Tensor(0.021226646, shape=(), dtype=float32)\n",
      "Training loss tf.Tensor(0.024803407, shape=(), dtype=float32)\n",
      "Training loss tf.Tensor(0.022005722, shape=(), dtype=float32)\n",
      "Training loss tf.Tensor(0.0241128, shape=(), dtype=float32)\n",
      "Training loss tf.Tensor(0.021033933, shape=(), dtype=float32)\n",
      "Training loss tf.Tensor(1.1043897, shape=(), dtype=float32)\n",
      "Training loss tf.Tensor(0.05142662, shape=(), dtype=float32)\n",
      "Training loss tf.Tensor(0.029169962, shape=(), dtype=float32)\n",
      "Training loss tf.Tensor(0.031042688, shape=(), dtype=float32)\n",
      "Training loss tf.Tensor(0.03474645, shape=(), dtype=float32)\n",
      "Training loss tf.Tensor(0.028786957, shape=(), dtype=float32)\n",
      "Training loss tf.Tensor(0.022569235, shape=(), dtype=float32)\n",
      "Training loss tf.Tensor(0.021860184, shape=(), dtype=float32)\n",
      "Training loss tf.Tensor(0.027370011, shape=(), dtype=float32)\n",
      "Training loss tf.Tensor(0.022419654, shape=(), dtype=float32)\n",
      "Training loss tf.Tensor(1.1576378, shape=(), dtype=float32)\n",
      "Training loss tf.Tensor(0.051744483, shape=(), dtype=float32)\n",
      "Training loss tf.Tensor(0.04189492, shape=(), dtype=float32)\n",
      "Training loss tf.Tensor(0.041491993, shape=(), dtype=float32)\n",
      "Training loss tf.Tensor(0.036598984, shape=(), dtype=float32)\n",
      "Training loss tf.Tensor(0.025973005, shape=(), dtype=float32)\n",
      "Training loss tf.Tensor(0.02412859, shape=(), dtype=float32)\n",
      "Training loss tf.Tensor(0.023002855, shape=(), dtype=float32)\n",
      "Training loss tf.Tensor(0.02355467, shape=(), dtype=float32)\n",
      "Training loss tf.Tensor(0.022440376, shape=(), dtype=float32)\n",
      "Training loss tf.Tensor(1.3125823, shape=(), dtype=float32)\n",
      "Training loss tf.Tensor(0.054211497, shape=(), dtype=float32)\n",
      "Training loss tf.Tensor(0.0325543, shape=(), dtype=float32)\n",
      "Training loss tf.Tensor(0.024858763, shape=(), dtype=float32)\n",
      "Training loss tf.Tensor(0.021758579, shape=(), dtype=float32)\n",
      "Training loss tf.Tensor(0.021300707, shape=(), dtype=float32)\n",
      "Training loss tf.Tensor(0.021340804, shape=(), dtype=float32)\n",
      "Training loss tf.Tensor(0.02536742, shape=(), dtype=float32)\n",
      "Training loss tf.Tensor(0.020227233, shape=(), dtype=float32)\n",
      "Training loss tf.Tensor(0.02053301, shape=(), dtype=float32)\n"
     ]
    }
   ],
   "source": [
    "phasor_accs_dot = test_phasor(make_phasor_dot, ds_train, ds_test)"
   ]
  },
  {
   "cell_type": "code",
   "execution_count": 15,
   "metadata": {
    "scrolled": true
   },
   "outputs": [
    {
     "name": "stdout",
     "output_type": "stream",
     "text": [
      "Training loss tf.Tensor(0.9640051, shape=(), dtype=float32)\n",
      "Training loss tf.Tensor(0.039683655, shape=(), dtype=float32)\n",
      "Training loss tf.Tensor(0.023905182, shape=(), dtype=float32)\n",
      "Training loss tf.Tensor(0.025608458, shape=(), dtype=float32)\n",
      "Training loss tf.Tensor(0.016036378, shape=(), dtype=float32)\n",
      "Training loss tf.Tensor(0.018824046, shape=(), dtype=float32)\n",
      "Training loss tf.Tensor(0.016259072, shape=(), dtype=float32)\n",
      "Training loss tf.Tensor(0.017123045, shape=(), dtype=float32)\n",
      "Training loss tf.Tensor(0.010698454, shape=(), dtype=float32)\n",
      "Training loss tf.Tensor(0.012644026, shape=(), dtype=float32)\n",
      "Training loss tf.Tensor(0.8964901, shape=(), dtype=float32)\n",
      "Training loss tf.Tensor(0.03768027, shape=(), dtype=float32)\n",
      "Training loss tf.Tensor(0.024002291, shape=(), dtype=float32)\n",
      "Training loss tf.Tensor(0.021381762, shape=(), dtype=float32)\n",
      "Training loss tf.Tensor(0.018483203, shape=(), dtype=float32)\n",
      "Training loss tf.Tensor(0.018292736, shape=(), dtype=float32)\n",
      "Training loss tf.Tensor(0.018801086, shape=(), dtype=float32)\n",
      "Training loss tf.Tensor(0.016492072, shape=(), dtype=float32)\n",
      "Training loss tf.Tensor(0.015743487, shape=(), dtype=float32)\n",
      "Training loss tf.Tensor(0.012608718, shape=(), dtype=float32)\n",
      "Training loss tf.Tensor(1.1377621, shape=(), dtype=float32)\n",
      "Training loss tf.Tensor(0.039977856, shape=(), dtype=float32)\n",
      "Training loss tf.Tensor(0.024795858, shape=(), dtype=float32)\n",
      "Training loss tf.Tensor(0.020611383, shape=(), dtype=float32)\n",
      "Training loss tf.Tensor(0.023708466, shape=(), dtype=float32)\n",
      "Training loss tf.Tensor(0.01304565, shape=(), dtype=float32)\n",
      "Training loss tf.Tensor(0.011666711, shape=(), dtype=float32)\n",
      "Training loss tf.Tensor(0.017150652, shape=(), dtype=float32)\n",
      "Training loss tf.Tensor(0.01600112, shape=(), dtype=float32)\n",
      "Training loss tf.Tensor(0.018520541, shape=(), dtype=float32)\n",
      "Training loss tf.Tensor(0.778357, shape=(), dtype=float32)\n",
      "Training loss tf.Tensor(0.031175938, shape=(), dtype=float32)\n",
      "Training loss tf.Tensor(0.022552487, shape=(), dtype=float32)\n",
      "Training loss tf.Tensor(0.023938254, shape=(), dtype=float32)\n",
      "Training loss tf.Tensor(0.021045323, shape=(), dtype=float32)\n",
      "Training loss tf.Tensor(0.01800113, shape=(), dtype=float32)\n",
      "Training loss tf.Tensor(0.014584288, shape=(), dtype=float32)\n",
      "Training loss tf.Tensor(0.016830083, shape=(), dtype=float32)\n",
      "Training loss tf.Tensor(0.01195903, shape=(), dtype=float32)\n",
      "Training loss tf.Tensor(0.012630015, shape=(), dtype=float32)\n",
      "Training loss tf.Tensor(0.998178, shape=(), dtype=float32)\n",
      "Training loss tf.Tensor(0.036346663, shape=(), dtype=float32)\n",
      "Training loss tf.Tensor(0.025231613, shape=(), dtype=float32)\n",
      "Training loss tf.Tensor(0.020187192, shape=(), dtype=float32)\n",
      "Training loss tf.Tensor(0.02594218, shape=(), dtype=float32)\n",
      "Training loss tf.Tensor(0.018702589, shape=(), dtype=float32)\n",
      "Training loss tf.Tensor(0.01691579, shape=(), dtype=float32)\n",
      "Training loss tf.Tensor(0.016952861, shape=(), dtype=float32)\n",
      "Training loss tf.Tensor(0.012750208, shape=(), dtype=float32)\n",
      "Training loss tf.Tensor(0.013547264, shape=(), dtype=float32)\n",
      "Training loss tf.Tensor(0.94334376, shape=(), dtype=float32)\n",
      "Training loss tf.Tensor(0.03286199, shape=(), dtype=float32)\n",
      "Training loss tf.Tensor(0.03066272, shape=(), dtype=float32)\n",
      "Training loss tf.Tensor(0.020179098, shape=(), dtype=float32)\n",
      "Training loss tf.Tensor(0.01997704, shape=(), dtype=float32)\n",
      "Training loss tf.Tensor(0.022756241, shape=(), dtype=float32)\n",
      "Training loss tf.Tensor(0.015598973, shape=(), dtype=float32)\n",
      "Training loss tf.Tensor(0.015181968, shape=(), dtype=float32)\n",
      "Training loss tf.Tensor(0.016029872, shape=(), dtype=float32)\n",
      "Training loss tf.Tensor(0.015414629, shape=(), dtype=float32)\n",
      "Training loss tf.Tensor(0.94062465, shape=(), dtype=float32)\n",
      "Training loss tf.Tensor(0.035959143, shape=(), dtype=float32)\n",
      "Training loss tf.Tensor(0.02745658, shape=(), dtype=float32)\n",
      "Training loss tf.Tensor(0.017382428, shape=(), dtype=float32)\n",
      "Training loss tf.Tensor(0.023618624, shape=(), dtype=float32)\n",
      "Training loss tf.Tensor(0.011471972, shape=(), dtype=float32)\n",
      "Training loss tf.Tensor(0.022262208, shape=(), dtype=float32)\n",
      "Training loss tf.Tensor(0.021622337, shape=(), dtype=float32)\n",
      "Training loss tf.Tensor(0.011962723, shape=(), dtype=float32)\n",
      "Training loss tf.Tensor(0.015965516, shape=(), dtype=float32)\n",
      "Training loss tf.Tensor(0.99972403, shape=(), dtype=float32)\n",
      "Training loss tf.Tensor(0.04002378, shape=(), dtype=float32)\n",
      "Training loss tf.Tensor(0.019084161, shape=(), dtype=float32)\n",
      "Training loss tf.Tensor(0.02085986, shape=(), dtype=float32)\n",
      "Training loss tf.Tensor(0.02389724, shape=(), dtype=float32)\n",
      "Training loss tf.Tensor(0.01220026, shape=(), dtype=float32)\n",
      "Training loss tf.Tensor(0.016330242, shape=(), dtype=float32)\n",
      "Training loss tf.Tensor(0.0138657745, shape=(), dtype=float32)\n",
      "Training loss tf.Tensor(0.01982883, shape=(), dtype=float32)\n",
      "Training loss tf.Tensor(0.012662531, shape=(), dtype=float32)\n",
      "Training loss tf.Tensor(0.8747717, shape=(), dtype=float32)\n",
      "Training loss tf.Tensor(0.036606453, shape=(), dtype=float32)\n",
      "Training loss tf.Tensor(0.025610322, shape=(), dtype=float32)\n",
      "Training loss tf.Tensor(0.024310725, shape=(), dtype=float32)\n",
      "Training loss tf.Tensor(0.024734288, shape=(), dtype=float32)\n",
      "Training loss tf.Tensor(0.019005043, shape=(), dtype=float32)\n",
      "Training loss tf.Tensor(0.014587012, shape=(), dtype=float32)\n",
      "Training loss tf.Tensor(0.0145537015, shape=(), dtype=float32)\n",
      "Training loss tf.Tensor(0.012184285, shape=(), dtype=float32)\n",
      "Training loss tf.Tensor(0.011455612, shape=(), dtype=float32)\n",
      "Training loss tf.Tensor(0.83811104, shape=(), dtype=float32)\n",
      "Training loss tf.Tensor(0.03798968, shape=(), dtype=float32)\n",
      "Training loss tf.Tensor(0.022499999, shape=(), dtype=float32)\n",
      "Training loss tf.Tensor(0.024143172, shape=(), dtype=float32)\n",
      "Training loss tf.Tensor(0.019620033, shape=(), dtype=float32)\n",
      "Training loss tf.Tensor(0.021452956, shape=(), dtype=float32)\n",
      "Training loss tf.Tensor(0.015716728, shape=(), dtype=float32)\n",
      "Training loss tf.Tensor(0.014982736, shape=(), dtype=float32)\n",
      "Training loss tf.Tensor(0.010846871, shape=(), dtype=float32)\n",
      "Training loss tf.Tensor(0.014580835, shape=(), dtype=float32)\n"
     ]
    }
   ],
   "source": [
    "phasor_accs_rp = test_phasor(make_phasor_NP, ds_train, ds_test)"
   ]
  },
  {
   "cell_type": "code",
   "execution_count": 16,
   "metadata": {},
   "outputs": [
    {
     "data": {
      "image/png": "[encoded data removed]",
      "text/plain": [
       "<Figure size 432x288 with 1 Axes>"
      ]
     },
     "metadata": {
      "needs_background": "light"
     },
     "output_type": "display_data"
    }
   ],
   "source": [
    "plt.boxplot([phasor_accs, phasor_accs_rp, phasor_accs_dot]);"
   ]
  },
  {
   "cell_type": "code",
   "execution_count": 19,
   "metadata": {},
   "outputs": [
    {
     "data": {
      "text/plain": [
       "Text(0.5, 1.0, 'Model Accuracy, MNIST')"
      ]
     },
     "execution_count": 19,
     "metadata": {},
     "output_type": "execute_result"
    },
    {
     "data": {
      "image/png": "[encoded data removed]",
      "text/plain": [
       "<Figure size 600x400 with 1 Axes>"
      ]
     },
     "metadata": {
      "needs_background": "light"
     },
     "output_type": "display_data"
    }
   ],
   "source": [
    "plt.figure(dpi=100)\n",
    "plt.boxplot([std_accs, phasor_accs, std_accs_rp, phasor_accs_rp, std_accs_dot, phasor_accs_dot]);\n",
    "plt.ylabel(\"Test Accuracy\")\n",
    "plt.xticks(np.arange(1,7), [\"Standard\\nNo Conv.\", \"Phasor\\nNo Conv.\", \"Standard\\nNRP\", \"Phasor\\nNRP\", \"Standard\\nRPP\", \"Phasor\\nRPP\"])\n",
    "plt.title(\"Model Accuracy, MNIST\")"
   ]
  },
  {
   "cell_type": "code",
   "execution_count": null,
   "metadata": {},
   "outputs": [],
   "source": []
  }
 ],
 "metadata": {
  "kernelspec": {
   "display_name": "Python 3",
   "language": "python",
   "name": "python3"
  },
  "language_info": {
   "codemirror_mode": {
    "name": "ipython",
    "version": 3
   },
   "file_extension": ".py",
   "mimetype": "text/x-python",
   "name": "python",
   "nbconvert_exporter": "python",
   "pygments_lexer": "ipython3",
   "version": "3.8.5"
  }
 },
 "nbformat": 4,
 "nbformat_minor": 4
}
